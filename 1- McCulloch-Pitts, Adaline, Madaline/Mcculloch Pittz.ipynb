{
  "nbformat": 4,
  "nbformat_minor": 0,
  "metadata": {
    "colab": {
      "name": "Q1.ipynb",
      "provenance": [],
      "collapsed_sections": []
    },
    "kernelspec": {
      "name": "python3",
      "display_name": "Python 3"
    },
    "language_info": {
      "name": "python"
    }
  },
  "cells": [
    {
      "cell_type": "markdown",
      "source": [
        "#Question 1"
      ],
      "metadata": {
        "id": "TaxQqmfrbvTp"
      }
    },
    {
      "cell_type": "code",
      "source": [
        "import numpy as np\n",
        "import matplotlib.pyplot as plt\n",
        "import random\n",
        "import pandas as pd"
      ],
      "metadata": {
        "id": "90MAfgsebyza"
      },
      "execution_count": 47,
      "outputs": []
    },
    {
      "cell_type": "markdown",
      "source": [
        "# Logical Gates"
      ],
      "metadata": {
        "id": "fnwI5FiFEYi7"
      }
    },
    {
      "cell_type": "code",
      "source": [
        "def AND(x1,x2):\n",
        "  net = x1 + x2 - 2\n",
        "  if net >= 0:\n",
        "    h = 1\n",
        "  else:\n",
        "    h = 0\n",
        "  return h\n",
        "\n",
        "  def OR(x1,x2):\n",
        "    net = 2 * x1 + 2 * x2 - 2 \n",
        "    if net >= 0:\n",
        "      h = 1\n",
        "    else:\n",
        "      h = 0\n",
        "    return h\n",
        "\n",
        "  def AND_NOT(x1,x2):\n",
        "    net = 2 * x1 - x2 - 2\n",
        "    if net >= 0:\n",
        "      h = 1\n",
        "    else:\n",
        "      h = 0\n",
        "    return h\n",
        "\n",
        "  def XOR(x1,x2):\n",
        "    h = OR(AND_NOT(x1,x2), AND_NOT(x2,x1))\n",
        "    return h"
      ],
      "metadata": {
        "id": "kpibkzwgbzxw"
      },
      "execution_count": 49,
      "outputs": []
    },
    {
      "cell_type": "markdown",
      "source": [
        "# Implementing Full Adder "
      ],
      "metadata": {
        "id": "EfPiLz_yFBXn"
      }
    },
    {
      "cell_type": "code",
      "source": [
        "def FULL_ADDER(A1,A0,B1,B0):\n",
        "  sum0 = XOR(A0,B0)\n",
        "  sum1 = XOR(XOR(A1,B1),AND(A0,B0))\n",
        "  sum2 = OR(AND(XOR(A1,B1),AND(A0,B0)),AND(A1,B1))\n",
        "  return [sum2,sum1,sum0]"
      ],
      "metadata": {
        "id": "FtWsxsTgb_ny"
      },
      "execution_count": 50,
      "outputs": []
    },
    {
      "cell_type": "markdown",
      "source": [
        "# Test for all input states"
      ],
      "metadata": {
        "id": "zidQ2pQ60zhr"
      }
    },
    {
      "cell_type": "code",
      "source": [
        "print('A1  A0   B1  B0   S2 S1 S0 ')\n",
        "for i in range(2):\n",
        "  for j in range(2):\n",
        "    print([i,j] , \"+\" , [0,0] , \"=\" , FULL_ADDER(0,0,i,j))\n",
        "    print([i,j] , \"+\" , [0,1] , \"=\" , FULL_ADDER(0,1,i,j))\n",
        "    print([i,j] , \"+\" , [1,0] , \"=\" , FULL_ADDER(1,0,i,j))\n",
        "    print([i,j] , \"+\" , [1,1] , \"=\" , FULL_ADDER(1,1,i,j))"
      ],
      "metadata": {
        "colab": {
          "base_uri": "https://localhost:8080/"
        },
        "id": "h1gPXk6KcB48",
        "outputId": "2db555e6-ab91-42f6-f719-74e07b6b889d"
      },
      "execution_count": 51,
      "outputs": [
        {
          "output_type": "stream",
          "name": "stdout",
          "text": [
            "A1  A0   B1  B0   S2 S1 S0 \n",
            "[0, 0] + [0, 0] = [0, 0, 0]\n",
            "[0, 0] + [0, 1] = [0, 0, 1]\n",
            "[0, 0] + [1, 0] = [0, 1, 0]\n",
            "[0, 0] + [1, 1] = [0, 1, 1]\n",
            "[0, 1] + [0, 0] = [0, 0, 1]\n",
            "[0, 1] + [0, 1] = [0, 1, 0]\n",
            "[0, 1] + [1, 0] = [0, 1, 1]\n",
            "[0, 1] + [1, 1] = [1, 0, 0]\n",
            "[1, 0] + [0, 0] = [0, 1, 0]\n",
            "[1, 0] + [0, 1] = [0, 1, 1]\n",
            "[1, 0] + [1, 0] = [1, 0, 0]\n",
            "[1, 0] + [1, 1] = [1, 0, 1]\n",
            "[1, 1] + [0, 0] = [0, 1, 1]\n",
            "[1, 1] + [0, 1] = [1, 0, 0]\n",
            "[1, 1] + [1, 0] = [1, 0, 1]\n",
            "[1, 1] + [1, 1] = [1, 1, 0]\n"
          ]
        }
      ]
    },
    {
      "cell_type": "code",
      "source": [
        ""
      ],
      "metadata": {
        "id": "Iehk9j81cDsJ"
      },
      "execution_count": null,
      "outputs": []
    }
  ]
}