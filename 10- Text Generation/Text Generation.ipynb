{
  "nbformat": 4,
  "nbformat_minor": 0,
  "metadata": {
    "colab": {
      "name": "Q2_MP2.ipynb",
      "provenance": [],
      "collapsed_sections": []
    },
    "kernelspec": {
      "name": "python3",
      "display_name": "Python 3"
    },
    "language_info": {
      "name": "python"
    },
    "accelerator": "GPU"
  },
  "cells": [
    {
      "cell_type": "code",
      "execution_count": 43,
      "metadata": {
        "id": "-Alj7joZNIud"
      },
      "outputs": [],
      "source": [
        "import tensorflow as tf\n",
        "import numpy as np\n",
        "import matplotlib.pyplot as plt"
      ]
    },
    {
      "cell_type": "code",
      "source": [
        "from google.colab import drive\n",
        "drive.mount('/content/drive')\n"
      ],
      "metadata": {
        "colab": {
          "base_uri": "https://localhost:8080/"
        },
        "id": "8xc5gz3POiII",
        "outputId": "022b4f5e-7a0e-4316-b647-26b9b935227b"
      },
      "execution_count": 44,
      "outputs": [
        {
          "output_type": "stream",
          "name": "stdout",
          "text": [
            "Drive already mounted at /content/drive; to attempt to forcibly remount, call drive.mount(\"/content/drive\", force_remount=True).\n"
          ]
        }
      ]
    },
    {
      "cell_type": "code",
      "source": [
        "text = open('/content/drive/MyDrive/NNDL/dataset.txt', \"r\", encoding='utf-8').read()\n",
        "print(text[:700])"
      ],
      "metadata": {
        "colab": {
          "base_uri": "https://localhost:8080/"
        },
        "id": "X9MbZ6pSgaQl",
        "outputId": "d182ef0f-334d-4280-cdc6-a90864421243"
      },
      "execution_count": 45,
      "outputs": [
        {
          "output_type": "stream",
          "name": "stdout",
          "text": [
            "HARRY POTTER AND THE GOBLET OF FIRE\n",
            "\n",
            "CHAPTER ONE - THE RIDDLE HOUSE\n",
            "\n",
            "\tThe villagers of Little Hangleron still called it \"the Riddle House,\" even though it had been many years since the Riddle family had lived there.  It stood on a hill overlooking the village, some of its windows boarded, tiles missing from its roof, and ivy spreading unchecked over its face.  Once a fine-looking manor, and easily the largest and grandest building for miles around, the Riddle House was now damp, derelict, and unoccupied.\n",
            "\tThe Little Hagletons all agreed that the old house was \"creepy.\"  Half a century ago, something strange and horrible had happened there, something that the older inhabitants of the village \n"
          ]
        }
      ]
    },
    {
      "cell_type": "code",
      "source": [
        "a=[]\n",
        "for c in text :\n",
        "   if not c.isalpha():\n",
        "     if not c==' ':\n",
        "       a.append(c)\n",
        "b=set(a)"
      ],
      "metadata": {
        "id": "OxJ8nY7rsRqL"
      },
      "execution_count": 46,
      "outputs": []
    },
    {
      "cell_type": "code",
      "source": [
        "b"
      ],
      "metadata": {
        "colab": {
          "base_uri": "https://localhost:8080/"
        },
        "id": "n8Lm4hzqt0mO",
        "outputId": "ae1ddbc3-af7b-431d-bb0c-274ca77c681d"
      },
      "execution_count": 47,
      "outputs": [
        {
          "output_type": "execute_result",
          "data": {
            "text/plain": [
              "{'\\t',\n",
              " '\\n',\n",
              " '!',\n",
              " '\"',\n",
              " \"'\",\n",
              " '(',\n",
              " ')',\n",
              " ',',\n",
              " '-',\n",
              " '.',\n",
              " '/',\n",
              " '0',\n",
              " '1',\n",
              " '2',\n",
              " '3',\n",
              " '4',\n",
              " '6',\n",
              " '7',\n",
              " '9',\n",
              " ':',\n",
              " ';',\n",
              " '?',\n",
              " '^',\n",
              " '_',\n",
              " '}',\n",
              " '•'}"
            ]
          },
          "metadata": {},
          "execution_count": 47
        }
      ]
    },
    {
      "cell_type": "code",
      "source": [
        "data=text.lower()\n",
        "for c in b:\n",
        "  data= data.replace(c,\"\" )\n"
      ],
      "metadata": {
        "id": "r2DCmGyOgnM3"
      },
      "execution_count": 48,
      "outputs": []
    },
    {
      "cell_type": "code",
      "source": [
        "print(data[:500])"
      ],
      "metadata": {
        "colab": {
          "base_uri": "https://localhost:8080/"
        },
        "id": "IbFzK69Mg8Qc",
        "outputId": "bc8d5d5a-aa47-47aa-f040-fdd8041a148c"
      },
      "execution_count": 49,
      "outputs": [
        {
          "output_type": "stream",
          "name": "stdout",
          "text": [
            "harry potter and the goblet of firechapter one  the riddle housethe villagers of little hangleron still called it the riddle house even though it had been many years since the riddle family had lived there  it stood on a hill overlooking the village some of its windows boarded tiles missing from its roof and ivy spreading unchecked over its face  once a finelooking manor and easily the largest and grandest building for miles around the riddle house was now damp derelict and unoccupiedthe little \n"
          ]
        }
      ]
    },
    {
      "cell_type": "code",
      "source": [
        "chars= sorted(set(data))"
      ],
      "metadata": {
        "id": "hIkmAzk9g9Or"
      },
      "execution_count": 50,
      "outputs": []
    },
    {
      "cell_type": "code",
      "source": [
        "data= data.replace(chars[27],\"\" )"
      ],
      "metadata": {
        "id": "M8fVp7r0hff9"
      },
      "execution_count": 51,
      "outputs": []
    },
    {
      "cell_type": "code",
      "source": [
        "chars=chars[:27]\n",
        "chars"
      ],
      "metadata": {
        "colab": {
          "base_uri": "https://localhost:8080/"
        },
        "id": "dPXjk8mw6kCD",
        "outputId": "986138f5-e24f-4a00-ff15-ef8ffb8c1dda"
      },
      "execution_count": 52,
      "outputs": [
        {
          "output_type": "execute_result",
          "data": {
            "text/plain": [
              "[' ',\n",
              " 'a',\n",
              " 'b',\n",
              " 'c',\n",
              " 'd',\n",
              " 'e',\n",
              " 'f',\n",
              " 'g',\n",
              " 'h',\n",
              " 'i',\n",
              " 'j',\n",
              " 'k',\n",
              " 'l',\n",
              " 'm',\n",
              " 'n',\n",
              " 'o',\n",
              " 'p',\n",
              " 'q',\n",
              " 'r',\n",
              " 's',\n",
              " 't',\n",
              " 'u',\n",
              " 'v',\n",
              " 'w',\n",
              " 'x',\n",
              " 'y',\n",
              " 'z']"
            ]
          },
          "metadata": {},
          "execution_count": 52
        }
      ]
    },
    {
      "cell_type": "code",
      "source": [
        "c_to_i = dict((c, i) for i, c in enumerate(chars))\n",
        "i_to_c = dict((i, c) for i, c in enumerate(chars))"
      ],
      "metadata": {
        "id": "OdzUh_TJhg5W"
      },
      "execution_count": 53,
      "outputs": []
    },
    {
      "cell_type": "code",
      "source": [
        "batch =60\n",
        "x = np.zeros((len(data)-batch, batch, len(chars)), dtype=np.bool)\n",
        "y = np.zeros((len(data)-batch, len(chars)), dtype=np.bool)\n",
        "for i in range(len(data) - batch): \n",
        "    for j in range(batch):\n",
        "      x[i, j, c_to_i[data[i+j]]] = 1\n",
        "    y[i, c_to_i[data[i + batch]]] = 1   "
      ],
      "metadata": {
        "colab": {
          "base_uri": "https://localhost:8080/"
        },
        "id": "lkf1r2ccwfvb",
        "outputId": "212d5789-bf57-4b14-a0af-d55bb562ac7a"
      },
      "execution_count": 64,
      "outputs": [
        {
          "output_type": "stream",
          "name": "stderr",
          "text": [
            "/usr/local/lib/python3.7/dist-packages/ipykernel_launcher.py:2: DeprecationWarning: `np.bool` is a deprecated alias for the builtin `bool`. To silence this warning, use `bool` by itself. Doing this will not modify any behavior and is safe. If you specifically wanted the numpy scalar type, use `np.bool_` here.\n",
            "Deprecated in NumPy 1.20; for more details and guidance: https://numpy.org/devdocs/release/1.20.0-notes.html#deprecations\n",
            "  \n",
            "/usr/local/lib/python3.7/dist-packages/ipykernel_launcher.py:3: DeprecationWarning: `np.bool` is a deprecated alias for the builtin `bool`. To silence this warning, use `bool` by itself. Doing this will not modify any behavior and is safe. If you specifically wanted the numpy scalar type, use `np.bool_` here.\n",
            "Deprecated in NumPy 1.20; for more details and guidance: https://numpy.org/devdocs/release/1.20.0-notes.html#deprecations\n",
            "  This is separate from the ipykernel package so we can avoid doing imports until\n"
          ]
        }
      ]
    },
    {
      "cell_type": "code",
      "source": [
        "import sklearn\n",
        "from keras.models import Sequential\n",
        "from keras.layers import Dense, Dropout, LSTM \n",
        "from tensorflow.keras.optimizers import SGD , Adam\n",
        "model = Sequential()\n",
        "model.add(LSTM(128, input_shape=(batch, len(chars))))\n",
        "model.add(Dropout(0.2))\n",
        "# model.add(LSTM(128, return_sequences=True))\n",
        "# model.add(Dropout(0.2))\n",
        "# model.add(LSTM(64))\n",
        "# model.add(Dropout(0.2))\n",
        "model.add(Dense(len(chars), activation='softmax'))\n",
        "model.compile(loss='categorical_crossentropy', optimizer='adam', metrics=['accuracy'])\n",
        "model.summary()\n"
      ],
      "metadata": {
        "colab": {
          "base_uri": "https://localhost:8080/"
        },
        "id": "DiuRpu2Gzo5K",
        "outputId": "c3d306cb-113b-4b46-8ee2-d698aa9bd759"
      },
      "execution_count": 69,
      "outputs": [
        {
          "output_type": "stream",
          "name": "stdout",
          "text": [
            "Model: \"sequential_9\"\n",
            "_________________________________________________________________\n",
            " Layer (type)                Output Shape              Param #   \n",
            "=================================================================\n",
            " lstm_26 (LSTM)              (None, 128)               79872     \n",
            "                                                                 \n",
            " dropout_26 (Dropout)        (None, 128)               0         \n",
            "                                                                 \n",
            " dense_9 (Dense)             (None, 27)                3483      \n",
            "                                                                 \n",
            "=================================================================\n",
            "Total params: 83,355\n",
            "Trainable params: 83,355\n",
            "Non-trainable params: 0\n",
            "_________________________________________________________________\n"
          ]
        }
      ]
    },
    {
      "cell_type": "code",
      "source": [
        "trainlog = model.fit(x, y,batch_size=60,epochs=4,validation_split=0.2)"
      ],
      "metadata": {
        "colab": {
          "base_uri": "https://localhost:8080/"
        },
        "id": "QtDhvaNcz14J",
        "outputId": "cfc6774b-cd1c-43a3-8723-0ca8f9c66d42"
      },
      "execution_count": 70,
      "outputs": [
        {
          "output_type": "stream",
          "name": "stdout",
          "text": [
            "Epoch 1/4\n",
            "13920/13920 [==============================] - 110s 8ms/step - loss: 1.9002 - accuracy: 0.4337 - val_loss: 1.6097 - val_accuracy: 0.5095\n",
            "Epoch 2/4\n",
            "13920/13920 [==============================] - 107s 8ms/step - loss: 1.5930 - accuracy: 0.5175 - val_loss: 1.4800 - val_accuracy: 0.5456\n",
            "Epoch 3/4\n",
            "13920/13920 [==============================] - 106s 8ms/step - loss: 1.5055 - accuracy: 0.5427 - val_loss: 1.4261 - val_accuracy: 0.5621\n",
            "Epoch 4/4\n",
            "13920/13920 [==============================] - 97s 7ms/step - loss: 1.4585 - accuracy: 0.5559 - val_loss: 1.3944 - val_accuracy: 0.5722\n"
          ]
        }
      ]
    },
    {
      "cell_type": "code",
      "source": [
        "loss_train = trainlog.history['loss']\n",
        "loss_val = trainlog.history['val_loss']\n",
        "accu_train = trainlog.history['accuracy']\n",
        "accu_val = trainlog.history['val_accuracy']\n",
        "epochs=range(4)\n",
        "f,ax=plt.subplots(1,2,figsize=(10,4),constrained_layout=True)\n",
        "ax[0].plot(epochs, loss_train,color='blue', label='Training loss')\n",
        "ax[0].plot(epochs, loss_val,color='orange', label='validation loss')\n",
        "ax[0].set(title='loss',xlabel='Epochs',ylabel='Loss')\n",
        "ax[1].plot(epochs, accu_train, label='Training accuracy')\n",
        "ax[1].plot(epochs, accu_val, label='validation accuracy')\n",
        "ax[1].set(title='accuracy',xlabel='Epochs',ylabel='accuracy')\n",
        "plt.legend()\n",
        "plt.grid(True)\n",
        "plt.show()"
      ],
      "metadata": {
        "id": "b21drrVx0fOM",
        "colab": {
          "base_uri": "https://localhost:8080/",
          "height": 313
        },
        "outputId": "cd8e1cc7-9b55-4172-ea62-a53972388751"
      },
      "execution_count": 71,
      "outputs": [
        {
          "output_type": "display_data",
          "data": {
            "text/plain": [
              "<Figure size 720x288 with 2 Axes>"
            ],
            "image/png": "[encoded data removed]"
          },
          "metadata": {
            "needs_background": "light"
          }
        }
      ]
    },
    {
      "cell_type": "code",
      "source": [
        "def sample(preds):\n",
        "\tpreds = np.asarray(preds).astype('float64')\n",
        "\tpreds = np.log(preds)\n",
        "\texp_preds = np.exp(preds)\n",
        "\tpreds = exp_preds / np.sum(exp_preds)\n",
        "\tprobas = np.random.multinomial(1, preds, 1)\n",
        "\treturn np.argmax(probas)"
      ],
      "metadata": {
        "id": "KCsMWQ59xdEE"
      },
      "execution_count": 72,
      "outputs": []
    },
    {
      "cell_type": "code",
      "source": [
        "import random\n",
        "start_index = random.randint(0, len(text) - batch  - 1)"
      ],
      "metadata": {
        "id": "T4PzJZHR5NaI"
      },
      "execution_count": 77,
      "outputs": []
    },
    {
      "cell_type": "code",
      "source": [
        "generated_text = data[start_index: start_index + batch ]\n",
        "input=generated_text\n",
        "for i in range(200):\n",
        "    generated_int=np.zeros((1, batch, len(chars)))\n",
        "    for t, char in enumerate(input):\n",
        "      generated_int[0, t, c_to_i[char]] = 1.\n",
        "    preds = model.predict(generated_int)[0]\n",
        "    next_index = sample(preds)\n",
        "    next_char = i_to_c[next_index]\n",
        "    generated_text +=next_char\n",
        "    input=input[1:]+next_char\n",
        "print(generated_text)\n"
      ],
      "metadata": {
        "colab": {
          "base_uri": "https://localhost:8080/"
        },
        "id": "x3L0h3_n1tCh",
        "outputId": "b7471ad1-c0e4-40f1-86b9-f982be4c1fe1"
      },
      "execution_count": 78,
      "outputs": [
        {
          "output_type": "stream",
          "name": "stdout",
          "text": [
            "thing could have prepared me for it  i was ripped from my boxwhat allia sled his eyes couldnt wanddwearing as he said with the dark tory had profrses you with the dlras medoest from up over beton the pounded went to said liketrew for proper of the extraor of f\n"
          ]
        }
      ]
    },
    {
      "cell_type": "code",
      "source": [
        ""
      ],
      "metadata": {
        "id": "jnVo-T1w6Ehq"
      },
      "execution_count": 63,
      "outputs": []
    }
  ]
}