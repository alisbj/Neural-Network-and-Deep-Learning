{
  "nbformat": 4,
  "nbformat_minor": 0,
  "metadata": {
    "colab": {
      "name": "Q3.ipynb",
      "provenance": [],
      "collapsed_sections": []
    },
    "kernelspec": {
      "name": "python3",
      "display_name": "Python 3"
    },
    "language_info": {
      "name": "python"
    },
    "accelerator": "GPU"
  },
  "cells": [
    {
      "cell_type": "markdown",
      "source": [
        "#Question3\n",
        "\n",
        "\n",
        " "
      ],
      "metadata": {
        "id": "lY5wTY-Ep1iA"
      }
    },
    {
      "cell_type": "markdown",
      "source": [
        "\n",
        "---\n",
        "> Importing Required Packages\n",
        "\n",
        "\n",
        "\n",
        "\n",
        "\n",
        "\n",
        "\n"
      ],
      "metadata": {
        "id": "DxI-bWL_PuzN"
      }
    },
    {
      "cell_type": "code",
      "execution_count": 1,
      "metadata": {
        "id": "kYxj4OCEpxKK"
      },
      "outputs": [],
      "source": [
        "import numpy as np\n",
        "import tensorflow as tf\n",
        "import tensorflow.keras as keras\n",
        "import matplotlib.pyplot as plt\n",
        "import datetime\n",
        "from keras.datasets import cifar10\n",
        "from tensorflow.keras import layers, Model"
      ]
    },
    {
      "cell_type": "markdown",
      "source": [
        "\n",
        "---\n",
        "> Loading Datasets\n",
        "\n",
        "\n",
        "\n",
        "\n"
      ],
      "metadata": {
        "id": "hyCE4c5BqRrV"
      }
    },
    {
      "cell_type": "code",
      "source": [
        "(X_train,Y_train) , (X_test,Y_test) = cifar10.load_data()"
      ],
      "metadata": {
        "id": "UQGF7B5aqMVQ",
        "colab": {
          "base_uri": "https://localhost:8080/"
        },
        "outputId": "55f93778-9500-4106-c53f-5d0dcf717577"
      },
      "execution_count": 2,
      "outputs": [
        {
          "output_type": "stream",
          "name": "stdout",
          "text": [
            "Downloading data from https://www.cs.toronto.edu/~kriz/cifar-10-python.tar.gz\n",
            "170500096/170498071 [==============================] - 6s 0us/step\n",
            "170508288/170498071 [==============================] - 6s 0us/step\n"
          ]
        }
      ]
    },
    {
      "cell_type": "markdown",
      "source": [
        "---\n",
        "\n",
        "> Determining Labels\n",
        "\n",
        "\n",
        "\n",
        "\n"
      ],
      "metadata": {
        "id": "FeDdFBh03mr7"
      }
    },
    {
      "cell_type": "code",
      "source": [
        "cifar10_labels = [\"airplane\",\n",
        "                 \"automobile\",\n",
        "                 \"bird\",\n",
        "                 \"cat\",\n",
        "                 \"deer\",\n",
        "                 \"dog\",\n",
        "                 \"frog\",\n",
        "                 \"horse\",\n",
        "                 \"ship\",\n",
        "                 \"truck\"]"
      ],
      "metadata": {
        "id": "x-aPN0Yy3nG4"
      },
      "execution_count": 3,
      "outputs": []
    },
    {
      "cell_type": "markdown",
      "source": [
        "\n",
        "---\n",
        "> Data Preproccesing\n"
      ],
      "metadata": {
        "id": "BP51s8ykDL51"
      }
    },
    {
      "cell_type": "code",
      "source": [
        "# Data_Normalization\n",
        "x_train = np.float32(X_train)/255\n",
        "x_test = np.float32(X_test)/255\n",
        "\n",
        "# Converting RGB to Grayscale\n",
        "x_train = np.mean(x_train,axis=3)\n",
        "x_test= np.mean(x_test,axis=3)\n",
        "\n",
        "# Changing Size\n",
        "x_train = x_train.reshape(-1,32*32)\n",
        "x_test = x_test.reshape(-1,32*32)"
      ],
      "metadata": {
        "id": "ZXc1mnatBVii"
      },
      "execution_count": 4,
      "outputs": []
    },
    {
      "cell_type": "markdown",
      "source": [
        "---\n",
        "\n",
        "\n",
        "> One-Hot-Encoding\n",
        "\n"
      ],
      "metadata": {
        "id": "_vQyXGJWK_dG"
      }
    },
    {
      "cell_type": "code",
      "source": [
        "# one-hot encoding\n",
        "y_train = keras.utils.to_categorical(Y_train,10)\n",
        "y_test = keras.utils.to_categorical(Y_test,10)"
      ],
      "metadata": {
        "id": "lERxE-THLCvy"
      },
      "execution_count": 5,
      "outputs": []
    },
    {
      "cell_type": "markdown",
      "source": [
        "---\n",
        ">Question3- PCA"
      ],
      "metadata": {
        "id": "WWiKKnJf5AZU"
      }
    },
    {
      "cell_type": "code",
      "source": [
        "X = np.concatenate((x_train, x_test), axis = 0)\n",
        "x_tr = X - np.mean(X, axis = 0)\n",
        "cov = x_tr.T.dot(x_tr)\n",
        "e_values,e_vectors = np.linalg.eig(cov)"
      ],
      "metadata": {
        "id": "k0E228rb5F-_"
      },
      "execution_count": 6,
      "outputs": []
    },
    {
      "cell_type": "code",
      "source": [
        "n = np.zeros(1024)\n",
        "for i in range(1024):\n",
        "    n[i] = sum(e_values[:i])\n",
        "n = n / sum(e_values)\n",
        "plt.plot(np.arange(0,1024), n, label = \"eigenvalues\")\n",
        "plt.xlabel('# features')\n",
        "plt.ylabel('Eigenvalue')\n",
        "plt.legend()\n",
        "plt.grid()\n",
        "plt.show()"
      ],
      "metadata": {
        "colab": {
          "base_uri": "https://localhost:8080/",
          "height": 278
        },
        "id": "kwdDzL3K5Fv1",
        "outputId": "b56d287f-9923-4622-cb25-efb0a177705d"
      },
      "execution_count": 8,
      "outputs": [
        {
          "output_type": "display_data",
          "data": {
            "text/plain": [
              "<Figure size 432x288 with 1 Axes>"
            ],
            "image/png": "[encoded data removed]"
          },
          "metadata": {
            "needs_background": "light"
          }
        }
      ]
    },
    {
      "cell_type": "code",
      "source": [
        "for i in range(1024):\n",
        "    if sum(e_values[ : i]) >= 0.95 * sum(e_values):\n",
        "        break"
      ],
      "metadata": {
        "id": "8mDbJ2mU5Fi2"
      },
      "execution_count": 9,
      "outputs": []
    },
    {
      "cell_type": "code",
      "source": [
        "main_e_vectors = e_vectors[:,0:i]\n",
        "x_dim_red = np.dot(main_e_vectors.T , x_tr.T ).T"
      ],
      "metadata": {
        "id": "LgmRZNjit6ge"
      },
      "execution_count": 10,
      "outputs": []
    },
    {
      "cell_type": "code",
      "source": [
        "x_dim_red.shape"
      ],
      "metadata": {
        "colab": {
          "base_uri": "https://localhost:8080/"
        },
        "id": "oS5lfyAxughz",
        "outputId": "4fedd38c-a7c5-45ed-f3bb-1260d43c9e18"
      },
      "execution_count": 11,
      "outputs": [
        {
          "output_type": "execute_result",
          "data": {
            "text/plain": [
              "(60000, 158)"
            ]
          },
          "metadata": {},
          "execution_count": 11
        }
      ]
    },
    {
      "cell_type": "code",
      "source": [
        "x_train_dim_red = x_dim_red[:50000] \n",
        "x_test_dim_red  = x_dim_red[50000:]"
      ],
      "metadata": {
        "id": "38ChO0ztutGj"
      },
      "execution_count": 12,
      "outputs": []
    },
    {
      "cell_type": "code",
      "source": [
        "model = tf.keras.Sequential()\n",
        "\n",
        "model.add(layers.Dense(512, activation = 'relu', input_dim = i))\n",
        "\n",
        "model.add(layers.Dense(256, activation = 'relu'))\n",
        "\n",
        "model.add(layers.Dense(10, activation = 'softmax'))\n",
        "\n",
        "model.compile(loss = 'categorical_crossentropy',\n",
        "              optimizer = 'adam',\n",
        "              metrics = ['accuracy'])\n",
        "\n",
        "start = datetime.datetime.now()\n",
        "history = model.fit(x_train_dim_red, y_train, epochs=5,\n",
        "                    validation_split = 0.2, batch_size = 128)\n",
        "end = datetime.datetime.now()"
      ],
      "metadata": {
        "colab": {
          "base_uri": "https://localhost:8080/"
        },
        "id": "DH1fIHmvvtZW",
        "outputId": "d44447db-da00-4649-a4fe-a3cf7d4ad642"
      },
      "execution_count": 16,
      "outputs": [
        {
          "output_type": "stream",
          "name": "stdout",
          "text": [
            "Epoch 1/5\n",
            "313/313 [==============================] - 2s 5ms/step - loss: 1.8378 - accuracy: 0.3516 - val_loss: 1.7223 - val_accuracy: 0.3943\n",
            "Epoch 2/5\n",
            "313/313 [==============================] - 1s 4ms/step - loss: 1.5770 - accuracy: 0.4462 - val_loss: 1.5994 - val_accuracy: 0.4409\n",
            "Epoch 3/5\n",
            "313/313 [==============================] - 1s 5ms/step - loss: 1.4125 - accuracy: 0.5041 - val_loss: 1.5296 - val_accuracy: 0.4629\n",
            "Epoch 4/5\n",
            "313/313 [==============================] - 1s 5ms/step - loss: 1.2878 - accuracy: 0.5494 - val_loss: 1.5160 - val_accuracy: 0.4792\n",
            "Epoch 5/5\n",
            "313/313 [==============================] - 1s 5ms/step - loss: 1.1698 - accuracy: 0.5904 - val_loss: 1.5230 - val_accuracy: 0.4865\n"
          ]
        }
      ]
    },
    {
      "cell_type": "code",
      "source": [
        "Training_Time = end - start\n",
        "print ('Training_Time:', Training_Time)"
      ],
      "metadata": {
        "colab": {
          "base_uri": "https://localhost:8080/"
        },
        "id": "T9thR9PBwM6I",
        "outputId": "cf509bbf-b43a-4394-e200-7998ecd468ad"
      },
      "execution_count": 17,
      "outputs": [
        {
          "output_type": "stream",
          "name": "stdout",
          "text": [
            "Training_Time: 0:00:07.859801\n"
          ]
        }
      ]
    },
    {
      "cell_type": "code",
      "source": [
        "history = history.history\n",
        "loss = history['loss']\n",
        "val_loss = history['val_loss']\n",
        "acc = history['accuracy']\n",
        "val_acc = history['val_accuracy']\n",
        "plt.xlabel('Epochs')\n",
        "plt.ylabel('loss')\n",
        "plt.plot(loss)\n",
        "plt.plot(val_loss)\n",
        "plt.legend(['loss','val_loss'])\n",
        "plt.grid()\n",
        "plt.figure()\n",
        "plt.xlabel('Epochs')\n",
        "plt.ylabel('accuracy')\n",
        "plt.plot(acc)\n",
        "plt.plot(val_acc)\n",
        "plt.legend(['accuracy','val_accuracy'])\n",
        "plt.grid()"
      ],
      "metadata": {
        "colab": {
          "base_uri": "https://localhost:8080/",
          "height": 542
        },
        "id": "0NVkRdjywPnZ",
        "outputId": "62929f6a-7911-4bcf-89cb-c22e2a239301"
      },
      "execution_count": 18,
      "outputs": [
        {
          "output_type": "display_data",
          "data": {
            "text/plain": [
              "<Figure size 432x288 with 1 Axes>"
            ],
            "image/png": "[encoded data removed]"
          },
          "metadata": {
            "needs_background": "light"
          }
        },
        {
          "output_type": "display_data",
          "data": {
            "text/plain": [
              "<Figure size 432x288 with 1 Axes>"
            ],
            "image/png": "[encoded data removed]"
          },
          "metadata": {
            "needs_background": "light"
          }
        }
      ]
    },
    {
      "cell_type": "code",
      "source": [
        "test_loss, test_accuracy = model.evaluate(x_test_dim_red,y_test)\n",
        "print('Test_loss:', test_loss)\n",
        "print('Test_accuracy:', test_accuracy)"
      ],
      "metadata": {
        "colab": {
          "base_uri": "https://localhost:8080/"
        },
        "id": "xx0EWXmew5z_",
        "outputId": "8aed46f2-f376-4a54-8afe-fd81a230bf69"
      },
      "execution_count": 19,
      "outputs": [
        {
          "output_type": "stream",
          "name": "stdout",
          "text": [
            "313/313 [==============================] - 1s 3ms/step - loss: 1.5235 - accuracy: 0.4763\n",
            "Test_loss: 1.5234885215759277\n",
            "Test_accuracy: 0.4763000011444092\n"
          ]
        }
      ]
    },
    {
      "cell_type": "markdown",
      "source": [
        "#Question3- Autoencoder\n",
        "\n",
        "\n",
        " "
      ],
      "metadata": {
        "id": "-IiCb7Y344Ch"
      }
    },
    {
      "cell_type": "markdown",
      "source": [
        "---\n",
        "\n",
        "\n",
        "> Creating Auto-Encoder Model\n",
        "\n"
      ],
      "metadata": {
        "id": "bz3nkIezOxCM"
      }
    },
    {
      "cell_type": "code",
      "source": [
        "input = layers.Input(shape = (32*32, ))\n",
        "encode = layers.Dense(512, activation = 'relu')(input)\n",
        "encode = layers.Dense(256, activation = 'relu')(encode)\n",
        "encode = layers.Dense(128, activation = 'relu')(encode)\n",
        "decode = layers.Dense(256, activation = 'relu')(encode)\n",
        "decode = layers.Dense(512, activation = 'relu')(decode)\n",
        "decode = layers.Dense(1024, activation = 'sigmoid')(decode)\n",
        "# encoding part \n",
        "encoder_model=Model(input,encode)\n",
        "# autoencoder model\n",
        "autoencoder_model=Model(input,decode)\n",
        "autoencoder_model.summary()"
      ],
      "metadata": {
        "id": "KdOb-ba1LT8x",
        "colab": {
          "base_uri": "https://localhost:8080/"
        },
        "outputId": "ae1cc99b-171a-4b65-90b7-fcb24bcfb4be"
      },
      "execution_count": null,
      "outputs": [
        {
          "output_type": "stream",
          "name": "stdout",
          "text": [
            "Model: \"model_14\"\n",
            "_________________________________________________________________\n",
            " Layer (type)                Output Shape              Param #   \n",
            "=================================================================\n",
            " input_9 (InputLayer)        [(None, 1024)]            0         \n",
            "                                                                 \n",
            " dense_54 (Dense)            (None, 512)               524800    \n",
            "                                                                 \n",
            " dense_55 (Dense)            (None, 256)               131328    \n",
            "                                                                 \n",
            " dense_56 (Dense)            (None, 128)               32896     \n",
            "                                                                 \n",
            " dense_57 (Dense)            (None, 256)               33024     \n",
            "                                                                 \n",
            " dense_58 (Dense)            (None, 512)               131584    \n",
            "                                                                 \n",
            " dense_59 (Dense)            (None, 1024)              525312    \n",
            "                                                                 \n",
            "=================================================================\n",
            "Total params: 1,378,944\n",
            "Trainable params: 1,378,944\n",
            "Non-trainable params: 0\n",
            "_________________________________________________________________\n"
          ]
        }
      ]
    },
    {
      "cell_type": "markdown",
      "source": [
        "---\n",
        "\n",
        "\n",
        "> Compiling Model\n",
        "\n"
      ],
      "metadata": {
        "id": "q31sgISmVT-x"
      }
    },
    {
      "cell_type": "code",
      "source": [
        "autoencoder_model.compile(loss='MSE',optimizer='adam',\n",
        "              metrics=['accuracy'])"
      ],
      "metadata": {
        "id": "0yAiUxGnTwmT"
      },
      "execution_count": null,
      "outputs": []
    },
    {
      "cell_type": "markdown",
      "source": [
        "---\n",
        "\n",
        "\n",
        "> Training Model\n",
        "\n"
      ],
      "metadata": {
        "id": "YP75a3eHV4e8"
      }
    },
    {
      "cell_type": "code",
      "source": [
        "start = datetime.datetime.now()\n",
        "autoencoder_model.fit(x_train,x_train,epochs=40,\n",
        "             validation_split=0.2,batch_size=128)\n",
        "end = datetime.datetime.now()"
      ],
      "metadata": {
        "colab": {
          "base_uri": "https://localhost:8080/"
        },
        "id": "hJYyPhWFVnnX",
        "outputId": "605f5032-1348-4f84-d6a1-6d3a9544aee4"
      },
      "execution_count": null,
      "outputs": [
        {
          "output_type": "stream",
          "name": "stdout",
          "text": [
            "Epoch 1/40\n",
            "313/313 [==============================] - 2s 6ms/step - loss: 0.0277 - accuracy: 0.0055 - val_loss: 0.0181 - val_accuracy: 0.0073\n",
            "Epoch 2/40\n",
            "313/313 [==============================] - 2s 5ms/step - loss: 0.0161 - accuracy: 0.0095 - val_loss: 0.0144 - val_accuracy: 0.0068\n",
            "Epoch 3/40\n",
            "313/313 [==============================] - 2s 5ms/step - loss: 0.0136 - accuracy: 0.0129 - val_loss: 0.0124 - val_accuracy: 0.0096\n",
            "Epoch 4/40\n",
            "313/313 [==============================] - 1s 4ms/step - loss: 0.0122 - accuracy: 0.0145 - val_loss: 0.0117 - val_accuracy: 0.0110\n",
            "Epoch 5/40\n",
            "313/313 [==============================] - 1s 4ms/step - loss: 0.0112 - accuracy: 0.0161 - val_loss: 0.0106 - val_accuracy: 0.0226\n",
            "Epoch 6/40\n",
            "313/313 [==============================] - 1s 4ms/step - loss: 0.0106 - accuracy: 0.0174 - val_loss: 0.0109 - val_accuracy: 0.0167\n",
            "Epoch 7/40\n",
            "313/313 [==============================] - 1s 4ms/step - loss: 0.0100 - accuracy: 0.0197 - val_loss: 0.0100 - val_accuracy: 0.0253\n",
            "Epoch 8/40\n",
            "313/313 [==============================] - 1s 5ms/step - loss: 0.0095 - accuracy: 0.0197 - val_loss: 0.0093 - val_accuracy: 0.0201\n",
            "Epoch 9/40\n",
            "313/313 [==============================] - 1s 5ms/step - loss: 0.0093 - accuracy: 0.0214 - val_loss: 0.0094 - val_accuracy: 0.0220\n",
            "Epoch 10/40\n",
            "313/313 [==============================] - 1s 4ms/step - loss: 0.0090 - accuracy: 0.0225 - val_loss: 0.0088 - val_accuracy: 0.0176\n",
            "Epoch 11/40\n",
            "313/313 [==============================] - 1s 4ms/step - loss: 0.0087 - accuracy: 0.0225 - val_loss: 0.0084 - val_accuracy: 0.0219\n",
            "Epoch 12/40\n",
            "313/313 [==============================] - 1s 4ms/step - loss: 0.0086 - accuracy: 0.0240 - val_loss: 0.0087 - val_accuracy: 0.0250\n",
            "Epoch 13/40\n",
            "313/313 [==============================] - 1s 4ms/step - loss: 0.0083 - accuracy: 0.0247 - val_loss: 0.0091 - val_accuracy: 0.0210\n",
            "Epoch 14/40\n",
            "313/313 [==============================] - 1s 4ms/step - loss: 0.0081 - accuracy: 0.0251 - val_loss: 0.0080 - val_accuracy: 0.0432\n",
            "Epoch 15/40\n",
            "313/313 [==============================] - 1s 5ms/step - loss: 0.0081 - accuracy: 0.0258 - val_loss: 0.0080 - val_accuracy: 0.0234\n",
            "Epoch 16/40\n",
            "313/313 [==============================] - 1s 5ms/step - loss: 0.0078 - accuracy: 0.0259 - val_loss: 0.0076 - val_accuracy: 0.0313\n",
            "Epoch 17/40\n",
            "313/313 [==============================] - 1s 5ms/step - loss: 0.0078 - accuracy: 0.0269 - val_loss: 0.0076 - val_accuracy: 0.0249\n",
            "Epoch 18/40\n",
            "313/313 [==============================] - 1s 4ms/step - loss: 0.0077 - accuracy: 0.0268 - val_loss: 0.0075 - val_accuracy: 0.0241\n",
            "Epoch 19/40\n",
            "313/313 [==============================] - 1s 4ms/step - loss: 0.0076 - accuracy: 0.0264 - val_loss: 0.0074 - val_accuracy: 0.0279\n",
            "Epoch 20/40\n",
            "313/313 [==============================] - 1s 4ms/step - loss: 0.0075 - accuracy: 0.0259 - val_loss: 0.0075 - val_accuracy: 0.0259\n",
            "Epoch 21/40\n",
            "313/313 [==============================] - 2s 5ms/step - loss: 0.0074 - accuracy: 0.0283 - val_loss: 0.0079 - val_accuracy: 0.0231\n",
            "Epoch 22/40\n",
            "313/313 [==============================] - 1s 4ms/step - loss: 0.0075 - accuracy: 0.0271 - val_loss: 0.0073 - val_accuracy: 0.0285\n",
            "Epoch 23/40\n",
            "313/313 [==============================] - 1s 4ms/step - loss: 0.0072 - accuracy: 0.0275 - val_loss: 0.0072 - val_accuracy: 0.0312\n",
            "Epoch 24/40\n",
            "313/313 [==============================] - 1s 4ms/step - loss: 0.0072 - accuracy: 0.0288 - val_loss: 0.0070 - val_accuracy: 0.0278\n",
            "Epoch 25/40\n",
            "313/313 [==============================] - 1s 4ms/step - loss: 0.0072 - accuracy: 0.0288 - val_loss: 0.0074 - val_accuracy: 0.0297\n",
            "Epoch 26/40\n",
            "313/313 [==============================] - 1s 4ms/step - loss: 0.0071 - accuracy: 0.0292 - val_loss: 0.0070 - val_accuracy: 0.0283\n",
            "Epoch 27/40\n",
            "313/313 [==============================] - 2s 5ms/step - loss: 0.0071 - accuracy: 0.0298 - val_loss: 0.0074 - val_accuracy: 0.0288\n",
            "Epoch 28/40\n",
            "313/313 [==============================] - 1s 5ms/step - loss: 0.0070 - accuracy: 0.0301 - val_loss: 0.0070 - val_accuracy: 0.0306\n",
            "Epoch 29/40\n",
            "313/313 [==============================] - 2s 5ms/step - loss: 0.0069 - accuracy: 0.0315 - val_loss: 0.0072 - val_accuracy: 0.0344\n",
            "Epoch 30/40\n",
            "313/313 [==============================] - 1s 5ms/step - loss: 0.0070 - accuracy: 0.0300 - val_loss: 0.0070 - val_accuracy: 0.0349\n",
            "Epoch 31/40\n",
            "313/313 [==============================] - 2s 5ms/step - loss: 0.0069 - accuracy: 0.0307 - val_loss: 0.0069 - val_accuracy: 0.0279\n",
            "Epoch 32/40\n",
            "313/313 [==============================] - 2s 5ms/step - loss: 0.0068 - accuracy: 0.0314 - val_loss: 0.0068 - val_accuracy: 0.0280\n",
            "Epoch 33/40\n",
            "313/313 [==============================] - 1s 4ms/step - loss: 0.0068 - accuracy: 0.0313 - val_loss: 0.0067 - val_accuracy: 0.0320\n",
            "Epoch 34/40\n",
            "313/313 [==============================] - 1s 4ms/step - loss: 0.0068 - accuracy: 0.0309 - val_loss: 0.0068 - val_accuracy: 0.0359\n",
            "Epoch 35/40\n",
            "313/313 [==============================] - 1s 5ms/step - loss: 0.0067 - accuracy: 0.0315 - val_loss: 0.0067 - val_accuracy: 0.0286\n",
            "Epoch 36/40\n",
            "313/313 [==============================] - 1s 4ms/step - loss: 0.0067 - accuracy: 0.0313 - val_loss: 0.0065 - val_accuracy: 0.0307\n",
            "Epoch 37/40\n",
            "313/313 [==============================] - 1s 5ms/step - loss: 0.0067 - accuracy: 0.0315 - val_loss: 0.0074 - val_accuracy: 0.0282\n",
            "Epoch 38/40\n",
            "313/313 [==============================] - 2s 5ms/step - loss: 0.0066 - accuracy: 0.0304 - val_loss: 0.0066 - val_accuracy: 0.0282\n",
            "Epoch 39/40\n",
            "313/313 [==============================] - 1s 5ms/step - loss: 0.0066 - accuracy: 0.0312 - val_loss: 0.0066 - val_accuracy: 0.0293\n",
            "Epoch 40/40\n",
            "313/313 [==============================] - 2s 5ms/step - loss: 0.0066 - accuracy: 0.0326 - val_loss: 0.0065 - val_accuracy: 0.0262\n"
          ]
        }
      ]
    },
    {
      "cell_type": "markdown",
      "source": [
        "---\n",
        ">Traning Time"
      ],
      "metadata": {
        "id": "y8ZdObHhONjM"
      }
    },
    {
      "cell_type": "code",
      "source": [
        "Training_Time = end - start\n",
        "print ('Training_Time:', Training_Time)"
      ],
      "metadata": {
        "colab": {
          "base_uri": "https://localhost:8080/"
        },
        "id": "38OP1fHCOOoq",
        "outputId": "b46787ba-1714-4aca-a541-0b1f2da59bd2"
      },
      "execution_count": null,
      "outputs": [
        {
          "output_type": "stream",
          "name": "stdout",
          "text": [
            "Training_Time: 0:01:22.755954\n"
          ]
        }
      ]
    },
    {
      "cell_type": "markdown",
      "source": [
        "---\n",
        "\n",
        "\n",
        "> Results of Autoencoder\n",
        "\n"
      ],
      "metadata": {
        "id": "eQh19avW9z4o"
      }
    },
    {
      "cell_type": "code",
      "source": [
        "x_train_enc = encoder_model.predict(x_train)\n",
        "x_test_enc = encoder_model.predict(x_test)\n",
        "x_test_dec = autoencoder_model.predict(x_test)"
      ],
      "metadata": {
        "id": "vj8vZRdb8_BB"
      },
      "execution_count": null,
      "outputs": []
    },
    {
      "cell_type": "markdown",
      "source": [
        "---\n",
        "\n",
        "\n",
        "> Train model for encoded data\n",
        "\n"
      ],
      "metadata": {
        "id": "zMj1_BsFFZTS"
      }
    },
    {
      "cell_type": "code",
      "source": [
        "model = tf.keras.Sequential()\n",
        "\n",
        "model.add(layers.Dense(512, activation = 'relu', input_dim = 128))\n",
        "\n",
        "model.add(layers.Dense(256, activation = 'relu'))\n",
        "\n",
        "model.add(layers.Dense(10, activation = 'softmax'))\n",
        "\n",
        "model.compile(loss = 'categorical_crossentropy',\n",
        "              optimizer = 'adam',\n",
        "              metrics = ['accuracy'])\n",
        "\n",
        "start = datetime.datetime.now()\n",
        "history = model.fit(x_train_enc,y_train,epochs=10,\n",
        "                    validation_split=0.2,batch_size=128)\n",
        "end = datetime.datetime.now()"
      ],
      "metadata": {
        "colab": {
          "base_uri": "https://localhost:8080/"
        },
        "id": "okgSrSZEFcUf",
        "outputId": "a8dc4a71-79e3-4393-c6bb-2299a90d60e6"
      },
      "execution_count": null,
      "outputs": [
        {
          "output_type": "stream",
          "name": "stdout",
          "text": [
            "Epoch 1/10\n",
            "313/313 [==============================] - 2s 6ms/step - loss: 1.9846 - accuracy: 0.2916 - val_loss: 1.9033 - val_accuracy: 0.3249\n",
            "Epoch 2/10\n",
            "313/313 [==============================] - 1s 3ms/step - loss: 1.8192 - accuracy: 0.3552 - val_loss: 1.7825 - val_accuracy: 0.3708\n",
            "Epoch 3/10\n",
            "313/313 [==============================] - 1s 4ms/step - loss: 1.7413 - accuracy: 0.3809 - val_loss: 1.7294 - val_accuracy: 0.3880\n",
            "Epoch 4/10\n",
            "313/313 [==============================] - 1s 3ms/step - loss: 1.6895 - accuracy: 0.4004 - val_loss: 1.6969 - val_accuracy: 0.3966\n",
            "Epoch 5/10\n",
            "313/313 [==============================] - 1s 3ms/step - loss: 1.6454 - accuracy: 0.4167 - val_loss: 1.6642 - val_accuracy: 0.4087\n",
            "Epoch 6/10\n",
            "313/313 [==============================] - 1s 3ms/step - loss: 1.6111 - accuracy: 0.4269 - val_loss: 1.6500 - val_accuracy: 0.4121\n",
            "Epoch 7/10\n",
            "313/313 [==============================] - 1s 3ms/step - loss: 1.5738 - accuracy: 0.4409 - val_loss: 1.6222 - val_accuracy: 0.4203\n",
            "Epoch 8/10\n",
            "313/313 [==============================] - 1s 4ms/step - loss: 1.5427 - accuracy: 0.4513 - val_loss: 1.6111 - val_accuracy: 0.4303\n",
            "Epoch 9/10\n",
            "313/313 [==============================] - 1s 4ms/step - loss: 1.5101 - accuracy: 0.4649 - val_loss: 1.5952 - val_accuracy: 0.4353\n",
            "Epoch 10/10\n",
            "313/313 [==============================] - 1s 4ms/step - loss: 1.4878 - accuracy: 0.4742 - val_loss: 1.5959 - val_accuracy: 0.4396\n"
          ]
        }
      ]
    },
    {
      "cell_type": "markdown",
      "source": [
        "---\n",
        "> Training Time"
      ],
      "metadata": {
        "id": "gVqYBkrwuw7U"
      }
    },
    {
      "cell_type": "code",
      "source": [
        "Training_Time = end - start\n",
        "print ('Training_Time:', Training_Time)"
      ],
      "metadata": {
        "colab": {
          "base_uri": "https://localhost:8080/"
        },
        "id": "4EST1DTuuuih",
        "outputId": "aff5d111-41f4-4eb2-b354-4c2b40042044"
      },
      "execution_count": null,
      "outputs": [
        {
          "output_type": "stream",
          "name": "stdout",
          "text": [
            "Training_Time: 0:00:20.934145\n"
          ]
        }
      ]
    },
    {
      "cell_type": "markdown",
      "source": [
        "---\n",
        "> Plotting Loss & Accuracy Curves"
      ],
      "metadata": {
        "id": "WeYMecBoX_qX"
      }
    },
    {
      "cell_type": "code",
      "source": [
        "history = history.history\n",
        "loss = history['loss']\n",
        "val_loss = history['val_loss']\n",
        "acc = history['accuracy']\n",
        "val_acc = history['val_accuracy']\n",
        "plt.xlabel('Epochs')\n",
        "plt.ylabel('loss')\n",
        "plt.plot(loss)\n",
        "plt.plot(val_loss)\n",
        "plt.legend(['loss','val_loss'])\n",
        "plt.grid()\n",
        "plt.figure()\n",
        "plt.xlabel('Epochs')\n",
        "plt.ylabel('accuracy')\n",
        "plt.plot(acc)\n",
        "plt.plot(val_acc)\n",
        "plt.legend(['accuracy','val_accuracy'])\n",
        "plt.grid()"
      ],
      "metadata": {
        "colab": {
          "base_uri": "https://localhost:8080/",
          "height": 542
        },
        "id": "Ex8PmiaLYQx8",
        "outputId": "8309be3e-df6f-4ff2-b367-875166840a60"
      },
      "execution_count": null,
      "outputs": [
        {
          "output_type": "display_data",
          "data": {
            "text/plain": [
              "<Figure size 432x288 with 1 Axes>"
            ],
            "image/png": "[encoded data removed]"
          },
          "metadata": {
            "needs_background": "light"
          }
        },
        {
          "output_type": "display_data",
          "data": {
            "text/plain": [
              "<Figure size 432x288 with 1 Axes>"
            ],
            "image/png": "[encoded data removed]"
          },
          "metadata": {
            "needs_background": "light"
          }
        }
      ]
    },
    {
      "cell_type": "markdown",
      "source": [
        "---\n",
        ">Evaluating Model for Encoded Data"
      ],
      "metadata": {
        "id": "SJr5g-u2u9u7"
      }
    },
    {
      "cell_type": "code",
      "source": [
        "test_loss, test_accuracy = model.evaluate(x_test_enc,y_test)\n",
        "print('Test_loss:', test_loss)\n",
        "print('Test_accuracy:', test_accuracy)"
      ],
      "metadata": {
        "colab": {
          "base_uri": "https://localhost:8080/"
        },
        "id": "wlPNMKB_u_e4",
        "outputId": "46c25e83-3b65-41fc-9929-756eebeefeff"
      },
      "execution_count": null,
      "outputs": [
        {
          "output_type": "stream",
          "name": "stdout",
          "text": [
            "313/313 [==============================] - 1s 2ms/step - loss: 1.5926 - accuracy: 0.4464\n",
            "Test_loss: 1.5926047563552856\n",
            "Test_accuracy: 0.446399986743927\n"
          ]
        }
      ]
    }
  ]
}