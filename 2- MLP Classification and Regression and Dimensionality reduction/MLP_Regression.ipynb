{
  "nbformat": 4,
  "nbformat_minor": 0,
  "metadata": {
    "colab": {
      "name": "Q2.ipynb",
      "provenance": [],
      "collapsed_sections": []
    },
    "kernelspec": {
      "name": "python3",
      "display_name": "Python 3"
    },
    "language_info": {
      "name": "python"
    },
    "accelerator": "GPU"
  },
  "cells": [
    {
      "cell_type": "markdown",
      "source": [
        "#Question2- Regression"
      ],
      "metadata": {
        "id": "Ay-gycT8on9C"
      }
    },
    {
      "cell_type": "code",
      "execution_count": 3,
      "metadata": {
        "id": "OaKkCOpfkh5V"
      },
      "outputs": [],
      "source": [
        "import numpy as np\n",
        "import tensorflow as tf\n",
        "import matplotlib.pyplot as plt\n",
        "import datetime\n",
        "import pandas as pd\n",
        "from tensorflow.keras.layers import Dense,Activation,Dropout\n",
        "from keras.models import Sequential\n",
        "from sklearn.model_selection import  train_test_split"
      ]
    },
    {
      "cell_type": "code",
      "source": [
        "data = pd.read_csv('data.csv')\n",
        "data.head()"
      ],
      "metadata": {
        "colab": {
          "base_uri": "https://localhost:8080/",
          "height": 337
        },
        "id": "kuKHABo6oxwp",
        "outputId": "066d7617-2ce9-492b-975a-1ed21905543d"
      },
      "execution_count": 4,
      "outputs": [
        {
          "output_type": "execute_result",
          "data": {
            "text/plain": [
              "                  date      price  bedrooms  bathrooms  sqft_living  sqft_lot  \\\n",
              "0  2014-05-02 00:00:00   313000.0       3.0       1.50         1340      7912   \n",
              "1  2014-05-02 00:00:00  2384000.0       5.0       2.50         3650      9050   \n",
              "2  2014-05-02 00:00:00   342000.0       3.0       2.00         1930     11947   \n",
              "3  2014-05-02 00:00:00   420000.0       3.0       2.25         2000      8030   \n",
              "4  2014-05-02 00:00:00   550000.0       4.0       2.50         1940     10500   \n",
              "\n",
              "   floors  waterfront  view  condition  sqft_above  sqft_basement  yr_built  \\\n",
              "0     1.5           0     0          3        1340              0      1955   \n",
              "1     2.0           0     4          5        3370            280      1921   \n",
              "2     1.0           0     0          4        1930              0      1966   \n",
              "3     1.0           0     0          4        1000           1000      1963   \n",
              "4     1.0           0     0          4        1140            800      1976   \n",
              "\n",
              "   yr_renovated                    street       city  statezip country  \n",
              "0          2005      18810 Densmore Ave N  Shoreline  WA 98133     USA  \n",
              "1             0           709 W Blaine St    Seattle  WA 98119     USA  \n",
              "2             0  26206-26214 143rd Ave SE       Kent  WA 98042     USA  \n",
              "3             0           857 170th Pl NE   Bellevue  WA 98008     USA  \n",
              "4          1992         9105 170th Ave NE    Redmond  WA 98052     USA  "
            ],
            "text/html": [
              "\n",
              "  <div id=\"df-1c753106-f84f-4045-bbcb-c76081744f27\">\n",
              "    <div class=\"colab-df-container\">\n",
              "      <div>\n",
              "<style scoped>\n",
              "    .dataframe tbody tr th:only-of-type {\n",
              "        vertical-align: middle;\n",
              "    }\n",
              "\n",
              "    .dataframe tbody tr th {\n",
              "        vertical-align: top;\n",
              "    }\n",
              "\n",
              "    .dataframe thead th {\n",
              "        text-align: right;\n",
              "    }\n",
              "</style>\n",
              "<table border=\"1\" class=\"dataframe\">\n",
              "  <thead>\n",
              "    <tr style=\"text-align: right;\">\n",
              "      <th></th>\n",
              "      <th>date</th>\n",
              "      <th>price</th>\n",
              "      <th>bedrooms</th>\n",
              "      <th>bathrooms</th>\n",
              "      <th>sqft_living</th>\n",
              "      <th>sqft_lot</th>\n",
              "      <th>floors</th>\n",
              "      <th>waterfront</th>\n",
              "      <th>view</th>\n",
              "      <th>condition</th>\n",
              "      <th>sqft_above</th>\n",
              "      <th>sqft_basement</th>\n",
              "      <th>yr_built</th>\n",
              "      <th>yr_renovated</th>\n",
              "      <th>street</th>\n",
              "      <th>city</th>\n",
              "      <th>statezip</th>\n",
              "      <th>country</th>\n",
              "    </tr>\n",
              "  </thead>\n",
              "  <tbody>\n",
              "    <tr>\n",
              "      <th>0</th>\n",
              "      <td>2014-05-02 00:00:00</td>\n",
              "      <td>313000.0</td>\n",
              "      <td>3.0</td>\n",
              "      <td>1.50</td>\n",
              "      <td>1340</td>\n",
              "      <td>7912</td>\n",
              "      <td>1.5</td>\n",
              "      <td>0</td>\n",
              "      <td>0</td>\n",
              "      <td>3</td>\n",
              "      <td>1340</td>\n",
              "      <td>0</td>\n",
              "      <td>1955</td>\n",
              "      <td>2005</td>\n",
              "      <td>18810 Densmore Ave N</td>\n",
              "      <td>Shoreline</td>\n",
              "      <td>WA 98133</td>\n",
              "      <td>USA</td>\n",
              "    </tr>\n",
              "    <tr>\n",
              "      <th>1</th>\n",
              "      <td>2014-05-02 00:00:00</td>\n",
              "      <td>2384000.0</td>\n",
              "      <td>5.0</td>\n",
              "      <td>2.50</td>\n",
              "      <td>3650</td>\n",
              "      <td>9050</td>\n",
              "      <td>2.0</td>\n",
              "      <td>0</td>\n",
              "      <td>4</td>\n",
              "      <td>5</td>\n",
              "      <td>3370</td>\n",
              "      <td>280</td>\n",
              "      <td>1921</td>\n",
              "      <td>0</td>\n",
              "      <td>709 W Blaine St</td>\n",
              "      <td>Seattle</td>\n",
              "      <td>WA 98119</td>\n",
              "      <td>USA</td>\n",
              "    </tr>\n",
              "    <tr>\n",
              "      <th>2</th>\n",
              "      <td>2014-05-02 00:00:00</td>\n",
              "      <td>342000.0</td>\n",
              "      <td>3.0</td>\n",
              "      <td>2.00</td>\n",
              "      <td>1930</td>\n",
              "      <td>11947</td>\n",
              "      <td>1.0</td>\n",
              "      <td>0</td>\n",
              "      <td>0</td>\n",
              "      <td>4</td>\n",
              "      <td>1930</td>\n",
              "      <td>0</td>\n",
              "      <td>1966</td>\n",
              "      <td>0</td>\n",
              "      <td>26206-26214 143rd Ave SE</td>\n",
              "      <td>Kent</td>\n",
              "      <td>WA 98042</td>\n",
              "      <td>USA</td>\n",
              "    </tr>\n",
              "    <tr>\n",
              "      <th>3</th>\n",
              "      <td>2014-05-02 00:00:00</td>\n",
              "      <td>420000.0</td>\n",
              "      <td>3.0</td>\n",
              "      <td>2.25</td>\n",
              "      <td>2000</td>\n",
              "      <td>8030</td>\n",
              "      <td>1.0</td>\n",
              "      <td>0</td>\n",
              "      <td>0</td>\n",
              "      <td>4</td>\n",
              "      <td>1000</td>\n",
              "      <td>1000</td>\n",
              "      <td>1963</td>\n",
              "      <td>0</td>\n",
              "      <td>857 170th Pl NE</td>\n",
              "      <td>Bellevue</td>\n",
              "      <td>WA 98008</td>\n",
              "      <td>USA</td>\n",
              "    </tr>\n",
              "    <tr>\n",
              "      <th>4</th>\n",
              "      <td>2014-05-02 00:00:00</td>\n",
              "      <td>550000.0</td>\n",
              "      <td>4.0</td>\n",
              "      <td>2.50</td>\n",
              "      <td>1940</td>\n",
              "      <td>10500</td>\n",
              "      <td>1.0</td>\n",
              "      <td>0</td>\n",
              "      <td>0</td>\n",
              "      <td>4</td>\n",
              "      <td>1140</td>\n",
              "      <td>800</td>\n",
              "      <td>1976</td>\n",
              "      <td>1992</td>\n",
              "      <td>9105 170th Ave NE</td>\n",
              "      <td>Redmond</td>\n",
              "      <td>WA 98052</td>\n",
              "      <td>USA</td>\n",
              "    </tr>\n",
              "  </tbody>\n",
              "</table>\n",
              "</div>\n",
              "      <button class=\"colab-df-convert\" onclick=\"convertToInteractive('df-1c753106-f84f-4045-bbcb-c76081744f27')\"\n",
              "              title=\"Convert this dataframe to an interactive table.\"\n",
              "              style=\"display:none;\">\n",
              "        \n",
              "  <svg xmlns=\"http://www.w3.org/2000/svg\" height=\"24px\"viewBox=\"0 0 24 24\"\n",
              "       width=\"24px\">\n",
              "    <path d=\"M0 0h24v24H0V0z\" fill=\"none\"/>\n",
              "    <path d=\"M18.56 5.44l.94 2.06.94-2.06 2.06-.94-2.06-.94-.94-2.06-.94 2.06-2.06.94zm-11 1L8.5 8.5l.94-2.06 2.06-.94-2.06-.94L8.5 2.5l-.94 2.06-2.06.94zm10 10l.94 2.06.94-2.06 2.06-.94-2.06-.94-.94-2.06-.94 2.06-2.06.94z\"/><path d=\"M17.41 7.96l-1.37-1.37c-.4-.4-.92-.59-1.43-.59-.52 0-1.04.2-1.43.59L10.3 9.45l-7.72 7.72c-.78.78-.78 2.05 0 2.83L4 21.41c.39.39.9.59 1.41.59.51 0 1.02-.2 1.41-.59l7.78-7.78 2.81-2.81c.8-.78.8-2.07 0-2.86zM5.41 20L4 18.59l7.72-7.72 1.47 1.35L5.41 20z\"/>\n",
              "  </svg>\n",
              "      </button>\n",
              "      \n",
              "  <style>\n",
              "    .colab-df-container {\n",
              "      display:flex;\n",
              "      flex-wrap:wrap;\n",
              "      gap: 12px;\n",
              "    }\n",
              "\n",
              "    .colab-df-convert {\n",
              "      background-color: #E8F0FE;\n",
              "      border: none;\n",
              "      border-radius: 50%;\n",
              "      cursor: pointer;\n",
              "      display: none;\n",
              "      fill: #1967D2;\n",
              "      height: 32px;\n",
              "      padding: 0 0 0 0;\n",
              "      width: 32px;\n",
              "    }\n",
              "\n",
              "    .colab-df-convert:hover {\n",
              "      background-color: #E2EBFA;\n",
              "      box-shadow: 0px 1px 2px rgba(60, 64, 67, 0.3), 0px 1px 3px 1px rgba(60, 64, 67, 0.15);\n",
              "      fill: #174EA6;\n",
              "    }\n",
              "\n",
              "    [theme=dark] .colab-df-convert {\n",
              "      background-color: #3B4455;\n",
              "      fill: #D2E3FC;\n",
              "    }\n",
              "\n",
              "    [theme=dark] .colab-df-convert:hover {\n",
              "      background-color: #434B5C;\n",
              "      box-shadow: 0px 1px 3px 1px rgba(0, 0, 0, 0.15);\n",
              "      filter: drop-shadow(0px 1px 2px rgba(0, 0, 0, 0.3));\n",
              "      fill: #FFFFFF;\n",
              "    }\n",
              "  </style>\n",
              "\n",
              "      <script>\n",
              "        const buttonEl =\n",
              "          document.querySelector('#df-1c753106-f84f-4045-bbcb-c76081744f27 button.colab-df-convert');\n",
              "        buttonEl.style.display =\n",
              "          google.colab.kernel.accessAllowed ? 'block' : 'none';\n",
              "\n",
              "        async function convertToInteractive(key) {\n",
              "          const element = document.querySelector('#df-1c753106-f84f-4045-bbcb-c76081744f27');\n",
              "          const dataTable =\n",
              "            await google.colab.kernel.invokeFunction('convertToInteractive',\n",
              "                                                     [key], {});\n",
              "          if (!dataTable) return;\n",
              "\n",
              "          const docLinkHtml = 'Like what you see? Visit the ' +\n",
              "            '<a target=\"_blank\" href=https://colab.research.google.com/notebooks/data_table.ipynb>data table notebook</a>'\n",
              "            + ' to learn more about interactive tables.';\n",
              "          element.innerHTML = '';\n",
              "          dataTable['output_type'] = 'display_data';\n",
              "          await google.colab.output.renderOutput(dataTable, element);\n",
              "          const docLink = document.createElement('div');\n",
              "          docLink.innerHTML = docLinkHtml;\n",
              "          element.appendChild(docLink);\n",
              "        }\n",
              "      </script>\n",
              "    </div>\n",
              "  </div>\n",
              "  "
            ]
          },
          "metadata": {},
          "execution_count": 4
        }
      ]
    },
    {
      "cell_type": "markdown",
      "source": [
        "---\n",
        ">Removing zero prices & zero bedrooms $ zero bathrooms & the 2 most expensive houses "
      ],
      "metadata": {
        "id": "T6MFhq6WoffS"
      }
    },
    {
      "cell_type": "code",
      "source": [
        "data = data[data.price != 0]\n",
        "data = data[data.bedrooms != 0]\n",
        "data = data[data.bathrooms != 0] \n",
        "data = data[data.price < 1e+07]"
      ],
      "metadata": {
        "id": "Vsz5VWcaAhBM"
      },
      "execution_count": 5,
      "outputs": []
    },
    {
      "cell_type": "code",
      "source": [
        "data.shape"
      ],
      "metadata": {
        "colab": {
          "base_uri": "https://localhost:8080/"
        },
        "id": "JzLhN_cI3-oU",
        "outputId": "fcfab688-b73e-4cdf-c460-ef952031c429"
      },
      "execution_count": null,
      "outputs": [
        {
          "output_type": "execute_result",
          "data": {
            "text/plain": [
              "(4547, 18)"
            ]
          },
          "metadata": {},
          "execution_count": 20
        }
      ]
    },
    {
      "cell_type": "markdown",
      "source": [
        "---\n",
        "> targets"
      ],
      "metadata": {
        "id": "6zVB8MfE3Q6T"
      }
    },
    {
      "cell_type": "code",
      "source": [
        "Y = data['price'].values.reshape(-1,1)\n",
        "Y = np.asanyarray(Y)"
      ],
      "metadata": {
        "id": "fku_cssn3QUd"
      },
      "execution_count": 6,
      "outputs": []
    },
    {
      "cell_type": "code",
      "source": [
        "Y.shape"
      ],
      "metadata": {
        "colab": {
          "base_uri": "https://localhost:8080/"
        },
        "id": "FfLE0CyAV4Mr",
        "outputId": "d7756003-5cb8-4b4d-f4fa-b8832d90dbe2"
      },
      "execution_count": null,
      "outputs": [
        {
          "output_type": "execute_result",
          "data": {
            "text/plain": [
              "(4547, 1)"
            ]
          },
          "metadata": {},
          "execution_count": 5
        }
      ]
    },
    {
      "cell_type": "markdown",
      "source": [
        "---\n",
        "> Dropout 'price', 'date', 'city', 'country', 'statezip', 'street'  from data"
      ],
      "metadata": {
        "id": "I9B9-2hU6Nc3"
      }
    },
    {
      "cell_type": "code",
      "source": [
        "X = data.drop(['price'], axis = 1)\n",
        "X = X.drop(['date'], axis = 1)\n",
        "X = X.drop(['city'], axis = 1)\n",
        "X = X.drop(['country'], axis = 1)\n",
        "X = X.drop(['statezip'], axis = 1)\n",
        "X = X.drop(['street'], axis = 1)"
      ],
      "metadata": {
        "id": "XUYATHs_6Up5"
      },
      "execution_count": null,
      "outputs": []
    },
    {
      "cell_type": "code",
      "source": [
        "X.shape"
      ],
      "metadata": {
        "colab": {
          "base_uri": "https://localhost:8080/"
        },
        "id": "tGc-020UBzas",
        "outputId": "89a98ca3-cdcc-4d6f-d4fb-277dbfe38cde"
      },
      "execution_count": null,
      "outputs": [
        {
          "output_type": "execute_result",
          "data": {
            "text/plain": [
              "(4547, 12)"
            ]
          },
          "metadata": {},
          "execution_count": 24
        }
      ]
    },
    {
      "cell_type": "markdown",
      "source": [
        "---\n",
        "> One_Hot_ٍEncoding for String Features"
      ],
      "metadata": {
        "id": "chUYQZ6oRVYW"
      }
    },
    {
      "cell_type": "code",
      "source": [
        "data_street_dummy = np.asanyarray(pd.get_dummies(data['street'],prefix = 'street'))\n",
        "data_city_dummy = np.asanyarray(pd.get_dummies(data['city'],prefix = 'city'))\n",
        "data_statezip_dummy = np.asanyarray(pd.get_dummies(data['statezip'],prefix = 'statezip'))\n",
        "data_country_dummy = np.asanyarray(pd.get_dummies(data['country'],prefix = 'country'))\n",
        "data_street_dummy"
      ],
      "metadata": {
        "colab": {
          "base_uri": "https://localhost:8080/"
        },
        "id": "Rko7qRBNX_EE",
        "outputId": "83aad6d4-a7cd-44e1-c604-416cd4c11aaa"
      },
      "execution_count": null,
      "outputs": [
        {
          "output_type": "execute_result",
          "data": {
            "text/plain": [
              "array([[0, 0, 0, ..., 0, 0, 0],\n",
              "       [0, 0, 0, ..., 0, 0, 0],\n",
              "       [0, 0, 0, ..., 0, 0, 0],\n",
              "       ...,\n",
              "       [0, 0, 0, ..., 0, 0, 0],\n",
              "       [0, 0, 0, ..., 0, 0, 0],\n",
              "       [0, 0, 0, ..., 0, 0, 0]], dtype=uint8)"
            ]
          },
          "metadata": {},
          "execution_count": 25
        }
      ]
    },
    {
      "cell_type": "markdown",
      "source": [
        "---\n",
        ">Normalizing data"
      ],
      "metadata": {
        "id": "z6h852-1Mj5k"
      }
    },
    {
      "cell_type": "code",
      "source": [
        "X = np.asanyarray(X)\n",
        "min2 = (np.min(X,axis = 0)).reshape(1,12)\n",
        "max2 = (np.max(X,axis = 0)).reshape(1,12)\n",
        "X = (X - min2) / (max2 - min2)\n",
        "X = X.astype(np.float32)"
      ],
      "metadata": {
        "id": "U8U2yAlfUSJr"
      },
      "execution_count": null,
      "outputs": []
    },
    {
      "cell_type": "code",
      "source": [
        "X.shape\n"
      ],
      "metadata": {
        "colab": {
          "base_uri": "https://localhost:8080/"
        },
        "id": "m5uI9HZZQRnN",
        "outputId": "3a090060-4d55-4bf2-bc31-c4f771737de3"
      },
      "execution_count": null,
      "outputs": [
        {
          "output_type": "execute_result",
          "data": {
            "text/plain": [
              "(4547, 12)"
            ]
          },
          "metadata": {},
          "execution_count": 27
        }
      ]
    },
    {
      "cell_type": "markdown",
      "source": [
        "---\n",
        ">Concatenate 'city', 'country', 'statezip', 'street' to dataset"
      ],
      "metadata": {
        "id": "JXj3fnaaM7Pv"
      }
    },
    {
      "cell_type": "code",
      "source": [
        "X = np.concatenate([X, data_street_dummy, data_city_dummy, data_statezip_dummy,\n",
        "               data_country_dummy], axis=1)\n",
        "X.shape"
      ],
      "metadata": {
        "colab": {
          "base_uri": "https://localhost:8080/"
        },
        "id": "YqzzYZnNhg-p",
        "outputId": "ab4efd7a-31ea-4e45-e8b6-198f4ec63ccc"
      },
      "execution_count": null,
      "outputs": [
        {
          "output_type": "execute_result",
          "data": {
            "text/plain": [
              "(4547, 4606)"
            ]
          },
          "metadata": {},
          "execution_count": 28
        }
      ]
    },
    {
      "cell_type": "markdown",
      "source": [
        "---\n",
        "> Train & Test Split "
      ],
      "metadata": {
        "id": "o2ue_SwBoMYb"
      }
    },
    {
      "cell_type": "code",
      "source": [
        "train_data, test_data, train_targets, test_targets = train_test_split(X, Y,\n",
        "                              test_size=0.2, shuffle = True, random_state = 7)"
      ],
      "metadata": {
        "id": "0O5S0vXcoQbI"
      },
      "execution_count": null,
      "outputs": []
    },
    {
      "cell_type": "code",
      "source": [
        "train_data.shape"
      ],
      "metadata": {
        "colab": {
          "base_uri": "https://localhost:8080/"
        },
        "id": "cNlsoi5ipSZr",
        "outputId": "dbef8ffd-566e-4910-f4a9-cab3838babe1"
      },
      "execution_count": null,
      "outputs": [
        {
          "output_type": "execute_result",
          "data": {
            "text/plain": [
              "(3637, 4606)"
            ]
          },
          "metadata": {},
          "execution_count": 30
        }
      ]
    },
    {
      "cell_type": "markdown",
      "source": [
        "---\n",
        ">Model"
      ],
      "metadata": {
        "id": "a4g1IO5hpCxv"
      }
    },
    {
      "cell_type": "code",
      "source": [
        "model = Sequential()\n",
        "model.add(Dense(4608,input_dim = 4606, activation='relu'))\n",
        "model.add(Dropout(0.2))\n",
        "model.add(Dense(5000, activation='relu'))\n",
        "model.add(Dropout(0.2))\n",
        "model.add(Dense(2500, activation='relu'))\n",
        "model.add(Dropout(0.2))\n",
        "model.add(Dense(1250, activation='relu'))\n",
        "model.add(Dropout(0.2))\n",
        "model.add(Dense(1,activation='linear'))\n",
        "model.compile(optimizer='adam', loss='mse', metrics=['mae','mse'])\n",
        "start = datetime.datetime.now()\n",
        "trained_Model = model.fit(train_data, train_targets, validation_split=0.15,\n",
        "                    epochs = 20, batch_size = 512)\n",
        "end = datetime.datetime.now()"
      ],
      "metadata": {
        "colab": {
          "base_uri": "https://localhost:8080/"
        },
        "id": "3jyrxW2TO2BZ",
        "outputId": "8b5d0182-3ed5-4c4c-dc7c-64360533c251"
      },
      "execution_count": null,
      "outputs": [
        {
          "output_type": "stream",
          "name": "stdout",
          "text": [
            "Epoch 1/20\n",
            "7/7 [==============================] - 4s 92ms/step - loss: 446782996480.0000 - mae: 549838.0625 - mse: 446782996480.0000 - val_loss: 496458465280.0000 - val_mae: 581694.9375 - val_mse: 496458465280.0000\n",
            "Epoch 2/20\n",
            "7/7 [==============================] - 0s 48ms/step - loss: 430641643520.0000 - mae: 535792.6250 - mse: 430641643520.0000 - val_loss: 426185752576.0000 - val_mae: 520702.7812 - val_mse: 426185752576.0000\n",
            "Epoch 3/20\n",
            "7/7 [==============================] - 0s 48ms/step - loss: 291422633984.0000 - mae: 387796.8438 - mse: 291422633984.0000 - val_loss: 139719786496.0000 - val_mae: 224705.9219 - val_mse: 139719786496.0000\n",
            "Epoch 4/20\n",
            "7/7 [==============================] - 0s 48ms/step - loss: 152489951232.0000 - mae: 300568.4062 - mse: 152489951232.0000 - val_loss: 115845898240.0000 - val_mae: 210748.6562 - val_mse: 115845898240.0000\n",
            "Epoch 5/20\n",
            "7/7 [==============================] - 0s 49ms/step - loss: 116530978816.0000 - mae: 192702.2656 - mse: 116530978816.0000 - val_loss: 136191246336.0000 - val_mae: 204490.0312 - val_mse: 136191246336.0000\n",
            "Epoch 6/20\n",
            "7/7 [==============================] - 0s 48ms/step - loss: 90380566528.0000 - mae: 164510.7500 - mse: 90380566528.0000 - val_loss: 90952712192.0000 - val_mae: 214832.8438 - val_mse: 90952712192.0000\n",
            "Epoch 7/20\n",
            "7/7 [==============================] - 0s 48ms/step - loss: 80334741504.0000 - mae: 204090.8906 - mse: 80334741504.0000 - val_loss: 79901630464.0000 - val_mae: 149583.5000 - val_mse: 79901630464.0000\n",
            "Epoch 8/20\n",
            "7/7 [==============================] - 0s 48ms/step - loss: 63831498752.0000 - mae: 116609.3438 - mse: 63831498752.0000 - val_loss: 71052664832.0000 - val_mae: 138705.4688 - val_mse: 71052664832.0000\n",
            "Epoch 9/20\n",
            "7/7 [==============================] - 0s 48ms/step - loss: 51164999680.0000 - mae: 121223.2188 - mse: 51164999680.0000 - val_loss: 60493770752.0000 - val_mae: 152975.6719 - val_mse: 60493770752.0000\n",
            "Epoch 10/20\n",
            "7/7 [==============================] - 0s 48ms/step - loss: 42648461312.0000 - mae: 106225.3516 - mse: 42648461312.0000 - val_loss: 58193182720.0000 - val_mae: 132680.8438 - val_mse: 58193182720.0000\n",
            "Epoch 11/20\n",
            "7/7 [==============================] - 0s 48ms/step - loss: 36370886656.0000 - mae: 90458.9922 - mse: 36370886656.0000 - val_loss: 52729794560.0000 - val_mae: 132887.9844 - val_mse: 52729794560.0000\n",
            "Epoch 12/20\n",
            "7/7 [==============================] - 0s 49ms/step - loss: 31473041408.0000 - mae: 84967.8672 - mse: 31473041408.0000 - val_loss: 52010979328.0000 - val_mae: 128928.8516 - val_mse: 52010979328.0000\n",
            "Epoch 13/20\n",
            "7/7 [==============================] - 0s 48ms/step - loss: 28948170752.0000 - mae: 78154.3438 - mse: 28948170752.0000 - val_loss: 50376540160.0000 - val_mae: 127527.2812 - val_mse: 50376540160.0000\n",
            "Epoch 14/20\n",
            "7/7 [==============================] - 0s 47ms/step - loss: 24795883520.0000 - mae: 68965.8828 - mse: 24795883520.0000 - val_loss: 50107883520.0000 - val_mae: 127119.5000 - val_mse: 50107883520.0000\n",
            "Epoch 15/20\n",
            "7/7 [==============================] - 0s 49ms/step - loss: 20897568768.0000 - mae: 58066.5352 - mse: 20897568768.0000 - val_loss: 50120777728.0000 - val_mae: 126720.9062 - val_mse: 50120777728.0000\n",
            "Epoch 16/20\n",
            "7/7 [==============================] - 0s 47ms/step - loss: 18463064064.0000 - mae: 51596.9570 - mse: 18463064064.0000 - val_loss: 49754099712.0000 - val_mae: 127616.7891 - val_mse: 49754099712.0000\n",
            "Epoch 17/20\n",
            "7/7 [==============================] - 0s 48ms/step - loss: 16529767424.0000 - mae: 46048.2227 - mse: 16529767424.0000 - val_loss: 50004459520.0000 - val_mae: 127335.8828 - val_mse: 50004459520.0000\n",
            "Epoch 18/20\n",
            "7/7 [==============================] - 0s 49ms/step - loss: 14999841792.0000 - mae: 43204.2539 - mse: 14999841792.0000 - val_loss: 50207371264.0000 - val_mae: 127913.6562 - val_mse: 50207371264.0000\n",
            "Epoch 19/20\n",
            "7/7 [==============================] - 0s 49ms/step - loss: 13429382144.0000 - mae: 39280.6250 - mse: 13429382144.0000 - val_loss: 50431516672.0000 - val_mae: 128163.3281 - val_mse: 50431516672.0000\n",
            "Epoch 20/20\n",
            "7/7 [==============================] - 0s 47ms/step - loss: 12280735744.0000 - mae: 41703.3281 - mse: 12280735744.0000 - val_loss: 50151415808.0000 - val_mae: 128508.1797 - val_mse: 50151415808.0000\n"
          ]
        }
      ]
    },
    {
      "cell_type": "markdown",
      "source": [
        "#Plotting learning Curves"
      ],
      "metadata": {
        "id": "ImQeaAYMNpRr"
      }
    },
    {
      "cell_type": "code",
      "source": [
        "history = trained_Model.history\n",
        "loss = history['loss']\n",
        "val_loss = history['val_loss']\n",
        "mae = history['mae']\n",
        "val_mae = history['val_mae']\n",
        "mse = history['mse']\n",
        "val_mse = history['val_mse']\n",
        "\n",
        "# Plotting Loss & MAE Curves \n",
        "plt.xlabel('Epochs')\n",
        "plt.ylabel('mae')\n",
        "plt.plot(mae)\n",
        "plt.plot(val_mae)\n",
        "plt.legend(['mae','val_mae'])\n",
        "plt.grid()\n",
        "plt.figure()\n",
        "plt.xlabel('Epochs')\n",
        "plt.ylabel('mse')\n",
        "plt.plot(mse)\n",
        "plt.plot(val_mse)\n",
        "plt.legend(['mse','val_mse'])\n",
        "plt.grid()"
      ],
      "metadata": {
        "colab": {
          "base_uri": "https://localhost:8080/",
          "height": 553
        },
        "id": "4IaMREGSsXcw",
        "outputId": "3cb7b4c6-dbb0-4f6c-dc9e-644e1b3f7596"
      },
      "execution_count": null,
      "outputs": [
        {
          "output_type": "display_data",
          "data": {
            "text/plain": [
              "<Figure size 432x288 with 1 Axes>"
            ],
            "image/png": "[encoded data removed]"
          },
          "metadata": {
            "needs_background": "light"
          }
        },
        {
          "output_type": "display_data",
          "data": {
            "text/plain": [
              "<Figure size 432x288 with 1 Axes>"
            ],
            "image/png": "[encoded data removed]"
          },
          "metadata": {
            "needs_background": "light"
          }
        }
      ]
    },
    {
      "cell_type": "markdown",
      "source": [
        "#Evaluate Model"
      ],
      "metadata": {
        "id": "loEu0BH0N6IZ"
      }
    },
    {
      "cell_type": "code",
      "source": [
        "# Determining Traning Time & Test Loss & Test mae\n",
        "Training_Time = end - start\n",
        "print ('Training_Time:', Training_Time)\n",
        "test_loss, test_mae, test_mse = model.evaluate(test_data, test_targets, verbose=0)\n",
        "y_pred = model.predict(test_data)\n",
        "y_target = test_targets\n",
        "diff = y_target - y_pred\n",
        "result = np.concatenate((y_target, y_pred, diff), axis=1)\n",
        "result = np.round(result, 1)\n",
        "df = pd.DataFrame(result, columns=['True Price', 'Predicted Price', 'Difference'])\n",
        "\n",
        "print('Test_loss:', test_loss)\n",
        "print('Test_mse:', test_mae)"
      ],
      "metadata": {
        "colab": {
          "base_uri": "https://localhost:8080/"
        },
        "id": "N2_MB-OpwAk7",
        "outputId": "680fe13b-72ce-485d-a7f3-f81914cb5744"
      },
      "execution_count": null,
      "outputs": [
        {
          "output_type": "stream",
          "name": "stdout",
          "text": [
            "Training_Time: 0:00:10.936812\n",
            "Test_loss: 28931065856.0\n",
            "Test_mse: 101302.1015625\n"
          ]
        }
      ]
    },
    {
      "cell_type": "markdown",
      "source": [
        "#Display true price, predicted price and their difference (for test dataset)"
      ],
      "metadata": {
        "id": "Li2kFroYOVpq"
      }
    },
    {
      "cell_type": "code",
      "source": [
        "df"
      ],
      "metadata": {
        "colab": {
          "base_uri": "https://localhost:8080/",
          "height": 424
        },
        "id": "iirjalICxAMX",
        "outputId": "82db2480-33dd-4f8e-ccb6-b04ac88113cf"
      },
      "execution_count": null,
      "outputs": [
        {
          "output_type": "execute_result",
          "data": {
            "text/plain": [
              "     True Price  Predicted Price  Difference\n",
              "0      413000.0         318488.9     94511.1\n",
              "1      371500.0         296400.2     75099.8\n",
              "2      660000.0         677062.4    -17062.4\n",
              "3      424000.0         418166.1      5833.9\n",
              "4      406000.0         404296.4      1703.6\n",
              "..          ...              ...         ...\n",
              "905    570000.0         503347.0     66653.0\n",
              "906    590000.0         528568.8     61431.2\n",
              "907    255000.0         246525.2      8474.8\n",
              "908    805000.0        1269826.6   -464826.6\n",
              "909    210000.0         237150.2    -27150.2\n",
              "\n",
              "[910 rows x 3 columns]"
            ],
            "text/html": [
              "\n",
              "  <div id=\"df-39311494-f0d3-433f-8577-1be90aecd381\">\n",
              "    <div class=\"colab-df-container\">\n",
              "      <div>\n",
              "<style scoped>\n",
              "    .dataframe tbody tr th:only-of-type {\n",
              "        vertical-align: middle;\n",
              "    }\n",
              "\n",
              "    .dataframe tbody tr th {\n",
              "        vertical-align: top;\n",
              "    }\n",
              "\n",
              "    .dataframe thead th {\n",
              "        text-align: right;\n",
              "    }\n",
              "</style>\n",
              "<table border=\"1\" class=\"dataframe\">\n",
              "  <thead>\n",
              "    <tr style=\"text-align: right;\">\n",
              "      <th></th>\n",
              "      <th>True Price</th>\n",
              "      <th>Predicted Price</th>\n",
              "      <th>Difference</th>\n",
              "    </tr>\n",
              "  </thead>\n",
              "  <tbody>\n",
              "    <tr>\n",
              "      <th>0</th>\n",
              "      <td>413000.0</td>\n",
              "      <td>318488.9</td>\n",
              "      <td>94511.1</td>\n",
              "    </tr>\n",
              "    <tr>\n",
              "      <th>1</th>\n",
              "      <td>371500.0</td>\n",
              "      <td>296400.2</td>\n",
              "      <td>75099.8</td>\n",
              "    </tr>\n",
              "    <tr>\n",
              "      <th>2</th>\n",
              "      <td>660000.0</td>\n",
              "      <td>677062.4</td>\n",
              "      <td>-17062.4</td>\n",
              "    </tr>\n",
              "    <tr>\n",
              "      <th>3</th>\n",
              "      <td>424000.0</td>\n",
              "      <td>418166.1</td>\n",
              "      <td>5833.9</td>\n",
              "    </tr>\n",
              "    <tr>\n",
              "      <th>4</th>\n",
              "      <td>406000.0</td>\n",
              "      <td>404296.4</td>\n",
              "      <td>1703.6</td>\n",
              "    </tr>\n",
              "    <tr>\n",
              "      <th>...</th>\n",
              "      <td>...</td>\n",
              "      <td>...</td>\n",
              "      <td>...</td>\n",
              "    </tr>\n",
              "    <tr>\n",
              "      <th>905</th>\n",
              "      <td>570000.0</td>\n",
              "      <td>503347.0</td>\n",
              "      <td>66653.0</td>\n",
              "    </tr>\n",
              "    <tr>\n",
              "      <th>906</th>\n",
              "      <td>590000.0</td>\n",
              "      <td>528568.8</td>\n",
              "      <td>61431.2</td>\n",
              "    </tr>\n",
              "    <tr>\n",
              "      <th>907</th>\n",
              "      <td>255000.0</td>\n",
              "      <td>246525.2</td>\n",
              "      <td>8474.8</td>\n",
              "    </tr>\n",
              "    <tr>\n",
              "      <th>908</th>\n",
              "      <td>805000.0</td>\n",
              "      <td>1269826.6</td>\n",
              "      <td>-464826.6</td>\n",
              "    </tr>\n",
              "    <tr>\n",
              "      <th>909</th>\n",
              "      <td>210000.0</td>\n",
              "      <td>237150.2</td>\n",
              "      <td>-27150.2</td>\n",
              "    </tr>\n",
              "  </tbody>\n",
              "</table>\n",
              "<p>910 rows × 3 columns</p>\n",
              "</div>\n",
              "      <button class=\"colab-df-convert\" onclick=\"convertToInteractive('df-39311494-f0d3-433f-8577-1be90aecd381')\"\n",
              "              title=\"Convert this dataframe to an interactive table.\"\n",
              "              style=\"display:none;\">\n",
              "        \n",
              "  <svg xmlns=\"http://www.w3.org/2000/svg\" height=\"24px\"viewBox=\"0 0 24 24\"\n",
              "       width=\"24px\">\n",
              "    <path d=\"M0 0h24v24H0V0z\" fill=\"none\"/>\n",
              "    <path d=\"M18.56 5.44l.94 2.06.94-2.06 2.06-.94-2.06-.94-.94-2.06-.94 2.06-2.06.94zm-11 1L8.5 8.5l.94-2.06 2.06-.94-2.06-.94L8.5 2.5l-.94 2.06-2.06.94zm10 10l.94 2.06.94-2.06 2.06-.94-2.06-.94-.94-2.06-.94 2.06-2.06.94z\"/><path d=\"M17.41 7.96l-1.37-1.37c-.4-.4-.92-.59-1.43-.59-.52 0-1.04.2-1.43.59L10.3 9.45l-7.72 7.72c-.78.78-.78 2.05 0 2.83L4 21.41c.39.39.9.59 1.41.59.51 0 1.02-.2 1.41-.59l7.78-7.78 2.81-2.81c.8-.78.8-2.07 0-2.86zM5.41 20L4 18.59l7.72-7.72 1.47 1.35L5.41 20z\"/>\n",
              "  </svg>\n",
              "      </button>\n",
              "      \n",
              "  <style>\n",
              "    .colab-df-container {\n",
              "      display:flex;\n",
              "      flex-wrap:wrap;\n",
              "      gap: 12px;\n",
              "    }\n",
              "\n",
              "    .colab-df-convert {\n",
              "      background-color: #E8F0FE;\n",
              "      border: none;\n",
              "      border-radius: 50%;\n",
              "      cursor: pointer;\n",
              "      display: none;\n",
              "      fill: #1967D2;\n",
              "      height: 32px;\n",
              "      padding: 0 0 0 0;\n",
              "      width: 32px;\n",
              "    }\n",
              "\n",
              "    .colab-df-convert:hover {\n",
              "      background-color: #E2EBFA;\n",
              "      box-shadow: 0px 1px 2px rgba(60, 64, 67, 0.3), 0px 1px 3px 1px rgba(60, 64, 67, 0.15);\n",
              "      fill: #174EA6;\n",
              "    }\n",
              "\n",
              "    [theme=dark] .colab-df-convert {\n",
              "      background-color: #3B4455;\n",
              "      fill: #D2E3FC;\n",
              "    }\n",
              "\n",
              "    [theme=dark] .colab-df-convert:hover {\n",
              "      background-color: #434B5C;\n",
              "      box-shadow: 0px 1px 3px 1px rgba(0, 0, 0, 0.15);\n",
              "      filter: drop-shadow(0px 1px 2px rgba(0, 0, 0, 0.3));\n",
              "      fill: #FFFFFF;\n",
              "    }\n",
              "  </style>\n",
              "\n",
              "      <script>\n",
              "        const buttonEl =\n",
              "          document.querySelector('#df-39311494-f0d3-433f-8577-1be90aecd381 button.colab-df-convert');\n",
              "        buttonEl.style.display =\n",
              "          google.colab.kernel.accessAllowed ? 'block' : 'none';\n",
              "\n",
              "        async function convertToInteractive(key) {\n",
              "          const element = document.querySelector('#df-39311494-f0d3-433f-8577-1be90aecd381');\n",
              "          const dataTable =\n",
              "            await google.colab.kernel.invokeFunction('convertToInteractive',\n",
              "                                                     [key], {});\n",
              "          if (!dataTable) return;\n",
              "\n",
              "          const docLinkHtml = 'Like what you see? Visit the ' +\n",
              "            '<a target=\"_blank\" href=https://colab.research.google.com/notebooks/data_table.ipynb>data table notebook</a>'\n",
              "            + ' to learn more about interactive tables.';\n",
              "          element.innerHTML = '';\n",
              "          dataTable['output_type'] = 'display_data';\n",
              "          await google.colab.output.renderOutput(dataTable, element);\n",
              "          const docLink = document.createElement('div');\n",
              "          docLink.innerHTML = docLinkHtml;\n",
              "          element.appendChild(docLink);\n",
              "        }\n",
              "      </script>\n",
              "    </div>\n",
              "  </div>\n",
              "  "
            ]
          },
          "metadata": {},
          "execution_count": 34
        }
      ]
    },
    {
      "cell_type": "code",
      "source": [
        "new = np.arange(1,len(y_target)+1)\n",
        "fig, axs = plt.subplots(1, 1, figsize=(10,5), constrained_layout=True)\n",
        "plt.plot(new,y_target)\n",
        "plt.plot(new,y_pred)\n",
        "plt.legend(['target','predicted'])\n",
        "plt.grid()\n",
        "plt.xlabel('test sample')\n",
        "plt.ylabel('cost')"
      ],
      "metadata": {
        "colab": {
          "base_uri": "https://localhost:8080/",
          "height": 402
        },
        "id": "IpTonoM-ZXJb",
        "outputId": "e9c3f593-8e72-4247-eb61-872de8f60282"
      },
      "execution_count": null,
      "outputs": [
        {
          "output_type": "execute_result",
          "data": {
            "text/plain": [
              "Text(0, 0.5, 'cost')"
            ]
          },
          "metadata": {},
          "execution_count": 35
        },
        {
          "output_type": "display_data",
          "data": {
            "text/plain": [
              "<Figure size 720x360 with 1 Axes>"
            ],
            "image/png": "[encoded data removed]"
          },
          "metadata": {
            "needs_background": "light"
          }
        }
      ]
    },
    {
      "cell_type": "markdown",
      "source": [
        "---\n",
        "> Part D of Question 3"
      ],
      "metadata": {
        "id": "aFBrounZ5WVB"
      }
    },
    {
      "cell_type": "code",
      "source": [
        "from seaborn import heatmap\n",
        "labels = ['price','bedrooms','bathrooms','sqft_living','sqft_lot','floors',\n",
        "            'waterfront','view','condition','sqft_above','sqft_basement','yr_built',\n",
        "            'yr_renovated','street','city','statezip','country']\n",
        "correlation = data.loc[:,labels].corr()\n",
        "plt.subplots(figsize=(10,8))\n",
        "heatmap(correlation, annot=True)"
      ],
      "metadata": {
        "colab": {
          "base_uri": "https://localhost:8080/",
          "height": 568
        },
        "id": "wT5UkF05J6Mw",
        "outputId": "0be49847-f55c-4a5f-b06f-0faa3e07359b"
      },
      "execution_count": 7,
      "outputs": [
        {
          "output_type": "execute_result",
          "data": {
            "text/plain": [
              "<matplotlib.axes._subplots.AxesSubplot at 0x7f69ace1ce50>"
            ]
          },
          "metadata": {},
          "execution_count": 7
        },
        {
          "output_type": "display_data",
          "data": {
            "text/plain": [
              "<Figure size 720x576 with 2 Axes>"
            ],
            "image/png": "[encoded data removed]"
          },
          "metadata": {
            "needs_background": "light"
          }
        }
      ]
    },
    {
      "cell_type": "markdown",
      "source": [
        "---\n",
        "> Part V of Question 3"
      ],
      "metadata": {
        "id": "jpTrfkJDP8zd"
      }
    },
    {
      "cell_type": "markdown",
      "source": [
        "---\n",
        "> Linear Regression"
      ],
      "metadata": {
        "id": "HuBBiir9Rspx"
      }
    },
    {
      "cell_type": "code",
      "source": [
        "from sklearn import preprocessing\n",
        "from sklearn.preprocessing import StandardScaler\n",
        "from sklearn.preprocessing import LabelEncoder\n",
        "from sklearn.linear_model import LinearRegression"
      ],
      "metadata": {
        "id": "I1s6rHMO9oii"
      },
      "execution_count": 18,
      "outputs": []
    },
    {
      "cell_type": "code",
      "source": [
        "labels_new=[ 'bedrooms',\n",
        "            'bathrooms',\n",
        "            'sqft_living',\n",
        "            'sqft_lot',\n",
        "            'floors',\n",
        "            'waterfron',\n",
        "            'view',\n",
        "            'condition',\n",
        "            'sqft_above',\n",
        "            'sqft_basement',\n",
        "            'yr_built',\n",
        "            'yr_renovated',\n",
        "            'street',\n",
        "            'city',\n",
        "            'statezip',\n",
        "            'country']"
      ],
      "metadata": {
        "id": "25f13jLu-Dmb"
      },
      "execution_count": 13,
      "outputs": []
    },
    {
      "cell_type": "code",
      "source": [
        "X_new = data.drop(['price'], axis = 1)\n",
        "X_new = X_new.drop(['date'], axis = 1)\n",
        "X_new = np.asanyarray(X_new)"
      ],
      "metadata": {
        "id": "wB103q7256xQ"
      },
      "execution_count": 16,
      "outputs": []
    },
    {
      "cell_type": "code",
      "source": [
        "label_e = LabelEncoder()\n",
        "X_new[:, 15] = label_e.fit_transform(X_new[:, 15])\n",
        "X_new[:, 14] = label_e.fit_transform(X_new[:, 14])\n",
        "X_new[:, 13] = label_e.fit_transform(X_new[:, 13])\n",
        "X_new[:, 12] = label_e.fit_transform(X_new[:, 12])\n",
        "normal = StandardScaler()\n",
        "normal = normal.fit(X_new)\n",
        "X_new[:] = normal.transform(X_new)\n",
        "X_new= pd.DataFrame(data=X_new, index=None, columns=labels_new)\n",
        "X_new"
      ],
      "metadata": {
        "id": "KEINiAl2_0xr",
        "colab": {
          "base_uri": "https://localhost:8080/",
          "height": 423
        },
        "outputId": "9390c16a-22de-4497-a50c-5c7cfa992dc1"
      },
      "execution_count": 17,
      "outputs": [
        {
          "output_type": "execute_result",
          "data": {
            "text/plain": [
              "      bedrooms bathrooms sqft_living  sqft_lot    floors waterfron      view  \\\n",
              "0    -0.439339 -0.846062    -0.82888 -0.192493 -0.022085 -0.081496 -0.306396   \n",
              "1     1.777836   0.44381    1.589372 -0.160859  0.907723 -0.081496  4.921312   \n",
              "2    -0.439339 -0.201126   -0.211231 -0.080331 -0.951892 -0.081496 -0.306396   \n",
              "3    -0.439339  0.121342   -0.137951 -0.189213 -0.951892 -0.081496 -0.306396   \n",
              "4     0.669248   0.44381   -0.200762 -0.120554 -0.951892 -0.081496 -0.306396   \n",
              "...        ...       ...         ...       ...       ...       ...       ...   \n",
              "4542 -0.439339 -0.523594   -0.650913 -0.235634 -0.951892 -0.081496 -0.306396   \n",
              "4543 -0.439339   0.44381   -0.703256 -0.201916  0.907723 -0.081496 -0.306396   \n",
              "4544 -0.439339   0.44381    0.919381 -0.217454  0.907723 -0.081496 -0.306396   \n",
              "4545  0.669248 -0.201126   -0.043733 -0.228129 -0.951892 -0.081496 -0.306396   \n",
              "4546 -0.439339   0.44381    -0.67185 -0.187211  0.907723 -0.081496 -0.306396   \n",
              "\n",
              "     condition sqft_above sqft_basement  yr_built yr_renovated    street  \\\n",
              "0    -0.665735  -0.564255     -0.671541 -0.530353     1.222491 -0.567167   \n",
              "1     2.296199   1.814677      -0.06554 -1.672646    -0.825124  1.246883   \n",
              "2     0.815232   0.127158     -0.671541 -0.160788    -0.825124  0.020232   \n",
              "3     0.815232  -0.962697      1.492748 -0.261578    -0.825124   1.52704   \n",
              "4     0.815232  -0.798633       1.05989  0.175181     1.209215  1.595918   \n",
              "...        ...        ...           ...       ...          ...       ...   \n",
              "4542  0.815232  -0.365034     -0.671541  -0.56395     1.195939  0.900171   \n",
              "4543 -0.665735  -0.423629     -0.671541  0.410359     1.226576 -0.999784   \n",
              "4544 -0.665735   1.392798     -0.671541  1.283877    -0.825124  1.349814   \n",
              "4545 -0.665735  -0.880665      1.536034  0.107987    -0.825124  0.938866   \n",
              "4546  0.815232  -0.388472     -0.671541  0.645537    -0.825124 -0.573358   \n",
              "\n",
              "          city  statezip country  \n",
              "0     0.859962  1.113002     0.0  \n",
              "1     0.776442  0.921447     0.0  \n",
              "2    -0.643401 -0.610988     0.0  \n",
              "3    -1.896203 -1.520871     0.0  \n",
              "4     0.442361 -0.371545     0.0  \n",
              "...        ...       ...     ...  \n",
              "4542  0.776442  1.113002     0.0  \n",
              "4543 -1.896203  -1.56876     0.0  \n",
              "4544  0.525881 -0.084213     0.0  \n",
              "4545  0.776442  1.543999     0.0  \n",
              "4546 -1.395082 -0.610988     0.0  \n",
              "\n",
              "[4547 rows x 16 columns]"
            ],
            "text/html": [
              "\n",
              "  <div id=\"df-e528a2cb-4c53-47b8-b941-708cb730466a\">\n",
              "    <div class=\"colab-df-container\">\n",
              "      <div>\n",
              "<style scoped>\n",
              "    .dataframe tbody tr th:only-of-type {\n",
              "        vertical-align: middle;\n",
              "    }\n",
              "\n",
              "    .dataframe tbody tr th {\n",
              "        vertical-align: top;\n",
              "    }\n",
              "\n",
              "    .dataframe thead th {\n",
              "        text-align: right;\n",
              "    }\n",
              "</style>\n",
              "<table border=\"1\" class=\"dataframe\">\n",
              "  <thead>\n",
              "    <tr style=\"text-align: right;\">\n",
              "      <th></th>\n",
              "      <th>bedrooms</th>\n",
              "      <th>bathrooms</th>\n",
              "      <th>sqft_living</th>\n",
              "      <th>sqft_lot</th>\n",
              "      <th>floors</th>\n",
              "      <th>waterfron</th>\n",
              "      <th>view</th>\n",
              "      <th>condition</th>\n",
              "      <th>sqft_above</th>\n",
              "      <th>sqft_basement</th>\n",
              "      <th>yr_built</th>\n",
              "      <th>yr_renovated</th>\n",
              "      <th>street</th>\n",
              "      <th>city</th>\n",
              "      <th>statezip</th>\n",
              "      <th>country</th>\n",
              "    </tr>\n",
              "  </thead>\n",
              "  <tbody>\n",
              "    <tr>\n",
              "      <th>0</th>\n",
              "      <td>-0.439339</td>\n",
              "      <td>-0.846062</td>\n",
              "      <td>-0.82888</td>\n",
              "      <td>-0.192493</td>\n",
              "      <td>-0.022085</td>\n",
              "      <td>-0.081496</td>\n",
              "      <td>-0.306396</td>\n",
              "      <td>-0.665735</td>\n",
              "      <td>-0.564255</td>\n",
              "      <td>-0.671541</td>\n",
              "      <td>-0.530353</td>\n",
              "      <td>1.222491</td>\n",
              "      <td>-0.567167</td>\n",
              "      <td>0.859962</td>\n",
              "      <td>1.113002</td>\n",
              "      <td>0.0</td>\n",
              "    </tr>\n",
              "    <tr>\n",
              "      <th>1</th>\n",
              "      <td>1.777836</td>\n",
              "      <td>0.44381</td>\n",
              "      <td>1.589372</td>\n",
              "      <td>-0.160859</td>\n",
              "      <td>0.907723</td>\n",
              "      <td>-0.081496</td>\n",
              "      <td>4.921312</td>\n",
              "      <td>2.296199</td>\n",
              "      <td>1.814677</td>\n",
              "      <td>-0.06554</td>\n",
              "      <td>-1.672646</td>\n",
              "      <td>-0.825124</td>\n",
              "      <td>1.246883</td>\n",
              "      <td>0.776442</td>\n",
              "      <td>0.921447</td>\n",
              "      <td>0.0</td>\n",
              "    </tr>\n",
              "    <tr>\n",
              "      <th>2</th>\n",
              "      <td>-0.439339</td>\n",
              "      <td>-0.201126</td>\n",
              "      <td>-0.211231</td>\n",
              "      <td>-0.080331</td>\n",
              "      <td>-0.951892</td>\n",
              "      <td>-0.081496</td>\n",
              "      <td>-0.306396</td>\n",
              "      <td>0.815232</td>\n",
              "      <td>0.127158</td>\n",
              "      <td>-0.671541</td>\n",
              "      <td>-0.160788</td>\n",
              "      <td>-0.825124</td>\n",
              "      <td>0.020232</td>\n",
              "      <td>-0.643401</td>\n",
              "      <td>-0.610988</td>\n",
              "      <td>0.0</td>\n",
              "    </tr>\n",
              "    <tr>\n",
              "      <th>3</th>\n",
              "      <td>-0.439339</td>\n",
              "      <td>0.121342</td>\n",
              "      <td>-0.137951</td>\n",
              "      <td>-0.189213</td>\n",
              "      <td>-0.951892</td>\n",
              "      <td>-0.081496</td>\n",
              "      <td>-0.306396</td>\n",
              "      <td>0.815232</td>\n",
              "      <td>-0.962697</td>\n",
              "      <td>1.492748</td>\n",
              "      <td>-0.261578</td>\n",
              "      <td>-0.825124</td>\n",
              "      <td>1.52704</td>\n",
              "      <td>-1.896203</td>\n",
              "      <td>-1.520871</td>\n",
              "      <td>0.0</td>\n",
              "    </tr>\n",
              "    <tr>\n",
              "      <th>4</th>\n",
              "      <td>0.669248</td>\n",
              "      <td>0.44381</td>\n",
              "      <td>-0.200762</td>\n",
              "      <td>-0.120554</td>\n",
              "      <td>-0.951892</td>\n",
              "      <td>-0.081496</td>\n",
              "      <td>-0.306396</td>\n",
              "      <td>0.815232</td>\n",
              "      <td>-0.798633</td>\n",
              "      <td>1.05989</td>\n",
              "      <td>0.175181</td>\n",
              "      <td>1.209215</td>\n",
              "      <td>1.595918</td>\n",
              "      <td>0.442361</td>\n",
              "      <td>-0.371545</td>\n",
              "      <td>0.0</td>\n",
              "    </tr>\n",
              "    <tr>\n",
              "      <th>...</th>\n",
              "      <td>...</td>\n",
              "      <td>...</td>\n",
              "      <td>...</td>\n",
              "      <td>...</td>\n",
              "      <td>...</td>\n",
              "      <td>...</td>\n",
              "      <td>...</td>\n",
              "      <td>...</td>\n",
              "      <td>...</td>\n",
              "      <td>...</td>\n",
              "      <td>...</td>\n",
              "      <td>...</td>\n",
              "      <td>...</td>\n",
              "      <td>...</td>\n",
              "      <td>...</td>\n",
              "      <td>...</td>\n",
              "    </tr>\n",
              "    <tr>\n",
              "      <th>4542</th>\n",
              "      <td>-0.439339</td>\n",
              "      <td>-0.523594</td>\n",
              "      <td>-0.650913</td>\n",
              "      <td>-0.235634</td>\n",
              "      <td>-0.951892</td>\n",
              "      <td>-0.081496</td>\n",
              "      <td>-0.306396</td>\n",
              "      <td>0.815232</td>\n",
              "      <td>-0.365034</td>\n",
              "      <td>-0.671541</td>\n",
              "      <td>-0.56395</td>\n",
              "      <td>1.195939</td>\n",
              "      <td>0.900171</td>\n",
              "      <td>0.776442</td>\n",
              "      <td>1.113002</td>\n",
              "      <td>0.0</td>\n",
              "    </tr>\n",
              "    <tr>\n",
              "      <th>4543</th>\n",
              "      <td>-0.439339</td>\n",
              "      <td>0.44381</td>\n",
              "      <td>-0.703256</td>\n",
              "      <td>-0.201916</td>\n",
              "      <td>0.907723</td>\n",
              "      <td>-0.081496</td>\n",
              "      <td>-0.306396</td>\n",
              "      <td>-0.665735</td>\n",
              "      <td>-0.423629</td>\n",
              "      <td>-0.671541</td>\n",
              "      <td>0.410359</td>\n",
              "      <td>1.226576</td>\n",
              "      <td>-0.999784</td>\n",
              "      <td>-1.896203</td>\n",
              "      <td>-1.56876</td>\n",
              "      <td>0.0</td>\n",
              "    </tr>\n",
              "    <tr>\n",
              "      <th>4544</th>\n",
              "      <td>-0.439339</td>\n",
              "      <td>0.44381</td>\n",
              "      <td>0.919381</td>\n",
              "      <td>-0.217454</td>\n",
              "      <td>0.907723</td>\n",
              "      <td>-0.081496</td>\n",
              "      <td>-0.306396</td>\n",
              "      <td>-0.665735</td>\n",
              "      <td>1.392798</td>\n",
              "      <td>-0.671541</td>\n",
              "      <td>1.283877</td>\n",
              "      <td>-0.825124</td>\n",
              "      <td>1.349814</td>\n",
              "      <td>0.525881</td>\n",
              "      <td>-0.084213</td>\n",
              "      <td>0.0</td>\n",
              "    </tr>\n",
              "    <tr>\n",
              "      <th>4545</th>\n",
              "      <td>0.669248</td>\n",
              "      <td>-0.201126</td>\n",
              "      <td>-0.043733</td>\n",
              "      <td>-0.228129</td>\n",
              "      <td>-0.951892</td>\n",
              "      <td>-0.081496</td>\n",
              "      <td>-0.306396</td>\n",
              "      <td>-0.665735</td>\n",
              "      <td>-0.880665</td>\n",
              "      <td>1.536034</td>\n",
              "      <td>0.107987</td>\n",
              "      <td>-0.825124</td>\n",
              "      <td>0.938866</td>\n",
              "      <td>0.776442</td>\n",
              "      <td>1.543999</td>\n",
              "      <td>0.0</td>\n",
              "    </tr>\n",
              "    <tr>\n",
              "      <th>4546</th>\n",
              "      <td>-0.439339</td>\n",
              "      <td>0.44381</td>\n",
              "      <td>-0.67185</td>\n",
              "      <td>-0.187211</td>\n",
              "      <td>0.907723</td>\n",
              "      <td>-0.081496</td>\n",
              "      <td>-0.306396</td>\n",
              "      <td>0.815232</td>\n",
              "      <td>-0.388472</td>\n",
              "      <td>-0.671541</td>\n",
              "      <td>0.645537</td>\n",
              "      <td>-0.825124</td>\n",
              "      <td>-0.573358</td>\n",
              "      <td>-1.395082</td>\n",
              "      <td>-0.610988</td>\n",
              "      <td>0.0</td>\n",
              "    </tr>\n",
              "  </tbody>\n",
              "</table>\n",
              "<p>4547 rows × 16 columns</p>\n",
              "</div>\n",
              "      <button class=\"colab-df-convert\" onclick=\"convertToInteractive('df-e528a2cb-4c53-47b8-b941-708cb730466a')\"\n",
              "              title=\"Convert this dataframe to an interactive table.\"\n",
              "              style=\"display:none;\">\n",
              "        \n",
              "  <svg xmlns=\"http://www.w3.org/2000/svg\" height=\"24px\"viewBox=\"0 0 24 24\"\n",
              "       width=\"24px\">\n",
              "    <path d=\"M0 0h24v24H0V0z\" fill=\"none\"/>\n",
              "    <path d=\"M18.56 5.44l.94 2.06.94-2.06 2.06-.94-2.06-.94-.94-2.06-.94 2.06-2.06.94zm-11 1L8.5 8.5l.94-2.06 2.06-.94-2.06-.94L8.5 2.5l-.94 2.06-2.06.94zm10 10l.94 2.06.94-2.06 2.06-.94-2.06-.94-.94-2.06-.94 2.06-2.06.94z\"/><path d=\"M17.41 7.96l-1.37-1.37c-.4-.4-.92-.59-1.43-.59-.52 0-1.04.2-1.43.59L10.3 9.45l-7.72 7.72c-.78.78-.78 2.05 0 2.83L4 21.41c.39.39.9.59 1.41.59.51 0 1.02-.2 1.41-.59l7.78-7.78 2.81-2.81c.8-.78.8-2.07 0-2.86zM5.41 20L4 18.59l7.72-7.72 1.47 1.35L5.41 20z\"/>\n",
              "  </svg>\n",
              "      </button>\n",
              "      \n",
              "  <style>\n",
              "    .colab-df-container {\n",
              "      display:flex;\n",
              "      flex-wrap:wrap;\n",
              "      gap: 12px;\n",
              "    }\n",
              "\n",
              "    .colab-df-convert {\n",
              "      background-color: #E8F0FE;\n",
              "      border: none;\n",
              "      border-radius: 50%;\n",
              "      cursor: pointer;\n",
              "      display: none;\n",
              "      fill: #1967D2;\n",
              "      height: 32px;\n",
              "      padding: 0 0 0 0;\n",
              "      width: 32px;\n",
              "    }\n",
              "\n",
              "    .colab-df-convert:hover {\n",
              "      background-color: #E2EBFA;\n",
              "      box-shadow: 0px 1px 2px rgba(60, 64, 67, 0.3), 0px 1px 3px 1px rgba(60, 64, 67, 0.15);\n",
              "      fill: #174EA6;\n",
              "    }\n",
              "\n",
              "    [theme=dark] .colab-df-convert {\n",
              "      background-color: #3B4455;\n",
              "      fill: #D2E3FC;\n",
              "    }\n",
              "\n",
              "    [theme=dark] .colab-df-convert:hover {\n",
              "      background-color: #434B5C;\n",
              "      box-shadow: 0px 1px 3px 1px rgba(0, 0, 0, 0.15);\n",
              "      filter: drop-shadow(0px 1px 2px rgba(0, 0, 0, 0.3));\n",
              "      fill: #FFFFFF;\n",
              "    }\n",
              "  </style>\n",
              "\n",
              "      <script>\n",
              "        const buttonEl =\n",
              "          document.querySelector('#df-e528a2cb-4c53-47b8-b941-708cb730466a button.colab-df-convert');\n",
              "        buttonEl.style.display =\n",
              "          google.colab.kernel.accessAllowed ? 'block' : 'none';\n",
              "\n",
              "        async function convertToInteractive(key) {\n",
              "          const element = document.querySelector('#df-e528a2cb-4c53-47b8-b941-708cb730466a');\n",
              "          const dataTable =\n",
              "            await google.colab.kernel.invokeFunction('convertToInteractive',\n",
              "                                                     [key], {});\n",
              "          if (!dataTable) return;\n",
              "\n",
              "          const docLinkHtml = 'Like what you see? Visit the ' +\n",
              "            '<a target=\"_blank\" href=https://colab.research.google.com/notebooks/data_table.ipynb>data table notebook</a>'\n",
              "            + ' to learn more about interactive tables.';\n",
              "          element.innerHTML = '';\n",
              "          dataTable['output_type'] = 'display_data';\n",
              "          await google.colab.output.renderOutput(dataTable, element);\n",
              "          const docLink = document.createElement('div');\n",
              "          docLink.innerHTML = docLinkHtml;\n",
              "          element.appendChild(docLink);\n",
              "        }\n",
              "      </script>\n",
              "    </div>\n",
              "  </div>\n",
              "  "
            ]
          },
          "metadata": {},
          "execution_count": 17
        }
      ]
    },
    {
      "cell_type": "code",
      "source": [
        "L_Regression = LinearRegression()\n",
        "L_Regression.fit(X_new,Y)\n",
        "s = L_Regression.coef_\n",
        "s = s.reshape(-1,1)\n",
        "\n",
        "normal = StandardScaler()\n",
        "normal = normal.fit(s)\n",
        "s[:] = normal.transform(s)\n",
        "s = s.reshape(16)"
      ],
      "metadata": {
        "id": "57aEgzZlC0qp"
      },
      "execution_count": 20,
      "outputs": []
    },
    {
      "cell_type": "code",
      "source": [
        "plt.subplots(figsize=(20,10))\n",
        "for i in range(16):\n",
        "    print(i,'-', labels_new[i], \" importance=\", s[i])\n",
        "    plt.bar(labels_new[i], s[i]) "
      ],
      "metadata": {
        "colab": {
          "base_uri": "https://localhost:8080/",
          "height": 870
        },
        "id": "vKrIDUF6M0bo",
        "outputId": "88c904db-b4a2-4dd9-bfed-cf01e14a071e"
      },
      "execution_count": 27,
      "outputs": [
        {
          "output_type": "stream",
          "name": "stdout",
          "text": [
            "0 - bedrooms  importance= -1.3081978820313023\n",
            "1 - bathrooms  importance= 0.38215681706378296\n",
            "2 - sqft_living  importance= 2.0780934941673124\n",
            "3 - sqft_lot  importance= -0.9089984690192799\n",
            "4 - floors  importance= 0.1156514436239792\n",
            "5 - waterfron  importance= 0.32780542681068325\n",
            "6 - view  importance= 0.42947031155107673\n",
            "7 - condition  importance= -0.014298699772895636\n",
            "8 - sqft_above  importance= 1.8604754755270172\n",
            "9 - sqft_basement  importance= 0.5530711865541977\n",
            "10 - yr_built  importance= -1.892686923180659\n",
            "11 - yr_renovated  importance= -0.23979762668014043\n",
            "12 - street  importance= -0.30324959745617497\n",
            "13 - city  importance= 0.2910159512492467\n",
            "14 - statezip  importance= -0.9763900667269162\n",
            "15 - country  importance= -0.39412084167992895\n"
          ]
        },
        {
          "output_type": "display_data",
          "data": {
            "text/plain": [
              "<Figure size 1440x720 with 1 Axes>"
            ],
            "image/png": "[encoded data removed]"
          },
          "metadata": {
            "needs_background": "light"
          }
        }
      ]
    },
    {
      "cell_type": "markdown",
      "source": [
        "---\n",
        "> Decosion Tree"
      ],
      "metadata": {
        "id": "ovJADseLQ2Qp"
      }
    },
    {
      "cell_type": "code",
      "source": [
        "from sklearn.tree import DecisionTreeRegressor\n",
        "Dec_Tree_Reg = DecisionTreeRegressor()\n",
        "Dec_Tree_Reg.fit(X_new, Y)\n",
        "s = Dec_Tree_Reg.feature_importances_\n",
        "s = s.reshape(-1,1)\n",
        "\n",
        "normal = StandardScaler()\n",
        "normal = normal.fit(s)\n",
        "s[:] = normal.transform(s)\n",
        "s = s.reshape(16)"
      ],
      "metadata": {
        "id": "rXiT48WqRFkv"
      },
      "execution_count": 32,
      "outputs": []
    },
    {
      "cell_type": "code",
      "source": [
        "plt.subplots(figsize=(20,10))\n",
        "for i in range(16):\n",
        "    print(i+1,'-', labels_new[i], \" importance = \", s[i])\n",
        "    plt.bar(labels_new[i], s[i]) "
      ],
      "metadata": {
        "colab": {
          "base_uri": "https://localhost:8080/",
          "height": 871
        },
        "id": "MkUvEl0HRHg7",
        "outputId": "cd5694d9-6039-450d-fc19-1e275fd7eb3e"
      },
      "execution_count": 33,
      "outputs": [
        {
          "output_type": "stream",
          "name": "stdout",
          "text": [
            "1 - bedrooms  importance =  -0.45932295416003127\n",
            "2 - bathrooms  importance =  -0.27937003524178106\n",
            "3 - sqft_living  importance =  3.805796885909259\n",
            "4 - sqft_lot  importance =  -0.08510917317351004\n",
            "5 - floors  importance =  -0.40469944972261596\n",
            "6 - waterfron  importance =  -0.1269822356180613\n",
            "7 - view  importance =  -0.2918719369578456\n",
            "8 - condition  importance =  -0.42406439805312324\n",
            "9 - sqft_above  importance =  -0.22800203475859676\n",
            "10 - sqft_basement  importance =  -0.4301216179885942\n",
            "11 - yr_built  importance =  -0.14429437169450365\n",
            "12 - yr_renovated  importance =  -0.36788924005010665\n",
            "13 - street  importance =  -0.22646453604816164\n",
            "14 - city  importance =  -0.08890954646235051\n",
            "15 - statezip  importance =  0.25738956714243716\n",
            "16 - country  importance =  -0.5060849231224147\n"
          ]
        },
        {
          "output_type": "display_data",
          "data": {
            "text/plain": [
              "<Figure size 1440x720 with 1 Axes>"
            ],
            "image/png": "[encoded data removed]"
          },
          "metadata": {
            "needs_background": "light"
          }
        }
      ]
    },
    {
      "cell_type": "code",
      "source": [
        ""
      ],
      "metadata": {
        "id": "orLZGcx6RRmT"
      },
      "execution_count": null,
      "outputs": []
    }
  ]
}