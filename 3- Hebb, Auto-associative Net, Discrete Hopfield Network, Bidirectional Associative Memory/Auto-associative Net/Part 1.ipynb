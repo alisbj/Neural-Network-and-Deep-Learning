{
  "nbformat": 4,
  "nbformat_minor": 0,
  "metadata": {
    "colab": {
      "name": "Q2_1AND2AND3.ipynb",
      "provenance": [],
      "collapsed_sections": []
    },
    "kernelspec": {
      "name": "python3",
      "display_name": "Python 3"
    },
    "language_info": {
      "name": "python"
    }
  },
  "cells": [
    {
      "cell_type": "code",
      "execution_count": 8,
      "metadata": {
        "id": "CclfQwkCE61n"
      },
      "outputs": [],
      "source": [
        "import numpy as np\n",
        "import matplotlib.pyplot as plt\n",
        "from random import randint\n",
        "import cv2"
      ]
    },
    {
      "cell_type": "markdown",
      "source": [
        ">Reading Images"
      ],
      "metadata": {
        "id": "a-_zO0vtkDZT"
      }
    },
    {
      "cell_type": "code",
      "source": [
        "img1 = plt.imread('Image_1.png')\n",
        "img2 = plt.imread('Image_2.png')\n",
        "img3 = plt.imread('Image_3.png')"
      ],
      "metadata": {
        "id": "sF9mDdN6E-0j"
      },
      "execution_count": 71,
      "outputs": []
    },
    {
      "cell_type": "markdown",
      "source": [
        ">Plot input images"
      ],
      "metadata": {
        "id": "jDTDsH4-kawB"
      }
    },
    {
      "cell_type": "code",
      "source": [
        "plt.subplot(1, 3, 1)\n",
        "plt.imshow(img1, cmap='gray')\n",
        "plt.subplot(1, 3, 2)\n",
        "plt.imshow(img2, cmap='gray')\n",
        "plt.subplot(1, 3, 3)\n",
        "plt.imshow(img3, cmap='gray')\n",
        "plt.show()"
      ],
      "metadata": {
        "colab": {
          "base_uri": "https://localhost:8080/",
          "height": 186
        },
        "id": "U3WB1EyyuuEG",
        "outputId": "e939e1e3-fe39-40e4-e633-df18f5c55bc0"
      },
      "execution_count": 10,
      "outputs": [
        {
          "output_type": "display_data",
          "data": {
            "text/plain": [
              "<Figure size 432x288 with 3 Axes>"
            ],
            "image/png": "[encoded data removed]"
          },
          "metadata": {
            "needs_background": "light"
          }
        }
      ]
    },
    {
      "cell_type": "markdown",
      "source": [
        "> Preprocessing Data"
      ],
      "metadata": {
        "id": "884GdYj2ltH9"
      }
    },
    {
      "cell_type": "code",
      "source": [
        "# convert to one channel image\n",
        "img1 = img1[:,:,0]\n",
        "img2 = img2[:,:,0]\n",
        "img3 = img3[:,:,0]\n",
        "\n",
        "# reshape to a vector \n",
        "img1_r = np.reshape(img1,(35,1))\n",
        "img2_r = np.reshape(img2,(35,1))\n",
        "img3_r = np.reshape(img3,(35,1))\n",
        "\n",
        "# bipolarization\n",
        "img1_r[np.where(img1_r==0)] = -1\n",
        "img2_r[np.where(img2_r==0)] = -1\n",
        "img3_r[np.where(img3_r==0)] = -1"
      ],
      "metadata": {
        "id": "GM9BMYYzrLr8"
      },
      "execution_count": 72,
      "outputs": []
    },
    {
      "cell_type": "code",
      "source": [
        "X1 = img1_r.copy()\n",
        "X2 = img2_r.copy()\n",
        "X3 = img3_r.copy()"
      ],
      "metadata": {
        "id": "I0F3L8aGFJTJ"
      },
      "execution_count": 12,
      "outputs": []
    },
    {
      "cell_type": "markdown",
      "source": [
        "#Part1 \n",
        ">Hebbian Rule"
      ],
      "metadata": {
        "id": "Tttr6_e8psne"
      }
    },
    {
      "cell_type": "markdown",
      "source": [
        "> Compute Weights"
      ],
      "metadata": {
        "id": "71KHgRxvmH2l"
      }
    },
    {
      "cell_type": "code",
      "source": [
        "W1 = np.zeros((35,35))\n",
        "W2 = np.zeros((35,35))\n",
        "W3 = np.zeros((35,35))\n",
        "W1 = np.dot(X1,X1.T)\n",
        "W2 = np.dot(X2,X2.T)\n",
        "W3 = np.dot(X3,X3.T)\n",
        "W = W1 + W2 + W3"
      ],
      "metadata": {
        "id": "wXsLb8rKFTFW"
      },
      "execution_count": 73,
      "outputs": []
    },
    {
      "cell_type": "code",
      "source": [
        "W"
      ],
      "metadata": {
        "colab": {
          "base_uri": "https://localhost:8080/"
        },
        "id": "LYDannUOmNxl",
        "outputId": "65381b91-3055-4cab-f430-ab48f5d657c9"
      },
      "execution_count": 14,
      "outputs": [
        {
          "output_type": "execute_result",
          "data": {
            "text/plain": [
              "array([[ 3., -1., -3., ..., -3., -3.,  1.],\n",
              "       [-1.,  3.,  1., ...,  1.,  1.,  1.],\n",
              "       [-3.,  1.,  3., ...,  3.,  3., -1.],\n",
              "       ...,\n",
              "       [-3.,  1.,  3., ...,  3.,  3., -1.],\n",
              "       [-3.,  1.,  3., ...,  3.,  3., -1.],\n",
              "       [ 1.,  1., -1., ..., -1., -1.,  3.]], dtype=float32)"
            ]
          },
          "metadata": {},
          "execution_count": 14
        }
      ]
    },
    {
      "cell_type": "markdown",
      "source": [
        ">Modified Hebbian Rule"
      ],
      "metadata": {
        "id": "xLLQQFjbp1_c"
      }
    },
    {
      "cell_type": "markdown",
      "source": [
        "> Compute Weights"
      ],
      "metadata": {
        "id": "QZDL0uzZqF67"
      }
    },
    {
      "cell_type": "code",
      "source": [
        "W1_m = np.zeros((35,35))\n",
        "W2_m = np.zeros((35,35))\n",
        "W3_m = np.zeros((35,35))\n",
        "W1_m = np.dot(X1,X1.T)\n",
        "W2_m = np.dot(X2,X2.T)\n",
        "W3_m = np.dot(X3,X3.T)\n",
        "W_m = W1_m + W2_m + W3_m\n",
        "W_m = W_m - 3 * np.identity(35)"
      ],
      "metadata": {
        "id": "iT9oM0HbqF67"
      },
      "execution_count": 24,
      "outputs": []
    },
    {
      "cell_type": "code",
      "source": [
        "W_m"
      ],
      "metadata": {
        "colab": {
          "base_uri": "https://localhost:8080/"
        },
        "outputId": "66ea4b18-20ba-48c6-b40f-32868339a08b",
        "id": "rkHnRQCsqF68"
      },
      "execution_count": 26,
      "outputs": [
        {
          "output_type": "execute_result",
          "data": {
            "text/plain": [
              "array([[ 0., -1., -3., ..., -3., -3.,  1.],\n",
              "       [-1.,  0.,  1., ...,  1.,  1.,  1.],\n",
              "       [-3.,  1.,  0., ...,  3.,  3., -1.],\n",
              "       ...,\n",
              "       [-3.,  1.,  3., ...,  0.,  3., -1.],\n",
              "       [-3.,  1.,  3., ...,  3.,  0., -1.],\n",
              "       [ 1.,  1., -1., ..., -1., -1.,  0.]])"
            ]
          },
          "metadata": {},
          "execution_count": 26
        }
      ]
    },
    {
      "cell_type": "markdown",
      "source": [
        "##Part 2"
      ],
      "metadata": {
        "id": "AtHdX-y8vL_p"
      }
    },
    {
      "cell_type": "code",
      "source": [
        "def activation_function(X):\n",
        "    if X > 0:\n",
        "        X = 1\n",
        "    elif X < 0:\n",
        "        X = -1\n",
        "    return X"
      ],
      "metadata": {
        "id": "BJRQLNR1vY1b"
      },
      "execution_count": 31,
      "outputs": []
    },
    {
      "cell_type": "markdown",
      "source": [
        ">Compute Outputs"
      ],
      "metadata": {
        "id": "jOCHmZEXvaxt"
      }
    },
    {
      "cell_type": "code",
      "source": [
        "S1_n = np.dot(W.T,X1)\n",
        "S2_n = np.dot(W.T,X2)\n",
        "S3_n = np.dot(W.T,X3)"
      ],
      "metadata": {
        "id": "ZcRWjNiWJRGb"
      },
      "execution_count": 32,
      "outputs": []
    },
    {
      "cell_type": "code",
      "source": [
        "S1_new = np.zeros((35,1))\n",
        "for i in range(35):\n",
        "  S1_new[i] = activation_function(S1_n[i])\n",
        "  \n",
        "S2_new = np.zeros((35,1))\n",
        "for i in range(35):\n",
        "  S2_new[i] = activation_function(S2_n[i])\n",
        "  \n",
        "S3_new = np.zeros((35,1))\n",
        "for i in range(35):\n",
        "  S3_new[i] = activation_function(S3_n[i])"
      ],
      "metadata": {
        "id": "Hf39hqv4K18e"
      },
      "execution_count": 33,
      "outputs": []
    },
    {
      "cell_type": "code",
      "source": [
        "S1_new = np.reshape(S1_new, (7,5))\n",
        "S2_new = np.reshape(S2_new, (7,5))\n",
        "S3_new = np.reshape(S3_new, (7,5))"
      ],
      "metadata": {
        "id": "yPzbvqsrK63r"
      },
      "execution_count": 34,
      "outputs": []
    },
    {
      "cell_type": "markdown",
      "source": [
        ">Plot Outputs"
      ],
      "metadata": {
        "id": "mNSYVSPIvwI-"
      }
    },
    {
      "cell_type": "code",
      "source": [
        "plt.subplot(1, 3, 1)\n",
        "plt.imshow(S1_new, cmap='gray')\n",
        "\n",
        "plt.subplot(1, 3, 2)\n",
        "plt.imshow(S2_new, cmap='gray')\n",
        "\n",
        "plt.subplot(1, 3, 3)\n",
        "plt.imshow(S3_new, cmap='gray')\n",
        "\n",
        "plt.show()"
      ],
      "metadata": {
        "colab": {
          "base_uri": "https://localhost:8080/",
          "height": 186
        },
        "id": "exnvrvaoLJej",
        "outputId": "a56cdcd7-01db-4e2a-99d6-66cfcb2f1b2c"
      },
      "execution_count": 35,
      "outputs": [
        {
          "output_type": "display_data",
          "data": {
            "text/plain": [
              "<Figure size 432x288 with 3 Axes>"
            ],
            "image/png": "[encoded data removed]"
          },
          "metadata": {
            "needs_background": "light"
          }
        }
      ]
    },
    {
      "cell_type": "markdown",
      "source": [
        "##Part 3"
      ],
      "metadata": {
        "id": "Iscsot28xe_u"
      }
    },
    {
      "cell_type": "markdown",
      "source": [
        "#20% noise"
      ],
      "metadata": {
        "id": "UjxM3KUIzf0N"
      }
    },
    {
      "cell_type": "code",
      "source": [
        "A_n = img1_r.copy()\n",
        "B_n = img2_r.copy()\n",
        "C_n = img3_r.copy()\n",
        "A_noise = np.reshape(A_n,(35,1))\n",
        "B_noise = np.reshape(B_n,(35,1))\n",
        "C_noise = np.reshape(C_n,(35,1))\n",
        "index_A = np.random.randint(35,size=(7,1))\n",
        "index_B = np.random.randint(35,size=(7,1))\n",
        "index_C = np.random.randint(35,size=(7,1))\n",
        "for i in range(index_A.shape[0]):\n",
        "  if A_noise[index_A[i], 0] == 1:\n",
        "    A_noise[index_A[i], 0] = -1\n",
        "  else:\n",
        "    A_noise[index_A[i], 0] = 1\n",
        "for j in range(index_B.shape[0]):\n",
        "  if B_noise[index_B[j], 0] == 1:\n",
        "    B_noise[index_B[j], 0] = -1\n",
        "  else:\n",
        "    B_noise[index_B[j], 0] = 1\n",
        "for k in range(index_C.shape[0]):\n",
        "  if C_noise[index_C[k], 0] == 1:\n",
        "    C_noise[index_C[k], 0] = -1\n",
        "  else:\n",
        "    C_noise[index_C[k], 0] = 1\n",
        "A_noise = np.reshape(A_noise,(7,5))\n",
        "B_noise = np.reshape(B_noise,(7,5))\n",
        "C_noise = np.reshape(C_noise,(7,5))"
      ],
      "metadata": {
        "id": "ECMMrFYkf3Ms"
      },
      "execution_count": 36,
      "outputs": []
    },
    {
      "cell_type": "code",
      "source": [
        "plt.subplot(1, 3, 1)\n",
        "plt.imshow(A_noise, cmap='gray')\n",
        "plt.subplot(1, 3, 2)\n",
        "plt.imshow(B_noise, cmap='gray')\n",
        "\n",
        "plt.subplot(1, 3, 3)\n",
        "plt.imshow(C_noise, cmap='gray')\n",
        "\n",
        "plt.show()"
      ],
      "metadata": {
        "colab": {
          "base_uri": "https://localhost:8080/",
          "height": 186
        },
        "id": "qY9lmi4taCbz",
        "outputId": "1e2d7300-35f8-4a23-90e1-aee66d923174"
      },
      "execution_count": 37,
      "outputs": [
        {
          "output_type": "display_data",
          "data": {
            "text/plain": [
              "<Figure size 432x288 with 3 Axes>"
            ],
            "image/png": "[encoded data removed]"
          },
          "metadata": {
            "needs_background": "light"
          }
        }
      ]
    },
    {
      "cell_type": "markdown",
      "source": [
        ">Compute Outputs"
      ],
      "metadata": {
        "id": "qEJ_wWyDzJrS"
      }
    },
    {
      "cell_type": "code",
      "source": [
        "X1_noise = A_noise.reshape(35,1)\n",
        "X2_noise = B_noise.reshape(35,1)\n",
        "X3_noise = C_noise.reshape(35,1)\n",
        "S1=X1.reshape(35,1)\n",
        "S2=X2.reshape(35,1)\n",
        "S3=X3.reshape(35,1)"
      ],
      "metadata": {
        "id": "3DZvPu_OaGsG"
      },
      "execution_count": 38,
      "outputs": []
    },
    {
      "cell_type": "code",
      "source": [
        "S1_noise = np.dot(W,X1_noise)\n",
        "S2_noise = np.dot(W,X2_noise)\n",
        "S3_noise = np.dot(W,X3_noise)"
      ],
      "metadata": {
        "id": "Lj-c5r0jaP7h"
      },
      "execution_count": 39,
      "outputs": []
    },
    {
      "cell_type": "code",
      "source": [
        "S1_new = np.zeros((35,1))\n",
        "for i in range(35):\n",
        "  S1_new[i] = activation_function(S1_noise[i])\n",
        "  \n",
        "S2_new = np.zeros((35,1))\n",
        "for i in range(35):\n",
        "  S2_new[i] = activation_function(S2_noise[i])\n",
        "  \n",
        "S3_new = np.zeros((35,1))\n",
        "for i in range(35):\n",
        "  S3_new[i] = activation_function(S3_noise[i])"
      ],
      "metadata": {
        "id": "0QYNlnQdaYLg"
      },
      "execution_count": 42,
      "outputs": []
    },
    {
      "cell_type": "code",
      "source": [
        "S1_new = np.reshape(S1_new, (7,5))\n",
        "S2_new = np.reshape(S2_new, (7,5))\n",
        "S3_new = np.reshape(S3_new, (7,5))"
      ],
      "metadata": {
        "id": "aw7vKggKasvm"
      },
      "execution_count": 43,
      "outputs": []
    },
    {
      "cell_type": "markdown",
      "source": [
        ">Plot Outputs"
      ],
      "metadata": {
        "id": "SSnheg4szNjm"
      }
    },
    {
      "cell_type": "code",
      "source": [
        "plt.subplot(1, 3, 1)\n",
        "plt.imshow(S1_new, cmap='gray')\n",
        "plt.subplot(1, 3, 2)\n",
        "plt.imshow(S2_new, cmap='gray')\n",
        "plt.subplot(1, 3, 3)\n",
        "plt.imshow(S3_new, cmap='gray')\n",
        "\n",
        "plt.show()"
      ],
      "metadata": {
        "colab": {
          "base_uri": "https://localhost:8080/",
          "height": 186
        },
        "id": "sU8udvlRa3OO",
        "outputId": "55a46498-5fa7-404a-a875-0964cf14db30"
      },
      "execution_count": 44,
      "outputs": [
        {
          "output_type": "display_data",
          "data": {
            "text/plain": [
              "<Figure size 432x288 with 3 Axes>"
            ],
            "image/png": "[encoded data removed]"
          },
          "metadata": {
            "needs_background": "light"
          }
        }
      ]
    },
    {
      "cell_type": "markdown",
      "source": [
        "#80% noise"
      ],
      "metadata": {
        "id": "Bu4BjzJDcnKC"
      }
    },
    {
      "cell_type": "code",
      "source": [
        "A_80 = img1_r.copy()\n",
        "B_80 = img2_r.copy()\n",
        "C_80 = img3_r.copy()\n",
        "A_noise = np.reshape(A_80,(35,1))\n",
        "B_noise = np.reshape(B_80,(35,1))\n",
        "C_noise = np.reshape(C_80,(35,1))\n",
        "index_A = np.random.randint(35,size=(28,1))\n",
        "index_B = np.random.randint(35,size=(28,1))\n",
        "index_C = np.random.randint(35,size=(28,1))\n",
        "for i in range(index_A.shape[0]):\n",
        "  if A_noise[index_A[i], 0] == 1:\n",
        "    A_noise[index_A[i], 0] = -1\n",
        "  else:\n",
        "    A_noise[index_A[i], 0] = 1\n",
        "for j in range(index_B.shape[0]):\n",
        "  if B_noise[index_B[j], 0] == 1:\n",
        "    B_noise[index_B[j], 0] = -1\n",
        "  else:\n",
        "    B_noise[index_B[j], 0] = 1\n",
        "for k in range(index_C.shape[0]):\n",
        "  if C_noise[index_C[k], 0] == 1:\n",
        "    C_noise[index_C[k], 0] = -1\n",
        "  else:\n",
        "    C_noise[index_C[k], 0] = 1\n",
        "A_noise_80 = np.reshape(A_noise,(7,5))\n",
        "B_noise_80 = np.reshape(B_noise,(7,5))\n",
        "C_noise_80 = np.reshape(C_noise,(7,5))"
      ],
      "metadata": {
        "id": "SqHk4V0lcoc4"
      },
      "execution_count": 81,
      "outputs": []
    },
    {
      "cell_type": "code",
      "source": [
        "plt.subplot(1, 3, 1)\n",
        "plt.imshow(A_noise_80, cmap='gray')\n",
        "plt.subplot(1, 3, 2)\n",
        "plt.imshow(B_noise_80, cmap='gray')\n",
        "plt.subplot(1, 3, 3)\n",
        "plt.imshow(C_noise_80, cmap='gray')\n",
        "plt.show()"
      ],
      "metadata": {
        "colab": {
          "base_uri": "https://localhost:8080/",
          "height": 186
        },
        "id": "8lFpYwEHcvJm",
        "outputId": "95e31e71-207f-4926-8c10-0fcce7819323"
      },
      "execution_count": 82,
      "outputs": [
        {
          "output_type": "display_data",
          "data": {
            "text/plain": [
              "<Figure size 432x288 with 3 Axes>"
            ],
            "image/png": "[encoded data removed]"
          },
          "metadata": {
            "needs_background": "light"
          }
        }
      ]
    },
    {
      "cell_type": "code",
      "source": [
        "X1_noise_80 = A_noise_80.reshape(35,1)\n",
        "X2_noise_80 = B_noise_80.reshape(35,1)\n",
        "X3_noise_80 = C_noise_80.reshape(35,1)\n",
        "\n",
        "S1_80=X1.reshape(35,1)\n",
        "S2_80=X2.reshape(35,1)\n",
        "S3_80=X3.reshape(35,1)\n"
      ],
      "metadata": {
        "id": "UggFc4hrcxET"
      },
      "execution_count": 83,
      "outputs": []
    },
    {
      "cell_type": "code",
      "source": [
        "S1_noise_80 = np.dot(W,X1_noise_80)\n",
        "S2_noise_80 = np.dot(W,X2_noise_80)\n",
        "S3_noise_80 = np.dot(W,X3_noise_80)"
      ],
      "metadata": {
        "id": "j7YBYSaUc0ej"
      },
      "execution_count": 84,
      "outputs": []
    },
    {
      "cell_type": "code",
      "source": [
        "S1_new_80 = np.zeros((35,1))\n",
        "for i in range(35):\n",
        "  S1_new_80[i] = activation_function(S1_noise_80[i])\n",
        "  \n",
        "S2_new_80 = np.zeros((35,1))\n",
        "for i in range(35):\n",
        "  S2_new_80[i] = activation_function(S2_noise_80[i])\n",
        "  \n",
        "S3_new_80 = np.zeros((35,1))\n",
        "for i in range(35):\n",
        "  S3_new_80[i] = activation_function(S3_noise_80[i])"
      ],
      "metadata": {
        "id": "M0_cRcgYc2xH"
      },
      "execution_count": 85,
      "outputs": []
    },
    {
      "cell_type": "code",
      "source": [
        "S1_new_80 = np.reshape(S1_new_80, (7,5))\n",
        "S2_new_80 = np.reshape(S2_new_80, (7,5))\n",
        "S3_new_80 = np.reshape(S3_new_80, (7,5))"
      ],
      "metadata": {
        "id": "9XUizvQLc5tE"
      },
      "execution_count": 86,
      "outputs": []
    },
    {
      "cell_type": "code",
      "source": [
        "plt.subplot(1, 3, 1)\n",
        "plt.imshow(S1_new_80, cmap='gray')\n",
        "plt.subplot(1, 3, 2)\n",
        "plt.imshow(S2_new_80, cmap='gray')\n",
        "plt.subplot(1, 3, 3)\n",
        "plt.imshow(S3_new_80, cmap='gray')\n",
        "\n",
        "plt.show()"
      ],
      "metadata": {
        "id": "r2nQQPwVc-R_",
        "colab": {
          "base_uri": "https://localhost:8080/",
          "height": 186
        },
        "outputId": "21272a21-1877-4cd7-9678-4ec14cfd7726"
      },
      "execution_count": 87,
      "outputs": [
        {
          "output_type": "display_data",
          "data": {
            "text/plain": [
              "<Figure size 432x288 with 3 Axes>"
            ],
            "image/png": "[encoded data removed]"
          },
          "metadata": {
            "needs_background": "light"
          }
        }
      ]
    },
    {
      "cell_type": "code",
      "source": [
        ""
      ],
      "metadata": {
        "id": "t79L291tn2P5"
      },
      "execution_count": 70,
      "outputs": []
    }
  ]
}