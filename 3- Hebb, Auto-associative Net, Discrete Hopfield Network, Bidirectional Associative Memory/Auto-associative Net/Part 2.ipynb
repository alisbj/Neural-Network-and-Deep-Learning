{
  "nbformat": 4,
  "nbformat_minor": 0,
  "metadata": {
    "colab": {
      "name": "Q2_Part4.ipynb",
      "provenance": []
    },
    "kernelspec": {
      "name": "python3",
      "display_name": "Python 3"
    },
    "language_info": {
      "name": "python"
    }
  },
  "cells": [
    {
      "cell_type": "code",
      "execution_count": null,
      "metadata": {
        "id": "CclfQwkCE61n"
      },
      "outputs": [],
      "source": [
        "import numpy as np\n",
        "import matplotlib.pyplot as plt\n",
        "from random import randint\n",
        "import cv2"
      ]
    },
    {
      "cell_type": "code",
      "source": [
        "img1 = plt.imread('Image_1.png')\n",
        "img2 = plt.imread('Image_2.png')\n",
        "img3 = plt.imread('Image_3.png')"
      ],
      "metadata": {
        "id": "sF9mDdN6E-0j"
      },
      "execution_count": null,
      "outputs": []
    },
    {
      "cell_type": "code",
      "source": [
        "plt.subplot(1, 3, 1)\n",
        "plt.imshow(img1, cmap='gray')\n",
        "plt.subplot(1, 3, 2)\n",
        "plt.imshow(img2, cmap='gray')\n",
        "\n",
        "plt.subplot(1, 3, 3)\n",
        "plt.imshow(img3, cmap='gray')\n",
        "\n",
        "plt.show()"
      ],
      "metadata": {
        "colab": {
          "base_uri": "https://localhost:8080/",
          "height": 186
        },
        "id": "U3WB1EyyuuEG",
        "outputId": "5c7cdaef-d21d-4cec-e2d8-3058dea26267"
      },
      "execution_count": null,
      "outputs": [
        {
          "output_type": "display_data",
          "data": {
            "text/plain": [
              "<Figure size 432x288 with 3 Axes>"
            ],
            "image/png": "[encoded data removed]"
          },
          "metadata": {
            "needs_background": "light"
          }
        }
      ]
    },
    {
      "cell_type": "code",
      "source": [
        "img1 = img1[:,:,0]\n",
        "img2 = img2[:,:,0]\n",
        "img3 = img3[:,:,0]"
      ],
      "metadata": {
        "id": "GM9BMYYzrLr8"
      },
      "execution_count": null,
      "outputs": []
    },
    {
      "cell_type": "code",
      "source": [
        "img1_r = np.reshape(img1,(35,1))\n",
        "img2_r = np.reshape(img2,(35,1))\n",
        "img3_r = np.reshape(img3,(35,1))"
      ],
      "metadata": {
        "id": "fmMVPt1ZrTKO"
      },
      "execution_count": null,
      "outputs": []
    },
    {
      "cell_type": "code",
      "source": [
        "img1_r[np.where(img1_r==0)] = -1\n",
        "img2_r[np.where(img2_r==0)] = -1\n",
        "img3_r[np.where(img3_r==0)] = -1"
      ],
      "metadata": {
        "id": "gFa7SVddtgd0"
      },
      "execution_count": null,
      "outputs": []
    },
    {
      "cell_type": "code",
      "source": [
        "X1 = img1_r\n",
        "X2 = img2_r\n",
        "X3 = img3_r"
      ],
      "metadata": {
        "id": "I0F3L8aGFJTJ"
      },
      "execution_count": null,
      "outputs": []
    },
    {
      "cell_type": "code",
      "source": [
        "W1 = np.zeros((35,35))\n",
        "W2 = np.zeros((35,35))\n",
        "W3 = np.zeros((35,35))\n",
        "b1 = np.zeros((35,1))\n",
        "b2 = np.zeros((35,1))\n",
        "b3 = np.zeros((35,1))"
      ],
      "metadata": {
        "id": "wXsLb8rKFTFW"
      },
      "execution_count": null,
      "outputs": []
    },
    {
      "cell_type": "code",
      "source": [
        "W1 = np.dot(X1,X1.T)\n",
        "W2 = np.dot(X2,X2.T)\n",
        "W3 = np.dot(X3,X3.T)\n",
        "b1 = X1\n",
        "b2 = X2\n",
        "b3 = X3\n",
        "W = W1 + W2 + W3\n",
        "b = b1 + b2 + b3"
      ],
      "metadata": {
        "id": "UBQvqJ06GWsM"
      },
      "execution_count": null,
      "outputs": []
    },
    {
      "cell_type": "markdown",
      "source": [
        "#ta inja baraye 1"
      ],
      "metadata": {
        "id": "0ZqHte4_zj8_"
      }
    },
    {
      "cell_type": "code",
      "source": [
        "S1_n = np.dot(W.T,X1) + b\n",
        "S2_n = np.dot(W.T,X2) + b\n",
        "S3_n = np.dot(W.T,X3) + b"
      ],
      "metadata": {
        "id": "ZcRWjNiWJRGb"
      },
      "execution_count": null,
      "outputs": []
    },
    {
      "cell_type": "code",
      "source": [
        "def f(a):\n",
        "    if a > 0:\n",
        "        a = 1\n",
        "    elif a < 0:\n",
        "        a = -1\n",
        "    return a"
      ],
      "metadata": {
        "id": "9FWwT1KhJ1nR"
      },
      "execution_count": null,
      "outputs": []
    },
    {
      "cell_type": "code",
      "source": [
        "S1_new = np.zeros((35,1))\n",
        "for i in range(35):\n",
        "  S1_new[i] = f(S1_n[i])\n",
        "  \n",
        "S2_new = np.zeros((35,1))\n",
        "for i in range(35):\n",
        "  S2_new[i] = f(S2_n[i])\n",
        "  \n",
        "S3_new = np.zeros((35,1))\n",
        "for i in range(35):\n",
        "  S3_new[i] = f(S3_n[i])"
      ],
      "metadata": {
        "id": "Hf39hqv4K18e"
      },
      "execution_count": null,
      "outputs": []
    },
    {
      "cell_type": "code",
      "source": [
        "S1_new = np.reshape(S1_new, (7,5))\n",
        "S2_new = np.reshape(S2_new, (7,5))\n",
        "S3_new = np.reshape(S3_new, (7,5))"
      ],
      "metadata": {
        "id": "yPzbvqsrK63r"
      },
      "execution_count": null,
      "outputs": []
    },
    {
      "cell_type": "code",
      "source": [
        "plt.subplot(1, 3, 1)\n",
        "plt.imshow(S1_new, cmap='gray')\n",
        "\n",
        "plt.subplot(1, 3, 2)\n",
        "plt.imshow(S2_new, cmap='gray')\n",
        "\n",
        "plt.subplot(1, 3, 3)\n",
        "plt.imshow(S3_new, cmap='gray')\n",
        "\n",
        "plt.show()"
      ],
      "metadata": {
        "colab": {
          "base_uri": "https://localhost:8080/",
          "height": 186
        },
        "id": "exnvrvaoLJej",
        "outputId": "f0b7f048-189a-4708-96e4-989762ed4ac9"
      },
      "execution_count": null,
      "outputs": [
        {
          "output_type": "display_data",
          "data": {
            "text/plain": [
              "<Figure size 432x288 with 3 Axes>"
            ],
            "image/png": "[encoded data removed]"
          },
          "metadata": {
            "needs_background": "light"
          }
        }
      ]
    },
    {
      "cell_type": "markdown",
      "source": [
        "#20%"
      ],
      "metadata": {
        "id": "UjxM3KUIzf0N"
      }
    },
    {
      "cell_type": "code",
      "source": [
        "A_noise = img1_r\n",
        "B_noise = img2_r\n",
        "C_noise = img3_r\n",
        "\n",
        "A_noise[np.random.randint(35,size=(7,1))]=0\n",
        "B_noise[np.random.randint(35,size=(7,1))]=0\n",
        "C_noise[np.random.randint(35,size=(7,1))]=0\n",
        "A_noise = np.reshape(A_noise,(7,5))\n",
        "B_noise = np.reshape(B_noise,(7,5))\n",
        "C_noise = np.reshape(C_noise,(7,5))\n"
      ],
      "metadata": {
        "id": "ECMMrFYkf3Ms"
      },
      "execution_count": null,
      "outputs": []
    },
    {
      "cell_type": "code",
      "source": [
        "plt.subplot(1, 3, 1)\n",
        "plt.imshow(A_noise, cmap='gray')\n",
        "plt.subplot(1, 3, 2)\n",
        "plt.imshow(B_noise, cmap='gray')\n",
        "\n",
        "plt.subplot(1, 3, 3)\n",
        "plt.imshow(C_noise, cmap='gray')\n",
        "\n",
        "plt.show()"
      ],
      "metadata": {
        "colab": {
          "base_uri": "https://localhost:8080/",
          "height": 186
        },
        "id": "qY9lmi4taCbz",
        "outputId": "d7908ec2-3307-4110-e507-873f2b6b921e"
      },
      "execution_count": null,
      "outputs": [
        {
          "output_type": "display_data",
          "data": {
            "text/plain": [
              "<Figure size 432x288 with 3 Axes>"
            ],
            "image/png": "[encoded data removed]"
          },
          "metadata": {
            "needs_background": "light"
          }
        }
      ]
    },
    {
      "cell_type": "code",
      "source": [
        "X1_noise = A_noise.reshape(35,1)\n",
        "X2_noise = B_noise.reshape(35,1)\n",
        "X3_noise = C_noise.reshape(35,1)\n",
        "\n",
        "S1=X1.reshape(35,1)\n",
        "S2=X2.reshape(35,1)\n",
        "S3=X3.reshape(35,1)"
      ],
      "metadata": {
        "id": "3DZvPu_OaGsG"
      },
      "execution_count": null,
      "outputs": []
    },
    {
      "cell_type": "code",
      "source": [
        "S1_noise = np.dot(W,X1_noise) + b\n",
        "S2_noise = np.dot(W,X2_noise) + b\n",
        "S3_noise = np.dot(W,X3_noise) + b"
      ],
      "metadata": {
        "id": "Lj-c5r0jaP7h"
      },
      "execution_count": null,
      "outputs": []
    },
    {
      "cell_type": "code",
      "source": [
        "S1_new = np.zeros((35,1))\n",
        "for i in range(35):\n",
        "  S1_new[i] = f(S1_noise[i])\n",
        "  \n",
        "S2_new = np.zeros((35,1))\n",
        "for i in range(35):\n",
        "  S2_new[i] = f(S2_noise[i])\n",
        "  \n",
        "S3_new = np.zeros((35,1))\n",
        "for i in range(35):\n",
        "  S3_new[i] = f(S3_noise[i])"
      ],
      "metadata": {
        "id": "0QYNlnQdaYLg"
      },
      "execution_count": null,
      "outputs": []
    },
    {
      "cell_type": "code",
      "source": [
        "S1_new = np.reshape(S1_new, (7,5))\n",
        "S2_new = np.reshape(S2_new, (7,5))\n",
        "S3_new = np.reshape(S3_new, (7,5))"
      ],
      "metadata": {
        "id": "aw7vKggKasvm"
      },
      "execution_count": null,
      "outputs": []
    },
    {
      "cell_type": "code",
      "source": [
        "plt.subplot(1, 3, 1)\n",
        "plt.imshow(S1_new, cmap='gray')\n",
        "\n",
        "plt.subplot(1, 3, 2)\n",
        "plt.imshow(S2_new, cmap='gray')\n",
        "\n",
        "plt.subplot(1, 3, 3)\n",
        "plt.imshow(S3_new, cmap='gray')\n",
        "\n",
        "plt.show()"
      ],
      "metadata": {
        "colab": {
          "base_uri": "https://localhost:8080/",
          "height": 186
        },
        "id": "sU8udvlRa3OO",
        "outputId": "8ef461ec-dbea-4f81-a113-8b5ef11e87d1"
      },
      "execution_count": null,
      "outputs": [
        {
          "output_type": "display_data",
          "data": {
            "text/plain": [
              "<Figure size 432x288 with 3 Axes>"
            ],
            "image/png": "[encoded data removed]"
          },
          "metadata": {
            "needs_background": "light"
          }
        }
      ]
    },
    {
      "cell_type": "markdown",
      "source": [
        "#80%"
      ],
      "metadata": {
        "id": "Bu4BjzJDcnKC"
      }
    },
    {
      "cell_type": "code",
      "source": [
        "A_noise = img1_r\n",
        "B_noise = img2_r\n",
        "C_noise = img3_r\n",
        "\n",
        "A_noise[np.random.randint(35,size=(28,1))]=0\n",
        "B_noise[np.random.randint(35,size=(28,1))]=0\n",
        "C_noise[np.random.randint(35,size=(28,1))]=0\n",
        "A_noise = np.reshape(A_noise,(7,5))\n",
        "B_noise = np.reshape(B_noise,(7,5))\n",
        "C_noise = np.reshape(C_noise,(7,5))\n"
      ],
      "metadata": {
        "id": "SqHk4V0lcoc4"
      },
      "execution_count": null,
      "outputs": []
    },
    {
      "cell_type": "code",
      "source": [
        "plt.subplot(1, 3, 1)\n",
        "plt.imshow(A_noise, cmap='gray')\n",
        "plt.subplot(1, 3, 2)\n",
        "plt.imshow(B_noise, cmap='gray')\n",
        "\n",
        "plt.subplot(1, 3, 3)\n",
        "plt.imshow(C_noise, cmap='gray')\n",
        "\n",
        "plt.show()"
      ],
      "metadata": {
        "colab": {
          "base_uri": "https://localhost:8080/",
          "height": 186
        },
        "id": "8lFpYwEHcvJm",
        "outputId": "f7350523-14f3-40fd-ebfc-e5b6cd8bd06d"
      },
      "execution_count": null,
      "outputs": [
        {
          "output_type": "display_data",
          "data": {
            "text/plain": [
              "<Figure size 432x288 with 3 Axes>"
            ],
            "image/png": "[encoded data removed]"
          },
          "metadata": {
            "needs_background": "light"
          }
        }
      ]
    },
    {
      "cell_type": "code",
      "source": [
        "X1_noise = A_noise.reshape(35,1)\n",
        "X2_noise = B_noise.reshape(35,1)\n",
        "X3_noise = C_noise.reshape(35,1)\n",
        "\n",
        "S1=X1.reshape(35,1)\n",
        "S2=X2.reshape(35,1)\n",
        "S3=X3.reshape(35,1)"
      ],
      "metadata": {
        "id": "UggFc4hrcxET"
      },
      "execution_count": null,
      "outputs": []
    },
    {
      "cell_type": "code",
      "source": [
        "S1_noise = np.dot(W,X1_noise) + b\n",
        "S2_noise = np.dot(W,X2_noise) + b\n",
        "S3_noise = np.dot(W,X3_noise) + b"
      ],
      "metadata": {
        "id": "j7YBYSaUc0ej"
      },
      "execution_count": null,
      "outputs": []
    },
    {
      "cell_type": "code",
      "source": [
        "S1_new = np.zeros((35,1))\n",
        "for i in range(35):\n",
        "  S1_new[i] = f(S1_noise[i])\n",
        "  \n",
        "S2_new = np.zeros((35,1))\n",
        "for i in range(35):\n",
        "  S2_new[i] = f(S2_noise[i])\n",
        "  \n",
        "S3_new = np.zeros((35,1))\n",
        "for i in range(35):\n",
        "  S3_new[i] = f(S3_noise[i])"
      ],
      "metadata": {
        "id": "M0_cRcgYc2xH"
      },
      "execution_count": null,
      "outputs": []
    },
    {
      "cell_type": "code",
      "source": [
        "S1_new = np.reshape(S1_new, (7,5))\n",
        "S2_new = np.reshape(S2_new, (7,5))\n",
        "S3_new = np.reshape(S3_new, (7,5))"
      ],
      "metadata": {
        "id": "9XUizvQLc5tE"
      },
      "execution_count": null,
      "outputs": []
    },
    {
      "cell_type": "code",
      "source": [
        "plt.subplot(1, 3, 1)\n",
        "plt.imshow(S1_new, cmap='gray')\n",
        "\n",
        "plt.subplot(1, 3, 2)\n",
        "plt.imshow(S2_new, cmap='gray')\n",
        "\n",
        "plt.subplot(1, 3, 3)\n",
        "plt.imshow(S3_new, cmap='gray')\n",
        "\n",
        "plt.show()"
      ],
      "metadata": {
        "id": "r2nQQPwVc-R_",
        "colab": {
          "base_uri": "https://localhost:8080/",
          "height": 186
        },
        "outputId": "0b09fd1c-030a-401b-cd0d-49bda90913f1"
      },
      "execution_count": null,
      "outputs": [
        {
          "output_type": "display_data",
          "data": {
            "text/plain": [
              "<Figure size 432x288 with 3 Axes>"
            ],
            "image/png": "[encoded data removed]"
          },
          "metadata": {
            "needs_background": "light"
          }
        }
      ]
    },
    {
      "cell_type": "code",
      "source": [
        ""
      ],
      "metadata": {
        "id": "t79L291tn2P5"
      },
      "execution_count": null,
      "outputs": []
    }
  ]
}