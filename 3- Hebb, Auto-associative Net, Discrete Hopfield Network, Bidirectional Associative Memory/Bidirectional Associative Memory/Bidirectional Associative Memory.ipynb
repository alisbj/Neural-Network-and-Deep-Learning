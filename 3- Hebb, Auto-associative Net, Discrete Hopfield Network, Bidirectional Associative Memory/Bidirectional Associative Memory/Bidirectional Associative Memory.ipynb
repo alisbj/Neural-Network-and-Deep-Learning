{
  "nbformat": 4,
  "nbformat_minor": 0,
  "metadata": {
    "colab": {
      "name": "Q4.ipynb",
      "provenance": []
    },
    "kernelspec": {
      "name": "python3",
      "display_name": "Python 3"
    },
    "language_info": {
      "name": "python"
    }
  },
  "cells": [
    {
      "cell_type": "code",
      "execution_count": 1,
      "metadata": {
        "id": "4EiDoX5KSA93"
      },
      "outputs": [],
      "source": [
        "import numpy as np\n",
        "import matplotlib.pyplot as plt\n",
        "from random import randint\n",
        "import cv2\n",
        "from google.colab.patches import cv2_imshow"
      ]
    },
    {
      "cell_type": "code",
      "source": [
        "Clinton = np.array([[1,0,0,0,0,1,1, 1,1,0,1,1,0,0, 1,1,0,1,0,0,1, 1,1,0,1,1,1,0, 1,1,1,0,1,0,0, 1,1,0,1,1,1,1, 1,1,0,1,1,1,0]])\n",
        "Clinton[np.where(Clinton==0)] = -1\n",
        "Hillary = np.array([[1,0,0,1,0,0,0, 1,1,0,1,0,0,1, 1,1,0,1,1,0,0, 1,1,0,1,1,0,0, 1,1,0,0,0,0,1, 1,1,1,0,0,1,0, 1,1,1,1,0,0,1]])\n",
        "Hillary[np.where(Hillary==0)] = -1\n",
        "Kenstar = np.array([[1,0,0,1,0,1,1, 1,1,0,0,1,0,1, 1,1,0,1,1,1,0, 1,1,1,0,0,1,1, 1,1,1,0,1,0,0, 1,1,0,0,0,0,1, 1,1,1,0,0,1,0]])\n",
        "Kenstar[np.where(Kenstar==0)] = -1"
      ],
      "metadata": {
        "id": "a5jlmYhpSxyL"
      },
      "execution_count": 2,
      "outputs": []
    },
    {
      "cell_type": "code",
      "source": [
        "President = np.array([[1,0,1,0,0,0,0, 1,1,1,0,0,1,0, 1,1,0,0,1,0,1, 1,1,1,0,0,1,1, 1,1,0,1,0,0,1, 1,1,0,0,1,0,0, 1,1,0,0,1,0,1, 1,1,0,1,1,1,0, 1,1,1,0,1,0,0]])\n",
        "President[np.where(President==0)] = -1\n",
        "FirstLady = np.array([[1,0,0,0,1,1,0, 1,1,0,1,0,0,1, 1,1,1,0,0,1,0, 1,1,1,0,0,1,1, 1,1,1,0,1,0,0, 1,0,0,1,1,0,0, 1,1,0,0,0,0,1, 1,1,0,0,1,0,0, 1,1,1,1,0,0,1]])\n",
        "FirstLady[np.where(FirstLady==0)] = -1\n",
        "Gentleman = np.array([[1,0,0,0,1,1,1, 1,1,0,0,1,0,1, 1,1,0,1,1,1,0, 1,1,1,0,1,0,0, 1,1,0,1,1,0,0, 1,1,0,0,1,0,1, 1,1,0,1,1,0,1, 1,1,0,0,0,0,1, 1,1,0,1,1,1,0]])\n",
        "Gentleman[np.where(Gentleman==0)] = -1"
      ],
      "metadata": {
        "id": "Q5AHl8v5S9Gx"
      },
      "execution_count": 3,
      "outputs": []
    },
    {
      "cell_type": "markdown",
      "source": [
        ">Part 1) "
      ],
      "metadata": {
        "id": "s9ZQOi4t2-wt"
      }
    },
    {
      "cell_type": "markdown",
      "source": [
        ">Computing Weights"
      ],
      "metadata": {
        "id": "kk_gBi0cGX7u"
      }
    },
    {
      "cell_type": "code",
      "source": [
        "W1 = (np.reshape(Clinton,(1,49)).T) * (np.reshape(President,(1,63)))\n",
        "W2 = (np.reshape(Hillary,(1,49)).T) * (np.reshape(FirstLady,(1,63)))\n",
        "W3 = (np.reshape(Kenstar,(1,49)).T) * (np.reshape(Gentleman,(1,63)))\n",
        "W = W1 + W2 + W3"
      ],
      "metadata": {
        "id": "iJP2_gYSroU6"
      },
      "execution_count": 4,
      "outputs": []
    },
    {
      "cell_type": "code",
      "source": [
        "W"
      ],
      "metadata": {
        "colab": {
          "base_uri": "https://localhost:8080/"
        },
        "id": "xvSAl2tIIb1b",
        "outputId": "dcfa7558-b566-43a8-8b1b-865a83bd459d"
      },
      "execution_count": 6,
      "outputs": [
        {
          "output_type": "execute_result",
          "data": {
            "text/plain": [
              "array([[ 3, -3, -1, ...,  1, -1, -1],\n",
              "       [-3,  3,  1, ..., -1,  1,  1],\n",
              "       [-3,  3,  1, ..., -1,  1,  1],\n",
              "       ...,\n",
              "       [-1,  1,  3, ...,  1, -1, -1],\n",
              "       [ 1, -1,  1, ...,  3,  1, -3],\n",
              "       [-1,  1, -1, ..., -3, -1,  3]])"
            ]
          },
          "metadata": {},
          "execution_count": 6
        }
      ]
    },
    {
      "cell_type": "markdown",
      "source": [
        ">Part 2)"
      ],
      "metadata": {
        "id": "nhspt0jIGNJu"
      }
    },
    {
      "cell_type": "markdown",
      "source": [
        ">Activation Function for Binary "
      ],
      "metadata": {
        "id": "y7QYQ3dF3Bnu"
      }
    },
    {
      "cell_type": "code",
      "source": [
        "def f(X):\n",
        "  if X > 0:\n",
        "    out = 1\n",
        "  if X < 0:\n",
        "    out = 0\n",
        "  if X == 0:\n",
        "    out = X\n",
        "  return out"
      ],
      "metadata": {
        "id": "h61dIOPGvHKu"
      },
      "execution_count": null,
      "outputs": []
    },
    {
      "cell_type": "markdown",
      "source": [
        ">Test 1) Input from X and Output from Y"
      ],
      "metadata": {
        "id": "D5V0LuUV3Hf7"
      }
    },
    {
      "cell_type": "code",
      "source": [
        "Input_Patern1_X = Clinton\n",
        "Input_Patern2_X = Hillary\n",
        "Input_Patern3_X = Kenstar"
      ],
      "metadata": {
        "id": "Qlx-9ZJ9wPj9"
      },
      "execution_count": null,
      "outputs": []
    },
    {
      "cell_type": "code",
      "source": [
        "Y_in1 = np.dot(Input_Patern1_X, W)\n",
        "Y_in2 = np.dot(Input_Patern2_X, W)\n",
        "Y_in3 = np.dot(Input_Patern3_X, W)\n",
        "Y1 = np.zeros((1,63))\n",
        "Y2 = np.zeros((1,63))\n",
        "Y3 = np.zeros((1,63))\n",
        "for i in range(63):\n",
        "  Y1[0,i] = f(int(Y_in1[0,i]))\n",
        "  Y2[0,i] = f(int(Y_in2[0,i]))\n",
        "  Y3[0,i] = f(int(Y_in3[0,i]))\n",
        "Y1 = np.reshape(Y1,(63))\n",
        "Y2 = np.reshape(Y2,(63))\n",
        "Y3 = np.reshape(Y3,(63))"
      ],
      "metadata": {
        "id": "mEhq_vcUwoNW"
      },
      "execution_count": null,
      "outputs": []
    },
    {
      "cell_type": "markdown",
      "source": [
        ">Binary to String Function "
      ],
      "metadata": {
        "id": "LLoc5rsn2z7A"
      }
    },
    {
      "cell_type": "code",
      "source": [
        "def Binary2String(x):\n",
        "  x = (x).tolist()\n",
        "  bin_data = ''.join(map(str,x)) \n",
        "  bin_data = bin_data.replace(\".0\", \"\")\n",
        "  print(\"The binary value is:\", bin_data)\n",
        "  str_data =' '\n",
        "  for i in range(0, len(bin_data), 7):\n",
        "    temp_data = bin_data[i:i + 7]\n",
        "    #binary to decimal conversion\n",
        "    decimal_data = int(temp_data, 2)\n",
        "    str_data = str_data + chr(decimal_data)\n",
        "  print(\"The Binary value after string conversion is:\",\n",
        "    str_data)"
      ],
      "metadata": {
        "id": "1pREfeVu2ihr"
      },
      "execution_count": null,
      "outputs": []
    },
    {
      "cell_type": "markdown",
      "source": [
        "> Y1"
      ],
      "metadata": {
        "id": "FaFKTvpzybyi"
      }
    },
    {
      "cell_type": "code",
      "source": [
        "Binary2String(Y1)"
      ],
      "metadata": {
        "colab": {
          "base_uri": "https://localhost:8080/"
        },
        "id": "U0J-cngVFoYE",
        "outputId": "4c890713-441e-44b6-d652-affe82f22a72"
      },
      "execution_count": null,
      "outputs": [
        {
          "output_type": "stream",
          "name": "stdout",
          "text": [
            "The binary value is: 101000011100101100101111001111010011100100110010111011101110100\n",
            "The Binary value after string conversion is:  President\n"
          ]
        }
      ]
    },
    {
      "cell_type": "markdown",
      "source": [
        ">Y2"
      ],
      "metadata": {
        "id": "aoRsVM3vyh0x"
      }
    },
    {
      "cell_type": "code",
      "source": [
        "Binary2String(Y2)"
      ],
      "metadata": {
        "colab": {
          "base_uri": "https://localhost:8080/"
        },
        "id": "ocjjL6MVyhUb",
        "outputId": "0e96ab0d-12e4-4e48-b0dc-da51822c262f"
      },
      "execution_count": null,
      "outputs": [
        {
          "output_type": "stream",
          "name": "stdout",
          "text": [
            "The binary value is: 100011011010011110010111001111101001001100110000111001001111001\n",
            "The Binary value after string conversion is:  FirstLady\n"
          ]
        }
      ]
    },
    {
      "cell_type": "markdown",
      "source": [
        ">Y3"
      ],
      "metadata": {
        "id": "i3b4fBEVy5KL"
      }
    },
    {
      "cell_type": "code",
      "source": [
        "Binary2String(Y3)"
      ],
      "metadata": {
        "colab": {
          "base_uri": "https://localhost:8080/"
        },
        "id": "rG9RbImty6gB",
        "outputId": "dac77735-aed8-49bf-deb6-08c2b5fc7b16"
      },
      "execution_count": null,
      "outputs": [
        {
          "output_type": "stream",
          "name": "stdout",
          "text": [
            "The binary value is: 100011111001011101110111010011011001100101110110111000011101110\n",
            "The Binary value after string conversion is:  Gentleman\n"
          ]
        }
      ]
    },
    {
      "cell_type": "markdown",
      "source": [
        ">Test 2) Input from Y and Output from X"
      ],
      "metadata": {
        "id": "FOIh5hYW3Y8p"
      }
    },
    {
      "cell_type": "code",
      "source": [
        "Input_Patern1_Y = President\n",
        "Input_Patern2_Y = FirstLady\n",
        "Input_Patern3_Y = Gentleman"
      ],
      "metadata": {
        "id": "YfWA9uDWzrEG"
      },
      "execution_count": null,
      "outputs": []
    },
    {
      "cell_type": "code",
      "source": [
        "X_in1 = np.dot(Input_Patern1_Y, W.T)\n",
        "X_in2 = np.dot(Input_Patern2_Y, W.T)\n",
        "X_in3 = np.dot(Input_Patern3_Y, W.T)\n",
        "X1 = np.zeros((1,49))\n",
        "X2 = np.zeros((1,49))\n",
        "X3 = np.zeros((1,49))\n",
        "for i in range(49):\n",
        "  X1[0,i] = f(int(X_in1[0,i]))\n",
        "  X2[0,i] = f(int(X_in2[0,i]))\n",
        "  X3[0,i] = f(int(X_in3[0,i]))\n",
        "X1 = np.reshape(X1,(49))\n",
        "X2 = np.reshape(X2,(49))\n",
        "X3 = np.reshape(X3,(49))"
      ],
      "metadata": {
        "id": "GSaManq53nsG"
      },
      "execution_count": null,
      "outputs": []
    },
    {
      "cell_type": "markdown",
      "source": [
        ">X1"
      ],
      "metadata": {
        "id": "j51_ZR0r4qO5"
      }
    },
    {
      "cell_type": "code",
      "source": [
        "Binary2String(X1)"
      ],
      "metadata": {
        "colab": {
          "base_uri": "https://localhost:8080/"
        },
        "id": "6sEOpm_d4AWV",
        "outputId": "85db793f-becd-41b6-f39b-2d03ec29efbd"
      },
      "execution_count": null,
      "outputs": [
        {
          "output_type": "stream",
          "name": "stdout",
          "text": [
            "The binary value is: 1000011110110011010011101110111010011011111101110\n",
            "The Binary value after string conversion is:  Clinton\n"
          ]
        }
      ]
    },
    {
      "cell_type": "markdown",
      "source": [
        ">X2"
      ],
      "metadata": {
        "id": "kxK2WFL34rjI"
      }
    },
    {
      "cell_type": "code",
      "source": [
        "Binary2String(X2)"
      ],
      "metadata": {
        "colab": {
          "base_uri": "https://localhost:8080/"
        },
        "id": "NYbtoLpD4cr5",
        "outputId": "30472e45-e921-4060-d63a-c14b6bace775"
      },
      "execution_count": null,
      "outputs": [
        {
          "output_type": "stream",
          "name": "stdout",
          "text": [
            "The binary value is: 1001000110100111011001101100110000111100101111001\n",
            "The Binary value after string conversion is:  Hillary\n"
          ]
        }
      ]
    },
    {
      "cell_type": "markdown",
      "source": [
        ">X3"
      ],
      "metadata": {
        "id": "4XNnBeZp4tKI"
      }
    },
    {
      "cell_type": "code",
      "source": [
        "Binary2String(X3)"
      ],
      "metadata": {
        "colab": {
          "base_uri": "https://localhost:8080/"
        },
        "id": "7tjeOhu84e1f",
        "outputId": "d707736e-475c-4096-83a8-64f1d82432eb"
      },
      "execution_count": null,
      "outputs": [
        {
          "output_type": "stream",
          "name": "stdout",
          "text": [
            "The binary value is: 1001011110010111011101110011111010011000011110010\n",
            "The Binary value after string conversion is:  Kenstar\n"
          ]
        }
      ]
    },
    {
      "cell_type": "markdown",
      "source": [
        ">Part 3)"
      ],
      "metadata": {
        "id": "ciMGHCKrGRan"
      }
    },
    {
      "cell_type": "markdown",
      "source": [
        "> 10 % Noise"
      ],
      "metadata": {
        "id": "AeBIBjVr5LO3"
      }
    },
    {
      "cell_type": "code",
      "source": [
        "Count1 = 0\n",
        "Count2 = 0\n",
        "Count3 = 0\n",
        "for i in range(100):\n",
        "  X_noise1 = Clinton.copy()\n",
        "  X_noise2 = Hillary.copy()\n",
        "  X_noise3 = Kenstar.copy()\n",
        "  \n",
        "  index_1 = np.random.randint(49, size=(1,5))\n",
        "  index_2 = np.random.randint(49, size=(1,5))\n",
        "  index_3 = np.random.randint(49, size=(1,5))\n",
        "\n",
        "  for j in range(len(index_1[0])):\n",
        "    if X_noise1[0,index_1[0,j]] == 1:\n",
        "        X_noise1[0,index_1[0,j]] = -1\n",
        "    else:\n",
        "        X_noise1[0,index_1[0,j]] = 1\n",
        "  for j in range(len(index_2[0])):\n",
        "    if X_noise2[0,index_2[0,j]] == 1:\n",
        "        X_noise2[0,index_2[0,j]] = -1\n",
        "    else:\n",
        "        X_noise2[0,index_2[0,j]] = 1\n",
        "  for j in range(len(index_3[0])):\n",
        "    if X_noise3[0,index_3[0,j]] == 1:\n",
        "        X_noise3[0,index_3[0,j]] = -1\n",
        "    else:\n",
        "        X_noise3[0,index_3[0,j]] = 1\n",
        "  Y_in1_noise = np.dot(X_noise1, W)\n",
        "  Y_in2_noise = np.dot(X_noise2, W)\n",
        "  Y_in3_noise = np.dot(X_noise3, W)\n",
        "  Y1_noise = np.zeros((1,63))\n",
        "  Y2_noise = np.zeros((1,63))\n",
        "  Y3_noise = np.zeros((1,63))\n",
        "  for k in range(63):\n",
        "    Y1_noise[0,k] = f(int(Y_in1_noise[0,k]))\n",
        "    Y2_noise[0,k] = f(int(Y_in2_noise[0,k]))\n",
        "    Y3_noise[0,k] = f(int(Y_in3_noise[0,k]))\n",
        "  a1 = (Y1_noise == President)\n",
        "  a2 = (Y2_noise == FirstLady)\n",
        "  a3 = (Y3_noise == Gentleman)\n",
        "\n",
        "  Cnt1 = np.count_nonzero(a1 == True)\n",
        "  mean1 = (Cnt1/63)*100\n",
        "  Count1 = Count1 + mean1\n",
        "\n",
        "  Cnt2 = np.count_nonzero(a2 == True)\n",
        "  mean2 = (Cnt2/63)*100\n",
        "  Count2 = Count2 + Cnt2\n",
        "  \n",
        "  Cnt3 = np.count_nonzero(a3 == True)\n",
        "  mean3 = (Cnt3/63)*100\n",
        "  Count3 = Count3 + Cnt3\n",
        "\n",
        "print('The Correct Percentage for Output of Y1 is: %', Count1/100)\n",
        "print('The Correct Percentage for Output of Y2 is: %', Count2/100)\n",
        "print('The Correct Percentage for Output of Y3 is: %', Count3/100)"
      ],
      "metadata": {
        "colab": {
          "base_uri": "https://localhost:8080/"
        },
        "id": "p7NNhBPQ5OGf",
        "outputId": "03536961-e382-4ac1-b932-2a7573de72e8"
      },
      "execution_count": null,
      "outputs": [
        {
          "output_type": "stream",
          "name": "stdout",
          "text": [
            "The Correct Percentage for Output of Y1 is: % 55.55555555555563\n",
            "The Correct Percentage for Output of Y2 is: % 34.0\n",
            "The Correct Percentage for Output of Y3 is: % 37.92\n"
          ]
        }
      ]
    },
    {
      "cell_type": "code",
      "source": [
        "Count1 = 0\n",
        "Count2 = 0\n",
        "Count3 = 0\n",
        "for i in range(100):\n",
        "  Y_noise1 = President.copy()\n",
        "  Y_noise2 = FirstLady.copy()\n",
        "  Y_noise3 = Gentleman.copy()\n",
        "  \n",
        "  index_1 = np.random.randint(63, size=(1,5))\n",
        "  index_2 = np.random.randint(63, size=(1,5))\n",
        "  index_3 = np.random.randint(63, size=(1,5))\n",
        "\n",
        "  for j in range(len(index_1[0])):\n",
        "    if Y_noise1[0,index_1[0,j]] == 1:\n",
        "        Y_noise1[0,index_1[0,j]] = -1\n",
        "    else:\n",
        "        Y_noise1[0,index_1[0,j]] = 1\n",
        "  for j in range(len(index_2[0])):\n",
        "    if Y_noise2[0,index_2[0,j]] == 1:\n",
        "        Y_noise2[0,index_2[0,j]] = -1\n",
        "    else:\n",
        "        Y_noise2[0,index_2[0,j]] = 1\n",
        "  for j in range(len(index_3[0])):\n",
        "    if Y_noise3[0,index_3[0,j]] == 1:\n",
        "        Y_noise3[0,index_3[0,j]] = -1\n",
        "    else:\n",
        "        Y_noise3[0,index_3[0,j]] = 1\n",
        "  X_in1_noise = np.dot(Y_noise1, W.T)\n",
        "  X_in2_noise = np.dot(Y_noise2, W.T)\n",
        "  X_in3_noise = np.dot(Y_noise3, W.T)\n",
        "  X1_noise = np.zeros((1,49))\n",
        "  X2_noise = np.zeros((1,49))\n",
        "  X3_noise = np.zeros((1,49))\n",
        "  for k in range(49):\n",
        "    X1_noise[0,k] = f(int(X_in1_noise[0,k]))\n",
        "    X2_noise[0,k] = f(int(X_in2_noise[0,k]))\n",
        "    X3_noise[0,k] = f(int(X_in3_noise[0,k]))\n",
        "  \n",
        "  a1 = (X1_noise == Clinton)\n",
        "  a2 = (X2_noise == Hillary)\n",
        "  a3 = (X3_noise == Kenstar)\n",
        "\n",
        "  Cnt1 = np.count_nonzero(a1 == True)\n",
        "  mean1 = (Cnt1/49)*100\n",
        "  Count1 = Count1 + mean1\n",
        "\n",
        "  Cnt2 = np.count_nonzero(a2 == True)\n",
        "  mean2 = (Cnt2/49)*100\n",
        "  Count2 = Count2 + Cnt2\n",
        "  \n",
        "  Cnt3 = np.count_nonzero(a3 == True)\n",
        "  mean3 = (Cnt3/49)*100\n",
        "  Count3 = Count3 + Cnt3\n",
        "\n",
        "print('The Correct Percentage for Output of X1 is: %', Count1/100)\n",
        "print('The Correct Percentage for Output of X2 is: %', Count2/100)\n",
        "print('The Correct Percentage for Output of X3 is: %', Count3/100)"
      ],
      "metadata": {
        "colab": {
          "base_uri": "https://localhost:8080/"
        },
        "id": "HZSVsuV6QQlR",
        "outputId": "832a4cfe-8180-4d22-d759-ee09f5825b00"
      },
      "execution_count": null,
      "outputs": [
        {
          "output_type": "stream",
          "name": "stdout",
          "text": [
            "The Correct Percentage for Output of X1 is: % 63.26530612244908\n",
            "The Correct Percentage for Output of X2 is: % 26.0\n",
            "The Correct Percentage for Output of X3 is: % 29.0\n"
          ]
        }
      ]
    },
    {
      "cell_type": "code",
      "source": [
        "63*0.2"
      ],
      "metadata": {
        "colab": {
          "base_uri": "https://localhost:8080/"
        },
        "id": "DHEt6xP15Czf",
        "outputId": "8691e932-99f5-4d5c-a491-f3333c5bb7c6"
      },
      "execution_count": null,
      "outputs": [
        {
          "output_type": "execute_result",
          "data": {
            "text/plain": [
              "12.600000000000001"
            ]
          },
          "metadata": {},
          "execution_count": 96
        }
      ]
    },
    {
      "cell_type": "markdown",
      "source": [
        ">20% Noise"
      ],
      "metadata": {
        "id": "4jBKfFnpFmdJ"
      }
    },
    {
      "cell_type": "code",
      "source": [
        "Count1 = 0\n",
        "Count2 = 0\n",
        "Count3 = 0\n",
        "for i in range(100):\n",
        "  X_noise1 = Clinton.copy()\n",
        "  X_noise2 = Hillary.copy()\n",
        "  X_noise3 = Kenstar.copy()\n",
        "  \n",
        "  index_1 = np.random.randint(49, size=(1,13))\n",
        "  index_2 = np.random.randint(49, size=(1,13))\n",
        "  index_3 = np.random.randint(49, size=(1,13))\n",
        "\n",
        "  for j in range(len(index_1[0])):\n",
        "    if X_noise1[0,index_1[0,j]] == 1:\n",
        "        X_noise1[0,index_1[0,j]] = -1\n",
        "    else:\n",
        "        X_noise1[0,index_1[0,j]] = 1\n",
        "  for j in range(len(index_2[0])):\n",
        "    if X_noise2[0,index_2[0,j]] == 1:\n",
        "        X_noise2[0,index_2[0,j]] = -1\n",
        "    else:\n",
        "        X_noise2[0,index_2[0,j]] = 1\n",
        "  for j in range(len(index_3[0])):\n",
        "    if X_noise3[0,index_3[0,j]] == 1:\n",
        "        X_noise3[0,index_3[0,j]] = -1\n",
        "    else:\n",
        "        X_noise3[0,index_3[0,j]] = 1\n",
        "  Y_in1_noise = np.dot(X_noise1, W)\n",
        "  Y_in2_noise = np.dot(X_noise2, W)\n",
        "  Y_in3_noise = np.dot(X_noise3, W)\n",
        "  Y1_noise = np.zeros((1,63))\n",
        "  Y2_noise = np.zeros((1,63))\n",
        "  Y3_noise = np.zeros((1,63))\n",
        "  for k in range(63):\n",
        "    Y1_noise[0,k] = f(int(Y_in1_noise[0,k]))\n",
        "    Y2_noise[0,k] = f(int(Y_in2_noise[0,k]))\n",
        "    Y3_noise[0,k] = f(int(Y_in3_noise[0,k]))\n",
        "  a1 = (Y1_noise == President)\n",
        "  a2 = (Y2_noise == FirstLady)\n",
        "  a3 = (Y3_noise == Gentleman)\n",
        "\n",
        "  Cnt1 = np.count_nonzero(a1 == True)\n",
        "  mean1 = (Cnt1/63)*100\n",
        "  Count1 = Count1 + mean1\n",
        "\n",
        "  Cnt2 = np.count_nonzero(a2 == True)\n",
        "  mean2 = (Cnt2/63)*100\n",
        "  Count2 = Count2 + Cnt2\n",
        "  \n",
        "  Cnt3 = np.count_nonzero(a3 == True)\n",
        "  mean3 = (Cnt3/63)*100\n",
        "  Count3 = Count3 + Cnt3\n",
        "\n",
        "print('The Correct Percentage for Output of Y1 is: %', Count1/100)\n",
        "print('The Correct Percentage for Output of Y2 is: %', Count2/100)\n",
        "print('The Correct Percentage for Output of Y3 is: %', Count3/100)"
      ],
      "metadata": {
        "colab": {
          "base_uri": "https://localhost:8080/"
        },
        "id": "webW13k57N7Q",
        "outputId": "7ca1202d-0dde-40a7-a102-b77edc7dafe3"
      },
      "execution_count": null,
      "outputs": [
        {
          "output_type": "stream",
          "name": "stdout",
          "text": [
            "The Correct Percentage for Output of Y1 is: % 54.666666666666735\n",
            "The Correct Percentage for Output of Y2 is: % 33.8\n",
            "The Correct Percentage for Output of Y3 is: % 36.88\n"
          ]
        }
      ]
    },
    {
      "cell_type": "code",
      "source": [
        "Count1 = 0\n",
        "Count2 = 0\n",
        "Count3 = 0\n",
        "for i in range(100):\n",
        "  Y_noise1 = President.copy()\n",
        "  Y_noise2 = FirstLady.copy()\n",
        "  Y_noise3 = Gentleman.copy()\n",
        "  \n",
        "  index_1 = np.random.randint(63, size=(1,13))\n",
        "  index_2 = np.random.randint(63, size=(1,13))\n",
        "  index_3 = np.random.randint(63, size=(1,13))\n",
        "\n",
        "  for j in range(len(index_1[0])):\n",
        "    if Y_noise1[0,index_1[0,j]] == 1:\n",
        "        Y_noise1[0,index_1[0,j]] = -1\n",
        "    else:\n",
        "        Y_noise1[0,index_1[0,j]] = 1\n",
        "  for j in range(len(index_2[0])):\n",
        "    if Y_noise2[0,index_2[0,j]] == 1:\n",
        "        Y_noise2[0,index_2[0,j]] = -1\n",
        "    else:\n",
        "        Y_noise2[0,index_2[0,j]] = 1\n",
        "  for j in range(len(index_3[0])):\n",
        "    if Y_noise3[0,index_3[0,j]] == 1:\n",
        "        Y_noise3[0,index_3[0,j]] = -1\n",
        "    else:\n",
        "        Y_noise3[0,index_3[0,j]] = 1\n",
        "  X_in1_noise = np.dot(Y_noise1, W.T)\n",
        "  X_in2_noise = np.dot(Y_noise2, W.T)\n",
        "  X_in3_noise = np.dot(Y_noise3, W.T)\n",
        "  X1_noise = np.zeros((1,49))\n",
        "  X2_noise = np.zeros((1,49))\n",
        "  X3_noise = np.zeros((1,49))\n",
        "  for k in range(49):\n",
        "    X1_noise[0,k] = f(int(X_in1_noise[0,k]))\n",
        "    X2_noise[0,k] = f(int(X_in2_noise[0,k]))\n",
        "    X3_noise[0,k] = f(int(X_in3_noise[0,k]))\n",
        "  \n",
        "  a1 = (X1_noise == Clinton)\n",
        "  a2 = (X2_noise == Hillary)\n",
        "  a3 = (X3_noise == Kenstar)\n",
        "\n",
        "  Cnt1 = np.count_nonzero(a1 == True)\n",
        "  mean1 = (Cnt1/49)*100\n",
        "  Count1 = Count1 + mean1\n",
        "\n",
        "  Cnt2 = np.count_nonzero(a2 == True)\n",
        "  mean2 = (Cnt2/49)*100\n",
        "  Count2 = Count2 + Cnt2\n",
        "  \n",
        "  Cnt3 = np.count_nonzero(a3 == True)\n",
        "  mean3 = (Cnt3/49)*100\n",
        "  Count3 = Count3 + Cnt3\n",
        "\n",
        "print('The Correct Percentage for Output of X1 is: %', Count1/100)\n",
        "print('The Correct Percentage for Output of X2 is: %', Count2/100)\n",
        "print('The Correct Percentage for Output of X3 is: %', Count3/100)"
      ],
      "metadata": {
        "colab": {
          "base_uri": "https://localhost:8080/"
        },
        "id": "U9kIyYwl7Pih",
        "outputId": "3b11f9b3-af25-49f0-f21a-4cc00e9e0290"
      },
      "execution_count": null,
      "outputs": [
        {
          "output_type": "stream",
          "name": "stdout",
          "text": [
            "The Correct Percentage for Output of X1 is: % 63.02040816326541\n",
            "The Correct Percentage for Output of X2 is: % 25.97\n",
            "The Correct Percentage for Output of X3 is: % 29.0\n"
          ]
        }
      ]
    },
    {
      "cell_type": "markdown",
      "source": [
        ">Part 4)"
      ],
      "metadata": {
        "id": "1l5nJVI7GdD1"
      }
    },
    {
      "cell_type": "code",
      "source": [
        "Lewisky = np.array([[1,0,0,1,1,0,0, 1,1,0,0,1,0,1, 1,1,1,0,1,1,1, 1,1,0,1,0,0,1, 1,1,1,0,0,1,1, 1,1,0,1,0,1,1, 1,1,1,1,0,0,1]])\n",
        "Lewisky[np.where(Lewisky==0)] = -1\n",
        "SweetGirl = np.array([[1,0,1,0,0,1,1, 1,1,1,0,1,1,1, 1,1,0,0,1,0,1, 1,1,0,0,1,0,1, 1,1,1,0,1,0,0, 1,0,0,0,1,1,1, 1,1,0,1,0,0,1, 1,1,1,0,0,1,0, 1,1,0,1,1,0,0]])\n",
        "SweetGirl[np.where(SweetGirl==0)] = -1\n"
      ],
      "metadata": {
        "id": "8g1E5TzEF8Wq"
      },
      "execution_count": null,
      "outputs": []
    },
    {
      "cell_type": "code",
      "source": [
        "W1 = (np.reshape(Clinton,(1,49)).T) * (np.reshape(President,(1,63)))\n",
        "W2 = (np.reshape(Hillary,(1,49)).T) * (np.reshape(FirstLady,(1,63)))\n",
        "W3 = (np.reshape(Kenstar,(1,49)).T) * (np.reshape(Gentleman,(1,63)))\n",
        "W4 = (np.reshape(Lewisky,(1,49)).T) * (np.reshape(SweetGirl,(1,63)))\n",
        "W = W1 + W2 + W3 + W4"
      ],
      "metadata": {
        "id": "sOA9DveTJgst"
      },
      "execution_count": null,
      "outputs": []
    },
    {
      "cell_type": "code",
      "source": [
        "W"
      ],
      "metadata": {
        "colab": {
          "base_uri": "https://localhost:8080/"
        },
        "id": "l4RWU-SNMDJW",
        "outputId": "fc02dd47-4b79-4e81-8ce8-45667624d691"
      },
      "execution_count": null,
      "outputs": [
        {
          "output_type": "execute_result",
          "data": {
            "text/plain": [
              "array([[ 4, -4,  0, ...,  2, -2, -2],\n",
              "       [-4,  4,  0, ..., -2,  2,  2],\n",
              "       [-4,  4,  0, ..., -2,  2,  2],\n",
              "       ...,\n",
              "       [-2,  2,  2, ...,  0,  0,  0],\n",
              "       [ 0,  0,  0, ...,  2,  2, -2],\n",
              "       [ 0,  0,  0, ..., -2, -2,  2]])"
            ]
          },
          "metadata": {},
          "execution_count": 186
        }
      ]
    },
    {
      "cell_type": "markdown",
      "source": [
        ">Test 1) Input from X and Output from Y"
      ],
      "metadata": {
        "id": "a1B2TJDKN5VO"
      }
    },
    {
      "cell_type": "code",
      "source": [
        "Input_Patern1_X_new = Clinton.copy()\n",
        "Input_Patern2_X_new = Hillary.copy()\n",
        "Input_Patern3_X_new = Kenstar.copy()\n",
        "Input_Patern4_X_new = Lewisky.copy()"
      ],
      "metadata": {
        "id": "SLsHE7y_NvpS"
      },
      "execution_count": null,
      "outputs": []
    },
    {
      "cell_type": "code",
      "source": [
        "Y_in1_new = np.dot(Input_Patern1_X_new, W)\n",
        "Y_in2_new = np.dot(Input_Patern2_X_new, W)\n",
        "Y_in3_new = np.dot(Input_Patern3_X_new, W)\n",
        "Y_in4_new = np.dot(Input_Patern4_X_new, W)\n",
        "Y1_new = np.zeros((1,63))\n",
        "Y2_new = np.zeros((1,63))\n",
        "Y3_new = np.zeros((1,63))\n",
        "Y4_new = np.zeros((1,63))\n",
        "for i in range(63):\n",
        "  Y1_new[0,i] = f(int(Y_in1_new[0,i]))\n",
        "  Y2_new[0,i] = f(int(Y_in2_new[0,i]))\n",
        "  Y3_new[0,i] = f(int(Y_in3_new[0,i]))\n",
        "  Y4_new[0,i] = f(int(Y_in4_new[0,i]))\n",
        "Y1_new = np.reshape(Y1_new,(63))\n",
        "Y2_new = np.reshape(Y2_new,(63))\n",
        "Y3_new = np.reshape(Y3_new,(63))\n",
        "Y4_new = np.reshape(Y4_new,(63))"
      ],
      "metadata": {
        "id": "6LqVOK19OIvr"
      },
      "execution_count": null,
      "outputs": []
    },
    {
      "cell_type": "code",
      "source": [
        "Binary2String(Y1_new)"
      ],
      "metadata": {
        "colab": {
          "base_uri": "https://localhost:8080/"
        },
        "id": "JjkcWIriOVSH",
        "outputId": "9faeac34-be09-4e73-dafa-9528f385dfc8"
      },
      "execution_count": null,
      "outputs": [
        {
          "output_type": "stream",
          "name": "stdout",
          "text": [
            "The binary value is: 101000011100101100101111001111010011100100110010111011101110100\n",
            "The Binary value after string conversion is:  President\n"
          ]
        }
      ]
    },
    {
      "cell_type": "code",
      "source": [
        "Binary2String(Y2_new)"
      ],
      "metadata": {
        "colab": {
          "base_uri": "https://localhost:8080/"
        },
        "id": "bS1t3St9OjN1",
        "outputId": "8edfe1b6-0c5c-4172-ee11-25df0a549144"
      },
      "execution_count": null,
      "outputs": [
        {
          "output_type": "stream",
          "name": "stdout",
          "text": [
            "The binary value is: 100011011010011110010111001111101001001100110000111001001111001\n",
            "The Binary value after string conversion is:  FirstLady\n"
          ]
        }
      ]
    },
    {
      "cell_type": "code",
      "source": [
        "Binary2String(Y3_new)"
      ],
      "metadata": {
        "colab": {
          "base_uri": "https://localhost:8080/"
        },
        "id": "yYvZcREwRFt-",
        "outputId": "bb6b92d3-dfae-46dc-ab1f-86f64dba5a95"
      },
      "execution_count": null,
      "outputs": [
        {
          "output_type": "stream",
          "name": "stdout",
          "text": [
            "The binary value is: 100011111001011101110111010011011001100101110110111000011101110\n",
            "The Binary value after string conversion is:  Gentleman\n"
          ]
        }
      ]
    },
    {
      "cell_type": "code",
      "source": [
        "Binary2String(Y4_new)"
      ],
      "metadata": {
        "colab": {
          "base_uri": "https://localhost:8080/"
        },
        "id": "yUie4xv5RGfR",
        "outputId": "41d6233c-d499-405f-dad6-182a15ad8db8"
      },
      "execution_count": null,
      "outputs": [
        {
          "output_type": "stream",
          "name": "stdout",
          "text": [
            "The binary value is: 101001111101111100101110010111101001000111110100111100101101100\n",
            "The Binary value after string conversion is:  SweetGirl\n"
          ]
        }
      ]
    },
    {
      "cell_type": "markdown",
      "source": [
        ">Test 2) Input from Y and Output from X"
      ],
      "metadata": {
        "id": "H3Js2KfKTt20"
      }
    },
    {
      "cell_type": "code",
      "source": [
        "Input_Patern1_Y_new = President.copy()\n",
        "Input_Patern2_Y_new = FirstLady.copy()\n",
        "Input_Patern3_Y_new = Gentleman.copy()\n",
        "Input_Patern4_Y_new = SweetGirl.copy()"
      ],
      "metadata": {
        "id": "NOh80VfqRJOe"
      },
      "execution_count": null,
      "outputs": []
    },
    {
      "cell_type": "code",
      "source": [
        "X_in1_new = np.dot(Input_Patern1_Y_new, W.T)\n",
        "X_in2_new = np.dot(Input_Patern2_Y_new, W.T)\n",
        "X_in3_new = np.dot(Input_Patern3_Y_new, W.T)\n",
        "X_in4_new = np.dot(Input_Patern4_Y_new, W.T)\n",
        "X1_new = np.zeros((1,49))\n",
        "X2_new = np.zeros((1,49))\n",
        "X3_new = np.zeros((1,49))\n",
        "X4_new = np.zeros((1,49))\n",
        "for i in range(49):\n",
        "  X1_new[0,i] = f(int(X_in1_new[0,i]))\n",
        "  X2_new[0,i] = f(int(X_in2_new[0,i]))\n",
        "  X3_new[0,i] = f(int(X_in3_new[0,i]))\n",
        "  X4_new[0,i] = f(int(X_in4_new[0,i]))\n",
        "X1_new = np.reshape(X1_new,(49))\n",
        "X2_new = np.reshape(X2_new,(49))\n",
        "X3_new = np.reshape(X3_new,(49))\n",
        "X4_new = np.reshape(X4_new,(49))"
      ],
      "metadata": {
        "id": "_j5s5r-qTz4R"
      },
      "execution_count": null,
      "outputs": []
    },
    {
      "cell_type": "code",
      "source": [
        "Binary2String(X1_new)"
      ],
      "metadata": {
        "colab": {
          "base_uri": "https://localhost:8080/"
        },
        "id": "z7K_2V_PUGfG",
        "outputId": "11e7571a-ae83-4485-9b67-2ae12266082f"
      },
      "execution_count": null,
      "outputs": [
        {
          "output_type": "stream",
          "name": "stdout",
          "text": [
            "The binary value is: 1000011110110011010011101110111010011011111101110\n",
            "The Binary value after string conversion is:  Clinton\n"
          ]
        }
      ]
    },
    {
      "cell_type": "code",
      "source": [
        "Binary2String(X2_new)"
      ],
      "metadata": {
        "colab": {
          "base_uri": "https://localhost:8080/"
        },
        "id": "TZH3lpffUvO9",
        "outputId": "ac9124ec-c983-4d8d-8f84-0277453fe448"
      },
      "execution_count": null,
      "outputs": [
        {
          "output_type": "stream",
          "name": "stdout",
          "text": [
            "The binary value is: 1001000110100111011001101100110000111100101111001\n",
            "The Binary value after string conversion is:  Hillary\n"
          ]
        }
      ]
    },
    {
      "cell_type": "code",
      "source": [
        "Binary2String(X3_new)"
      ],
      "metadata": {
        "colab": {
          "base_uri": "https://localhost:8080/"
        },
        "id": "wFC_57pXUy1w",
        "outputId": "b88b01df-11b1-4181-dbab-29e559d3a142"
      },
      "execution_count": null,
      "outputs": [
        {
          "output_type": "stream",
          "name": "stdout",
          "text": [
            "The binary value is: 1001011110010111011101110011111010011000011110010\n",
            "The Binary value after string conversion is:  Kenstar\n"
          ]
        }
      ]
    },
    {
      "cell_type": "code",
      "source": [
        "Binary2String(X4_new)"
      ],
      "metadata": {
        "colab": {
          "base_uri": "https://localhost:8080/"
        },
        "id": "DjvefP4lU0wk",
        "outputId": "dc79febd-3f39-47e7-8809-89907bb654b2"
      },
      "execution_count": null,
      "outputs": [
        {
          "output_type": "stream",
          "name": "stdout",
          "text": [
            "The binary value is: 1001000110010111001111101001111000111010111111001\n",
            "The Binary value after string conversion is:  Hegiqky\n"
          ]
        }
      ]
    },
    {
      "cell_type": "markdown",
      "source": [
        "> 10% Noise"
      ],
      "metadata": {
        "id": "_CQdMndtU8VQ"
      }
    },
    {
      "cell_type": "code",
      "source": [
        "Count1 = 0\n",
        "Count2 = 0\n",
        "Count3 = 0\n",
        "Count4 = 0\n",
        "for i in range(100):\n",
        "  X_noise1 = Clinton.copy()\n",
        "  X_noise2 = Hillary.copy()\n",
        "  X_noise3 = Kenstar.copy()\n",
        "  X_noise4 = Lewisky.copy()\n",
        "  index_1 = np.random.randint(49, size=(1,5))\n",
        "  index_2 = np.random.randint(49, size=(1,5))\n",
        "  index_3 = np.random.randint(49, size=(1,5))\n",
        "  index_4 = np.random.randint(49, size=(1,5))\n",
        "  for j in range(len(index_1[0])):\n",
        "    if X_noise1[0,index_1[0,j]] == 1:\n",
        "        X_noise1[0,index_1[0,j]] = -1\n",
        "    else:\n",
        "        X_noise1[0,index_1[0,j]] = 1\n",
        "  for j in range(len(index_2[0])):\n",
        "    if X_noise2[0,index_2[0,j]] == 1:\n",
        "        X_noise2[0,index_2[0,j]] = -1\n",
        "    else:\n",
        "        X_noise2[0,index_2[0,j]] = 1\n",
        "  for j in range(len(index_3[0])):\n",
        "    if X_noise3[0,index_3[0,j]] == 1:\n",
        "        X_noise3[0,index_3[0,j]] = -1\n",
        "    else:\n",
        "        X_noise3[0,index_3[0,j]] = 1\n",
        "  for j in range(len(index_4[0])):\n",
        "    if X_noise4[0,index_4[0,j]] == 1:\n",
        "        X_noise4[0,index_4[0,j]] = -1\n",
        "    else:\n",
        "        X_noise4[0,index_4[0,j]] = 1\n",
        "  Y_in1_noise = np.dot(X_noise1, W)\n",
        "  Y_in2_noise = np.dot(X_noise2, W)\n",
        "  Y_in3_noise = np.dot(X_noise3, W)\n",
        "  Y_in4_noise = np.dot(X_noise4, W)\n",
        "  \n",
        "  Y1_noise = np.zeros((1,63))\n",
        "  Y2_noise = np.zeros((1,63))\n",
        "  Y3_noise = np.zeros((1,63))\n",
        "  Y4_noise = np.zeros((1,63))\n",
        "  for k in range(63):\n",
        "    Y1_noise[0,k] = f(int(Y_in1_noise[0,k]))\n",
        "    Y2_noise[0,k] = f(int(Y_in2_noise[0,k]))\n",
        "    Y3_noise[0,k] = f(int(Y_in3_noise[0,k]))\n",
        "    Y4_noise[0,k] = f(int(Y_in4_noise[0,k]))\n",
        "  a1 = (Y1_noise == President)\n",
        "  a2 = (Y2_noise == FirstLady)\n",
        "  a3 = (Y3_noise == Gentleman)\n",
        "  a4 = (Y4_noise == SweetGirl)\n",
        "\n",
        "  Cnt1 = np.count_nonzero(a1 == True)\n",
        "  mean1 = (Cnt1/63)*100\n",
        "  Count1 = Count1 + mean1\n",
        "\n",
        "  Cnt2 = np.count_nonzero(a2 == True)\n",
        "  mean2 = (Cnt2/63)*100\n",
        "  Count2 = Count2 + Cnt2\n",
        "  \n",
        "  Cnt3 = np.count_nonzero(a3 == True)\n",
        "  mean3 = (Cnt3/63)*100\n",
        "  Count3 = Count3 + Cnt3\n",
        "\n",
        "  Cnt4 = np.count_nonzero(a4 == True)\n",
        "  mean4 = (Cnt4/63)*100\n",
        "  Count4 = Count4 + Cnt4\n",
        "\n",
        "print('The Correct Percentage for Output of Y1 is: %', Count1/100)\n",
        "print('The Correct Percentage for Output of Y2 is: %', Count2/100)\n",
        "print('The Correct Percentage for Output of Y3 is: %', Count3/100)\n",
        "print('The Correct Percentage for Output of Y4 is: %', Count4/100)"
      ],
      "metadata": {
        "colab": {
          "base_uri": "https://localhost:8080/"
        },
        "id": "5FQ9EcEwU14G",
        "outputId": "7c61c680-efe2-448c-bbec-5475b8e8aad9"
      },
      "execution_count": null,
      "outputs": [
        {
          "output_type": "stream",
          "name": "stdout",
          "text": [
            "The Correct Percentage for Output of Y1 is: % 55.1428571428572\n",
            "The Correct Percentage for Output of Y2 is: % 32.84\n",
            "The Correct Percentage for Output of Y3 is: % 37.28\n",
            "The Correct Percentage for Output of Y4 is: % 37.54\n"
          ]
        }
      ]
    },
    {
      "cell_type": "code",
      "source": [
        "Count1 = 0\n",
        "Count2 = 0\n",
        "Count3 = 0\n",
        "Count4 = 0\n",
        "for i in range(100):\n",
        "  Y_noise1 = President.copy()\n",
        "  Y_noise2 = FirstLady.copy()\n",
        "  Y_noise3 = Gentleman.copy()\n",
        "  Y_noise4 = SweetGirl.copy()\n",
        "  index_1 = np.random.randint(63, size=(1,5))\n",
        "  index_2 = np.random.randint(63, size=(1,5))\n",
        "  index_3 = np.random.randint(63, size=(1,5))\n",
        "  index_4 = np.random.randint(63, size=(1,5))\n",
        "\n",
        "  for j in range(len(index_1[0])):\n",
        "    if Y_noise1[0,index_1[0,j]] == 1:\n",
        "        Y_noise1[0,index_1[0,j]] = -1\n",
        "    else:\n",
        "        Y_noise1[0,index_1[0,j]] = 1\n",
        "  for j in range(len(index_2[0])):\n",
        "    if Y_noise2[0,index_2[0,j]] == 1:\n",
        "        Y_noise2[0,index_2[0,j]] = -1\n",
        "    else:\n",
        "        Y_noise2[0,index_2[0,j]] = 1\n",
        "  for j in range(len(index_3[0])):\n",
        "    if Y_noise3[0,index_3[0,j]] == 1:\n",
        "        Y_noise3[0,index_3[0,j]] = -1\n",
        "    else:\n",
        "        Y_noise3[0,index_3[0,j]] = 1\n",
        "  for j in range(len(index_4[0])):\n",
        "    if Y_noise4[0,index_4[0,j]] == 1:\n",
        "        Y_noise4[0,index_4[0,j]] = -1\n",
        "    else:\n",
        "        Y_noise4[0,index_4[0,j]] = 1\n",
        "  X_in1_noise = np.dot(Y_noise1, W.T)\n",
        "  X_in2_noise = np.dot(Y_noise2, W.T)\n",
        "  X_in3_noise = np.dot(Y_noise3, W.T)\n",
        "  X_in4_noise = np.dot(Y_noise4, W.T)\n",
        "  X1_noise = np.zeros((1,49))\n",
        "  X2_noise = np.zeros((1,49))\n",
        "  X3_noise = np.zeros((1,49))\n",
        "  X4_noise = np.zeros((1,49))\n",
        "  for k in range(49):\n",
        "    X1_noise[0,k] = f(int(X_in1_noise[0,k]))\n",
        "    X2_noise[0,k] = f(int(X_in2_noise[0,k]))\n",
        "    X3_noise[0,k] = f(int(X_in3_noise[0,k]))\n",
        "    X4_noise[0,k] = f(int(X_in4_noise[0,k]))\n",
        "  a1 = (X1_noise == Clinton)\n",
        "  a2 = (X2_noise == Hillary)\n",
        "  a3 = (X3_noise == Kenstar)\n",
        "  a4 = (X4_noise == Lewisky)\n",
        "  Cnt1 = np.count_nonzero(a1 == True)\n",
        "  mean1 = (Cnt1/49)*100\n",
        "  Count1 = Count1 + mean1\n",
        "\n",
        "  Cnt2 = np.count_nonzero(a2 == True)\n",
        "  mean2 = (Cnt2/49)*100\n",
        "  Count2 = Count2 + Cnt2\n",
        "  \n",
        "  Cnt3 = np.count_nonzero(a3 == True)\n",
        "  mean3 = (Cnt3/49)*100\n",
        "  Count3 = Count3 + Cnt3\n",
        "\n",
        "  Cnt4 = np.count_nonzero(a4 == True)\n",
        "  mean4 = (Cnt4/49)*100\n",
        "  Count4 = Count4 + Cnt4\n",
        "print('The Correct Percentage for Output of X1 is: %', Count1/100)\n",
        "print('The Correct Percentage for Output of X2 is: %', Count2/100)\n",
        "print('The Correct Percentage for Output of X3 is: %', Count3/100)\n",
        "print('The Correct Percentage for Output of X4 is: %', Count4/100)"
      ],
      "metadata": {
        "colab": {
          "base_uri": "https://localhost:8080/"
        },
        "id": "Z6uxXQv5VRHA",
        "outputId": "82c2dfde-3f8e-48bb-ebb4-8f770e109184"
      },
      "execution_count": null,
      "outputs": [
        {
          "output_type": "stream",
          "name": "stdout",
          "text": [
            "The Correct Percentage for Output of X1 is: % 62.6530612244899\n",
            "The Correct Percentage for Output of X2 is: % 25.81\n",
            "The Correct Percentage for Output of X3 is: % 28.58\n",
            "The Correct Percentage for Output of X4 is: % 29.99\n"
          ]
        }
      ]
    },
    {
      "cell_type": "code",
      "source": [
        ""
      ],
      "metadata": {
        "id": "Q8PwKto6aJZw"
      },
      "execution_count": null,
      "outputs": []
    }
  ]
}