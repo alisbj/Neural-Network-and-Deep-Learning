{
  "nbformat": 4,
  "nbformat_minor": 0,
  "metadata": {
    "colab": {
      "name": "Q1_Part5.ipynb",
      "provenance": []
    },
    "kernelspec": {
      "name": "python3",
      "display_name": "Python 3"
    },
    "language_info": {
      "name": "python"
    }
  },
  "cells": [
    {
      "cell_type": "code",
      "execution_count": 304,
      "metadata": {
        "id": "CclfQwkCE61n"
      },
      "outputs": [],
      "source": [
        "import numpy as np\n",
        "import matplotlib.pyplot as plt\n",
        "from random import randint"
      ]
    },
    {
      "cell_type": "markdown",
      "source": [
        "##Determine Inputs & Ouputs(Output Size is 5*3)"
      ],
      "metadata": {
        "id": "YkGL9W1sTLvM"
      }
    },
    {
      "cell_type": "code",
      "source": [
        "a = [[-1,-1,-1,-1,-1,-1,+1],\n",
        "     [-1,-1,-1,-1,-1,-1,+1],\n",
        "     [ 1, 1, 1,1, 1, 1, 1],\n",
        "     [+1,-1,-1,1,-1,-1,-1],\n",
        "     [+1,-1,-1,1,-1,-1,-1],\n",
        "     [-1,-1,-1,1,-1,-1,-1],\n",
        "     [-1,-1,-1,1,-1,-1,-1],\n",
        "     [-1,-1,-1,1,-1,-1,-1],\n",
        "     [-1,-1,-1,1,-1,-1,-1]]\n",
        "\n",
        "b =   [[1,-1,-1,-1,-1,-1,1],\n",
        "       [1,-1,-1,-1,-1,-1,1],\n",
        "       [1,-1,-1,-1,-1,-1,1],\n",
        "       [1,-1,-1,-1,-1,-1,1],\n",
        "       [1,-1,-1,-1,-1,-1,1],\n",
        "       [1,-1,-1,-1,-1,-1,1],\n",
        "       [ 1, 1, 1,1, 1, 1, 1],\n",
        "       [-1,-1,-1,-1,-1,-1,-1],\n",
        "       [-1,-1,-1,1,-1,-1,-1]]\n",
        "\n",
        "c =  [[1,-1,-1,-1,-1,-1,1],\n",
        "      [1,-1,-1,-1,-1,-1,1],\n",
        "      [1,-1,-1,-1,-1,-1,1],\n",
        "      [1,-1,-1,-1,-1,-1,1],\n",
        "      [1,-1,-1,+1,-1,-1,1],\n",
        "      [1,-1,-1,-1,-1,-1,1],\n",
        "      [1,-1,-1,-1,-1,-1,1],\n",
        "      [1,-1,-1,-1,-1,-1,1],\n",
        "      [ 1, 1, 1,1, 1, 1,1]]\n",
        "\n",
        "A2 = [[-1,-1,1],\n",
        "      [1 ,1, 1],\n",
        "      [1 ,1,-1],\n",
        "      [-1,1,-1],\n",
        "      [-1,1,-1]]\n",
        "\n",
        "B2 = [[1 ,-1, 1],\n",
        "      [1 ,-1, 1],\n",
        "      [1 , 1, 1],\n",
        "      [-1,-1,-1],\n",
        "      [-1, 1,-1]]\n",
        "\n",
        "C2 = [[1 , -1, 1],\n",
        "      [1 , -1, 1],\n",
        "      [1 ,  1, 1],\n",
        "      [1 , -1, 1],\n",
        "      [1 ,  1, 1]]\n",
        "\n",
        "A = np.array(a)\n",
        "B = np.array(b)\n",
        "C = np.array(c)\n",
        "\n",
        "A2 = np.array(A2)\n",
        "B2 = np.array(B2)\n",
        "C2 = np.array(C2)"
      ],
      "metadata": {
        "id": "sF9mDdN6E-0j"
      },
      "execution_count": 485,
      "outputs": []
    },
    {
      "cell_type": "markdown",
      "source": [
        ">Plot Inputs"
      ],
      "metadata": {
        "id": "1kOZDXIpTozb"
      }
    },
    {
      "cell_type": "code",
      "source": [
        "plt.subplot(1, 3, 1)\n",
        "plt.imshow(A, cmap='binary')\n",
        "plt.subplot(1, 3, 2)\n",
        "plt.imshow(B, cmap='binary')\n",
        "plt.subplot(1, 3, 3)\n",
        "plt.imshow(C, cmap='binary')\n",
        "plt.show()"
      ],
      "metadata": {
        "colab": {
          "base_uri": "https://localhost:8080/",
          "height": 175
        },
        "id": "ex6oYjLcFCIh",
        "outputId": "ef8030a9-00a2-4639-8787-83b0259476d2"
      },
      "execution_count": 486,
      "outputs": [
        {
          "output_type": "display_data",
          "data": {
            "text/plain": [
              "<Figure size 432x288 with 3 Axes>"
            ],
            "image/png": "[encoded data removed]"
          },
          "metadata": {
            "needs_background": "light"
          }
        }
      ]
    },
    {
      "cell_type": "markdown",
      "source": [
        "> Reshape Matrixes to Vectors"
      ],
      "metadata": {
        "id": "5rPbZUCOTtxE"
      }
    },
    {
      "cell_type": "code",
      "source": [
        "X1 = A.reshape(63,1)\n",
        "X2 = B.reshape(63,1)\n",
        "X3 = C.reshape(63,1)\n",
        "\n",
        "S1=A2.reshape(15,1)\n",
        "S2=B2.reshape(15,1)\n",
        "S3=C2.reshape(15,1)"
      ],
      "metadata": {
        "id": "I0F3L8aGFJTJ"
      },
      "execution_count": 487,
      "outputs": []
    },
    {
      "cell_type": "markdown",
      "source": [
        ">Compute Weights"
      ],
      "metadata": {
        "id": "muyl81R3TvMk"
      }
    },
    {
      "cell_type": "code",
      "source": [
        "W1 = np.zeros((63,1))\n",
        "W2 = np.zeros((63,1))\n",
        "W3 = np.zeros((63,1))\n",
        "W1 = np.dot(X1,S1.T)\n",
        "W2 = np.dot(X2,S2.T)\n",
        "W3 = np.dot(X3,S3.T)\n",
        "W = W1 + W2 + W3"
      ],
      "metadata": {
        "id": "wXsLb8rKFTFW"
      },
      "execution_count": 488,
      "outputs": []
    },
    {
      "cell_type": "code",
      "source": [
        "def activation_function(X):\n",
        "    if X > 0:\n",
        "        X = 1\n",
        "    elif X < 0:\n",
        "        X = -1\n",
        "    return X"
      ],
      "metadata": {
        "id": "9FWwT1KhJ1nR"
      },
      "execution_count": 489,
      "outputs": []
    },
    {
      "cell_type": "markdown",
      "source": [
        ">20% Noise"
      ],
      "metadata": {
        "id": "zezaiTtQU8n0"
      }
    },
    {
      "cell_type": "markdown",
      "source": [
        "> Generate 20% noise on the inputs"
      ],
      "metadata": {
        "id": "KIcV8UbmX4lG"
      }
    },
    {
      "cell_type": "code",
      "source": [
        "A_n = A.copy()\n",
        "B_n = B.copy()\n",
        "C_n = C.copy()\n",
        "A_noise = np.reshape(A_n,(63,1))\n",
        "B_noise = np.reshape(B_n,(63,1))\n",
        "C_noise = np.reshape(C_n,(63,1))\n",
        "index_A = np.random.randint(63,size=(13,1))\n",
        "index_B = np.random.randint(63,size=(13,1))\n",
        "index_C = np.random.randint(63,size=(13,1))\n",
        "for i in range(index_A.shape[0]):\n",
        "  if A_noise[index_A[i], 0] == 1:\n",
        "    A_noise[index_A[i], 0] = -1\n",
        "  else:\n",
        "    A_noise[index_A[i], 0] = 1\n",
        "for j in range(index_B.shape[0]):\n",
        "  if B_noise[index_B[j], 0] == 1:\n",
        "    B_noise[index_B[j], 0] = -1\n",
        "  else:\n",
        "    B_noise[index_B[j], 0] = 1\n",
        "for k in range(index_C.shape[0]):\n",
        "  if C_noise[index_C[k], 0] == 1:\n",
        "    C_noise[index_C[k], 0] = -1\n",
        "  else:\n",
        "    C_noise[index_C[k], 0] = 1\n",
        "A_noise = np.reshape(A_noise,(9,7))\n",
        "B_noise = np.reshape(B_noise,(9,7))\n",
        "C_noise = np.reshape(C_noise,(9,7))"
      ],
      "metadata": {
        "id": "YQMgwgpft16K"
      },
      "execution_count": 490,
      "outputs": []
    },
    {
      "cell_type": "markdown",
      "source": [
        ">Plot 20% noisey inputs"
      ],
      "metadata": {
        "id": "ZHI-3mAwYBAz"
      }
    },
    {
      "cell_type": "code",
      "source": [
        "plt.subplot(1, 3, 1)\n",
        "plt.imshow(A_noise, cmap='binary')\n",
        "plt.subplot(1, 3, 2)\n",
        "plt.imshow(B_noise, cmap='binary')\n",
        "plt.subplot(1, 3, 3)\n",
        "plt.imshow(C_noise, cmap='binary')\n",
        "plt.show()"
      ],
      "metadata": {
        "colab": {
          "base_uri": "https://localhost:8080/",
          "height": 175
        },
        "id": "qY9lmi4taCbz",
        "outputId": "266397ae-cc83-46a5-ef55-161e070d2071"
      },
      "execution_count": 491,
      "outputs": [
        {
          "output_type": "display_data",
          "data": {
            "text/plain": [
              "<Figure size 432x288 with 3 Axes>"
            ],
            "image/png": "[encoded data removed]"
          },
          "metadata": {
            "needs_background": "light"
          }
        }
      ]
    },
    {
      "cell_type": "markdown",
      "source": [
        ">Reshape noisey inputs to vectors"
      ],
      "metadata": {
        "id": "hlfI3fr0Zq_5"
      }
    },
    {
      "cell_type": "code",
      "source": [
        "X1_noise = A_noise.reshape(63,1)\n",
        "X2_noise = B_noise.reshape(63,1)\n",
        "X3_noise = C_noise.reshape(63,1)\n",
        "\n",
        "S1=A2.reshape(15,1)\n",
        "S2=B2.reshape(15,1)\n",
        "S3=C2.reshape(15,1)"
      ],
      "metadata": {
        "id": "3DZvPu_OaGsG"
      },
      "execution_count": 492,
      "outputs": []
    },
    {
      "cell_type": "markdown",
      "source": [
        ">Computing Outputs"
      ],
      "metadata": {
        "id": "Gb1yNYw2Zxli"
      }
    },
    {
      "cell_type": "code",
      "source": [
        "S1_noise = np.dot(W.T,X1_noise)\n",
        "S2_noise = np.dot(W.T,X2_noise)\n",
        "S3_noise = np.dot(W.T,X3_noise)"
      ],
      "metadata": {
        "id": "Lj-c5r0jaP7h"
      },
      "execution_count": 493,
      "outputs": []
    },
    {
      "cell_type": "code",
      "source": [
        "S1_new = np.zeros((15,1))\n",
        "for i in range(15):\n",
        "  S1_new[i] = activation_function(S1_noise[i])\n",
        "  \n",
        "S2_new = np.zeros((15,1))\n",
        "for i in range(15):\n",
        "  S2_new[i] = activation_function(S2_noise[i])\n",
        "  \n",
        "S3_new = np.zeros((15,1))\n",
        "for i in range(15):\n",
        "  S3_new[i] = activation_function(S3_noise[i])"
      ],
      "metadata": {
        "id": "0QYNlnQdaYLg"
      },
      "execution_count": 494,
      "outputs": []
    },
    {
      "cell_type": "markdown",
      "source": [
        ">Reshape Output vetors to matrixes"
      ],
      "metadata": {
        "id": "gbpPvIOfaH4j"
      }
    },
    {
      "cell_type": "code",
      "source": [
        "S1_new = np.reshape(S1_new, (5,3))\n",
        "S2_new = np.reshape(S2_new, (5,3))\n",
        "S3_new = np.reshape(S3_new, (5,3))"
      ],
      "metadata": {
        "id": "aw7vKggKasvm"
      },
      "execution_count": 495,
      "outputs": []
    },
    {
      "cell_type": "markdown",
      "source": [
        ">Plot Outputs"
      ],
      "metadata": {
        "id": "xRYDlB5RaE1e"
      }
    },
    {
      "cell_type": "code",
      "source": [
        "plt.subplot(1, 3, 1)\n",
        "plt.imshow(S1_new, cmap='binary')\n",
        "plt.subplot(1, 3, 2)\n",
        "plt.imshow(S2_new, cmap='binary')\n",
        "plt.subplot(1, 3, 3)\n",
        "plt.imshow(S3_new, cmap='binary')\n",
        "plt.show()"
      ],
      "metadata": {
        "colab": {
          "base_uri": "https://localhost:8080/",
          "height": 212
        },
        "id": "sU8udvlRa3OO",
        "outputId": "45c2eea9-5480-4388-c138-feb4ec7e0bba"
      },
      "execution_count": 496,
      "outputs": [
        {
          "output_type": "display_data",
          "data": {
            "text/plain": [
              "<Figure size 432x288 with 3 Axes>"
            ],
            "image/png": "[encoded data removed]"
          },
          "metadata": {
            "needs_background": "light"
          }
        }
      ]
    },
    {
      "cell_type": "markdown",
      "source": [
        ">Computing accuracy for 20% noise in 100 loop(number of outputs = 300)"
      ],
      "metadata": {
        "id": "ZUjZGjBjHucn"
      }
    },
    {
      "cell_type": "code",
      "source": [
        "err = 0\n",
        "for i in range(100):\n",
        "  A_n = A.copy()\n",
        "  B_n = B.copy()\n",
        "  C_n = C.copy()\n",
        "  A_noise = np.reshape(A_n,(63,1))\n",
        "  B_noise = np.reshape(B_n,(63,1))\n",
        "  C_noise = np.reshape(C_n,(63,1))\n",
        "  index_A = np.random.randint(63,size=(13,1))\n",
        "  index_B = np.random.randint(63,size=(13,1))\n",
        "  index_C = np.random.randint(63,size=(13,1))\n",
        "  for i in range(index_A.shape[0]):\n",
        "    if A_noise[index_A[i], 0] == 1:\n",
        "      A_noise[index_A[i], 0] = -1\n",
        "    else:\n",
        "      A_noise[index_A[i], 0] = 1\n",
        "  for j in range(index_B.shape[0]):\n",
        "    if B_noise[index_B[j], 0] == 1:\n",
        "      B_noise[index_B[j], 0] = -1\n",
        "    else:\n",
        "      B_noise[index_B[j], 0] = 1\n",
        "  for k in range(index_C.shape[0]):\n",
        "    if C_noise[index_C[k], 0] == 1:\n",
        "      C_noise[index_C[k], 0] = -1\n",
        "    else:\n",
        "      C_noise[index_C[k], 0] = 1\n",
        "  A_noise = np.reshape(A_noise,(9,7))\n",
        "  B_noise = np.reshape(B_noise,(9,7))\n",
        "  C_noise = np.reshape(C_noise,(9,7))\n",
        "  X1_noise = A_noise.reshape(63,1)\n",
        "  X2_noise = B_noise.reshape(63,1)\n",
        "  X3_noise = C_noise.reshape(63,1)\n",
        "\n",
        "  S1=A2.reshape(15,1)\n",
        "  S2=B2.reshape(15,1)\n",
        "  S3=C2.reshape(15,1)\n",
        "  S1_noise = np.dot(W.T,X1_noise)\n",
        "  S2_noise = np.dot(W.T,X2_noise)\n",
        "  S3_noise = np.dot(W.T,X3_noise)\n",
        "  S1_new = np.zeros((15,1))\n",
        "  for i in range(15):\n",
        "    S1_new[i] = activation_function(S1_noise[i])\n",
        "  \n",
        "  S2_new = np.zeros((15,1))\n",
        "  for i in range(15):\n",
        "    S2_new[i] = activation_function(S2_noise[i])\n",
        "    \n",
        "  S3_new = np.zeros((15,1))\n",
        "  for i in range(15):\n",
        "    S3_new[i] = activation_function(S3_noise[i])\n",
        "  \n",
        "  S1_new = np.reshape(S1_new, (5,3))\n",
        "  ss1 = False in (S1_new == A2)\n",
        "  if ss1 == True:\n",
        "    err = err + 1\n",
        "  S2_new = np.reshape(S2_new, (5,3))\n",
        "  ss2 = False in (S2_new == B2)\n",
        "  if ss2 == True:\n",
        "    err = err + 1\n",
        "  S3_new = np.reshape(S3_new, (5,3))\n",
        "  ss3 = False in (S3_new == C2)\n",
        "  if ss3 == True:\n",
        "    err = err + 1\n",
        "print('The number of false output is',err)\n",
        "print('The accuracy is',((300-err)/300)*100)\n"
      ],
      "metadata": {
        "colab": {
          "base_uri": "https://localhost:8080/"
        },
        "id": "EZHHorJgHgub",
        "outputId": "7f49746b-5bbe-4f30-f2e5-0c8a2afa3ab7"
      },
      "execution_count": 497,
      "outputs": [
        {
          "output_type": "stream",
          "name": "stdout",
          "text": [
            "The number of false output is 17\n",
            "The accuracy is 94.33333333333334\n"
          ]
        }
      ]
    },
    {
      "cell_type": "markdown",
      "source": [
        "#60%"
      ],
      "metadata": {
        "id": "Bu4BjzJDcnKC"
      }
    },
    {
      "cell_type": "markdown",
      "source": [
        "> Generate 60% noise on the inputs"
      ],
      "metadata": {
        "id": "HdsCX3XpdZiA"
      }
    },
    {
      "cell_type": "code",
      "source": [
        "A_n = A.copy()\n",
        "B_n = B.copy()\n",
        "C_n = C.copy()\n",
        "A_noise = np.reshape(A_n,(63,1))\n",
        "B_noise = np.reshape(B_n,(63,1))\n",
        "C_noise = np.reshape(C_n,(63,1))\n",
        "index_A = np.random.randint(63,size=(38,1))\n",
        "index_B = np.random.randint(63,size=(38,1))\n",
        "index_C = np.random.randint(63,size=(38,1))\n",
        "for i in range(index_A.shape[0]):\n",
        "  if A_noise[index_A[i], 0] == 1:\n",
        "    A_noise[index_A[i], 0] = -1\n",
        "  else:\n",
        "    A_noise[index_A[i], 0] = 1\n",
        "for j in range(index_B.shape[0]):\n",
        "  if B_noise[index_B[j], 0] == 1:\n",
        "    B_noise[index_B[j], 0] = -1\n",
        "  else:\n",
        "    B_noise[index_B[j], 0] = 1\n",
        "for k in range(index_C.shape[0]):\n",
        "  if C_noise[index_C[k], 0] == 1:\n",
        "    C_noise[index_C[k], 0] = -1\n",
        "  else:\n",
        "    C_noise[index_C[k], 0] = 1\n",
        "A_noise = np.reshape(A_noise,(9,7))\n",
        "B_noise = np.reshape(B_noise,(9,7))\n",
        "C_noise = np.reshape(C_noise,(9,7))"
      ],
      "metadata": {
        "id": "SqHk4V0lcoc4"
      },
      "execution_count": 527,
      "outputs": []
    },
    {
      "cell_type": "markdown",
      "source": [
        ">Plot 60% noisey inputs"
      ],
      "metadata": {
        "id": "9XO0C3Iaekyd"
      }
    },
    {
      "cell_type": "code",
      "source": [
        "plt.subplot(1, 3, 1)\n",
        "plt.imshow(A_noise, cmap='binary')\n",
        "plt.subplot(1, 3, 2)\n",
        "plt.imshow(B_noise, cmap='binary')\n",
        "plt.subplot(1, 3, 3)\n",
        "plt.imshow(C_noise, cmap='binary')\n",
        "plt.show()"
      ],
      "metadata": {
        "colab": {
          "base_uri": "https://localhost:8080/",
          "height": 175
        },
        "id": "8lFpYwEHcvJm",
        "outputId": "0a65ddff-45de-43e2-c417-707e1c5c2801"
      },
      "execution_count": 528,
      "outputs": [
        {
          "output_type": "display_data",
          "data": {
            "text/plain": [
              "<Figure size 432x288 with 3 Axes>"
            ],
            "image/png": "[encoded data removed]"
          },
          "metadata": {
            "needs_background": "light"
          }
        }
      ]
    },
    {
      "cell_type": "markdown",
      "source": [
        ">Reshape noisey inputs to vectors"
      ],
      "metadata": {
        "id": "JcMnEBImeriE"
      }
    },
    {
      "cell_type": "code",
      "source": [
        "X1_noise = A_noise.reshape(63,1)\n",
        "X2_noise = B_noise.reshape(63,1)\n",
        "X3_noise = C_noise.reshape(63,1)\n",
        "\n",
        "S1=A2.reshape(15,1)\n",
        "S2=B2.reshape(15,1)\n",
        "S3=C2.reshape(15,1)"
      ],
      "metadata": {
        "id": "UggFc4hrcxET"
      },
      "execution_count": 529,
      "outputs": []
    },
    {
      "cell_type": "markdown",
      "source": [
        ">Computing Outputs"
      ],
      "metadata": {
        "id": "ptkBZ1yEezD4"
      }
    },
    {
      "cell_type": "code",
      "source": [
        "S1_noise = np.dot(W.T,X1_noise)\n",
        "S2_noise = np.dot(W.T,X2_noise)\n",
        "S3_noise = np.dot(W.T,X3_noise)"
      ],
      "metadata": {
        "id": "j7YBYSaUc0ej"
      },
      "execution_count": 530,
      "outputs": []
    },
    {
      "cell_type": "code",
      "source": [
        "S1_new = np.zeros((15,1))\n",
        "for i in range(15):\n",
        "  S1_new[i] = activation_function(S1_noise[i])\n",
        "  \n",
        "S2_new = np.zeros((15,1))\n",
        "for i in range(15):\n",
        "  S2_new[i] = activation_function(S2_noise[i])\n",
        "  \n",
        "S3_new = np.zeros((15,1))\n",
        "for i in range(15):\n",
        "  S3_new[i] = activation_function(S3_noise[i])"
      ],
      "metadata": {
        "id": "M0_cRcgYc2xH"
      },
      "execution_count": 531,
      "outputs": []
    },
    {
      "cell_type": "markdown",
      "source": [
        ">Reshape Output vetors to matrixes"
      ],
      "metadata": {
        "id": "gLr63UYifIKf"
      }
    },
    {
      "cell_type": "code",
      "source": [
        "S1_new = np.reshape(S1_new, (5,3))\n",
        "S2_new = np.reshape(S2_new, (5,3))\n",
        "S3_new = np.reshape(S3_new, (5,3))"
      ],
      "metadata": {
        "id": "9XUizvQLc5tE"
      },
      "execution_count": 532,
      "outputs": []
    },
    {
      "cell_type": "markdown",
      "source": [
        ">Plot Output"
      ],
      "metadata": {
        "id": "c-djcQ_ifJRy"
      }
    },
    {
      "cell_type": "code",
      "source": [
        "plt.subplot(1, 3, 1)\n",
        "plt.imshow(S1_new, cmap='binary')\n",
        "plt.subplot(1, 3, 2)\n",
        "plt.imshow(S2_new, cmap='binary')\n",
        "plt.subplot(1, 3, 3)\n",
        "plt.imshow(S3_new, cmap='binary')\n",
        "plt.show()"
      ],
      "metadata": {
        "colab": {
          "base_uri": "https://localhost:8080/",
          "height": 212
        },
        "id": "QRmTlZvpc7qx",
        "outputId": "dd9bb1d9-5217-439e-dd4f-4679cbb224cf"
      },
      "execution_count": 533,
      "outputs": [
        {
          "output_type": "display_data",
          "data": {
            "text/plain": [
              "<Figure size 432x288 with 3 Axes>"
            ],
            "image/png": "[encoded data removed]"
          },
          "metadata": {
            "needs_background": "light"
          }
        }
      ]
    },
    {
      "cell_type": "markdown",
      "source": [
        ">Computing accuracy for 60% noise in 100 loop(number of outputs = 300)"
      ],
      "metadata": {
        "id": "8EiuyFgfHJv4"
      }
    },
    {
      "cell_type": "code",
      "source": [
        "err = 0\n",
        "for i in range(100):\n",
        "  A_n = A.copy()\n",
        "  B_n = B.copy()\n",
        "  C_n = C.copy()\n",
        "  A_noise = np.reshape(A_n,(63,1))\n",
        "  B_noise = np.reshape(B_n,(63,1))\n",
        "  C_noise = np.reshape(C_n,(63,1))\n",
        "  index_A = np.random.randint(63,size=(38,1))\n",
        "  index_B = np.random.randint(63,size=(38,1))\n",
        "  index_C = np.random.randint(63,size=(38,1))\n",
        "  for i in range(index_A.shape[0]):\n",
        "    if A_noise[index_A[i], 0] == 1:\n",
        "      A_noise[index_A[i], 0] = -1\n",
        "    else:\n",
        "      A_noise[index_A[i], 0] = 1\n",
        "  for j in range(index_B.shape[0]):\n",
        "    if B_noise[index_B[j], 0] == 1:\n",
        "      B_noise[index_B[j], 0] = -1\n",
        "    else:\n",
        "      B_noise[index_B[j], 0] = 1\n",
        "  for k in range(index_C.shape[0]):\n",
        "    if C_noise[index_C[k], 0] == 1:\n",
        "      C_noise[index_C[k], 0] = -1\n",
        "    else:\n",
        "      C_noise[index_C[k], 0] = 1\n",
        "  A_noise = np.reshape(A_noise,(9,7))\n",
        "  B_noise = np.reshape(B_noise,(9,7))\n",
        "  C_noise = np.reshape(C_noise,(9,7))\n",
        "  X1_noise = A_noise.reshape(63,1)\n",
        "  X2_noise = B_noise.reshape(63,1)\n",
        "  X3_noise = C_noise.reshape(63,1)\n",
        "\n",
        "  S1=A2.reshape(15,1)\n",
        "  S2=B2.reshape(15,1)\n",
        "  S3=C2.reshape(15,1)\n",
        "  S1_noise = np.dot(W.T,X1_noise)\n",
        "  S2_noise = np.dot(W.T,X2_noise)\n",
        "  S3_noise = np.dot(W.T,X3_noise)\n",
        "  S1_new = np.zeros((15,1))\n",
        "  for i in range(15):\n",
        "    S1_new[i] = activation_function(S1_noise[i])\n",
        "  \n",
        "  S2_new = np.zeros((15,1))\n",
        "  for i in range(15):\n",
        "    S2_new[i] = activation_function(S2_noise[i])\n",
        "    \n",
        "  S3_new = np.zeros((15,1))\n",
        "  for i in range(15):\n",
        "    S3_new[i] = activation_function(S3_noise[i])\n",
        "  \n",
        "  S1_new = np.reshape(S1_new, (5,3))\n",
        "  ss1 = False in (S1_new == A2)\n",
        "  if ss1 == True:\n",
        "    err = err + 1\n",
        "  S2_new = np.reshape(S2_new, (5,3))\n",
        "  ss2 = False in (S2_new == B2)\n",
        "  if ss2 == True:\n",
        "    err = err + 1\n",
        "  S3_new = np.reshape(S3_new, (5,3))\n",
        "  ss3 = False in (S3_new == C2)\n",
        "  if ss3 == True:\n",
        "    err = err + 1\n",
        "print('The number of false output is',err)\n",
        "print('The accuracy is',((300-err)/300)*100)\n"
      ],
      "metadata": {
        "id": "r2nQQPwVc-R_",
        "colab": {
          "base_uri": "https://localhost:8080/"
        },
        "outputId": "b5b3612a-754f-4418-e399-88e25813a6eb"
      },
      "execution_count": 534,
      "outputs": [
        {
          "output_type": "stream",
          "name": "stdout",
          "text": [
            "The number of false output is 81\n",
            "The accuracy is 73.0\n"
          ]
        }
      ]
    },
    {
      "cell_type": "markdown",
      "source": [
        "##Determine Inputs & Ouputs(Output Size is 4*3)"
      ],
      "metadata": {
        "id": "5NbgdqzVL2Il"
      }
    },
    {
      "cell_type": "code",
      "source": [
        "A2 = [[-1,-1,1],\n",
        "      [1 ,1, 1],\n",
        "      [1 ,1,-1],\n",
        "      [-1,1,-1]]\n",
        "\n",
        "B2 = [[1 ,-1, 1],\n",
        "      [1 , 1, 1],\n",
        "      [-1,-1,-1],\n",
        "      [-1, 1,-1]]\n",
        "\n",
        "C2 = [[1 , -1, 1],\n",
        "      [1 ,  1, 1],\n",
        "      [1 , -1, 1],\n",
        "      [1 ,  1, 1]]\n",
        "\n",
        "A2 = np.array(A2)\n",
        "B2 = np.array(B2)\n",
        "C2 = np.array(C2)\n",
        "\n",
        "S1=A2.reshape(12,1)\n",
        "S2=B2.reshape(12,1)\n",
        "S3=C2.reshape(12,1)"
      ],
      "metadata": {
        "id": "gqvEH4MvMVmf"
      },
      "execution_count": 535,
      "outputs": []
    },
    {
      "cell_type": "markdown",
      "source": [
        ">Compute Weights"
      ],
      "metadata": {
        "id": "5l4nBXRyZh-5"
      }
    },
    {
      "cell_type": "code",
      "source": [
        "W1 = np.zeros((63,1))\n",
        "W2 = np.zeros((63,1))\n",
        "W3 = np.zeros((63,1))\n",
        "W1 = np.dot(X1,S1.T)\n",
        "W2 = np.dot(X2,S2.T)\n",
        "W3 = np.dot(X3,S3.T)\n",
        "W = W1 + W2 + W3"
      ],
      "metadata": {
        "id": "4nbCDeXXMnGt"
      },
      "execution_count": 536,
      "outputs": []
    },
    {
      "cell_type": "markdown",
      "source": [
        "##20%"
      ],
      "metadata": {
        "id": "7n4wWqAJaGCf"
      }
    },
    {
      "cell_type": "markdown",
      "source": [
        "> Generate 20% noise on the inputs"
      ],
      "metadata": {
        "id": "1BRVUzRIZrLr"
      }
    },
    {
      "cell_type": "code",
      "source": [
        "A_n = A.copy()\n",
        "B_n = B.copy()\n",
        "C_n = C.copy()\n",
        "A_noise = np.reshape(A_n,(63,1))\n",
        "B_noise = np.reshape(B_n,(63,1))\n",
        "C_noise = np.reshape(C_n,(63,1))\n",
        "index_A = np.random.randint(63,size=(13,1))\n",
        "index_B = np.random.randint(63,size=(13,1))\n",
        "index_C = np.random.randint(63,size=(13,1))\n",
        "for i in range(index_A.shape[0]):\n",
        "  if A_noise[index_A[i], 0] == 1:\n",
        "    A_noise[index_A[i], 0] = -1\n",
        "  else:\n",
        "    A_noise[index_A[i], 0] = 1\n",
        "for j in range(index_B.shape[0]):\n",
        "  if B_noise[index_B[j], 0] == 1:\n",
        "    B_noise[index_B[j], 0] = -1\n",
        "  else:\n",
        "    B_noise[index_B[j], 0] = 1\n",
        "for k in range(index_C.shape[0]):\n",
        "  if C_noise[index_C[k], 0] == 1:\n",
        "    C_noise[index_C[k], 0] = -1\n",
        "  else:\n",
        "    C_noise[index_C[k], 0] = 1\n",
        "A_noise = np.reshape(A_noise,(9,7))\n",
        "B_noise = np.reshape(B_noise,(9,7))\n",
        "C_noise = np.reshape(C_noise,(9,7))"
      ],
      "metadata": {
        "id": "kcYqylLiNCT3"
      },
      "execution_count": 537,
      "outputs": []
    },
    {
      "cell_type": "markdown",
      "source": [
        ">Plot 20% noisey inputs"
      ],
      "metadata": {
        "id": "Ta8OdAIPZdM7"
      }
    },
    {
      "cell_type": "code",
      "source": [
        "plt.subplot(1, 3, 1)\n",
        "plt.imshow(A_noise, cmap='binary')\n",
        "plt.subplot(1, 3, 2)\n",
        "plt.imshow(B_noise, cmap='binary')\n",
        "plt.subplot(1, 3, 3)\n",
        "plt.imshow(C_noise, cmap='binary')\n",
        "plt.show()"
      ],
      "metadata": {
        "colab": {
          "base_uri": "https://localhost:8080/",
          "height": 175
        },
        "id": "kxYpAWKJNLND",
        "outputId": "2f9b2737-cc9e-431d-d633-04df55bb3994"
      },
      "execution_count": 538,
      "outputs": [
        {
          "output_type": "display_data",
          "data": {
            "text/plain": [
              "<Figure size 432x288 with 3 Axes>"
            ],
            "image/png": "[encoded data removed]"
          },
          "metadata": {
            "needs_background": "light"
          }
        }
      ]
    },
    {
      "cell_type": "markdown",
      "source": [
        ">Reshape noisey inputs to vectors"
      ],
      "metadata": {
        "id": "ZBi-epuVZXjG"
      }
    },
    {
      "cell_type": "code",
      "source": [
        "X1_noise = A_noise.reshape(63,1)\n",
        "X2_noise = B_noise.reshape(63,1)\n",
        "X3_noise = C_noise.reshape(63,1)\n",
        "\n",
        "S1=A2.reshape(12,1)\n",
        "S2=B2.reshape(12,1)\n",
        "S3=C2.reshape(12,1)"
      ],
      "metadata": {
        "id": "Q4RzmESPNQcr"
      },
      "execution_count": 539,
      "outputs": []
    },
    {
      "cell_type": "markdown",
      "source": [
        ">Compute Outputs"
      ],
      "metadata": {
        "id": "RUHqoTRlZO-s"
      }
    },
    {
      "cell_type": "code",
      "source": [
        "S1_noise = np.dot(W.T,X1_noise)\n",
        "S2_noise = np.dot(W.T,X2_noise)\n",
        "S3_noise = np.dot(W.T,X3_noise)"
      ],
      "metadata": {
        "id": "SBaCVUrgNUzL"
      },
      "execution_count": 540,
      "outputs": []
    },
    {
      "cell_type": "code",
      "source": [
        "S1_new = np.zeros((12,1))\n",
        "for i in range(12):\n",
        "  S1_new[i] = activation_function(S1_noise[i])\n",
        "  \n",
        "S2_new = np.zeros((12,1))\n",
        "for i in range(12):\n",
        "  S2_new[i] = activation_function(S2_noise[i])\n",
        "  \n",
        "S3_new = np.zeros((12,1))\n",
        "for i in range(12):\n",
        "  S3_new[i] = activation_function(S3_noise[i])"
      ],
      "metadata": {
        "id": "iLNjsyB3NiEZ"
      },
      "execution_count": 541,
      "outputs": []
    },
    {
      "cell_type": "markdown",
      "source": [
        ">Reshape Output vetors to matrixes"
      ],
      "metadata": {
        "id": "JDZWMpNNZNCX"
      }
    },
    {
      "cell_type": "code",
      "source": [
        "S1_new = np.reshape(S1_new, (4,3))\n",
        "S2_new = np.reshape(S2_new, (4,3))\n",
        "S3_new = np.reshape(S3_new, (4,3))"
      ],
      "metadata": {
        "id": "m4kHE4lpNoeE"
      },
      "execution_count": 542,
      "outputs": []
    },
    {
      "cell_type": "markdown",
      "source": [
        ">Plot outputs"
      ],
      "metadata": {
        "id": "Y3Yt9rXLObpc"
      }
    },
    {
      "cell_type": "code",
      "source": [
        "plt.subplot(1, 3, 1)\n",
        "plt.imshow(S1_new, cmap='binary')\n",
        "plt.subplot(1, 3, 2)\n",
        "plt.imshow(S2_new, cmap='binary')\n",
        "plt.subplot(1, 3, 3)\n",
        "plt.imshow(S3_new, cmap='binary')\n",
        "plt.show()"
      ],
      "metadata": {
        "colab": {
          "base_uri": "https://localhost:8080/",
          "height": 179
        },
        "id": "So_VQ9FJNula",
        "outputId": "ee53fd33-7d65-42bb-d2c9-9141f87ae5ef"
      },
      "execution_count": 543,
      "outputs": [
        {
          "output_type": "display_data",
          "data": {
            "text/plain": [
              "<Figure size 432x288 with 3 Axes>"
            ],
            "image/png": "[encoded data removed]"
          },
          "metadata": {
            "needs_background": "light"
          }
        }
      ]
    },
    {
      "cell_type": "markdown",
      "source": [
        ">Computing accuracy for 20% noise in 100 loop(number of outputs = 300)"
      ],
      "metadata": {
        "id": "nWqeQbS_OZjD"
      }
    },
    {
      "cell_type": "code",
      "source": [
        "err = 0\n",
        "for i in range(100):\n",
        "  A_n = A.copy()\n",
        "  B_n = B.copy()\n",
        "  C_n = C.copy()\n",
        "  A_noise = np.reshape(A_n,(63,1))\n",
        "  B_noise = np.reshape(B_n,(63,1))\n",
        "  C_noise = np.reshape(C_n,(63,1))\n",
        "  index_A = np.random.randint(63,size=(13,1))\n",
        "  index_B = np.random.randint(63,size=(13,1))\n",
        "  index_C = np.random.randint(63,size=(13,1))\n",
        "  for i in range(index_A.shape[0]):\n",
        "    if A_noise[index_A[i], 0] == 1:\n",
        "      A_noise[index_A[i], 0] = -1\n",
        "    else:\n",
        "      A_noise[index_A[i], 0] = 1\n",
        "  for j in range(index_B.shape[0]):\n",
        "    if B_noise[index_B[j], 0] == 1:\n",
        "      B_noise[index_B[j], 0] = -1\n",
        "    else:\n",
        "      B_noise[index_B[j], 0] = 1\n",
        "  for k in range(index_C.shape[0]):\n",
        "    if C_noise[index_C[k], 0] == 1:\n",
        "      C_noise[index_C[k], 0] = -1\n",
        "    else:\n",
        "      C_noise[index_C[k], 0] = 1\n",
        "  A_noise = np.reshape(A_noise,(9,7))\n",
        "  B_noise = np.reshape(B_noise,(9,7))\n",
        "  C_noise = np.reshape(C_noise,(9,7))\n",
        "  X1_noise = A_noise.reshape(63,1)\n",
        "  X2_noise = B_noise.reshape(63,1)\n",
        "  X3_noise = C_noise.reshape(63,1)\n",
        "\n",
        "  S1=A2.reshape(12,1)\n",
        "  S2=B2.reshape(12,1)\n",
        "  S3=C2.reshape(12,1)\n",
        "  S1_noise = np.dot(W.T,X1_noise)\n",
        "  S2_noise = np.dot(W.T,X2_noise)\n",
        "  S3_noise = np.dot(W.T,X3_noise)\n",
        "  S1_new = np.zeros((12,1))\n",
        "  for i in range(12):\n",
        "    S1_new[i] = activation_function(S1_noise[i])\n",
        "  \n",
        "  S2_new = np.zeros((12,1))\n",
        "  for i in range(12):\n",
        "    S2_new[i] = activation_function(S2_noise[i])\n",
        "    \n",
        "  S3_new = np.zeros((12,1))\n",
        "  for i in range(12):\n",
        "    S3_new[i] = activation_function(S3_noise[i])\n",
        "  \n",
        "  S1_new = np.reshape(S1_new, (4,3))\n",
        "  ss1 = False in (S1_new == A2)\n",
        "  if ss1 == True:\n",
        "    err = err + 1\n",
        "  S2_new = np.reshape(S2_new, (4,3))\n",
        "  ss2 = False in (S2_new == B2)\n",
        "  if ss2 == True:\n",
        "    err = err + 1\n",
        "  S3_new = np.reshape(S3_new, (4,3))\n",
        "  ss3 = False in (S3_new == C2)\n",
        "  if ss3 == True:\n",
        "    err = err + 1\n",
        "print('The number of false output is',err)\n",
        "print('The accuracy is',((300-err)/300)*100)\n"
      ],
      "metadata": {
        "colab": {
          "base_uri": "https://localhost:8080/"
        },
        "id": "ROPmZggVNyZY",
        "outputId": "3c8ff600-30c2-423c-cc44-4ae35e434ec0"
      },
      "execution_count": 544,
      "outputs": [
        {
          "output_type": "stream",
          "name": "stdout",
          "text": [
            "The number of false output is 37\n",
            "The accuracy is 87.66666666666667\n"
          ]
        }
      ]
    },
    {
      "cell_type": "markdown",
      "source": [
        "#60%"
      ],
      "metadata": {
        "id": "DJnS-qPXbciv"
      }
    },
    {
      "cell_type": "markdown",
      "source": [
        "> Generate 60% noise on the inputs"
      ],
      "metadata": {
        "id": "AhOGrMyObciv"
      }
    },
    {
      "cell_type": "code",
      "source": [
        "A_n = A.copy()\n",
        "B_n = B.copy()\n",
        "C_n = C.copy()\n",
        "A_noise = np.reshape(A_n,(63,1))\n",
        "B_noise = np.reshape(B_n,(63,1))\n",
        "C_noise = np.reshape(C_n,(63,1))\n",
        "index_A = np.random.randint(63,size=(38,1))\n",
        "index_B = np.random.randint(63,size=(38,1))\n",
        "index_C = np.random.randint(63,size=(38,1))\n",
        "for i in range(index_A.shape[0]):\n",
        "  if A_noise[index_A[i], 0] == 1:\n",
        "    A_noise[index_A[i], 0] = -1\n",
        "  else:\n",
        "    A_noise[index_A[i], 0] = 1\n",
        "for j in range(index_B.shape[0]):\n",
        "  if B_noise[index_B[j], 0] == 1:\n",
        "    B_noise[index_B[j], 0] = -1\n",
        "  else:\n",
        "    B_noise[index_B[j], 0] = 1\n",
        "for k in range(index_C.shape[0]):\n",
        "  if C_noise[index_C[k], 0] == 1:\n",
        "    C_noise[index_C[k], 0] = -1\n",
        "  else:\n",
        "    C_noise[index_C[k], 0] = 1\n",
        "A_noise = np.reshape(A_noise,(9,7))\n",
        "B_noise = np.reshape(B_noise,(9,7))\n",
        "C_noise = np.reshape(C_noise,(9,7))"
      ],
      "metadata": {
        "id": "Ne8Rm86wbciw"
      },
      "execution_count": 581,
      "outputs": []
    },
    {
      "cell_type": "markdown",
      "source": [
        ">Plot 60% noisey inputs"
      ],
      "metadata": {
        "id": "gzyfI3gXbciw"
      }
    },
    {
      "cell_type": "code",
      "source": [
        "plt.subplot(1, 3, 1)\n",
        "plt.imshow(A_noise, cmap='binary')\n",
        "plt.subplot(1, 3, 2)\n",
        "plt.imshow(B_noise, cmap='binary')\n",
        "plt.subplot(1, 3, 3)\n",
        "plt.imshow(C_noise, cmap='binary')\n",
        "plt.show()"
      ],
      "metadata": {
        "colab": {
          "base_uri": "https://localhost:8080/",
          "height": 175
        },
        "outputId": "d0822ab3-17fe-4f67-c6d7-3f47c6199d91",
        "id": "u51Odww2bciw"
      },
      "execution_count": 582,
      "outputs": [
        {
          "output_type": "display_data",
          "data": {
            "text/plain": [
              "<Figure size 432x288 with 3 Axes>"
            ],
            "image/png": "[encoded data removed]"
          },
          "metadata": {
            "needs_background": "light"
          }
        }
      ]
    },
    {
      "cell_type": "markdown",
      "source": [
        ">Reshape noisey inputs to vectors"
      ],
      "metadata": {
        "id": "Tp01dSLwbcix"
      }
    },
    {
      "cell_type": "code",
      "source": [
        "X1_noise = A_noise.reshape(63,1)\n",
        "X2_noise = B_noise.reshape(63,1)\n",
        "X3_noise = C_noise.reshape(63,1)\n",
        "\n",
        "S1=A2.reshape(12,1)\n",
        "S2=B2.reshape(12,1)\n",
        "S3=C2.reshape(12,1)"
      ],
      "metadata": {
        "id": "NPtXxqOLbcix"
      },
      "execution_count": 583,
      "outputs": []
    },
    {
      "cell_type": "markdown",
      "source": [
        ">Computing Outputs"
      ],
      "metadata": {
        "id": "yvOsCIuxbciy"
      }
    },
    {
      "cell_type": "code",
      "source": [
        "S1_noise = np.dot(W.T,X1_noise)\n",
        "S2_noise = np.dot(W.T,X2_noise)\n",
        "S3_noise = np.dot(W.T,X3_noise)"
      ],
      "metadata": {
        "id": "DzCg98SSbciy"
      },
      "execution_count": 584,
      "outputs": []
    },
    {
      "cell_type": "code",
      "source": [
        "S1_new = np.zeros((12,1))\n",
        "for i in range(12):\n",
        "  S1_new[i] = activation_function(S1_noise[i])\n",
        "  \n",
        "S2_new = np.zeros((12,1))\n",
        "for i in range(12):\n",
        "  S2_new[i] = activation_function(S2_noise[i])\n",
        "  \n",
        "S3_new = np.zeros((12,1))\n",
        "for i in range(12):\n",
        "  S3_new[i] = activation_function(S3_noise[i])"
      ],
      "metadata": {
        "id": "gJ_iCdjSbciy"
      },
      "execution_count": 585,
      "outputs": []
    },
    {
      "cell_type": "markdown",
      "source": [
        ">Reshape Output vetors to matrixes"
      ],
      "metadata": {
        "id": "ObYmSptXbciy"
      }
    },
    {
      "cell_type": "code",
      "source": [
        "S1_new = np.reshape(S1_new, (4,3))\n",
        "S2_new = np.reshape(S2_new, (4,3))\n",
        "S3_new = np.reshape(S3_new, (4,3))"
      ],
      "metadata": {
        "id": "Bo9roZvJbciz"
      },
      "execution_count": 586,
      "outputs": []
    },
    {
      "cell_type": "markdown",
      "source": [
        ">Plot Output"
      ],
      "metadata": {
        "id": "YyseYWSAbciz"
      }
    },
    {
      "cell_type": "code",
      "source": [
        "plt.subplot(1, 3, 1)\n",
        "plt.imshow(S1_new, cmap='binary')\n",
        "plt.subplot(1, 3, 2)\n",
        "plt.imshow(S2_new, cmap='binary')\n",
        "plt.subplot(1, 3, 3)\n",
        "plt.imshow(S3_new, cmap='binary')\n",
        "plt.show()"
      ],
      "metadata": {
        "colab": {
          "base_uri": "https://localhost:8080/",
          "height": 179
        },
        "outputId": "a334c3de-31fa-46c2-913e-197cafad5f78",
        "id": "jYqFlNfgbci2"
      },
      "execution_count": 587,
      "outputs": [
        {
          "output_type": "display_data",
          "data": {
            "text/plain": [
              "<Figure size 432x288 with 3 Axes>"
            ],
            "image/png": "[encoded data removed]"
          },
          "metadata": {
            "needs_background": "light"
          }
        }
      ]
    },
    {
      "cell_type": "markdown",
      "source": [
        ">Computing accuracy for 60% noise in 100 loop(number of outputs = 300)"
      ],
      "metadata": {
        "id": "Il4GUcL1bci2"
      }
    },
    {
      "cell_type": "code",
      "source": [
        "err = 0\n",
        "for i in range(100):\n",
        "  A_n = A.copy()\n",
        "  B_n = B.copy()\n",
        "  C_n = C.copy()\n",
        "  A_noise = np.reshape(A_n,(63,1))\n",
        "  B_noise = np.reshape(B_n,(63,1))\n",
        "  C_noise = np.reshape(C_n,(63,1))\n",
        "  index_A = np.random.randint(63,size=(38,1))\n",
        "  index_B = np.random.randint(63,size=(38,1))\n",
        "  index_C = np.random.randint(63,size=(38,1))\n",
        "  for i in range(index_A.shape[0]):\n",
        "    if A_noise[index_A[i], 0] == 1:\n",
        "      A_noise[index_A[i], 0] = -1\n",
        "    else:\n",
        "      A_noise[index_A[i], 0] = 1\n",
        "  for j in range(index_B.shape[0]):\n",
        "    if B_noise[index_B[j], 0] == 1:\n",
        "      B_noise[index_B[j], 0] = -1\n",
        "    else:\n",
        "      B_noise[index_B[j], 0] = 1\n",
        "  for k in range(index_C.shape[0]):\n",
        "    if C_noise[index_C[k], 0] == 1:\n",
        "      C_noise[index_C[k], 0] = -1\n",
        "    else:\n",
        "      C_noise[index_C[k], 0] = 1\n",
        "  A_noise = np.reshape(A_noise,(9,7))\n",
        "  B_noise = np.reshape(B_noise,(9,7))\n",
        "  C_noise = np.reshape(C_noise,(9,7))\n",
        "  X1_noise = A_noise.reshape(63,1)\n",
        "  X2_noise = B_noise.reshape(63,1)\n",
        "  X3_noise = C_noise.reshape(63,1)\n",
        "\n",
        "  S1=A2.reshape(12,1)\n",
        "  S2=B2.reshape(12,1)\n",
        "  S3=C2.reshape(12,1)\n",
        "  S1_noise = np.dot(W.T,X1_noise)\n",
        "  S2_noise = np.dot(W.T,X2_noise)\n",
        "  S3_noise = np.dot(W.T,X3_noise)\n",
        "  S1_new = np.zeros((12,1))\n",
        "  for i in range(12):\n",
        "    S1_new[i] = activation_function(S1_noise[i])\n",
        "  \n",
        "  S2_new = np.zeros((12,1))\n",
        "  for i in range(12):\n",
        "    S2_new[i] = activation_function(S2_noise[i])\n",
        "    \n",
        "  S3_new = np.zeros((12,1))\n",
        "  for i in range(12):\n",
        "    S3_new[i] = activation_function(S3_noise[i])\n",
        "  \n",
        "  S1_new = np.reshape(S1_new, (4,3))\n",
        "  ss1 = False in (S1_new == A2)\n",
        "  if ss1 == True:\n",
        "    err = err + 1\n",
        "  S2_new = np.reshape(S2_new, (4,3))\n",
        "  ss2 = False in (S2_new == B2)\n",
        "  if ss2 == True:\n",
        "    err = err + 1\n",
        "  S3_new = np.reshape(S3_new, (4,3))\n",
        "  ss3 = False in (S3_new == C2)\n",
        "  if ss3 == True:\n",
        "    err = err + 1\n",
        "print('The number of false output is',err)\n",
        "print('The accuracy is',((300-err)/300)*100)\n"
      ],
      "metadata": {
        "colab": {
          "base_uri": "https://localhost:8080/"
        },
        "outputId": "76374133-63a7-4468-b253-5bfc19852aec",
        "id": "FlE-ajRTbci3"
      },
      "execution_count": 590,
      "outputs": [
        {
          "output_type": "stream",
          "name": "stdout",
          "text": [
            "The number of false output is 142\n",
            "The accuracy is 52.666666666666664\n"
          ]
        }
      ]
    },
    {
      "cell_type": "code",
      "source": [
        ""
      ],
      "metadata": {
        "id": "UVxqssWIcUNT"
      },
      "execution_count": 211,
      "outputs": []
    }
  ]
}