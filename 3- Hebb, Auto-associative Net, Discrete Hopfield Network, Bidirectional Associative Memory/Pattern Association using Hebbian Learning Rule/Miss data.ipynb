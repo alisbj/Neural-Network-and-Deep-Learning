{
  "nbformat": 4,
  "nbformat_minor": 0,
  "metadata": {
    "colab": {
      "name": "Q1_Part6.ipynb",
      "provenance": []
    },
    "kernelspec": {
      "name": "python3",
      "display_name": "Python 3"
    },
    "language_info": {
      "name": "python"
    }
  },
  "cells": [
    {
      "cell_type": "code",
      "execution_count": 195,
      "metadata": {
        "id": "CclfQwkCE61n"
      },
      "outputs": [],
      "source": [
        "import numpy as np\n",
        "import matplotlib.pyplot as plt\n",
        "from random import randint"
      ]
    },
    {
      "cell_type": "markdown",
      "source": [
        "##Determine Inputs & Ouputs(Output Size is 5*3)"
      ],
      "metadata": {
        "id": "YkGL9W1sTLvM"
      }
    },
    {
      "cell_type": "code",
      "source": [
        "a = [[-1,-1,-1,-1,-1,-1,+1],\n",
        "     [-1,-1,-1,-1,-1,-1,+1],\n",
        "     [ 1, 1, 1,1, 1, 1, 1],\n",
        "     [+1,-1,-1,1,-1,-1,-1],\n",
        "     [+1,-1,-1,1,-1,-1,-1],\n",
        "     [-1,-1,-1,1,-1,-1,-1],\n",
        "     [-1,-1,-1,1,-1,-1,-1],\n",
        "     [-1,-1,-1,1,-1,-1,-1],\n",
        "     [-1,-1,-1,1,-1,-1,-1]]\n",
        "\n",
        "b =   [[1,-1,-1,-1,-1,-1,1],\n",
        "       [1,-1,-1,-1,-1,-1,1],\n",
        "       [1,-1,-1,-1,-1,-1,1],\n",
        "       [1,-1,-1,-1,-1,-1,1],\n",
        "       [1,-1,-1,-1,-1,-1,1],\n",
        "       [1,-1,-1,-1,-1,-1,1],\n",
        "       [ 1, 1, 1,1, 1, 1, 1],\n",
        "       [-1,-1,-1,-1,-1,-1,-1],\n",
        "       [-1,-1,-1,1,-1,-1,-1]]\n",
        "\n",
        "c =  [[1,-1,-1,-1,-1,-1,1],\n",
        "      [1,-1,-1,-1,-1,-1,1],\n",
        "      [1,-1,-1,-1,-1,-1,1],\n",
        "      [1,-1,-1,-1,-1,-1,1],\n",
        "      [1,-1,-1,+1,-1,-1,1],\n",
        "      [1,-1,-1,-1,-1,-1,1],\n",
        "      [1,-1,-1,-1,-1,-1,1],\n",
        "      [1,-1,-1,-1,-1,-1,1],\n",
        "      [ 1, 1, 1,1, 1, 1,1]]\n",
        "\n",
        "A2 = [[-1,-1,1],\n",
        "      [1 ,1, 1],\n",
        "      [1 ,1,-1],\n",
        "      [-1,1,-1],\n",
        "      [-1,1,-1]]\n",
        "\n",
        "B2 = [[1 ,-1, 1],\n",
        "      [1 ,-1, 1],\n",
        "      [1 , 1, 1],\n",
        "      [-1,-1,-1],\n",
        "      [-1, 1,-1]]\n",
        "\n",
        "C2 = [[1 , -1, 1],\n",
        "      [1 , -1, 1],\n",
        "      [1 ,  1, 1],\n",
        "      [1 , -1, 1],\n",
        "      [1 ,  1, 1]]\n",
        "\n",
        "A = np.array(a)\n",
        "B = np.array(b)\n",
        "C = np.array(c)\n",
        "\n",
        "A2 = np.array(A2)\n",
        "B2 = np.array(B2)\n",
        "C2 = np.array(C2)"
      ],
      "metadata": {
        "id": "sF9mDdN6E-0j"
      },
      "execution_count": 196,
      "outputs": []
    },
    {
      "cell_type": "markdown",
      "source": [
        ">Plot Inputs"
      ],
      "metadata": {
        "id": "1kOZDXIpTozb"
      }
    },
    {
      "cell_type": "code",
      "source": [
        "plt.subplot(1, 3, 1)\n",
        "plt.imshow(A, cmap='binary')\n",
        "plt.subplot(1, 3, 2)\n",
        "plt.imshow(B, cmap='binary')\n",
        "\n",
        "plt.subplot(1, 3, 3)\n",
        "plt.imshow(C, cmap='binary')\n",
        "\n",
        "plt.show()"
      ],
      "metadata": {
        "colab": {
          "base_uri": "https://localhost:8080/",
          "height": 175
        },
        "id": "ex6oYjLcFCIh",
        "outputId": "91ef46c7-fc7b-4afe-c893-a0eeef1f7cd4"
      },
      "execution_count": 197,
      "outputs": [
        {
          "output_type": "display_data",
          "data": {
            "text/plain": [
              "<Figure size 432x288 with 3 Axes>"
            ],
            "image/png": "[encoded data removed]"
          },
          "metadata": {
            "needs_background": "light"
          }
        }
      ]
    },
    {
      "cell_type": "markdown",
      "source": [
        "> Reshape Matrixes to Vectors"
      ],
      "metadata": {
        "id": "5rPbZUCOTtxE"
      }
    },
    {
      "cell_type": "code",
      "source": [
        "X1 = A.reshape(63,1)\n",
        "X2 = B.reshape(63,1)\n",
        "X3 = C.reshape(63,1)\n",
        "\n",
        "S1=A2.reshape(15,1)\n",
        "S2=B2.reshape(15,1)\n",
        "S3=C2.reshape(15,1)"
      ],
      "metadata": {
        "id": "I0F3L8aGFJTJ"
      },
      "execution_count": 198,
      "outputs": []
    },
    {
      "cell_type": "markdown",
      "source": [
        ">Compute Weights"
      ],
      "metadata": {
        "id": "3hGawS-4oNEi"
      }
    },
    {
      "cell_type": "code",
      "source": [
        "W1 = np.zeros((63,1))\n",
        "W2 = np.zeros((63,1))\n",
        "W3 = np.zeros((63,1))\n",
        "W1 = np.dot(X1,S1.T)\n",
        "W2 = np.dot(X2,S2.T)\n",
        "W3 = np.dot(X3,S3.T)\n",
        "W = W1 + W2 + W3"
      ],
      "metadata": {
        "id": "wXsLb8rKFTFW"
      },
      "execution_count": 199,
      "outputs": []
    },
    {
      "cell_type": "code",
      "source": [
        "S1_n = np.dot(W.T,X1)\n",
        "S2_n = np.dot(W.T,X2)\n",
        "S3_n = np.dot(W.T,X3)"
      ],
      "metadata": {
        "id": "ZcRWjNiWJRGb"
      },
      "execution_count": 200,
      "outputs": []
    },
    {
      "cell_type": "code",
      "source": [
        "def activation_function(X):\n",
        "    if X > 0:\n",
        "        X = 1\n",
        "    elif X < 0:\n",
        "        X = -1\n",
        "    return X"
      ],
      "metadata": {
        "id": "9FWwT1KhJ1nR"
      },
      "execution_count": 201,
      "outputs": []
    },
    {
      "cell_type": "markdown",
      "source": [
        "##20%"
      ],
      "metadata": {
        "id": "zezaiTtQU8n0"
      }
    },
    {
      "cell_type": "markdown",
      "source": [
        "> Generate 20% miss on the inputs"
      ],
      "metadata": {
        "id": "KIcV8UbmX4lG"
      }
    },
    {
      "cell_type": "code",
      "source": [
        "A_n = A.copy()\n",
        "B_n = B.copy()\n",
        "C_n = C.copy()\n",
        "A_miss = np.reshape(A_n,(63,1))\n",
        "B_miss = np.reshape(B_n,(63,1))\n",
        "C_miss = np.reshape(C_n,(63,1))\n",
        "A_miss[np.random.randint(63,size=(13,1))]=0\n",
        "B_miss[np.random.randint(63,size=(13,1))]=0\n",
        "C_miss[np.random.randint(63,size=(13,1))]=0\n",
        "A_miss = np.reshape(A_miss,(9,7))\n",
        "B_miss = np.reshape(B_miss,(9,7))\n",
        "C_miss = np.reshape(C_miss,(9,7))"
      ],
      "metadata": {
        "id": "vlI0j1XMNdXs"
      },
      "execution_count": 202,
      "outputs": []
    },
    {
      "cell_type": "markdown",
      "source": [
        ">Plot 20% missy inputs"
      ],
      "metadata": {
        "id": "ZHI-3mAwYBAz"
      }
    },
    {
      "cell_type": "code",
      "source": [
        "plt.subplot(1, 3, 1)\n",
        "plt.imshow(A_miss, cmap='binary')\n",
        "plt.subplot(1, 3, 2)\n",
        "plt.imshow(B_miss, cmap='binary')\n",
        "plt.subplot(1, 3, 3)\n",
        "plt.imshow(C_miss, cmap='binary')\n",
        "plt.show()"
      ],
      "metadata": {
        "colab": {
          "base_uri": "https://localhost:8080/",
          "height": 175
        },
        "id": "qY9lmi4taCbz",
        "outputId": "a1e73086-2bb1-4a19-f132-c48706af6ef9"
      },
      "execution_count": 203,
      "outputs": [
        {
          "output_type": "display_data",
          "data": {
            "text/plain": [
              "<Figure size 432x288 with 3 Axes>"
            ],
            "image/png": "[encoded data removed]"
          },
          "metadata": {
            "needs_background": "light"
          }
        }
      ]
    },
    {
      "cell_type": "markdown",
      "source": [
        ">Reshape missy inputs to vectors"
      ],
      "metadata": {
        "id": "hlfI3fr0Zq_5"
      }
    },
    {
      "cell_type": "code",
      "source": [
        "X1_miss = A_miss.reshape(63,1)\n",
        "X2_miss = B_miss.reshape(63,1)\n",
        "X3_miss = C_miss.reshape(63,1)\n",
        "\n",
        "S1=A2.reshape(15,1)\n",
        "S2=B2.reshape(15,1)\n",
        "S3=C2.reshape(15,1)"
      ],
      "metadata": {
        "id": "3DZvPu_OaGsG"
      },
      "execution_count": 204,
      "outputs": []
    },
    {
      "cell_type": "markdown",
      "source": [
        ">Compute Outputs"
      ],
      "metadata": {
        "id": "cIzSJjbXtRwz"
      }
    },
    {
      "cell_type": "code",
      "source": [
        "S1_miss = np.dot(W.T,X1_miss)\n",
        "S2_miss = np.dot(W.T,X2_miss)\n",
        "S3_miss = np.dot(W.T,X3_miss)"
      ],
      "metadata": {
        "id": "Lj-c5r0jaP7h"
      },
      "execution_count": 205,
      "outputs": []
    },
    {
      "cell_type": "code",
      "source": [
        "S1_new = np.zeros((15,1))\n",
        "for i in range(15):\n",
        "  S1_new[i] = activation_function(S1_miss[i])\n",
        "  \n",
        "S2_new = np.zeros((15,1))\n",
        "for i in range(15):\n",
        "  S2_new[i] = activation_function(S2_miss[i])\n",
        "  \n",
        "S3_new = np.zeros((15,1))\n",
        "for i in range(15):\n",
        "  S3_new[i] = activation_function(S3_miss[i])"
      ],
      "metadata": {
        "id": "0QYNlnQdaYLg"
      },
      "execution_count": 206,
      "outputs": []
    },
    {
      "cell_type": "markdown",
      "source": [
        ">Reshape Output vetors to matrixes"
      ],
      "metadata": {
        "id": "gbpPvIOfaH4j"
      }
    },
    {
      "cell_type": "code",
      "source": [
        "S1_new = np.reshape(S1_new, (5,3))\n",
        "S2_new = np.reshape(S2_new, (5,3))\n",
        "S3_new = np.reshape(S3_new, (5,3))"
      ],
      "metadata": {
        "id": "aw7vKggKasvm"
      },
      "execution_count": 207,
      "outputs": []
    },
    {
      "cell_type": "markdown",
      "source": [
        ">Plot Outputs"
      ],
      "metadata": {
        "id": "xRYDlB5RaE1e"
      }
    },
    {
      "cell_type": "code",
      "source": [
        "plt.subplot(1, 3, 1)\n",
        "plt.imshow(S1_new, cmap='binary')\n",
        "plt.subplot(1, 3, 2)\n",
        "plt.imshow(S2_new, cmap='binary')\n",
        "plt.subplot(1, 3, 3)\n",
        "plt.imshow(S3_new, cmap='binary')\n",
        "plt.show()"
      ],
      "metadata": {
        "colab": {
          "base_uri": "https://localhost:8080/",
          "height": 212
        },
        "id": "sU8udvlRa3OO",
        "outputId": "53307811-882e-4da7-af96-c969ff0b699b"
      },
      "execution_count": 208,
      "outputs": [
        {
          "output_type": "display_data",
          "data": {
            "text/plain": [
              "<Figure size 432x288 with 3 Axes>"
            ],
            "image/png": "[encoded data removed]"
          },
          "metadata": {
            "needs_background": "light"
          }
        }
      ]
    },
    {
      "cell_type": "markdown",
      "source": [
        ">Computing accuracy for 20% noise in 100 loop(number of outputs = 300)"
      ],
      "metadata": {
        "id": "ImN7d0XNQ4I-"
      }
    },
    {
      "cell_type": "code",
      "source": [
        "err = 0\n",
        "for i in range(100):\n",
        "  A_n = A.copy()\n",
        "  B_n = B.copy()\n",
        "  C_n = C.copy()\n",
        "  A_miss = np.reshape(A_n,(63,1))\n",
        "  B_miss = np.reshape(B_n,(63,1))\n",
        "  C_miss = np.reshape(C_n,(63,1))\n",
        "  A_miss[np.random.randint(63,size=(13,1))]=0\n",
        "  B_miss[np.random.randint(63,size=(13,1))]=0\n",
        "  C_miss[np.random.randint(63,size=(13,1))]=0\n",
        "  A_miss = np.reshape(A_miss,(9,7))\n",
        "  B_miss = np.reshape(B_miss,(9,7))\n",
        "  C_miss = np.reshape(C_miss,(9,7))\n",
        "\n",
        "  X1_miss = A_miss.reshape(63,1)\n",
        "  X2_miss = B_miss.reshape(63,1)\n",
        "  X3_miss = C_miss.reshape(63,1)\n",
        "\n",
        "  S1=A2.reshape(15,1)\n",
        "  S2=B2.reshape(15,1)\n",
        "  S3=C2.reshape(15,1)\n",
        "  S1_miss = np.dot(W.T,X1_miss)\n",
        "  S2_miss = np.dot(W.T,X2_miss)\n",
        "  S3_miss = np.dot(W.T,X3_miss)\n",
        "  S1_new = np.zeros((15,1))\n",
        "  for i in range(15):\n",
        "    S1_new[i] = activation_function(S1_miss[i])\n",
        "  \n",
        "  S2_new = np.zeros((15,1))\n",
        "  for i in range(15):\n",
        "    S2_new[i] = activation_function(S2_miss[i])\n",
        "    \n",
        "  S3_new = np.zeros((15,1))\n",
        "  for i in range(15):\n",
        "    S3_new[i] = activation_function(S3_miss[i])\n",
        "  \n",
        "  S1_new = np.reshape(S1_new, (5,3))\n",
        "  ss1 = False in (S1_new == A2)\n",
        "  if ss1 == True:\n",
        "    err = err + 1\n",
        "  S2_new = np.reshape(S2_new, (5,3))\n",
        "  ss2 = False in (S2_new == B2)\n",
        "  if ss2 == True:\n",
        "    err = err + 1\n",
        "  S3_new = np.reshape(S3_new, (5,3))\n",
        "  ss3 = False in (S3_new == C2)\n",
        "  if ss3 == True:\n",
        "    err = err + 1\n",
        "print('The number of false output is',err)\n",
        "print('The accuracy is',((300-err)/300)*100)\n"
      ],
      "metadata": {
        "colab": {
          "base_uri": "https://localhost:8080/"
        },
        "outputId": "3934b40a-484a-4e82-f215-b4bd86a577c8",
        "id": "avq-ZaSnQ4I-"
      },
      "execution_count": 209,
      "outputs": [
        {
          "output_type": "stream",
          "name": "stdout",
          "text": [
            "The number of false output is 0\n",
            "The accuracy is 100.0\n"
          ]
        }
      ]
    },
    {
      "cell_type": "markdown",
      "source": [
        "#60%"
      ],
      "metadata": {
        "id": "Bu4BjzJDcnKC"
      }
    },
    {
      "cell_type": "markdown",
      "source": [
        "> Generate 60% miss on the inputs"
      ],
      "metadata": {
        "id": "XXgv504COHpl"
      }
    },
    {
      "cell_type": "code",
      "source": [
        "A_n = A.copy()\n",
        "B_n = B.copy()\n",
        "C_n = C.copy()\n",
        "A_miss = np.reshape(A_n,(63,1))\n",
        "B_miss = np.reshape(B_n,(63,1))\n",
        "C_miss = np.reshape(C_n,(63,1))\n",
        "A_miss[np.random.randint(63,size=(38,1))]=0\n",
        "B_miss[np.random.randint(63,size=(38,1))]=0\n",
        "C_miss[np.random.randint(63,size=(38,1))]=0\n",
        "A_miss = np.reshape(A_miss,(9,7))\n",
        "B_miss = np.reshape(B_miss,(9,7))\n",
        "C_miss = np.reshape(C_miss,(9,7))"
      ],
      "metadata": {
        "id": "ySxX8yHbOHpl"
      },
      "execution_count": 210,
      "outputs": []
    },
    {
      "cell_type": "markdown",
      "source": [
        ">Plot 60% missy inputs"
      ],
      "metadata": {
        "id": "d_bK-zjYOHpm"
      }
    },
    {
      "cell_type": "code",
      "source": [
        "plt.subplot(1, 3, 1)\n",
        "plt.imshow(A_miss, cmap='binary')\n",
        "plt.subplot(1, 3, 2)\n",
        "plt.imshow(B_miss, cmap='binary')\n",
        "plt.subplot(1, 3, 3)\n",
        "plt.imshow(C_miss, cmap='binary')\n",
        "plt.show()"
      ],
      "metadata": {
        "colab": {
          "base_uri": "https://localhost:8080/",
          "height": 175
        },
        "outputId": "436e0963-625d-4474-ea6c-e47d534ad942",
        "id": "nLvoCk-tOHpm"
      },
      "execution_count": 211,
      "outputs": [
        {
          "output_type": "display_data",
          "data": {
            "text/plain": [
              "<Figure size 432x288 with 3 Axes>"
            ],
            "image/png": "[encoded data removed]"
          },
          "metadata": {
            "needs_background": "light"
          }
        }
      ]
    },
    {
      "cell_type": "markdown",
      "source": [
        ">Reshape missy inputs to vectors"
      ],
      "metadata": {
        "id": "hEu6--YBOHpn"
      }
    },
    {
      "cell_type": "code",
      "source": [
        "X1_miss = A_miss.reshape(63,1)\n",
        "X2_miss = B_miss.reshape(63,1)\n",
        "X3_miss = C_miss.reshape(63,1)\n",
        "\n",
        "S1=A2.reshape(15,1)\n",
        "S2=B2.reshape(15,1)\n",
        "S3=C2.reshape(15,1)"
      ],
      "metadata": {
        "id": "f9kfxuVmOHpn"
      },
      "execution_count": 212,
      "outputs": []
    },
    {
      "cell_type": "markdown",
      "source": [
        ">Compute Outputs"
      ],
      "metadata": {
        "id": "FUW-LnyaOHpo"
      }
    },
    {
      "cell_type": "code",
      "source": [
        "S1_miss = np.dot(W.T,X1_miss)\n",
        "S2_miss = np.dot(W.T,X2_miss)\n",
        "S3_miss = np.dot(W.T,X3_miss)"
      ],
      "metadata": {
        "id": "BeMGO8H1OHpp"
      },
      "execution_count": 213,
      "outputs": []
    },
    {
      "cell_type": "code",
      "source": [
        "S1_new = np.zeros((15,1))\n",
        "for i in range(15):\n",
        "  S1_new[i] = activation_function(S1_miss[i])\n",
        "  \n",
        "S2_new = np.zeros((15,1))\n",
        "for i in range(15):\n",
        "  S2_new[i] = activation_function(S2_miss[i])\n",
        "  \n",
        "S3_new = np.zeros((15,1))\n",
        "for i in range(15):\n",
        "  S3_new[i] = activation_function(S3_miss[i])"
      ],
      "metadata": {
        "id": "XRhUEyHrOHpq"
      },
      "execution_count": 214,
      "outputs": []
    },
    {
      "cell_type": "markdown",
      "source": [
        ">Reshape Output vetors to matrixes"
      ],
      "metadata": {
        "id": "FEQRwhKhOHpq"
      }
    },
    {
      "cell_type": "code",
      "source": [
        "S1_new = np.reshape(S1_new, (5,3))\n",
        "S2_new = np.reshape(S2_new, (5,3))\n",
        "S3_new = np.reshape(S3_new, (5,3))"
      ],
      "metadata": {
        "id": "6ovjvQQyOHpq"
      },
      "execution_count": 215,
      "outputs": []
    },
    {
      "cell_type": "markdown",
      "source": [
        ">Plot Outputs"
      ],
      "metadata": {
        "id": "yKicwZw9OHpr"
      }
    },
    {
      "cell_type": "code",
      "source": [
        "plt.subplot(1, 3, 1)\n",
        "plt.imshow(S1_new, cmap='binary')\n",
        "plt.subplot(1, 3, 2)\n",
        "plt.imshow(S2_new, cmap='binary')\n",
        "plt.subplot(1, 3, 3)\n",
        "plt.imshow(S3_new, cmap='binary')\n",
        "plt.show()"
      ],
      "metadata": {
        "colab": {
          "base_uri": "https://localhost:8080/",
          "height": 212
        },
        "outputId": "b9b5e208-718e-446d-8eb7-3d871f87e2f9",
        "id": "vb2sI2L6OHpt"
      },
      "execution_count": 216,
      "outputs": [
        {
          "output_type": "display_data",
          "data": {
            "text/plain": [
              "<Figure size 432x288 with 3 Axes>"
            ],
            "image/png": "[encoded data removed]"
          },
          "metadata": {
            "needs_background": "light"
          }
        }
      ]
    },
    {
      "cell_type": "markdown",
      "source": [
        ">Computing accuracy for 60% noise in 100 loop(number of outputs = 300)"
      ],
      "metadata": {
        "id": "Il4GUcL1bci2"
      }
    },
    {
      "cell_type": "code",
      "source": [
        "err = 0\n",
        "for i in range(100):\n",
        "  A_n = A.copy()\n",
        "  B_n = B.copy()\n",
        "  C_n = C.copy()\n",
        "  A_miss = np.reshape(A_n,(63,1))\n",
        "  B_miss = np.reshape(B_n,(63,1))\n",
        "  C_miss = np.reshape(C_n,(63,1))\n",
        "  A_miss[np.random.randint(63,size=(38,1))]=0\n",
        "  B_miss[np.random.randint(63,size=(38,1))]=0\n",
        "  C_miss[np.random.randint(63,size=(38,1))]=0\n",
        "  A_miss = np.reshape(A_miss,(9,7))\n",
        "  B_miss = np.reshape(B_miss,(9,7))\n",
        "  C_miss = np.reshape(C_miss,(9,7))\n",
        "\n",
        "  X1_miss = A_miss.reshape(63,1)\n",
        "  X2_miss = B_miss.reshape(63,1)\n",
        "  X3_miss = C_miss.reshape(63,1)\n",
        "\n",
        "  S1=A2.reshape(15,1)\n",
        "  S2=B2.reshape(15,1)\n",
        "  S3=C2.reshape(15,1)\n",
        "  S1_miss = np.dot(W.T,X1_miss)\n",
        "  S2_miss = np.dot(W.T,X2_miss)\n",
        "  S3_miss = np.dot(W.T,X3_miss)\n",
        "  S1_new = np.zeros((15,1))\n",
        "  for i in range(15):\n",
        "    S1_new[i] = activation_function(S1_miss[i])\n",
        "  \n",
        "  S2_new = np.zeros((15,1))\n",
        "  for i in range(15):\n",
        "    S2_new[i] = activation_function(S2_miss[i])\n",
        "    \n",
        "  S3_new = np.zeros((15,1))\n",
        "  for i in range(15):\n",
        "    S3_new[i] = activation_function(S3_miss[i])\n",
        "  \n",
        "  S1_new = np.reshape(S1_new, (5,3))\n",
        "  ss1 = False in (S1_new == A2)\n",
        "  if ss1 == True:\n",
        "    err = err + 1\n",
        "  S2_new = np.reshape(S2_new, (5,3))\n",
        "  ss2 = False in (S2_new == B2)\n",
        "  if ss2 == True:\n",
        "    err = err + 1\n",
        "  S3_new = np.reshape(S3_new, (5,3))\n",
        "  ss3 = False in (S3_new == C2)\n",
        "  if ss3 == True:\n",
        "    err = err + 1\n",
        "print('The number of false output is',err)\n",
        "print('The accuracy is',((300-err)/300)*100)\n"
      ],
      "metadata": {
        "colab": {
          "base_uri": "https://localhost:8080/"
        },
        "id": "meyp2Y0lOjVH",
        "outputId": "e22b9ba3-629b-4b7a-95ec-5b4219d7f6fa"
      },
      "execution_count": 217,
      "outputs": [
        {
          "output_type": "stream",
          "name": "stdout",
          "text": [
            "The number of false output is 10\n",
            "The accuracy is 96.66666666666667\n"
          ]
        }
      ]
    },
    {
      "cell_type": "markdown",
      "source": [
        "##Determine Inputs & Ouputs(Output Size is 4*3)"
      ],
      "metadata": {
        "id": "5NbgdqzVL2Il"
      }
    },
    {
      "cell_type": "code",
      "source": [
        "A2 = [[-1,-1,1],\n",
        "      [1 ,1, 1],\n",
        "      [1 ,1,-1],\n",
        "      [-1,1,-1]]\n",
        "\n",
        "B2 = [[1 ,-1, 1],\n",
        "      [1 , 1, 1],\n",
        "      [-1,-1,-1],\n",
        "      [-1, 1,-1]]\n",
        "\n",
        "C2 = [[1 , -1, 1],\n",
        "      [1 ,  1, 1],\n",
        "      [1 , -1, 1],\n",
        "      [1 ,  1, 1]]\n",
        "\n",
        "A2 = np.array(A2)\n",
        "B2 = np.array(B2)\n",
        "C2 = np.array(C2)\n",
        "\n",
        "S1=A2.reshape(12,1)\n",
        "S2=B2.reshape(12,1)\n",
        "S3=C2.reshape(12,1)"
      ],
      "metadata": {
        "id": "gqvEH4MvMVmf"
      },
      "execution_count": 218,
      "outputs": []
    },
    {
      "cell_type": "markdown",
      "source": [
        ">Compute Weights"
      ],
      "metadata": {
        "id": "5l4nBXRyZh-5"
      }
    },
    {
      "cell_type": "code",
      "source": [
        "W1 = np.zeros((63,1))\n",
        "W2 = np.zeros((63,1))\n",
        "W3 = np.zeros((63,1))\n",
        "W1 = np.dot(X1,S1.T)\n",
        "W2 = np.dot(X2,S2.T)\n",
        "W3 = np.dot(X3,S3.T)\n",
        "W = W1 + W2 + W3"
      ],
      "metadata": {
        "id": "4nbCDeXXMnGt"
      },
      "execution_count": 219,
      "outputs": []
    },
    {
      "cell_type": "markdown",
      "source": [
        "##20%"
      ],
      "metadata": {
        "id": "m63L88maRqJ9"
      }
    },
    {
      "cell_type": "markdown",
      "source": [
        "> Generate 20% miss on the inputs"
      ],
      "metadata": {
        "id": "v-QA8kW2RqJ-"
      }
    },
    {
      "cell_type": "code",
      "source": [
        "A_n = A.copy()\n",
        "B_n = B.copy()\n",
        "C_n = C.copy()\n",
        "A_miss = np.reshape(A_n,(63,1))\n",
        "B_miss = np.reshape(B_n,(63,1))\n",
        "C_miss = np.reshape(C_n,(63,1))\n",
        "A_miss[np.random.randint(63,size=(13,1))]=0\n",
        "B_miss[np.random.randint(63,size=(13,1))]=0\n",
        "C_miss[np.random.randint(63,size=(13,1))]=0\n",
        "A_miss = np.reshape(A_miss,(9,7))\n",
        "B_miss = np.reshape(B_miss,(9,7))\n",
        "C_miss = np.reshape(C_miss,(9,7))"
      ],
      "metadata": {
        "id": "alxMbJncRqJ_"
      },
      "execution_count": 220,
      "outputs": []
    },
    {
      "cell_type": "markdown",
      "source": [
        ">Plot 20% missy inputs"
      ],
      "metadata": {
        "id": "hQstWT7oRqJ_"
      }
    },
    {
      "cell_type": "code",
      "source": [
        "plt.subplot(1, 3, 1)\n",
        "plt.imshow(A_miss, cmap='binary')\n",
        "plt.subplot(1, 3, 2)\n",
        "plt.imshow(B_miss, cmap='binary')\n",
        "plt.subplot(1, 3, 3)\n",
        "plt.imshow(C_miss, cmap='binary')\n",
        "plt.show()"
      ],
      "metadata": {
        "colab": {
          "base_uri": "https://localhost:8080/",
          "height": 175
        },
        "outputId": "8428812a-b81f-4a5d-cdaf-346c9a775df5",
        "id": "1Z5Sen1rRqKB"
      },
      "execution_count": 221,
      "outputs": [
        {
          "output_type": "display_data",
          "data": {
            "text/plain": [
              "<Figure size 432x288 with 3 Axes>"
            ],
            "image/png": "[encoded data removed]"
          },
          "metadata": {
            "needs_background": "light"
          }
        }
      ]
    },
    {
      "cell_type": "markdown",
      "source": [
        ">Reshape missy inputs to vectors"
      ],
      "metadata": {
        "id": "d4GkTCOvRqKC"
      }
    },
    {
      "cell_type": "code",
      "source": [
        "X1_miss = A_miss.reshape(63,1)\n",
        "X2_miss = B_miss.reshape(63,1)\n",
        "X3_miss = C_miss.reshape(63,1)\n",
        "\n",
        "S1=A2.reshape(12,1)\n",
        "S2=B2.reshape(12,1)\n",
        "S3=C2.reshape(12,1)"
      ],
      "metadata": {
        "id": "oA7vbFo_RqKD"
      },
      "execution_count": 222,
      "outputs": []
    },
    {
      "cell_type": "markdown",
      "source": [
        ">Compute Outputs"
      ],
      "metadata": {
        "id": "lu-xX7mnRqKE"
      }
    },
    {
      "cell_type": "code",
      "source": [
        "S1_miss = np.dot(W.T,X1_miss)\n",
        "S2_miss = np.dot(W.T,X2_miss)\n",
        "S3_miss = np.dot(W.T,X3_miss)"
      ],
      "metadata": {
        "id": "OF7yUlIYRqKF"
      },
      "execution_count": 223,
      "outputs": []
    },
    {
      "cell_type": "code",
      "source": [
        "S1_new = np.zeros((12,1))\n",
        "for i in range(12):\n",
        "  S1_new[i] = activation_function(S1_miss[i])\n",
        "  \n",
        "S2_new = np.zeros((12,1))\n",
        "for i in range(12):\n",
        "  S2_new[i] = activation_function(S2_miss[i])\n",
        "  \n",
        "S3_new = np.zeros((12,1))\n",
        "for i in range(12):\n",
        "  S3_new[i] = activation_function(S3_miss[i])"
      ],
      "metadata": {
        "id": "1PM5TlrLRqKF"
      },
      "execution_count": 224,
      "outputs": []
    },
    {
      "cell_type": "markdown",
      "source": [
        ">Reshape Output vetors to matrixes"
      ],
      "metadata": {
        "id": "jDrO2axJRqKG"
      }
    },
    {
      "cell_type": "code",
      "source": [
        "S1_new = np.reshape(S1_new, (4,3))\n",
        "S2_new = np.reshape(S2_new, (4,3))\n",
        "S3_new = np.reshape(S3_new, (4,3))"
      ],
      "metadata": {
        "id": "Se7ugvb_RqKG"
      },
      "execution_count": 225,
      "outputs": []
    },
    {
      "cell_type": "markdown",
      "source": [
        ">Plot Outputs"
      ],
      "metadata": {
        "id": "mik-i04xRqKG"
      }
    },
    {
      "cell_type": "code",
      "source": [
        "plt.subplot(1, 3, 1)\n",
        "plt.imshow(S1_new, cmap='binary')\n",
        "plt.subplot(1, 3, 2)\n",
        "plt.imshow(S2_new, cmap='binary')\n",
        "plt.subplot(1, 3, 3)\n",
        "plt.imshow(S3_new, cmap='binary')\n",
        "plt.show()"
      ],
      "metadata": {
        "colab": {
          "base_uri": "https://localhost:8080/",
          "height": 179
        },
        "outputId": "5f9cce49-ff33-4f8b-f587-946ae9f022ee",
        "id": "VU2RQW0aRqKH"
      },
      "execution_count": 226,
      "outputs": [
        {
          "output_type": "display_data",
          "data": {
            "text/plain": [
              "<Figure size 432x288 with 3 Axes>"
            ],
            "image/png": "[encoded data removed]"
          },
          "metadata": {
            "needs_background": "light"
          }
        }
      ]
    },
    {
      "cell_type": "markdown",
      "source": [
        ">Computing accuracy for 20% noise in 100 loop(number of outputs = 300)"
      ],
      "metadata": {
        "id": "_5WW3jaIRqKH"
      }
    },
    {
      "cell_type": "code",
      "source": [
        "err = 0\n",
        "for i in range(100):\n",
        "  A_n = A.copy()\n",
        "  B_n = B.copy()\n",
        "  C_n = C.copy()\n",
        "  A_miss = np.reshape(A_n,(63,1))\n",
        "  B_miss = np.reshape(B_n,(63,1))\n",
        "  C_miss = np.reshape(C_n,(63,1))\n",
        "  A_miss[np.random.randint(63,size=(13,1))]=0\n",
        "  B_miss[np.random.randint(63,size=(13,1))]=0\n",
        "  C_miss[np.random.randint(63,size=(13,1))]=0\n",
        "  A_miss = np.reshape(A_miss,(9,7))\n",
        "  B_miss = np.reshape(B_miss,(9,7))\n",
        "  C_miss = np.reshape(C_miss,(9,7))\n",
        "\n",
        "  X1_miss = A_miss.reshape(63,1)\n",
        "  X2_miss = B_miss.reshape(63,1)\n",
        "  X3_miss = C_miss.reshape(63,1)\n",
        "\n",
        "  S1=A2.reshape(12,1)\n",
        "  S2=B2.reshape(12,1)\n",
        "  S3=C2.reshape(12,1)\n",
        "  S1_miss = np.dot(W.T,X1_miss)\n",
        "  S2_miss = np.dot(W.T,X2_miss)\n",
        "  S3_miss = np.dot(W.T,X3_miss)\n",
        "  S1_new = np.zeros((12,1))\n",
        "  for i in range(12):\n",
        "    S1_new[i] = activation_function(S1_miss[i])\n",
        "  \n",
        "  S2_new = np.zeros((12,1))\n",
        "  for i in range(12):\n",
        "    S2_new[i] = activation_function(S2_miss[i])\n",
        "    \n",
        "  S3_new = np.zeros((12,1))\n",
        "  for i in range(12):\n",
        "    S3_new[i] = activation_function(S3_miss[i])\n",
        "  \n",
        "  S1_new = np.reshape(S1_new, (4,3))\n",
        "  ss1 = False in (S1_new == A2)\n",
        "  if ss1 == True:\n",
        "    err = err + 1\n",
        "  S2_new = np.reshape(S2_new, (4,3))\n",
        "  ss2 = False in (S2_new == B2)\n",
        "  if ss2 == True:\n",
        "    err = err + 1\n",
        "  S3_new = np.reshape(S3_new, (4,3))\n",
        "  ss3 = False in (S3_new == C2)\n",
        "  if ss3 == True:\n",
        "    err = err + 1\n",
        "print('The number of false output is',err)\n",
        "print('The accuracy is',((300-err)/300)*100)\n"
      ],
      "metadata": {
        "colab": {
          "base_uri": "https://localhost:8080/"
        },
        "outputId": "ab886093-6aa3-40c0-ebd5-8a2849f4a110",
        "id": "z6-Hcv6BRqKI"
      },
      "execution_count": 227,
      "outputs": [
        {
          "output_type": "stream",
          "name": "stdout",
          "text": [
            "The number of false output is 8\n",
            "The accuracy is 97.33333333333334\n"
          ]
        }
      ]
    },
    {
      "cell_type": "markdown",
      "source": [
        "#60%"
      ],
      "metadata": {
        "id": "mIzmNa5PSZ_N"
      }
    },
    {
      "cell_type": "markdown",
      "source": [
        "> Generate 60% miss on the inputs"
      ],
      "metadata": {
        "id": "0N3Ry-IqSZ_O"
      }
    },
    {
      "cell_type": "code",
      "source": [
        "A_n = A.copy()\n",
        "B_n = B.copy()\n",
        "C_n = C.copy()\n",
        "A_miss = np.reshape(A_n,(63,1))\n",
        "B_miss = np.reshape(B_n,(63,1))\n",
        "C_miss = np.reshape(C_n,(63,1))\n",
        "A_miss[np.random.randint(63,size=(38,1))]=0\n",
        "B_miss[np.random.randint(63,size=(38,1))]=0\n",
        "C_miss[np.random.randint(63,size=(38,1))]=0\n",
        "A_miss = np.reshape(A_miss,(9,7))\n",
        "B_miss = np.reshape(B_miss,(9,7))\n",
        "C_miss = np.reshape(C_miss,(9,7))"
      ],
      "metadata": {
        "id": "ZojP0UV6SZ_O"
      },
      "execution_count": 228,
      "outputs": []
    },
    {
      "cell_type": "markdown",
      "source": [
        ">Plot 60% missy inputs"
      ],
      "metadata": {
        "id": "RsZ0mvZ6SZ_P"
      }
    },
    {
      "cell_type": "code",
      "source": [
        "plt.subplot(1, 3, 1)\n",
        "plt.imshow(A_miss, cmap='binary')\n",
        "plt.subplot(1, 3, 2)\n",
        "plt.imshow(B_miss, cmap='binary')\n",
        "plt.subplot(1, 3, 3)\n",
        "plt.imshow(C_miss, cmap='binary')\n",
        "plt.show()"
      ],
      "metadata": {
        "colab": {
          "base_uri": "https://localhost:8080/",
          "height": 175
        },
        "outputId": "fdb1f938-e7e9-44a7-d50e-6dd8270b6a90",
        "id": "jS6ktuVaSZ_Q"
      },
      "execution_count": 229,
      "outputs": [
        {
          "output_type": "display_data",
          "data": {
            "text/plain": [
              "<Figure size 432x288 with 3 Axes>"
            ],
            "image/png": "[encoded data removed]"
          },
          "metadata": {
            "needs_background": "light"
          }
        }
      ]
    },
    {
      "cell_type": "markdown",
      "source": [
        ">Reshape missy inputs to vectors"
      ],
      "metadata": {
        "id": "jfPax87RSZ_S"
      }
    },
    {
      "cell_type": "code",
      "source": [
        "X1_miss = A_miss.reshape(63,1)\n",
        "X2_miss = B_miss.reshape(63,1)\n",
        "X3_miss = C_miss.reshape(63,1)\n",
        "\n",
        "S1=A2.reshape(12,1)\n",
        "S2=B2.reshape(12,1)\n",
        "S3=C2.reshape(12,1)"
      ],
      "metadata": {
        "id": "65lvBEsKSZ_T"
      },
      "execution_count": 230,
      "outputs": []
    },
    {
      "cell_type": "markdown",
      "source": [
        ">Compute Outputs"
      ],
      "metadata": {
        "id": "_gd9VITpSZ_U"
      }
    },
    {
      "cell_type": "code",
      "source": [
        "S1_miss = np.dot(W.T,X1_miss)\n",
        "S2_miss = np.dot(W.T,X2_miss)\n",
        "S3_miss = np.dot(W.T,X3_miss)"
      ],
      "metadata": {
        "id": "TDbLDlEdSZ_U"
      },
      "execution_count": 231,
      "outputs": []
    },
    {
      "cell_type": "code",
      "source": [
        "S1_new = np.zeros((12,1))\n",
        "for i in range(12):\n",
        "  S1_new[i] = activation_function(S1_miss[i])\n",
        "  \n",
        "S2_new = np.zeros((12,1))\n",
        "for i in range(12):\n",
        "  S2_new[i] = activation_function(S2_miss[i])\n",
        "  \n",
        "S3_new = np.zeros((12,1))\n",
        "for i in range(12):\n",
        "  S3_new[i] = activation_function(S3_miss[i])"
      ],
      "metadata": {
        "id": "g3g3FLwNSZ_V"
      },
      "execution_count": 232,
      "outputs": []
    },
    {
      "cell_type": "markdown",
      "source": [
        ">Reshape Output vetors to matrixes"
      ],
      "metadata": {
        "id": "WyBonGcKSZ_W"
      }
    },
    {
      "cell_type": "code",
      "source": [
        "S1_new = np.reshape(S1_new, (4,3))\n",
        "S2_new = np.reshape(S2_new, (4,3))\n",
        "S3_new = np.reshape(S3_new, (4,3))"
      ],
      "metadata": {
        "id": "KZRYeP_8SZ_W"
      },
      "execution_count": 233,
      "outputs": []
    },
    {
      "cell_type": "markdown",
      "source": [
        ">Plot Outputs"
      ],
      "metadata": {
        "id": "M-B8RostSZ_X"
      }
    },
    {
      "cell_type": "code",
      "source": [
        "plt.subplot(1, 3, 1)\n",
        "plt.imshow(S1_new, cmap='binary')\n",
        "plt.subplot(1, 3, 2)\n",
        "plt.imshow(S2_new, cmap='binary')\n",
        "plt.subplot(1, 3, 3)\n",
        "plt.imshow(S3_new, cmap='binary')\n",
        "plt.show()"
      ],
      "metadata": {
        "colab": {
          "base_uri": "https://localhost:8080/",
          "height": 179
        },
        "outputId": "3f8a378d-bdda-427f-9ecc-682cbf49a81a",
        "id": "5i5NuNvhSZ_Y"
      },
      "execution_count": 234,
      "outputs": [
        {
          "output_type": "display_data",
          "data": {
            "text/plain": [
              "<Figure size 432x288 with 3 Axes>"
            ],
            "image/png": "[encoded data removed]"
          },
          "metadata": {
            "needs_background": "light"
          }
        }
      ]
    },
    {
      "cell_type": "markdown",
      "source": [
        ">Computing accuracy for 60% noise in 100 loop(number of outputs = 300)"
      ],
      "metadata": {
        "id": "lKO_ZWqwSZ_Y"
      }
    },
    {
      "cell_type": "code",
      "source": [
        "err = 0\n",
        "for i in range(100):\n",
        "  A_n = A.copy()\n",
        "  B_n = B.copy()\n",
        "  C_n = C.copy()\n",
        "  A_miss = np.reshape(A_n,(63,1))\n",
        "  B_miss = np.reshape(B_n,(63,1))\n",
        "  C_miss = np.reshape(C_n,(63,1))\n",
        "  A_miss[np.random.randint(63,size=(38,1))]=0\n",
        "  B_miss[np.random.randint(63,size=(38,1))]=0\n",
        "  C_miss[np.random.randint(63,size=(38,1))]=0\n",
        "  A_miss = np.reshape(A_miss,(9,7))\n",
        "  B_miss = np.reshape(B_miss,(9,7))\n",
        "  C_miss = np.reshape(C_miss,(9,7))\n",
        "\n",
        "  X1_miss = A_miss.reshape(63,1)\n",
        "  X2_miss = B_miss.reshape(63,1)\n",
        "  X3_miss = C_miss.reshape(63,1)\n",
        "\n",
        "  S1=A2.reshape(12,1)\n",
        "  S2=B2.reshape(12,1)\n",
        "  S3=C2.reshape(12,1)\n",
        "  S1_miss = np.dot(W.T,X1_miss)\n",
        "  S2_miss = np.dot(W.T,X2_miss)\n",
        "  S3_miss = np.dot(W.T,X3_miss)\n",
        "  S1_new = np.zeros((12,1))\n",
        "  for i in range(12):\n",
        "    S1_new[i] = activation_function(S1_miss[i])\n",
        "  \n",
        "  S2_new = np.zeros((12,1))\n",
        "  for i in range(12):\n",
        "    S2_new[i] = activation_function(S2_miss[i])\n",
        "    \n",
        "  S3_new = np.zeros((12,1))\n",
        "  for i in range(12):\n",
        "    S3_new[i] = activation_function(S3_miss[i])\n",
        "  \n",
        "  S1_new = np.reshape(S1_new, (4,3))\n",
        "  ss1 = False in (S1_new == A2)\n",
        "  if ss1 == True:\n",
        "    err = err + 1\n",
        "  S2_new = np.reshape(S2_new, (4,3))\n",
        "  ss2 = False in (S2_new == B2)\n",
        "  if ss2 == True:\n",
        "    err = err + 1\n",
        "  S3_new = np.reshape(S3_new, (4,3))\n",
        "  ss3 = False in (S3_new == C2)\n",
        "  if ss3 == True:\n",
        "    err = err + 1\n",
        "print('The number of false output is',err)\n",
        "print('The accuracy is',((300-err)/300)*100)\n"
      ],
      "metadata": {
        "colab": {
          "base_uri": "https://localhost:8080/"
        },
        "outputId": "0b31996c-e192-4e6d-f157-c2846f9b7bdc",
        "id": "Lj3c09yaSZ_Z"
      },
      "execution_count": 235,
      "outputs": [
        {
          "output_type": "stream",
          "name": "stdout",
          "text": [
            "The number of false output is 39\n",
            "The accuracy is 87.0\n"
          ]
        }
      ]
    },
    {
      "cell_type": "code",
      "source": [
        ""
      ],
      "metadata": {
        "id": "fpq9pC9qS1Rg"
      },
      "execution_count": 235,
      "outputs": []
    }
  ]
}