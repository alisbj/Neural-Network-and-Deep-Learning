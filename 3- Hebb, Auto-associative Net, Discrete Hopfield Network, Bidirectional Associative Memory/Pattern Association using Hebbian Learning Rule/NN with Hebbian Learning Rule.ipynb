{
  "nbformat": 4,
  "nbformat_minor": 0,
  "metadata": {
    "colab": {
      "name": "Q1_Part2and3.ipynb",
      "provenance": []
    },
    "kernelspec": {
      "name": "python3",
      "display_name": "Python 3"
    },
    "language_info": {
      "name": "python"
    }
  },
  "cells": [
    {
      "cell_type": "markdown",
      "source": [
        "#Question 1- Part 2"
      ],
      "metadata": {
        "id": "XCvvMJYoKDDL"
      }
    },
    {
      "cell_type": "code",
      "execution_count": 2,
      "metadata": {
        "id": "CclfQwkCE61n"
      },
      "outputs": [],
      "source": [
        "import numpy as np\n",
        "import matplotlib.pyplot as plt"
      ]
    },
    {
      "cell_type": "markdown",
      "source": [
        "> Determine Inputs & Outputs"
      ],
      "metadata": {
        "id": "yey5S4TQLcxv"
      }
    },
    {
      "cell_type": "code",
      "source": [
        "a = [[-1,-1,-1,-1,-1,-1,+1],\n",
        "     [-1,-1,-1,-1,-1,-1,+1],\n",
        "     [ 1, 1, 1,1, 1, 1, 1],\n",
        "     [+1,-1,-1,1,-1,-1,-1],\n",
        "     [+1,-1,-1,1,-1,-1,-1],\n",
        "     [-1,-1,-1,1,-1,-1,-1],\n",
        "     [-1,-1,-1,1,-1,-1,-1],\n",
        "     [-1,-1,-1,1,-1,-1,-1],\n",
        "     [-1,-1,-1,1,-1,-1,-1]]\n",
        "\n",
        "b =   [[1,-1,-1,-1,-1,-1,1],\n",
        "       [1,-1,-1,-1,-1,-1,1],\n",
        "       [1,-1,-1,-1,-1,-1,1],\n",
        "       [1,-1,-1,-1,-1,-1,1],\n",
        "       [1,-1,-1,-1,-1,-1,1],\n",
        "       [1,-1,-1,-1,-1,-1,1],\n",
        "       [ 1, 1, 1,1, 1, 1, 1],\n",
        "       [-1,-1,-1,-1,-1,-1,-1],\n",
        "       [-1,-1,-1,1,-1,-1,-1]]\n",
        "\n",
        "c =  [[1,-1,-1,-1,-1,-1,1],\n",
        "      [1,-1,-1,-1,-1,-1,1],\n",
        "      [1,-1,-1,-1,-1,-1,1],\n",
        "      [1,-1,-1,-1,-1,-1,1],\n",
        "      [1,-1,-1,+1,-1,-1,1],\n",
        "      [1,-1,-1,-1,-1,-1,1],\n",
        "      [1,-1,-1,-1,-1,-1,1],\n",
        "      [1,-1,-1,-1,-1,-1,1],\n",
        "      [ 1, 1, 1,1, 1, 1,1]]\n",
        "\n",
        "A2 = [[-1,-1,1],\n",
        "      [1 ,1, 1],\n",
        "      [1 ,1,-1],\n",
        "      [-1,1,-1],\n",
        "      [-1,1,-1]]\n",
        "\n",
        "B2 = [[1 ,-1, 1],\n",
        "      [1 ,-1, 1],\n",
        "      [1 , 1, 1],\n",
        "      [-1,-1,-1],\n",
        "      [-1, 1,-1]]\n",
        "\n",
        "C2 = [[1 , -1, 1],\n",
        "      [1 , -1, 1],\n",
        "      [1 ,  1, 1],\n",
        "      [1 , -1, 1],\n",
        "      [1 ,  1, 1]]\n",
        "\n",
        "A = np.array(a)\n",
        "B = np.array(b)\n",
        "C = np.array(c)\n",
        "\n",
        "A2 = np.array(A2)\n",
        "B2 = np.array(B2)\n",
        "C2 = np.array(C2)"
      ],
      "metadata": {
        "id": "sF9mDdN6E-0j"
      },
      "execution_count": 3,
      "outputs": []
    },
    {
      "cell_type": "code",
      "source": [
        "plt.subplot(1, 3, 1)\n",
        "plt.imshow(A, cmap='binary')\n",
        "plt.subplot(1, 3, 2)\n",
        "plt.imshow(B, cmap='binary')\n",
        "plt.subplot(1, 3, 3)\n",
        "plt.imshow(C, cmap='binary')\n",
        "plt.show()"
      ],
      "metadata": {
        "colab": {
          "base_uri": "https://localhost:8080/",
          "height": 175
        },
        "id": "ex6oYjLcFCIh",
        "outputId": "bc0d0cf1-e2a8-4510-b5e7-62b6fef1d8a6"
      },
      "execution_count": 4,
      "outputs": [
        {
          "output_type": "display_data",
          "data": {
            "text/plain": [
              "<Figure size 432x288 with 3 Axes>"
            ],
            "image/png": "[encoded data removed]"
          },
          "metadata": {
            "needs_background": "light"
          }
        }
      ]
    },
    {
      "cell_type": "markdown",
      "source": [
        "> Reshape Matrixes to Vectors"
      ],
      "metadata": {
        "id": "nNKaY4UkRWME"
      }
    },
    {
      "cell_type": "code",
      "source": [
        "X1 = A.reshape(63,1)\n",
        "X2 = B.reshape(63,1)\n",
        "X3 = C.reshape(63,1)\n",
        "\n",
        "S1=A2.reshape(15,1)\n",
        "S2=B2.reshape(15,1)\n",
        "S3=C2.reshape(15,1)"
      ],
      "metadata": {
        "id": "I0F3L8aGFJTJ"
      },
      "execution_count": 13,
      "outputs": []
    },
    {
      "cell_type": "markdown",
      "source": [
        "> Compute Weights"
      ],
      "metadata": {
        "id": "xEKnBqCpRxu5"
      }
    },
    {
      "cell_type": "code",
      "source": [
        "W1 = np.zeros((63,1))\n",
        "W2 = np.zeros((63,1))\n",
        "W3 = np.zeros((63,1))\n",
        "W1 = np.dot(X1,S1.T)\n",
        "W2 = np.dot(X2,S2.T)\n",
        "W3 = np.dot(X3,S3.T)\n",
        "W = W1 + W2 + W3"
      ],
      "metadata": {
        "id": "UBQvqJ06GWsM"
      },
      "execution_count": 14,
      "outputs": []
    },
    {
      "cell_type": "code",
      "source": [
        "W"
      ],
      "metadata": {
        "colab": {
          "base_uri": "https://localhost:8080/"
        },
        "id": "J5fKjpyiR2Wi",
        "outputId": "c720244b-a1cd-46bd-995e-6fc8a4cda68b"
      },
      "execution_count": 22,
      "outputs": [
        {
          "output_type": "execute_result",
          "data": {
            "text/plain": [
              "array([[ 3, -1,  1,  1, -3,  1,  1,  1,  3,  1, -3,  1,  1,  1,  1],\n",
              "       [-1,  3, -3, -3,  1, -3, -3, -3, -1,  1,  1,  1,  1, -3,  1],\n",
              "       [-1,  3, -3, -3,  1, -3, -3, -3, -1,  1,  1,  1,  1, -3,  1],\n",
              "       [-1,  3, -3, -3,  1, -3, -3, -3, -1,  1,  1,  1,  1, -3,  1],\n",
              "       [-1,  3, -3, -3,  1, -3, -3, -3, -1,  1,  1,  1,  1, -3,  1],\n",
              "       [-1,  3, -3, -3,  1, -3, -3, -3, -1,  1,  1,  1,  1, -3,  1],\n",
              "       [ 1, -3,  3,  3, -1,  3,  3,  3,  1, -1, -1, -1, -1,  3, -1],\n",
              "       [ 3, -1,  1,  1, -3,  1,  1,  1,  3,  1, -3,  1,  1,  1,  1],\n",
              "       [-1,  3, -3, -3,  1, -3, -3, -3, -1,  1,  1,  1,  1, -3,  1],\n",
              "       [-1,  3, -3, -3,  1, -3, -3, -3, -1,  1,  1,  1,  1, -3,  1],\n",
              "       [-1,  3, -3, -3,  1, -3, -3, -3, -1,  1,  1,  1,  1, -3,  1],\n",
              "       [-1,  3, -3, -3,  1, -3, -3, -3, -1,  1,  1,  1,  1, -3,  1],\n",
              "       [-1,  3, -3, -3,  1, -3, -3, -3, -1,  1,  1,  1,  1, -3,  1],\n",
              "       [ 1, -3,  3,  3, -1,  3,  3,  3,  1, -1, -1, -1, -1,  3, -1],\n",
              "       [ 1, -3,  3,  3, -1,  3,  3,  3,  1, -1, -1, -1, -1,  3, -1],\n",
              "       [-3,  1, -1, -1,  3, -1, -1, -1, -3, -1,  3, -1, -1, -1, -1],\n",
              "       [-3,  1, -1, -1,  3, -1, -1, -1, -3, -1,  3, -1, -1, -1, -1],\n",
              "       [-3,  1, -1, -1,  3, -1, -1, -1, -3, -1,  3, -1, -1, -1, -1],\n",
              "       [-3,  1, -1, -1,  3, -1, -1, -1, -3, -1,  3, -1, -1, -1, -1],\n",
              "       [-3,  1, -1, -1,  3, -1, -1, -1, -3, -1,  3, -1, -1, -1, -1],\n",
              "       [ 1, -3,  3,  3, -1,  3,  3,  3,  1, -1, -1, -1, -1,  3, -1],\n",
              "       [ 1, -3,  3,  3, -1,  3,  3,  3,  1, -1, -1, -1, -1,  3, -1],\n",
              "       [-1,  3, -3, -3,  1, -3, -3, -3, -1,  1,  1,  1,  1, -3,  1],\n",
              "       [-1,  3, -3, -3,  1, -3, -3, -3, -1,  1,  1,  1,  1, -3,  1],\n",
              "       [-3,  1, -1, -1,  3, -1, -1, -1, -3, -1,  3, -1, -1, -1, -1],\n",
              "       [-1,  3, -3, -3,  1, -3, -3, -3, -1,  1,  1,  1,  1, -3,  1],\n",
              "       [-1,  3, -3, -3,  1, -3, -3, -3, -1,  1,  1,  1,  1, -3,  1],\n",
              "       [ 3, -1,  1,  1, -3,  1,  1,  1,  3,  1, -3,  1,  1,  1,  1],\n",
              "       [ 1, -3,  3,  3, -1,  3,  3,  3,  1, -1, -1, -1, -1,  3, -1],\n",
              "       [-1,  3, -3, -3,  1, -3, -3, -3, -1,  1,  1,  1,  1, -3,  1],\n",
              "       [-1,  3, -3, -3,  1, -3, -3, -3, -1,  1,  1,  1,  1, -3,  1],\n",
              "       [-1, -1,  1,  1,  1,  1,  1,  1, -1,  1,  1,  1,  1,  1,  1],\n",
              "       [-1,  3, -3, -3,  1, -3, -3, -3, -1,  1,  1,  1,  1, -3,  1],\n",
              "       [-1,  3, -3, -3,  1, -3, -3, -3, -1,  1,  1,  1,  1, -3,  1],\n",
              "       [ 3, -1,  1,  1, -3,  1,  1,  1,  3,  1, -3,  1,  1,  1,  1],\n",
              "       [ 3, -1,  1,  1, -3,  1,  1,  1,  3,  1, -3,  1,  1,  1,  1],\n",
              "       [-1,  3, -3, -3,  1, -3, -3, -3, -1,  1,  1,  1,  1, -3,  1],\n",
              "       [-1,  3, -3, -3,  1, -3, -3, -3, -1,  1,  1,  1,  1, -3,  1],\n",
              "       [-3,  1, -1, -1,  3, -1, -1, -1, -3, -1,  3, -1, -1, -1, -1],\n",
              "       [-1,  3, -3, -3,  1, -3, -3, -3, -1,  1,  1,  1,  1, -3,  1],\n",
              "       [-1,  3, -3, -3,  1, -3, -3, -3, -1,  1,  1,  1,  1, -3,  1],\n",
              "       [ 3, -1,  1,  1, -3,  1,  1,  1,  3,  1, -3,  1,  1,  1,  1],\n",
              "       [ 3, -1,  1,  1, -3,  1,  1,  1,  3,  1, -3,  1,  1,  1,  1],\n",
              "       [ 1,  1, -1, -1, -1, -1, -1, -1,  1, -1, -1, -1, -1, -1, -1],\n",
              "       [ 1,  1, -1, -1, -1, -1, -1, -1,  1, -1, -1, -1, -1, -1, -1],\n",
              "       [-1, -1,  1,  1,  1,  1,  1,  1, -1, -3,  1, -3, -3,  1, -3],\n",
              "       [ 1,  1, -1, -1, -1, -1, -1, -1,  1, -1, -1, -1, -1, -1, -1],\n",
              "       [ 1,  1, -1, -1, -1, -1, -1, -1,  1, -1, -1, -1, -1, -1, -1],\n",
              "       [ 3, -1,  1,  1, -3,  1,  1,  1,  3,  1, -3,  1,  1,  1,  1],\n",
              "       [ 1,  1, -1, -1, -1, -1, -1, -1,  1,  3, -1,  3,  3, -1,  3],\n",
              "       [-1,  3, -3, -3,  1, -3, -3, -3, -1,  1,  1,  1,  1, -3,  1],\n",
              "       [-1,  3, -3, -3,  1, -3, -3, -3, -1,  1,  1,  1,  1, -3,  1],\n",
              "       [-3,  1, -1, -1,  3, -1, -1, -1, -3, -1,  3, -1, -1, -1, -1],\n",
              "       [-1,  3, -3, -3,  1, -3, -3, -3, -1,  1,  1,  1,  1, -3,  1],\n",
              "       [-1,  3, -3, -3,  1, -3, -3, -3, -1,  1,  1,  1,  1, -3,  1],\n",
              "       [ 1,  1, -1, -1, -1, -1, -1, -1,  1,  3, -1,  3,  3, -1,  3],\n",
              "       [ 1,  1, -1, -1, -1, -1, -1, -1,  1,  3, -1,  3,  3, -1,  3],\n",
              "       [ 1,  1, -1, -1, -1, -1, -1, -1,  1,  3, -1,  3,  3, -1,  3],\n",
              "       [ 1,  1, -1, -1, -1, -1, -1, -1,  1,  3, -1,  3,  3, -1,  3],\n",
              "       [ 1, -3,  3,  3, -1,  3,  3,  3,  1, -1, -1, -1, -1,  3, -1],\n",
              "       [ 1,  1, -1, -1, -1, -1, -1, -1,  1,  3, -1,  3,  3, -1,  3],\n",
              "       [ 1,  1, -1, -1, -1, -1, -1, -1,  1,  3, -1,  3,  3, -1,  3],\n",
              "       [ 1,  1, -1, -1, -1, -1, -1, -1,  1,  3, -1,  3,  3, -1,  3]])"
            ]
          },
          "metadata": {},
          "execution_count": 22
        }
      ]
    },
    {
      "cell_type": "markdown",
      "source": [
        "#Question 1- Part 3 "
      ],
      "metadata": {
        "id": "gsaw4foYd8NH"
      }
    },
    {
      "cell_type": "markdown",
      "source": [
        "> Computing OUputs"
      ],
      "metadata": {
        "id": "wqJk5cMVW35R"
      }
    },
    {
      "cell_type": "code",
      "source": [
        "def activation_function(X):\n",
        "    if X > 0:\n",
        "        X = 1\n",
        "    elif X < 0:\n",
        "        X = -1\n",
        "    return X"
      ],
      "metadata": {
        "id": "rr2jcw4BZMLn"
      },
      "execution_count": 39,
      "outputs": []
    },
    {
      "cell_type": "code",
      "source": [
        "S1_n = np.dot(W.T,X1) \n",
        "S2_n = np.dot(W.T,X2) \n",
        "S3_n = np.dot(W.T,X3) "
      ],
      "metadata": {
        "id": "ZcRWjNiWJRGb"
      },
      "execution_count": 33,
      "outputs": []
    },
    {
      "cell_type": "code",
      "source": [
        "S1_new = np.zeros((15,1))\n",
        "for i in range(15):\n",
        "  S1_new[i] = activation_function(S1_n[i])\n",
        "  \n",
        "S2_new = np.zeros((15,1))\n",
        "for i in range(15):\n",
        "  S2_new[i] = activation_function(S2_n[i])\n",
        "  \n",
        "S3_new = np.zeros((15,1))\n",
        "for i in range(15):\n",
        "  S3_new[i] = activation_function(S3_n[i])"
      ],
      "metadata": {
        "id": "Hf39hqv4K18e"
      },
      "execution_count": 36,
      "outputs": []
    },
    {
      "cell_type": "code",
      "source": [
        "S1_new = np.reshape(S1_new, (5,3))\n",
        "S2_new = np.reshape(S2_new, (5,3))\n",
        "S3_new = np.reshape(S3_new, (5,3))"
      ],
      "metadata": {
        "id": "yPzbvqsrK63r"
      },
      "execution_count": 37,
      "outputs": []
    },
    {
      "cell_type": "code",
      "source": [
        "plt.subplot(1, 3, 1)\n",
        "plt.imshow(S1_new, cmap='binary')\n",
        "\n",
        "plt.subplot(1, 3, 2)\n",
        "plt.imshow(S2_new, cmap='binary')\n",
        "\n",
        "plt.subplot(1, 3, 3)\n",
        "plt.imshow(S3_new, cmap='binary')\n",
        "\n",
        "plt.show()"
      ],
      "metadata": {
        "colab": {
          "base_uri": "https://localhost:8080/",
          "height": 212
        },
        "id": "exnvrvaoLJej",
        "outputId": "98dcf4d9-04ff-4019-8061-11749daab400"
      },
      "execution_count": 38,
      "outputs": [
        {
          "output_type": "display_data",
          "data": {
            "text/plain": [
              "<Figure size 432x288 with 3 Axes>"
            ],
            "image/png": "[encoded data removed]"
          },
          "metadata": {
            "needs_background": "light"
          }
        }
      ]
    },
    {
      "cell_type": "code",
      "source": [
        ""
      ],
      "metadata": {
        "id": "vlI0j1XMNdXs"
      },
      "execution_count": 12,
      "outputs": []
    }
  ]
}