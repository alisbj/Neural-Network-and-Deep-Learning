{
  "nbformat": 4,
  "nbformat_minor": 0,
  "metadata": {
    "colab": {
      "name": "Q1_Part4.ipynb",
      "provenance": []
    },
    "kernelspec": {
      "name": "python3",
      "display_name": "Python 3"
    },
    "language_info": {
      "name": "python"
    }
  },
  "cells": [
    {
      "cell_type": "code",
      "execution_count": 45,
      "metadata": {
        "id": "CclfQwkCE61n"
      },
      "outputs": [],
      "source": [
        "import numpy as np\n",
        "import matplotlib.pyplot as plt"
      ]
    },
    {
      "cell_type": "markdown",
      "source": [
        "> Determine Inputs & Outputs\n",
        "> Output Size = 4*3"
      ],
      "metadata": {
        "id": "WLpVT-cviMvt"
      }
    },
    {
      "cell_type": "code",
      "source": [
        "a = [[-1,-1,-1,-1,-1,-1,+1],\n",
        "     [-1,-1,-1,-1,-1,-1,+1],\n",
        "     [ 1, 1, 1,1, 1, 1, 1],\n",
        "     [+1,-1,-1,1,-1,-1,-1],\n",
        "     [+1,-1,-1,1,-1,-1,-1],\n",
        "     [-1,-1,-1,1,-1,-1,-1],\n",
        "     [-1,-1,-1,1,-1,-1,-1],\n",
        "     [-1,-1,-1,1,-1,-1,-1],\n",
        "     [-1,-1,-1,1,-1,-1,-1]]\n",
        "\n",
        "b =   [[1,-1,-1,-1,-1,-1,1],\n",
        "       [1,-1,-1,-1,-1,-1,1],\n",
        "       [1,-1,-1,-1,-1,-1,1],\n",
        "       [1,-1,-1,-1,-1,-1,1],\n",
        "       [1,-1,-1,-1,-1,-1,1],\n",
        "       [1,-1,-1,-1,-1,-1,1],\n",
        "       [ 1, 1, 1,1, 1, 1, 1],\n",
        "       [-1,-1,-1,-1,-1,-1,-1],\n",
        "       [-1,-1,-1,1,-1,-1,-1]]\n",
        "\n",
        "c =  [[1,-1,-1,-1,-1,-1,1],\n",
        "      [1,-1,-1,-1,-1,-1,1],\n",
        "      [1,-1,-1,-1,-1,-1,1],\n",
        "      [1,-1,-1,-1,-1,-1,1],\n",
        "      [1,-1,-1,+1,-1,-1,1],\n",
        "      [1,-1,-1,-1,-1,-1,1],\n",
        "      [1,-1,-1,-1,-1,-1,1],\n",
        "      [1,-1,-1,-1,-1,-1,1],\n",
        "      [ 1, 1, 1,1, 1, 1,1]]\n",
        "\n",
        "A2 = [[-1,-1,1],\n",
        "      [1 ,1, 1],\n",
        "      [1 ,1,-1],\n",
        "      [-1,1,-1]]\n",
        "\n",
        "B2 = [[1 ,-1, 1],\n",
        "      [1 , 1, 1],\n",
        "      [-1,-1,-1],\n",
        "      [-1, 1,-1]]\n",
        "\n",
        "C2 = [[1 , -1, 1],\n",
        "      [1 ,  1, 1],\n",
        "      [1 , -1, 1],\n",
        "      [1 ,  1, 1]]\n",
        "\n",
        "A = np.array(a)\n",
        "B = np.array(b)\n",
        "C = np.array(c)\n",
        "\n",
        "A2 = np.array(A2)\n",
        "B2 = np.array(B2)\n",
        "C2 = np.array(C2)"
      ],
      "metadata": {
        "id": "sF9mDdN6E-0j"
      },
      "execution_count": 46,
      "outputs": []
    },
    {
      "cell_type": "markdown",
      "source": [
        ">Plot Inputs"
      ],
      "metadata": {
        "id": "Tycf7ophjBne"
      }
    },
    {
      "cell_type": "code",
      "source": [
        "plt.subplot(1, 3, 1)\n",
        "plt.imshow(A, cmap='binary')\n",
        "plt.subplot(1, 3, 2)\n",
        "plt.imshow(B, cmap='binary')\n",
        "\n",
        "plt.subplot(1, 3, 3)\n",
        "plt.imshow(C, cmap='binary')\n",
        "\n",
        "plt.show()"
      ],
      "metadata": {
        "colab": {
          "base_uri": "https://localhost:8080/",
          "height": 175
        },
        "id": "ex6oYjLcFCIh",
        "outputId": "9fd07fa3-2f17-4500-be99-9715bf4ec700"
      },
      "execution_count": 47,
      "outputs": [
        {
          "output_type": "display_data",
          "data": {
            "text/plain": [
              "<Figure size 432x288 with 3 Axes>"
            ],
            "image/png": "[encoded data removed]"
          },
          "metadata": {
            "needs_background": "light"
          }
        }
      ]
    },
    {
      "cell_type": "markdown",
      "source": [
        "> Reshape Matrixes to Vectors"
      ],
      "metadata": {
        "id": "vWvix4U3ikp_"
      }
    },
    {
      "cell_type": "code",
      "source": [
        "X1 = A.reshape(63,1)\n",
        "X2 = B.reshape(63,1)\n",
        "X3 = C.reshape(63,1)\n",
        "\n",
        "S1=A2.reshape(12,1)\n",
        "S2=B2.reshape(12,1)\n",
        "S3=C2.reshape(12,1)"
      ],
      "metadata": {
        "id": "I0F3L8aGFJTJ"
      },
      "execution_count": 48,
      "outputs": []
    },
    {
      "cell_type": "markdown",
      "source": [
        "> Compute Weights"
      ],
      "metadata": {
        "id": "bydD8KbcioJ8"
      }
    },
    {
      "cell_type": "code",
      "source": [
        "W1 = np.zeros((63,1))\n",
        "W2 = np.zeros((63,1))\n",
        "W3 = np.zeros((63,1))\n",
        "W1 = np.dot(X1,S1.T)\n",
        "W2 = np.dot(X2,S2.T)\n",
        "W3 = np.dot(X3,S3.T)\n",
        "W = W1 + W2 + W3"
      ],
      "metadata": {
        "id": "wXsLb8rKFTFW"
      },
      "execution_count": 49,
      "outputs": []
    },
    {
      "cell_type": "code",
      "source": [
        "W"
      ],
      "metadata": {
        "id": "UBQvqJ06GWsM",
        "colab": {
          "base_uri": "https://localhost:8080/"
        },
        "outputId": "7f4456cd-4c19-4a6e-cc71-ce5aaad4da46"
      },
      "execution_count": 50,
      "outputs": [
        {
          "output_type": "execute_result",
          "data": {
            "text/plain": [
              "array([[ 3, -1,  1,  1,  1,  1, -1, -3,  1,  1,  1,  1],\n",
              "       [-1,  3, -3, -3, -3, -3, -1,  1,  1,  1, -3,  1],\n",
              "       [-1,  3, -3, -3, -3, -3, -1,  1,  1,  1, -3,  1],\n",
              "       [-1,  3, -3, -3, -3, -3, -1,  1,  1,  1, -3,  1],\n",
              "       [-1,  3, -3, -3, -3, -3, -1,  1,  1,  1, -3,  1],\n",
              "       [-1,  3, -3, -3, -3, -3, -1,  1,  1,  1, -3,  1],\n",
              "       [ 1, -3,  3,  3,  3,  3,  1, -1, -1, -1,  3, -1],\n",
              "       [ 3, -1,  1,  1,  1,  1, -1, -3,  1,  1,  1,  1],\n",
              "       [-1,  3, -3, -3, -3, -3, -1,  1,  1,  1, -3,  1],\n",
              "       [-1,  3, -3, -3, -3, -3, -1,  1,  1,  1, -3,  1],\n",
              "       [-1,  3, -3, -3, -3, -3, -1,  1,  1,  1, -3,  1],\n",
              "       [-1,  3, -3, -3, -3, -3, -1,  1,  1,  1, -3,  1],\n",
              "       [-1,  3, -3, -3, -3, -3, -1,  1,  1,  1, -3,  1],\n",
              "       [ 1, -3,  3,  3,  3,  3,  1, -1, -1, -1,  3, -1],\n",
              "       [ 1, -3,  3,  3,  3,  3,  1, -1, -1, -1,  3, -1],\n",
              "       [-3,  1, -1, -1, -1, -1,  1,  3, -1, -1, -1, -1],\n",
              "       [-3,  1, -1, -1, -1, -1,  1,  3, -1, -1, -1, -1],\n",
              "       [-3,  1, -1, -1, -1, -1,  1,  3, -1, -1, -1, -1],\n",
              "       [-3,  1, -1, -1, -1, -1,  1,  3, -1, -1, -1, -1],\n",
              "       [-3,  1, -1, -1, -1, -1,  1,  3, -1, -1, -1, -1],\n",
              "       [ 1, -3,  3,  3,  3,  3,  1, -1, -1, -1,  3, -1],\n",
              "       [ 1, -3,  3,  3,  3,  3,  1, -1, -1, -1,  3, -1],\n",
              "       [-1,  3, -3, -3, -3, -3, -1,  1,  1,  1, -3,  1],\n",
              "       [-1,  3, -3, -3, -3, -3, -1,  1,  1,  1, -3,  1],\n",
              "       [-3,  1, -1, -1, -1, -1,  1,  3, -1, -1, -1, -1],\n",
              "       [-1,  3, -3, -3, -3, -3, -1,  1,  1,  1, -3,  1],\n",
              "       [-1,  3, -3, -3, -3, -3, -1,  1,  1,  1, -3,  1],\n",
              "       [ 3, -1,  1,  1,  1,  1, -1, -3,  1,  1,  1,  1],\n",
              "       [ 1, -3,  3,  3,  3,  3,  1, -1, -1, -1,  3, -1],\n",
              "       [-1,  3, -3, -3, -3, -3, -1,  1,  1,  1, -3,  1],\n",
              "       [-1,  3, -3, -3, -3, -3, -1,  1,  1,  1, -3,  1],\n",
              "       [-1, -1,  1,  1,  1,  1,  3,  1,  1,  1,  1,  1],\n",
              "       [-1,  3, -3, -3, -3, -3, -1,  1,  1,  1, -3,  1],\n",
              "       [-1,  3, -3, -3, -3, -3, -1,  1,  1,  1, -3,  1],\n",
              "       [ 3, -1,  1,  1,  1,  1, -1, -3,  1,  1,  1,  1],\n",
              "       [ 3, -1,  1,  1,  1,  1, -1, -3,  1,  1,  1,  1],\n",
              "       [-1,  3, -3, -3, -3, -3, -1,  1,  1,  1, -3,  1],\n",
              "       [-1,  3, -3, -3, -3, -3, -1,  1,  1,  1, -3,  1],\n",
              "       [-3,  1, -1, -1, -1, -1,  1,  3, -1, -1, -1, -1],\n",
              "       [-1,  3, -3, -3, -3, -3, -1,  1,  1,  1, -3,  1],\n",
              "       [-1,  3, -3, -3, -3, -3, -1,  1,  1,  1, -3,  1],\n",
              "       [ 3, -1,  1,  1,  1,  1, -1, -3,  1,  1,  1,  1],\n",
              "       [ 3, -1,  1,  1,  1,  1, -1, -3,  1,  1,  1,  1],\n",
              "       [ 1,  1, -1, -1, -1, -1, -3, -1, -1, -1, -1, -1],\n",
              "       [ 1,  1, -1, -1, -1, -1, -3, -1, -1, -1, -1, -1],\n",
              "       [-1, -1,  1,  1,  1,  1, -1,  1, -3, -3,  1, -3],\n",
              "       [ 1,  1, -1, -1, -1, -1, -3, -1, -1, -1, -1, -1],\n",
              "       [ 1,  1, -1, -1, -1, -1, -3, -1, -1, -1, -1, -1],\n",
              "       [ 3, -1,  1,  1,  1,  1, -1, -3,  1,  1,  1,  1],\n",
              "       [ 1,  1, -1, -1, -1, -1,  1, -1,  3,  3, -1,  3],\n",
              "       [-1,  3, -3, -3, -3, -3, -1,  1,  1,  1, -3,  1],\n",
              "       [-1,  3, -3, -3, -3, -3, -1,  1,  1,  1, -3,  1],\n",
              "       [-3,  1, -1, -1, -1, -1,  1,  3, -1, -1, -1, -1],\n",
              "       [-1,  3, -3, -3, -3, -3, -1,  1,  1,  1, -3,  1],\n",
              "       [-1,  3, -3, -3, -3, -3, -1,  1,  1,  1, -3,  1],\n",
              "       [ 1,  1, -1, -1, -1, -1,  1, -1,  3,  3, -1,  3],\n",
              "       [ 1,  1, -1, -1, -1, -1,  1, -1,  3,  3, -1,  3],\n",
              "       [ 1,  1, -1, -1, -1, -1,  1, -1,  3,  3, -1,  3],\n",
              "       [ 1,  1, -1, -1, -1, -1,  1, -1,  3,  3, -1,  3],\n",
              "       [ 1, -3,  3,  3,  3,  3,  1, -1, -1, -1,  3, -1],\n",
              "       [ 1,  1, -1, -1, -1, -1,  1, -1,  3,  3, -1,  3],\n",
              "       [ 1,  1, -1, -1, -1, -1,  1, -1,  3,  3, -1,  3],\n",
              "       [ 1,  1, -1, -1, -1, -1,  1, -1,  3,  3, -1,  3]])"
            ]
          },
          "metadata": {},
          "execution_count": 50
        }
      ]
    },
    {
      "cell_type": "markdown",
      "source": [
        "> Computing Ouputs"
      ],
      "metadata": {
        "id": "GxOQ3n7viwR_"
      }
    },
    {
      "cell_type": "code",
      "source": [
        "def activation_function(X):\n",
        "    if X > 0:\n",
        "        X = 1\n",
        "    elif X < 0:\n",
        "        X = -1\n",
        "    return X"
      ],
      "metadata": {
        "id": "ZcRWjNiWJRGb"
      },
      "execution_count": 51,
      "outputs": []
    },
    {
      "cell_type": "code",
      "source": [
        "S1_n = np.dot(W.T,X1)\n",
        "S2_n = np.dot(W.T,X2)\n",
        "S3_n = np.dot(W.T,X3)"
      ],
      "metadata": {
        "id": "9FWwT1KhJ1nR"
      },
      "execution_count": 52,
      "outputs": []
    },
    {
      "cell_type": "code",
      "source": [
        "S1_new = np.zeros((12,1))\n",
        "for i in range(12):\n",
        "  S1_new[i] = activation_function(S1_n[i])\n",
        "  \n",
        "S2_new = np.zeros((12,1))\n",
        "for i in range(12):\n",
        "  S2_new[i] = activation_function(S2_n[i])\n",
        "  \n",
        "S3_new = np.zeros((12,1))\n",
        "for i in range(12):\n",
        "  S3_new[i] = activation_function(S3_n[i])"
      ],
      "metadata": {
        "id": "Hf39hqv4K18e"
      },
      "execution_count": 53,
      "outputs": []
    },
    {
      "cell_type": "markdown",
      "source": [
        "> Reshape Vectors to Matrixes"
      ],
      "metadata": {
        "id": "8o86wdrki8IF"
      }
    },
    {
      "cell_type": "code",
      "source": [
        "S1_new = np.reshape(S1_new, (4,3))\n",
        "S2_new = np.reshape(S2_new, (4,3))\n",
        "S3_new = np.reshape(S3_new, (4,3))"
      ],
      "metadata": {
        "id": "yPzbvqsrK63r"
      },
      "execution_count": 54,
      "outputs": []
    },
    {
      "cell_type": "markdown",
      "source": [
        ">Plot Outputs"
      ],
      "metadata": {
        "id": "B9pkaNabjF2x"
      }
    },
    {
      "cell_type": "code",
      "source": [
        "plt.subplot(1, 3, 1)\n",
        "plt.imshow(S1_new, cmap='binary')\n",
        "\n",
        "plt.subplot(1, 3, 2)\n",
        "plt.imshow(S2_new, cmap='binary')\n",
        "\n",
        "plt.subplot(1, 3, 3)\n",
        "plt.imshow(S3_new, cmap='binary')\n",
        "\n",
        "plt.show()"
      ],
      "metadata": {
        "colab": {
          "base_uri": "https://localhost:8080/",
          "height": 179
        },
        "id": "exnvrvaoLJej",
        "outputId": "a2583289-242c-4dbd-947d-e08b6769df10"
      },
      "execution_count": 55,
      "outputs": [
        {
          "output_type": "display_data",
          "data": {
            "text/plain": [
              "<Figure size 432x288 with 3 Axes>"
            ],
            "image/png": "[encoded data removed]"
          },
          "metadata": {
            "needs_background": "light"
          }
        }
      ]
    },
    {
      "cell_type": "markdown",
      "source": [
        "The Size of Output is 3*3"
      ],
      "metadata": {
        "id": "UM-m84VC8jzX"
      }
    },
    {
      "cell_type": "code",
      "source": [
        "A3 = [[-1,-1,1],\n",
        "      [1 ,1, 1],\n",
        "      [1 ,1,-1]]\n",
        "\n",
        "B3 = [[1 ,-1, 1],\n",
        "      [1 , 1, 1],\n",
        "      [-1, 1,-1]]\n",
        "\n",
        "C3 = [[1 , -1, 1],\n",
        "      [1 ,  1, 1],\n",
        "      [1 ,  1, 1]]\n",
        "\n",
        "A3 = np.array(A3)\n",
        "B3 = np.array(B3)\n",
        "C3 = np.array(C3)"
      ],
      "metadata": {
        "id": "vlI0j1XMNdXs"
      },
      "execution_count": 117,
      "outputs": []
    },
    {
      "cell_type": "markdown",
      "source": [
        "> Reshape Matrixes to Vectors"
      ],
      "metadata": {
        "id": "YBmSLNU182I6"
      }
    },
    {
      "cell_type": "code",
      "source": [
        "S1=A3.reshape(9,1)\n",
        "S2=B3.reshape(9,1)\n",
        "S3=C3.reshape(9,1)"
      ],
      "metadata": {
        "id": "4fSviWXE7hsk"
      },
      "execution_count": 60,
      "outputs": []
    },
    {
      "cell_type": "markdown",
      "source": [
        ">Compute Weights"
      ],
      "metadata": {
        "id": "9YjnqK6_83k2"
      }
    },
    {
      "cell_type": "code",
      "source": [
        "W1 = np.zeros((63,1))\n",
        "W2 = np.zeros((63,1))\n",
        "W3 = np.zeros((63,1))\n",
        "W1 = np.dot(X1,S1.T)\n",
        "W2 = np.dot(X2,S2.T)\n",
        "W3 = np.dot(X3,S3.T)\n",
        "W = W1 + W2 + W3"
      ],
      "metadata": {
        "id": "dDG_p6Ze7xxO"
      },
      "execution_count": 61,
      "outputs": []
    },
    {
      "cell_type": "code",
      "source": [
        "W"
      ],
      "metadata": {
        "colab": {
          "base_uri": "https://localhost:8080/"
        },
        "id": "G8lFjzPp9W-L",
        "outputId": "8d56f4da-3e61-48cf-c365-9e8056d968a2"
      },
      "execution_count": 62,
      "outputs": [
        {
          "output_type": "execute_result",
          "data": {
            "text/plain": [
              "array([[ 3, -1,  1,  1,  1,  1, -1,  1,  1],\n",
              "       [-1,  3, -3, -3, -3, -3, -1, -3,  1],\n",
              "       [-1,  3, -3, -3, -3, -3, -1, -3,  1],\n",
              "       [-1,  3, -3, -3, -3, -3, -1, -3,  1],\n",
              "       [-1,  3, -3, -3, -3, -3, -1, -3,  1],\n",
              "       [-1,  3, -3, -3, -3, -3, -1, -3,  1],\n",
              "       [ 1, -3,  3,  3,  3,  3,  1,  3, -1],\n",
              "       [ 3, -1,  1,  1,  1,  1, -1,  1,  1],\n",
              "       [-1,  3, -3, -3, -3, -3, -1, -3,  1],\n",
              "       [-1,  3, -3, -3, -3, -3, -1, -3,  1],\n",
              "       [-1,  3, -3, -3, -3, -3, -1, -3,  1],\n",
              "       [-1,  3, -3, -3, -3, -3, -1, -3,  1],\n",
              "       [-1,  3, -3, -3, -3, -3, -1, -3,  1],\n",
              "       [ 1, -3,  3,  3,  3,  3,  1,  3, -1],\n",
              "       [ 1, -3,  3,  3,  3,  3,  1,  3, -1],\n",
              "       [-3,  1, -1, -1, -1, -1,  1, -1, -1],\n",
              "       [-3,  1, -1, -1, -1, -1,  1, -1, -1],\n",
              "       [-3,  1, -1, -1, -1, -1,  1, -1, -1],\n",
              "       [-3,  1, -1, -1, -1, -1,  1, -1, -1],\n",
              "       [-3,  1, -1, -1, -1, -1,  1, -1, -1],\n",
              "       [ 1, -3,  3,  3,  3,  3,  1,  3, -1],\n",
              "       [ 1, -3,  3,  3,  3,  3,  1,  3, -1],\n",
              "       [-1,  3, -3, -3, -3, -3, -1, -3,  1],\n",
              "       [-1,  3, -3, -3, -3, -3, -1, -3,  1],\n",
              "       [-3,  1, -1, -1, -1, -1,  1, -1, -1],\n",
              "       [-1,  3, -3, -3, -3, -3, -1, -3,  1],\n",
              "       [-1,  3, -3, -3, -3, -3, -1, -3,  1],\n",
              "       [ 3, -1,  1,  1,  1,  1, -1,  1,  1],\n",
              "       [ 1, -3,  3,  3,  3,  3,  1,  3, -1],\n",
              "       [-1,  3, -3, -3, -3, -3, -1, -3,  1],\n",
              "       [-1,  3, -3, -3, -3, -3, -1, -3,  1],\n",
              "       [-1, -1,  1,  1,  1,  1,  3,  1,  1],\n",
              "       [-1,  3, -3, -3, -3, -3, -1, -3,  1],\n",
              "       [-1,  3, -3, -3, -3, -3, -1, -3,  1],\n",
              "       [ 3, -1,  1,  1,  1,  1, -1,  1,  1],\n",
              "       [ 3, -1,  1,  1,  1,  1, -1,  1,  1],\n",
              "       [-1,  3, -3, -3, -3, -3, -1, -3,  1],\n",
              "       [-1,  3, -3, -3, -3, -3, -1, -3,  1],\n",
              "       [-3,  1, -1, -1, -1, -1,  1, -1, -1],\n",
              "       [-1,  3, -3, -3, -3, -3, -1, -3,  1],\n",
              "       [-1,  3, -3, -3, -3, -3, -1, -3,  1],\n",
              "       [ 3, -1,  1,  1,  1,  1, -1,  1,  1],\n",
              "       [ 3, -1,  1,  1,  1,  1, -1,  1,  1],\n",
              "       [ 1,  1, -1, -1, -1, -1, -3, -1, -1],\n",
              "       [ 1,  1, -1, -1, -1, -1, -3, -1, -1],\n",
              "       [-1, -1,  1,  1,  1,  1, -1,  1, -3],\n",
              "       [ 1,  1, -1, -1, -1, -1, -3, -1, -1],\n",
              "       [ 1,  1, -1, -1, -1, -1, -3, -1, -1],\n",
              "       [ 3, -1,  1,  1,  1,  1, -1,  1,  1],\n",
              "       [ 1,  1, -1, -1, -1, -1,  1, -1,  3],\n",
              "       [-1,  3, -3, -3, -3, -3, -1, -3,  1],\n",
              "       [-1,  3, -3, -3, -3, -3, -1, -3,  1],\n",
              "       [-3,  1, -1, -1, -1, -1,  1, -1, -1],\n",
              "       [-1,  3, -3, -3, -3, -3, -1, -3,  1],\n",
              "       [-1,  3, -3, -3, -3, -3, -1, -3,  1],\n",
              "       [ 1,  1, -1, -1, -1, -1,  1, -1,  3],\n",
              "       [ 1,  1, -1, -1, -1, -1,  1, -1,  3],\n",
              "       [ 1,  1, -1, -1, -1, -1,  1, -1,  3],\n",
              "       [ 1,  1, -1, -1, -1, -1,  1, -1,  3],\n",
              "       [ 1, -3,  3,  3,  3,  3,  1,  3, -1],\n",
              "       [ 1,  1, -1, -1, -1, -1,  1, -1,  3],\n",
              "       [ 1,  1, -1, -1, -1, -1,  1, -1,  3],\n",
              "       [ 1,  1, -1, -1, -1, -1,  1, -1,  3]])"
            ]
          },
          "metadata": {},
          "execution_count": 62
        }
      ]
    },
    {
      "cell_type": "markdown",
      "source": [
        "Compute Output"
      ],
      "metadata": {
        "id": "ZMjkpPG78859"
      }
    },
    {
      "cell_type": "code",
      "source": [
        "S1_n = np.dot(W.T,X1)\n",
        "S2_n = np.dot(W.T,X2)\n",
        "S3_n = np.dot(W.T,X3)"
      ],
      "metadata": {
        "id": "wW6O_lUN77i6"
      },
      "execution_count": 63,
      "outputs": []
    },
    {
      "cell_type": "code",
      "source": [
        "S1_new = np.zeros((9,1))\n",
        "for i in range(9):\n",
        "  S1_new[i] = activation_function(S1_n[i])\n",
        "  \n",
        "S2_new = np.zeros((9,1))\n",
        "for i in range(9):\n",
        "  S2_new[i] = activation_function(S2_n[i])\n",
        "  \n",
        "S3_new = np.zeros((9,1))\n",
        "for i in range(9):\n",
        "  S3_new[i] = activation_function(S3_n[i])"
      ],
      "metadata": {
        "id": "yQ3zpnQ18B0X"
      },
      "execution_count": 64,
      "outputs": []
    },
    {
      "cell_type": "markdown",
      "source": [
        "> Reshape Vectors to Matrixes"
      ],
      "metadata": {
        "id": "y6SO-BrM9K5h"
      }
    },
    {
      "cell_type": "code",
      "source": [
        "S1_new = np.reshape(S1_new, (3,3))\n",
        "S2_new = np.reshape(S2_new, (3,3))\n",
        "S3_new = np.reshape(S3_new, (3,3))"
      ],
      "metadata": {
        "id": "wISabKwj8Lps"
      },
      "execution_count": 65,
      "outputs": []
    },
    {
      "cell_type": "markdown",
      "source": [
        ">Plot Outputs"
      ],
      "metadata": {
        "id": "SIGKeMPw9QKe"
      }
    },
    {
      "cell_type": "code",
      "source": [
        "plt.subplot(1, 3, 1)\n",
        "plt.imshow(S1_new, cmap='binary')\n",
        "\n",
        "plt.subplot(1, 3, 2)\n",
        "plt.imshow(S2_new, cmap='binary')\n",
        "\n",
        "plt.subplot(1, 3, 3)\n",
        "plt.imshow(S3_new, cmap='binary')\n",
        "\n",
        "plt.show()"
      ],
      "metadata": {
        "colab": {
          "base_uri": "https://localhost:8080/",
          "height": 146
        },
        "id": "rXXKyp8a8OiS",
        "outputId": "15e54bd8-313a-45ae-b5ef-0d7e1cd9f42d"
      },
      "execution_count": 66,
      "outputs": [
        {
          "output_type": "display_data",
          "data": {
            "text/plain": [
              "<Figure size 432x288 with 3 Axes>"
            ],
            "image/png": "[encoded data removed]"
          },
          "metadata": {
            "needs_background": "light"
          }
        }
      ]
    },
    {
      "cell_type": "markdown",
      "source": [
        "The Size of Output is 2*1"
      ],
      "metadata": {
        "id": "_CYHE8E5BrzG"
      }
    },
    {
      "cell_type": "code",
      "source": [
        "A4 = [[-1,1]]\n",
        "B4 = [[1,-1]]\n",
        "C4 = [[1,1]]\n",
        "\n",
        "A4 = np.array(A4)\n",
        "B4 = np.array(B4)\n",
        "C4 = np.array(C4)"
      ],
      "metadata": {
        "id": "1CQXnTDA8THV"
      },
      "execution_count": 126,
      "outputs": []
    },
    {
      "cell_type": "markdown",
      "source": [
        "> Reshape Matrixes to Vectors"
      ],
      "metadata": {
        "id": "uzfs0nG4BzVV"
      }
    },
    {
      "cell_type": "code",
      "source": [
        "S1=A4.reshape(2,1)\n",
        "S2=B4.reshape(2,1)\n",
        "S3=C4.reshape(2,1)"
      ],
      "metadata": {
        "id": "4jWmajQTAw_e"
      },
      "execution_count": 127,
      "outputs": []
    },
    {
      "cell_type": "markdown",
      "source": [
        ">Compute Weights"
      ],
      "metadata": {
        "id": "A2vtgBrgB4Uc"
      }
    },
    {
      "cell_type": "code",
      "source": [
        "W1 = np.zeros((63,1))\n",
        "W2 = np.zeros((63,1))\n",
        "W3 = np.zeros((63,1))\n",
        "W1 = np.dot(X1,S1.T)\n",
        "W2 = np.dot(X2,S2.T)\n",
        "W3 = np.dot(X3,S3.T)\n",
        "W = W1 + W2 + W3"
      ],
      "metadata": {
        "id": "axF44HE3A0nn"
      },
      "execution_count": 128,
      "outputs": []
    },
    {
      "cell_type": "code",
      "source": [
        "W"
      ],
      "metadata": {
        "colab": {
          "base_uri": "https://localhost:8080/"
        },
        "id": "6haeNxV5A_bn",
        "outputId": "6ee5e62a-03db-43c9-ed8b-191c06d4540c"
      },
      "execution_count": 129,
      "outputs": [
        {
          "output_type": "execute_result",
          "data": {
            "text/plain": [
              "array([[ 3, -1],\n",
              "       [-1, -1],\n",
              "       [-1, -1],\n",
              "       [-1, -1],\n",
              "       [-1, -1],\n",
              "       [-1, -1],\n",
              "       [ 1,  1],\n",
              "       [ 3, -1],\n",
              "       [-1, -1],\n",
              "       [-1, -1],\n",
              "       [-1, -1],\n",
              "       [-1, -1],\n",
              "       [-1, -1],\n",
              "       [ 1,  1],\n",
              "       [ 1,  1],\n",
              "       [-3,  1],\n",
              "       [-3,  1],\n",
              "       [-3,  1],\n",
              "       [-3,  1],\n",
              "       [-3,  1],\n",
              "       [ 1,  1],\n",
              "       [ 1,  1],\n",
              "       [-1, -1],\n",
              "       [-1, -1],\n",
              "       [-3,  1],\n",
              "       [-1, -1],\n",
              "       [-1, -1],\n",
              "       [ 3, -1],\n",
              "       [ 1,  1],\n",
              "       [-1, -1],\n",
              "       [-1, -1],\n",
              "       [-1,  3],\n",
              "       [-1, -1],\n",
              "       [-1, -1],\n",
              "       [ 3, -1],\n",
              "       [ 3, -1],\n",
              "       [-1, -1],\n",
              "       [-1, -1],\n",
              "       [-3,  1],\n",
              "       [-1, -1],\n",
              "       [-1, -1],\n",
              "       [ 3, -1],\n",
              "       [ 3, -1],\n",
              "       [ 1, -3],\n",
              "       [ 1, -3],\n",
              "       [-1, -1],\n",
              "       [ 1, -3],\n",
              "       [ 1, -3],\n",
              "       [ 3, -1],\n",
              "       [ 1,  1],\n",
              "       [-1, -1],\n",
              "       [-1, -1],\n",
              "       [-3,  1],\n",
              "       [-1, -1],\n",
              "       [-1, -1],\n",
              "       [ 1,  1],\n",
              "       [ 1,  1],\n",
              "       [ 1,  1],\n",
              "       [ 1,  1],\n",
              "       [ 1,  1],\n",
              "       [ 1,  1],\n",
              "       [ 1,  1],\n",
              "       [ 1,  1]])"
            ]
          },
          "metadata": {},
          "execution_count": 129
        }
      ]
    },
    {
      "cell_type": "markdown",
      "source": [
        "Compute Output"
      ],
      "metadata": {
        "id": "pk1NPs2oB8Um"
      }
    },
    {
      "cell_type": "code",
      "source": [
        "S1_n = np.dot(W.T,X1)\n",
        "S2_n = np.dot(W.T,X2)\n",
        "S3_n = np.dot(W.T,X3)"
      ],
      "metadata": {
        "id": "KV-ShavrBDX2"
      },
      "execution_count": 130,
      "outputs": []
    },
    {
      "cell_type": "code",
      "source": [
        "S1_new = np.zeros((2,1))\n",
        "for i in range(2):\n",
        "  S1_new[i] = activation_function(S1_n[i])\n",
        "  \n",
        "S2_new = np.zeros((2,1))\n",
        "for i in range(2):\n",
        "  S2_new[i] = activation_function(S2_n[i])\n",
        "  \n",
        "S3_new = np.zeros((2,1))\n",
        "for i in range(2):\n",
        "  S3_new[i] = activation_function(S3_n[i])"
      ],
      "metadata": {
        "id": "aKSvdROuBD_z"
      },
      "execution_count": 131,
      "outputs": []
    },
    {
      "cell_type": "markdown",
      "source": [
        "> Reshape Vectors to Matrixes"
      ],
      "metadata": {
        "id": "fHdYbiuwCCbf"
      }
    },
    {
      "cell_type": "code",
      "source": [
        "S1_new = np.reshape(S1_new, (2,1))\n",
        "S2_new = np.reshape(S2_new, (2,1))\n",
        "S3_new = np.reshape(S3_new, (2,1))"
      ],
      "metadata": {
        "id": "UNACm2chBKh6"
      },
      "execution_count": 132,
      "outputs": []
    },
    {
      "cell_type": "markdown",
      "source": [
        ">Plot Outputs"
      ],
      "metadata": {
        "id": "jR-qWEh1CGHO"
      }
    },
    {
      "cell_type": "code",
      "source": [
        "plt.subplot(1, 3, 1)\n",
        "plt.imshow(S1_new, cmap='binary')\n",
        "\n",
        "plt.subplot(1, 3, 2)\n",
        "plt.imshow(S2_new, cmap='binary')\n",
        "\n",
        "plt.subplot(1, 3, 3)\n",
        "plt.imshow(S3_new, cmap='gray')\n",
        "\n",
        "plt.show()"
      ],
      "metadata": {
        "colab": {
          "base_uri": "https://localhost:8080/",
          "height": 249
        },
        "id": "xsfabMtZBRsp",
        "outputId": "c2b4cfa8-ad47-4c64-d80c-f74bba2921c5"
      },
      "execution_count": 133,
      "outputs": [
        {
          "output_type": "display_data",
          "data": {
            "text/plain": [
              "<Figure size 432x288 with 3 Axes>"
            ],
            "image/png": "[encoded data removed]"
          },
          "metadata": {
            "needs_background": "light"
          }
        }
      ]
    },
    {
      "cell_type": "code",
      "source": [
        ""
      ],
      "metadata": {
        "id": "A0YFvR0gBXjH"
      },
      "execution_count": 133,
      "outputs": []
    }
  ]
}