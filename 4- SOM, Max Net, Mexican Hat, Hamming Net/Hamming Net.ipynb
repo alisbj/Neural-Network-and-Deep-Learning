{
  "nbformat": 4,
  "nbformat_minor": 0,
  "metadata": {
    "colab": {
      "name": "Q4.ipynb",
      "provenance": [],
      "collapsed_sections": []
    },
    "kernelspec": {
      "name": "python3",
      "display_name": "Python 3"
    },
    "language_info": {
      "name": "python"
    }
  },
  "cells": [
    {
      "cell_type": "code",
      "execution_count": null,
      "metadata": {
        "id": "5_osJXAwtTd7"
      },
      "outputs": [],
      "source": [
        "import numpy as np\n",
        "import matplotlib.pyplot as plt\n",
        "import pandas as pd"
      ]
    },
    {
      "cell_type": "code",
      "source": [
        "X1 = np.array([[-1, 1, -1],[1, -1, 1],[1, -1, 1], [-1, 1, -1]])\n",
        "X2 = np.array([[-1, 1, -1], [1, -1, 1], [1, -1, 1], [1, -1, 1]])\n",
        "X3 = np.array([[1, -1, 1], [-1, 1, -1], [-1, -1, -1], [-1, 1, -1]])\n",
        "X4 = np.array([[1, -1, -1], [-1, 1, 1], [-1, 1, 1], [1, -1, -1]])"
      ],
      "metadata": {
        "id": "6N_Rv8I0Odsb"
      },
      "execution_count": null,
      "outputs": []
    },
    {
      "cell_type": "code",
      "source": [
        "plt.imshow(X1,cmap='gray')\n"
      ],
      "metadata": {
        "colab": {
          "base_uri": "https://localhost:8080/",
          "height": 286
        },
        "id": "XY0BSQ0_b0U6",
        "outputId": "75474550-900e-4154-87c7-3f7478c49551"
      },
      "execution_count": null,
      "outputs": [
        {
          "output_type": "execute_result",
          "data": {
            "text/plain": [
              "<matplotlib.image.AxesImage at 0x7f80f64edbd0>"
            ]
          },
          "metadata": {},
          "execution_count": 92
        },
        {
          "output_type": "display_data",
          "data": {
            "text/plain": [
              "<Figure size 432x288 with 1 Axes>"
            ],
            "image/png": "[encoded data removed]"
          },
          "metadata": {
            "needs_background": "light"
          }
        }
      ]
    },
    {
      "cell_type": "code",
      "source": [
        "plt.imshow(X2,cmap='gray')\n"
      ],
      "metadata": {
        "colab": {
          "base_uri": "https://localhost:8080/",
          "height": 286
        },
        "id": "m7kSH8r_b_5a",
        "outputId": "61872fbc-94a8-41d7-be9b-dde3d9cf4e7a"
      },
      "execution_count": null,
      "outputs": [
        {
          "output_type": "execute_result",
          "data": {
            "text/plain": [
              "<matplotlib.image.AxesImage at 0x7f80f63febd0>"
            ]
          },
          "metadata": {},
          "execution_count": 93
        },
        {
          "output_type": "display_data",
          "data": {
            "text/plain": [
              "<Figure size 432x288 with 1 Axes>"
            ],
            "image/png": "[encoded data removed]"
          },
          "metadata": {
            "needs_background": "light"
          }
        }
      ]
    },
    {
      "cell_type": "code",
      "source": [
        "plt.imshow(X3,cmap='gray')\n"
      ],
      "metadata": {
        "colab": {
          "base_uri": "https://localhost:8080/",
          "height": 286
        },
        "id": "lbnfOE6acA76",
        "outputId": "f18d0c06-e15d-4bca-9fc6-61e6cf8a6fa1"
      },
      "execution_count": null,
      "outputs": [
        {
          "output_type": "execute_result",
          "data": {
            "text/plain": [
              "<matplotlib.image.AxesImage at 0x7f80f60389d0>"
            ]
          },
          "metadata": {},
          "execution_count": 94
        },
        {
          "output_type": "display_data",
          "data": {
            "text/plain": [
              "<Figure size 432x288 with 1 Axes>"
            ],
            "image/png": "[encoded data removed]"
          },
          "metadata": {
            "needs_background": "light"
          }
        }
      ]
    },
    {
      "cell_type": "code",
      "source": [
        "plt.imshow(X4,cmap='gray')"
      ],
      "metadata": {
        "colab": {
          "base_uri": "https://localhost:8080/",
          "height": 286
        },
        "id": "caD-vKObcCoJ",
        "outputId": "69bbfb53-47a1-4e4c-b90e-458ca1cfea1e"
      },
      "execution_count": null,
      "outputs": [
        {
          "output_type": "execute_result",
          "data": {
            "text/plain": [
              "<matplotlib.image.AxesImage at 0x7f80f6020750>"
            ]
          },
          "metadata": {},
          "execution_count": 95
        },
        {
          "output_type": "display_data",
          "data": {
            "text/plain": [
              "<Figure size 432x288 with 1 Axes>"
            ],
            "image/png": "[encoded data removed]"
          },
          "metadata": {
            "needs_background": "light"
          }
        }
      ]
    },
    {
      "cell_type": "markdown",
      "source": [
        ">Hamming Distance"
      ],
      "metadata": {
        "id": "ZQ60OZZ_P0Oz"
      }
    },
    {
      "cell_type": "code",
      "source": [
        "def Hamming(X1,X2):\n",
        "  return (np.size(X1) - (np.dot(X1.reshape(1,np.size(X1)),X2.reshape(np.size(X2),1)) +\n",
        "                         np.size(X1) )/2)[0][0]"
      ],
      "metadata": {
        "id": "rtWEZFLsTpOv"
      },
      "execution_count": null,
      "outputs": []
    },
    {
      "cell_type": "code",
      "source": [
        "X = [X1.reshape(1,12),X2.reshape(1,12),X3.reshape(1,12),X4.reshape(1,12)]\n",
        "H = np.zeros((4,4))\n",
        "for i in range(4):\n",
        "  for j in range(4):\n",
        "    H[i,j] = Hamming(X[i],X[j])\n",
        "print(H)"
      ],
      "metadata": {
        "colab": {
          "base_uri": "https://localhost:8080/"
        },
        "id": "jrbLZC5baLZ1",
        "outputId": "63fd83d1-189f-4f87-f372-ebbaa9e7e1dd"
      },
      "execution_count": null,
      "outputs": [
        {
          "output_type": "stream",
          "name": "stdout",
          "text": [
            "[[ 0.  3.  8.  8.]\n",
            " [ 3.  0. 11.  7.]\n",
            " [ 8. 11.  0.  6.]\n",
            " [ 8.  7.  6.  0.]]\n"
          ]
        }
      ]
    },
    {
      "cell_type": "markdown",
      "source": [
        ">Part 2\n",
        ">>Matrix Weights and bias"
      ],
      "metadata": {
        "id": "iXWqglFRfpo3"
      }
    },
    {
      "cell_type": "code",
      "source": [
        "Exemplars = np.reshape(X,(4,12))\n",
        "W = np.array(Exemplars)/2\n",
        "B = np.size(X1) / 2\n",
        "print('Weights Matrix = \\n',W)\n",
        "print('Bias = ',B)"
      ],
      "metadata": {
        "colab": {
          "base_uri": "https://localhost:8080/"
        },
        "id": "P2erohqTftDg",
        "outputId": "55d8715a-0106-481e-9ffe-5f4c0c9e0eb7"
      },
      "execution_count": null,
      "outputs": [
        {
          "output_type": "stream",
          "name": "stdout",
          "text": [
            "Weights Matrix = \n",
            " [[-0.5  0.5 -0.5  0.5 -0.5  0.5  0.5 -0.5  0.5 -0.5  0.5 -0.5]\n",
            " [-0.5  0.5 -0.5  0.5 -0.5  0.5  0.5 -0.5  0.5  0.5 -0.5  0.5]\n",
            " [ 0.5 -0.5  0.5 -0.5  0.5 -0.5 -0.5 -0.5 -0.5 -0.5  0.5 -0.5]\n",
            " [ 0.5 -0.5 -0.5 -0.5  0.5  0.5 -0.5  0.5  0.5  0.5 -0.5 -0.5]]\n",
            "Bias =  6.0\n"
          ]
        }
      ]
    },
    {
      "cell_type": "markdown",
      "source": [
        ">Part 3"
      ],
      "metadata": {
        "id": "ZewIG5oqjw3N"
      }
    },
    {
      "cell_type": "code",
      "source": [
        "Input = np.array([[-1, -1, -1],[1, -1, 1],[1, -1, 1], [1, -1, 1]])\n",
        "plt.imshow(Input, cmap='gray')"
      ],
      "metadata": {
        "id": "jlg8fiHPkG6n",
        "outputId": "b480acd5-c0dd-45d8-aac6-68ad44baf1a3",
        "colab": {
          "base_uri": "https://localhost:8080/",
          "height": 286
        }
      },
      "execution_count": null,
      "outputs": [
        {
          "output_type": "execute_result",
          "data": {
            "text/plain": [
              "<matplotlib.image.AxesImage at 0x7f80f5ee23d0>"
            ]
          },
          "metadata": {},
          "execution_count": 244
        },
        {
          "output_type": "display_data",
          "data": {
            "text/plain": [
              "<Figure size 432x288 with 1 Axes>"
            ],
            "image/png": "[encoded data removed]"
          },
          "metadata": {
            "needs_background": "light"
          }
        }
      ]
    },
    {
      "cell_type": "code",
      "source": [
        "d = Input.reshape(1,12)\n",
        "U = np.dot(W,d.T) + B"
      ],
      "metadata": {
        "id": "eqmE_0OEGTxb"
      },
      "execution_count": null,
      "outputs": []
    },
    {
      "cell_type": "code",
      "source": [
        "Maxnet_weights = np.array([[1,-0.2,-0.2,-0.2],\n",
        "                 [-0.2,1,-0.2,-0.2],\n",
        "                 [-0.2,-0.2,1,-0.2],\n",
        "                 [-0.2,-0.2,-0.2,1],])"
      ],
      "metadata": {
        "id": "vAiQcTHpFoAf"
      },
      "execution_count": null,
      "outputs": []
    },
    {
      "cell_type": "code",
      "source": [
        "def maxnet(X,W):  \n",
        "  X1 = X.copy()\n",
        "  W = W.copy()\n",
        "  steps = [] # To determine the steps of the algorithm\n",
        "  while True: \n",
        "      Out = [] \n",
        "      C = 0\n",
        "      net = np.dot(X1,W) \n",
        "      for i in range(W.shape[0]):\n",
        "        Y = max(0,net[0,i])\n",
        "        if Y == 0:\n",
        "          C = C + 1\n",
        "        Out.append(Y) \n",
        "      X1 = np.array(Out)\n",
        "      X1 = np.reshape(X1,(1,W.shape[0]))\n",
        "      steps.append(Out) \n",
        "      if C == W.shape[0] - 1:\n",
        "        last = np.array(steps[len(steps)-1]) # The last step of the algorithm (Final Output)\n",
        "        break\n",
        "  return pd.DataFrame(steps), X[0,(np.where(last>0))[0]][0]\n",
        "  "
      ],
      "metadata": {
        "id": "3R8AEM5Nmsnt"
      },
      "execution_count": null,
      "outputs": []
    },
    {
      "cell_type": "code",
      "source": [
        "steps, Output = maxnet(U.T,Maxnet_weights)"
      ],
      "metadata": {
        "id": "OQBYpESlkhQX"
      },
      "execution_count": null,
      "outputs": []
    },
    {
      "cell_type": "code",
      "source": [
        "steps"
      ],
      "metadata": {
        "id": "o_jKmEBI6hrS",
        "outputId": "89a9d226-957a-4ed4-ef19-f8f967156075",
        "colab": {
          "base_uri": "https://localhost:8080/",
          "height": 175
        }
      },
      "execution_count": null,
      "outputs": [
        {
          "output_type": "execute_result",
          "data": {
            "text/plain": [
              "      0      1  2    3\n",
              "0  4.20  7.800  0  1.8\n",
              "1  2.28  6.600  0  0.0\n",
              "2  0.96  6.144  0  0.0\n",
              "3  0.00  5.952  0  0.0"
            ],
            "text/html": [
              "\n",
              "  <div id=\"df-2068c745-cf13-46a2-b92a-0e3c8265dead\">\n",
              "    <div class=\"colab-df-container\">\n",
              "      <div>\n",
              "<style scoped>\n",
              "    .dataframe tbody tr th:only-of-type {\n",
              "        vertical-align: middle;\n",
              "    }\n",
              "\n",
              "    .dataframe tbody tr th {\n",
              "        vertical-align: top;\n",
              "    }\n",
              "\n",
              "    .dataframe thead th {\n",
              "        text-align: right;\n",
              "    }\n",
              "</style>\n",
              "<table border=\"1\" class=\"dataframe\">\n",
              "  <thead>\n",
              "    <tr style=\"text-align: right;\">\n",
              "      <th></th>\n",
              "      <th>0</th>\n",
              "      <th>1</th>\n",
              "      <th>2</th>\n",
              "      <th>3</th>\n",
              "    </tr>\n",
              "  </thead>\n",
              "  <tbody>\n",
              "    <tr>\n",
              "      <th>0</th>\n",
              "      <td>4.20</td>\n",
              "      <td>7.800</td>\n",
              "      <td>0</td>\n",
              "      <td>1.8</td>\n",
              "    </tr>\n",
              "    <tr>\n",
              "      <th>1</th>\n",
              "      <td>2.28</td>\n",
              "      <td>6.600</td>\n",
              "      <td>0</td>\n",
              "      <td>0.0</td>\n",
              "    </tr>\n",
              "    <tr>\n",
              "      <th>2</th>\n",
              "      <td>0.96</td>\n",
              "      <td>6.144</td>\n",
              "      <td>0</td>\n",
              "      <td>0.0</td>\n",
              "    </tr>\n",
              "    <tr>\n",
              "      <th>3</th>\n",
              "      <td>0.00</td>\n",
              "      <td>5.952</td>\n",
              "      <td>0</td>\n",
              "      <td>0.0</td>\n",
              "    </tr>\n",
              "  </tbody>\n",
              "</table>\n",
              "</div>\n",
              "      <button class=\"colab-df-convert\" onclick=\"convertToInteractive('df-2068c745-cf13-46a2-b92a-0e3c8265dead')\"\n",
              "              title=\"Convert this dataframe to an interactive table.\"\n",
              "              style=\"display:none;\">\n",
              "        \n",
              "  <svg xmlns=\"http://www.w3.org/2000/svg\" height=\"24px\"viewBox=\"0 0 24 24\"\n",
              "       width=\"24px\">\n",
              "    <path d=\"M0 0h24v24H0V0z\" fill=\"none\"/>\n",
              "    <path d=\"M18.56 5.44l.94 2.06.94-2.06 2.06-.94-2.06-.94-.94-2.06-.94 2.06-2.06.94zm-11 1L8.5 8.5l.94-2.06 2.06-.94-2.06-.94L8.5 2.5l-.94 2.06-2.06.94zm10 10l.94 2.06.94-2.06 2.06-.94-2.06-.94-.94-2.06-.94 2.06-2.06.94z\"/><path d=\"M17.41 7.96l-1.37-1.37c-.4-.4-.92-.59-1.43-.59-.52 0-1.04.2-1.43.59L10.3 9.45l-7.72 7.72c-.78.78-.78 2.05 0 2.83L4 21.41c.39.39.9.59 1.41.59.51 0 1.02-.2 1.41-.59l7.78-7.78 2.81-2.81c.8-.78.8-2.07 0-2.86zM5.41 20L4 18.59l7.72-7.72 1.47 1.35L5.41 20z\"/>\n",
              "  </svg>\n",
              "      </button>\n",
              "      \n",
              "  <style>\n",
              "    .colab-df-container {\n",
              "      display:flex;\n",
              "      flex-wrap:wrap;\n",
              "      gap: 12px;\n",
              "    }\n",
              "\n",
              "    .colab-df-convert {\n",
              "      background-color: #E8F0FE;\n",
              "      border: none;\n",
              "      border-radius: 50%;\n",
              "      cursor: pointer;\n",
              "      display: none;\n",
              "      fill: #1967D2;\n",
              "      height: 32px;\n",
              "      padding: 0 0 0 0;\n",
              "      width: 32px;\n",
              "    }\n",
              "\n",
              "    .colab-df-convert:hover {\n",
              "      background-color: #E2EBFA;\n",
              "      box-shadow: 0px 1px 2px rgba(60, 64, 67, 0.3), 0px 1px 3px 1px rgba(60, 64, 67, 0.15);\n",
              "      fill: #174EA6;\n",
              "    }\n",
              "\n",
              "    [theme=dark] .colab-df-convert {\n",
              "      background-color: #3B4455;\n",
              "      fill: #D2E3FC;\n",
              "    }\n",
              "\n",
              "    [theme=dark] .colab-df-convert:hover {\n",
              "      background-color: #434B5C;\n",
              "      box-shadow: 0px 1px 3px 1px rgba(0, 0, 0, 0.15);\n",
              "      filter: drop-shadow(0px 1px 2px rgba(0, 0, 0, 0.3));\n",
              "      fill: #FFFFFF;\n",
              "    }\n",
              "  </style>\n",
              "\n",
              "      <script>\n",
              "        const buttonEl =\n",
              "          document.querySelector('#df-2068c745-cf13-46a2-b92a-0e3c8265dead button.colab-df-convert');\n",
              "        buttonEl.style.display =\n",
              "          google.colab.kernel.accessAllowed ? 'block' : 'none';\n",
              "\n",
              "        async function convertToInteractive(key) {\n",
              "          const element = document.querySelector('#df-2068c745-cf13-46a2-b92a-0e3c8265dead');\n",
              "          const dataTable =\n",
              "            await google.colab.kernel.invokeFunction('convertToInteractive',\n",
              "                                                     [key], {});\n",
              "          if (!dataTable) return;\n",
              "\n",
              "          const docLinkHtml = 'Like what you see? Visit the ' +\n",
              "            '<a target=\"_blank\" href=https://colab.research.google.com/notebooks/data_table.ipynb>data table notebook</a>'\n",
              "            + ' to learn more about interactive tables.';\n",
              "          element.innerHTML = '';\n",
              "          dataTable['output_type'] = 'display_data';\n",
              "          await google.colab.output.renderOutput(dataTable, element);\n",
              "          const docLink = document.createElement('div');\n",
              "          docLink.innerHTML = docLinkHtml;\n",
              "          element.appendChild(docLink);\n",
              "        }\n",
              "      </script>\n",
              "    </div>\n",
              "  </div>\n",
              "  "
            ]
          },
          "metadata": {},
          "execution_count": 250
        }
      ]
    },
    {
      "cell_type": "code",
      "source": [
        "Output"
      ],
      "metadata": {
        "id": "DhbCf5WK6jBf",
        "outputId": "5c8e2da2-7d2a-4b1d-9c3c-5d4b22299934",
        "colab": {
          "base_uri": "https://localhost:8080/"
        }
      },
      "execution_count": null,
      "outputs": [
        {
          "output_type": "execute_result",
          "data": {
            "text/plain": [
              "11.0"
            ]
          },
          "metadata": {},
          "execution_count": 251
        }
      ]
    },
    {
      "cell_type": "code",
      "source": [
        "plt.imshow(Exemplars[1].reshape(4,3), cmap='gray')"
      ],
      "metadata": {
        "colab": {
          "base_uri": "https://localhost:8080/",
          "height": 286
        },
        "id": "VjYzhgPJ_76C",
        "outputId": "aa8df14c-8bcc-4ca0-ae1a-d4d02f1349a0"
      },
      "execution_count": null,
      "outputs": [
        {
          "output_type": "execute_result",
          "data": {
            "text/plain": [
              "<matplotlib.image.AxesImage at 0x7f80f5547c50>"
            ]
          },
          "metadata": {},
          "execution_count": 287
        },
        {
          "output_type": "display_data",
          "data": {
            "text/plain": [
              "<Figure size 432x288 with 1 Axes>"
            ],
            "image/png": "[encoded data removed]"
          },
          "metadata": {
            "needs_background": "light"
          }
        }
      ]
    },
    {
      "cell_type": "code",
      "source": [
        ""
      ],
      "metadata": {
        "id": "8uvihunooSiM"
      },
      "execution_count": null,
      "outputs": []
    }
  ]
}