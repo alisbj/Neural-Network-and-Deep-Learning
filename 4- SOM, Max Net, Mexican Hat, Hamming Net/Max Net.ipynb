{
  "nbformat": 4,
  "nbformat_minor": 0,
  "metadata": {
    "colab": {
      "name": "Q2.ipynb",
      "provenance": []
    },
    "kernelspec": {
      "name": "python3",
      "display_name": "Python 3"
    },
    "language_info": {
      "name": "python"
    }
  },
  "cells": [
    {
      "cell_type": "code",
      "execution_count": 1,
      "metadata": {
        "id": "eGBCzvUlX-QB"
      },
      "outputs": [],
      "source": [
        "import numpy as np\n",
        "import pandas as pd"
      ]
    },
    {
      "cell_type": "markdown",
      "source": [
        "> Inputs & Weights"
      ],
      "metadata": {
        "id": "w6JMkBV8-54W"
      }
    },
    {
      "cell_type": "code",
      "source": [
        "X = np.array([[1.2,1.1,1,0.9,0.95,1.15]])\n",
        "\n",
        "W = np.array([[1,-0.15,-0.15,-0.15,-0.15,-0.15],\n",
        "              [-0.15,1,-0.15,-0.15,-0.15,-0.15],\n",
        "              [-0.15,-0.15,1,-0.15,-0.15,-0.15],\n",
        "              [-0.15,-0.15,-0.15,1,-0.15,-0.15],\n",
        "              [-0.15,-0.15,-0.15,-0.15,1,-0.15],\n",
        "              [-0.15,-0.15,-0.15,-0.15,-0.15,1]])"
      ],
      "metadata": {
        "id": "nAnuyCk0YQ2n"
      },
      "execution_count": 43,
      "outputs": []
    },
    {
      "cell_type": "markdown",
      "source": [
        "> Main MaxNet Algorithm"
      ],
      "metadata": {
        "id": "epNvPZQPwvaW"
      }
    },
    {
      "cell_type": "code",
      "source": [
        "def maxnet(X,W):  \n",
        "  X1 = X.copy()\n",
        "  W = W.copy()\n",
        "  steps = [] # To determine the steps of the algorithm\n",
        "  while True: \n",
        "      Out = [] \n",
        "      C = 0\n",
        "      net = np.dot(X1,W) \n",
        "      for i in range(W.shape[0]):\n",
        "        Y = max(0,net[0,i])\n",
        "        if Y == 0:\n",
        "          C = C + 1\n",
        "        Out.append(Y) \n",
        "      X1 = np.array(Out)\n",
        "      X1 = np.reshape(X1,(1,W.shape[0]))\n",
        "      steps.append(Out) \n",
        "      if C == W.shape[0] - 1:\n",
        "        last = np.array(steps[len(steps)-1]) # The last step of the algorithm (Final Output)\n",
        "        break\n",
        "  return pd.DataFrame(steps), X[0,(np.where(last>0))[0]][0]\n",
        "  "
      ],
      "metadata": {
        "id": "QQOOWXxvltw5"
      },
      "execution_count": 3,
      "outputs": []
    },
    {
      "cell_type": "code",
      "source": [
        "steps, Output = maxnet(X,W)"
      ],
      "metadata": {
        "id": "6GK31jl8xC4q"
      },
      "execution_count": 4,
      "outputs": []
    },
    {
      "cell_type": "code",
      "source": [
        "steps"
      ],
      "metadata": {
        "colab": {
          "base_uri": "https://localhost:8080/",
          "height": 300
        },
        "id": "72CWN7nax9b6",
        "outputId": "f5e3cc15-36c2-4587-d9ab-523331e6fda1"
      },
      "execution_count": 5,
      "outputs": [
        {
          "output_type": "execute_result",
          "data": {
            "text/plain": [
              "          0         1      2     3       4         5\n",
              "0  0.435000  0.320000  0.205  0.09  0.1475  0.377500\n",
              "1  0.264000  0.131750  0.000  0.00  0.0000  0.197875\n",
              "2  0.214556  0.062469  0.000  0.00  0.0000  0.138512\n",
              "3  0.184409  0.009508  0.000  0.00  0.0000  0.096959\n",
              "4  0.168439  0.000000  0.000  0.00  0.0000  0.067871\n",
              "5  0.158258  0.000000  0.000  0.00  0.0000  0.042605\n",
              "6  0.151868  0.000000  0.000  0.00  0.0000  0.018867\n",
              "7  0.149038  0.000000  0.000  0.00  0.0000  0.000000"
            ],
            "text/html": [
              "\n",
              "  <div id=\"df-34a58962-ca02-4a86-883f-c679be7e7693\">\n",
              "    <div class=\"colab-df-container\">\n",
              "      <div>\n",
              "<style scoped>\n",
              "    .dataframe tbody tr th:only-of-type {\n",
              "        vertical-align: middle;\n",
              "    }\n",
              "\n",
              "    .dataframe tbody tr th {\n",
              "        vertical-align: top;\n",
              "    }\n",
              "\n",
              "    .dataframe thead th {\n",
              "        text-align: right;\n",
              "    }\n",
              "</style>\n",
              "<table border=\"1\" class=\"dataframe\">\n",
              "  <thead>\n",
              "    <tr style=\"text-align: right;\">\n",
              "      <th></th>\n",
              "      <th>0</th>\n",
              "      <th>1</th>\n",
              "      <th>2</th>\n",
              "      <th>3</th>\n",
              "      <th>4</th>\n",
              "      <th>5</th>\n",
              "    </tr>\n",
              "  </thead>\n",
              "  <tbody>\n",
              "    <tr>\n",
              "      <th>0</th>\n",
              "      <td>0.435000</td>\n",
              "      <td>0.320000</td>\n",
              "      <td>0.205</td>\n",
              "      <td>0.09</td>\n",
              "      <td>0.1475</td>\n",
              "      <td>0.377500</td>\n",
              "    </tr>\n",
              "    <tr>\n",
              "      <th>1</th>\n",
              "      <td>0.264000</td>\n",
              "      <td>0.131750</td>\n",
              "      <td>0.000</td>\n",
              "      <td>0.00</td>\n",
              "      <td>0.0000</td>\n",
              "      <td>0.197875</td>\n",
              "    </tr>\n",
              "    <tr>\n",
              "      <th>2</th>\n",
              "      <td>0.214556</td>\n",
              "      <td>0.062469</td>\n",
              "      <td>0.000</td>\n",
              "      <td>0.00</td>\n",
              "      <td>0.0000</td>\n",
              "      <td>0.138512</td>\n",
              "    </tr>\n",
              "    <tr>\n",
              "      <th>3</th>\n",
              "      <td>0.184409</td>\n",
              "      <td>0.009508</td>\n",
              "      <td>0.000</td>\n",
              "      <td>0.00</td>\n",
              "      <td>0.0000</td>\n",
              "      <td>0.096959</td>\n",
              "    </tr>\n",
              "    <tr>\n",
              "      <th>4</th>\n",
              "      <td>0.168439</td>\n",
              "      <td>0.000000</td>\n",
              "      <td>0.000</td>\n",
              "      <td>0.00</td>\n",
              "      <td>0.0000</td>\n",
              "      <td>0.067871</td>\n",
              "    </tr>\n",
              "    <tr>\n",
              "      <th>5</th>\n",
              "      <td>0.158258</td>\n",
              "      <td>0.000000</td>\n",
              "      <td>0.000</td>\n",
              "      <td>0.00</td>\n",
              "      <td>0.0000</td>\n",
              "      <td>0.042605</td>\n",
              "    </tr>\n",
              "    <tr>\n",
              "      <th>6</th>\n",
              "      <td>0.151868</td>\n",
              "      <td>0.000000</td>\n",
              "      <td>0.000</td>\n",
              "      <td>0.00</td>\n",
              "      <td>0.0000</td>\n",
              "      <td>0.018867</td>\n",
              "    </tr>\n",
              "    <tr>\n",
              "      <th>7</th>\n",
              "      <td>0.149038</td>\n",
              "      <td>0.000000</td>\n",
              "      <td>0.000</td>\n",
              "      <td>0.00</td>\n",
              "      <td>0.0000</td>\n",
              "      <td>0.000000</td>\n",
              "    </tr>\n",
              "  </tbody>\n",
              "</table>\n",
              "</div>\n",
              "      <button class=\"colab-df-convert\" onclick=\"convertToInteractive('df-34a58962-ca02-4a86-883f-c679be7e7693')\"\n",
              "              title=\"Convert this dataframe to an interactive table.\"\n",
              "              style=\"display:none;\">\n",
              "        \n",
              "  <svg xmlns=\"http://www.w3.org/2000/svg\" height=\"24px\"viewBox=\"0 0 24 24\"\n",
              "       width=\"24px\">\n",
              "    <path d=\"M0 0h24v24H0V0z\" fill=\"none\"/>\n",
              "    <path d=\"M18.56 5.44l.94 2.06.94-2.06 2.06-.94-2.06-.94-.94-2.06-.94 2.06-2.06.94zm-11 1L8.5 8.5l.94-2.06 2.06-.94-2.06-.94L8.5 2.5l-.94 2.06-2.06.94zm10 10l.94 2.06.94-2.06 2.06-.94-2.06-.94-.94-2.06-.94 2.06-2.06.94z\"/><path d=\"M17.41 7.96l-1.37-1.37c-.4-.4-.92-.59-1.43-.59-.52 0-1.04.2-1.43.59L10.3 9.45l-7.72 7.72c-.78.78-.78 2.05 0 2.83L4 21.41c.39.39.9.59 1.41.59.51 0 1.02-.2 1.41-.59l7.78-7.78 2.81-2.81c.8-.78.8-2.07 0-2.86zM5.41 20L4 18.59l7.72-7.72 1.47 1.35L5.41 20z\"/>\n",
              "  </svg>\n",
              "      </button>\n",
              "      \n",
              "  <style>\n",
              "    .colab-df-container {\n",
              "      display:flex;\n",
              "      flex-wrap:wrap;\n",
              "      gap: 12px;\n",
              "    }\n",
              "\n",
              "    .colab-df-convert {\n",
              "      background-color: #E8F0FE;\n",
              "      border: none;\n",
              "      border-radius: 50%;\n",
              "      cursor: pointer;\n",
              "      display: none;\n",
              "      fill: #1967D2;\n",
              "      height: 32px;\n",
              "      padding: 0 0 0 0;\n",
              "      width: 32px;\n",
              "    }\n",
              "\n",
              "    .colab-df-convert:hover {\n",
              "      background-color: #E2EBFA;\n",
              "      box-shadow: 0px 1px 2px rgba(60, 64, 67, 0.3), 0px 1px 3px 1px rgba(60, 64, 67, 0.15);\n",
              "      fill: #174EA6;\n",
              "    }\n",
              "\n",
              "    [theme=dark] .colab-df-convert {\n",
              "      background-color: #3B4455;\n",
              "      fill: #D2E3FC;\n",
              "    }\n",
              "\n",
              "    [theme=dark] .colab-df-convert:hover {\n",
              "      background-color: #434B5C;\n",
              "      box-shadow: 0px 1px 3px 1px rgba(0, 0, 0, 0.15);\n",
              "      filter: drop-shadow(0px 1px 2px rgba(0, 0, 0, 0.3));\n",
              "      fill: #FFFFFF;\n",
              "    }\n",
              "  </style>\n",
              "\n",
              "      <script>\n",
              "        const buttonEl =\n",
              "          document.querySelector('#df-34a58962-ca02-4a86-883f-c679be7e7693 button.colab-df-convert');\n",
              "        buttonEl.style.display =\n",
              "          google.colab.kernel.accessAllowed ? 'block' : 'none';\n",
              "\n",
              "        async function convertToInteractive(key) {\n",
              "          const element = document.querySelector('#df-34a58962-ca02-4a86-883f-c679be7e7693');\n",
              "          const dataTable =\n",
              "            await google.colab.kernel.invokeFunction('convertToInteractive',\n",
              "                                                     [key], {});\n",
              "          if (!dataTable) return;\n",
              "\n",
              "          const docLinkHtml = 'Like what you see? Visit the ' +\n",
              "            '<a target=\"_blank\" href=https://colab.research.google.com/notebooks/data_table.ipynb>data table notebook</a>'\n",
              "            + ' to learn more about interactive tables.';\n",
              "          element.innerHTML = '';\n",
              "          dataTable['output_type'] = 'display_data';\n",
              "          await google.colab.output.renderOutput(dataTable, element);\n",
              "          const docLink = document.createElement('div');\n",
              "          docLink.innerHTML = docLinkHtml;\n",
              "          element.appendChild(docLink);\n",
              "        }\n",
              "      </script>\n",
              "    </div>\n",
              "  </div>\n",
              "  "
            ]
          },
          "metadata": {},
          "execution_count": 5
        }
      ]
    },
    {
      "cell_type": "code",
      "source": [
        "Output"
      ],
      "metadata": {
        "colab": {
          "base_uri": "https://localhost:8080/"
        },
        "id": "m4jqr8mtzaXV",
        "outputId": "bc389108-c432-4085-9506-338252807762"
      },
      "execution_count": 6,
      "outputs": [
        {
          "output_type": "execute_result",
          "data": {
            "text/plain": [
              "1.2"
            ]
          },
          "metadata": {},
          "execution_count": 6
        }
      ]
    },
    {
      "cell_type": "markdown",
      "source": [
        "---\n",
        ">Part 1- beta\n"
      ],
      "metadata": {
        "id": "QKYoF3VBxLJw"
      }
    },
    {
      "cell_type": "code",
      "source": [
        "def maxnetBeta(X,W,beta):  \n",
        "  X1 = X.copy()\n",
        "  W = W.copy()\n",
        "  steps = [] # To determine the steps of the algorithm\n",
        "  while True: \n",
        "      Out = [] \n",
        "      C = 0\n",
        "      net = np.dot(X1,W) \n",
        "      for i in range(W.shape[0]):\n",
        "        Y = max(beta,net[0,i])\n",
        "        if Y == beta:\n",
        "          Y = 0\n",
        "          C = C + 1\n",
        "        Out.append(Y) \n",
        "      X1 = np.array(Out)\n",
        "      X1 = np.reshape(X1,(1,W.shape[0]))\n",
        "      steps.append(Out) \n",
        "      if C == W.shape[0] - 1:\n",
        "        last = np.array(steps[len(steps)-1]) # The last step of the algorithm (Final Output)\n",
        "        break\n",
        "  return pd.DataFrame(steps), X[0,(np.where(last>0))[0]][0]"
      ],
      "metadata": {
        "id": "H8c7hmyG6noL"
      },
      "execution_count": 44,
      "outputs": []
    },
    {
      "cell_type": "code",
      "source": [
        "steps, Output = maxnetBeta(X,W,0.4)"
      ],
      "metadata": {
        "id": "YejVNCiV0ABR"
      },
      "execution_count": 53,
      "outputs": []
    },
    {
      "cell_type": "code",
      "source": [
        "output_steps"
      ],
      "metadata": {
        "id": "-BojuX6q6aEM",
        "colab": {
          "base_uri": "https://localhost:8080/",
          "height": 112
        },
        "outputId": "06e1b2bb-3b0b-42d3-feb7-74b972de361a"
      },
      "execution_count": 54,
      "outputs": [
        {
          "output_type": "execute_result",
          "data": {
            "text/plain": [
              "          0     1  2  3  4       5\n",
              "0  0.435000  0.32  0  0  0  0.3775\n",
              "1  0.330375  0.00  0  0  0  0.0000"
            ],
            "text/html": [
              "\n",
              "  <div id=\"df-a8ff56a4-165d-42ba-880f-1f199179376f\">\n",
              "    <div class=\"colab-df-container\">\n",
              "      <div>\n",
              "<style scoped>\n",
              "    .dataframe tbody tr th:only-of-type {\n",
              "        vertical-align: middle;\n",
              "    }\n",
              "\n",
              "    .dataframe tbody tr th {\n",
              "        vertical-align: top;\n",
              "    }\n",
              "\n",
              "    .dataframe thead th {\n",
              "        text-align: right;\n",
              "    }\n",
              "</style>\n",
              "<table border=\"1\" class=\"dataframe\">\n",
              "  <thead>\n",
              "    <tr style=\"text-align: right;\">\n",
              "      <th></th>\n",
              "      <th>0</th>\n",
              "      <th>1</th>\n",
              "      <th>2</th>\n",
              "      <th>3</th>\n",
              "      <th>4</th>\n",
              "      <th>5</th>\n",
              "    </tr>\n",
              "  </thead>\n",
              "  <tbody>\n",
              "    <tr>\n",
              "      <th>0</th>\n",
              "      <td>0.435000</td>\n",
              "      <td>0.32</td>\n",
              "      <td>0</td>\n",
              "      <td>0</td>\n",
              "      <td>0</td>\n",
              "      <td>0.3775</td>\n",
              "    </tr>\n",
              "    <tr>\n",
              "      <th>1</th>\n",
              "      <td>0.330375</td>\n",
              "      <td>0.00</td>\n",
              "      <td>0</td>\n",
              "      <td>0</td>\n",
              "      <td>0</td>\n",
              "      <td>0.0000</td>\n",
              "    </tr>\n",
              "  </tbody>\n",
              "</table>\n",
              "</div>\n",
              "      <button class=\"colab-df-convert\" onclick=\"convertToInteractive('df-a8ff56a4-165d-42ba-880f-1f199179376f')\"\n",
              "              title=\"Convert this dataframe to an interactive table.\"\n",
              "              style=\"display:none;\">\n",
              "        \n",
              "  <svg xmlns=\"http://www.w3.org/2000/svg\" height=\"24px\"viewBox=\"0 0 24 24\"\n",
              "       width=\"24px\">\n",
              "    <path d=\"M0 0h24v24H0V0z\" fill=\"none\"/>\n",
              "    <path d=\"M18.56 5.44l.94 2.06.94-2.06 2.06-.94-2.06-.94-.94-2.06-.94 2.06-2.06.94zm-11 1L8.5 8.5l.94-2.06 2.06-.94-2.06-.94L8.5 2.5l-.94 2.06-2.06.94zm10 10l.94 2.06.94-2.06 2.06-.94-2.06-.94-.94-2.06-.94 2.06-2.06.94z\"/><path d=\"M17.41 7.96l-1.37-1.37c-.4-.4-.92-.59-1.43-.59-.52 0-1.04.2-1.43.59L10.3 9.45l-7.72 7.72c-.78.78-.78 2.05 0 2.83L4 21.41c.39.39.9.59 1.41.59.51 0 1.02-.2 1.41-.59l7.78-7.78 2.81-2.81c.8-.78.8-2.07 0-2.86zM5.41 20L4 18.59l7.72-7.72 1.47 1.35L5.41 20z\"/>\n",
              "  </svg>\n",
              "      </button>\n",
              "      \n",
              "  <style>\n",
              "    .colab-df-container {\n",
              "      display:flex;\n",
              "      flex-wrap:wrap;\n",
              "      gap: 12px;\n",
              "    }\n",
              "\n",
              "    .colab-df-convert {\n",
              "      background-color: #E8F0FE;\n",
              "      border: none;\n",
              "      border-radius: 50%;\n",
              "      cursor: pointer;\n",
              "      display: none;\n",
              "      fill: #1967D2;\n",
              "      height: 32px;\n",
              "      padding: 0 0 0 0;\n",
              "      width: 32px;\n",
              "    }\n",
              "\n",
              "    .colab-df-convert:hover {\n",
              "      background-color: #E2EBFA;\n",
              "      box-shadow: 0px 1px 2px rgba(60, 64, 67, 0.3), 0px 1px 3px 1px rgba(60, 64, 67, 0.15);\n",
              "      fill: #174EA6;\n",
              "    }\n",
              "\n",
              "    [theme=dark] .colab-df-convert {\n",
              "      background-color: #3B4455;\n",
              "      fill: #D2E3FC;\n",
              "    }\n",
              "\n",
              "    [theme=dark] .colab-df-convert:hover {\n",
              "      background-color: #434B5C;\n",
              "      box-shadow: 0px 1px 3px 1px rgba(0, 0, 0, 0.15);\n",
              "      filter: drop-shadow(0px 1px 2px rgba(0, 0, 0, 0.3));\n",
              "      fill: #FFFFFF;\n",
              "    }\n",
              "  </style>\n",
              "\n",
              "      <script>\n",
              "        const buttonEl =\n",
              "          document.querySelector('#df-a8ff56a4-165d-42ba-880f-1f199179376f button.colab-df-convert');\n",
              "        buttonEl.style.display =\n",
              "          google.colab.kernel.accessAllowed ? 'block' : 'none';\n",
              "\n",
              "        async function convertToInteractive(key) {\n",
              "          const element = document.querySelector('#df-a8ff56a4-165d-42ba-880f-1f199179376f');\n",
              "          const dataTable =\n",
              "            await google.colab.kernel.invokeFunction('convertToInteractive',\n",
              "                                                     [key], {});\n",
              "          if (!dataTable) return;\n",
              "\n",
              "          const docLinkHtml = 'Like what you see? Visit the ' +\n",
              "            '<a target=\"_blank\" href=https://colab.research.google.com/notebooks/data_table.ipynb>data table notebook</a>'\n",
              "            + ' to learn more about interactive tables.';\n",
              "          element.innerHTML = '';\n",
              "          dataTable['output_type'] = 'display_data';\n",
              "          await google.colab.output.renderOutput(dataTable, element);\n",
              "          const docLink = document.createElement('div');\n",
              "          docLink.innerHTML = docLinkHtml;\n",
              "          element.appendChild(docLink);\n",
              "        }\n",
              "      </script>\n",
              "    </div>\n",
              "  </div>\n",
              "  "
            ]
          },
          "metadata": {},
          "execution_count": 54
        }
      ]
    },
    {
      "cell_type": "code",
      "source": [
        "output_value"
      ],
      "metadata": {
        "id": "TCNpHrCR6seY",
        "outputId": "b23c78b3-9648-4beb-e11d-a8c6509e4f37",
        "colab": {
          "base_uri": "https://localhost:8080/"
        }
      },
      "execution_count": 55,
      "outputs": [
        {
          "output_type": "execute_result",
          "data": {
            "text/plain": [
              "1.2"
            ]
          },
          "metadata": {},
          "execution_count": 55
        }
      ]
    },
    {
      "cell_type": "markdown",
      "source": [
        "---\n",
        ">Part 2- Largest to Smallest Sorting"
      ],
      "metadata": {
        "id": "k7CAKIrxxIxN"
      }
    },
    {
      "cell_type": "code",
      "source": [
        "def maxnetSorting_LargeToSmall(X,W):\n",
        "  F = []\n",
        "  X = X.copy()\n",
        "  W = W.copy()\n",
        "  while True:\n",
        "    _ , Output = maxnet(X,W)\n",
        "    F = np.append(F,X[X==Output])\n",
        "    W[np.where(X==X[X==Output])[1]] = 0\n",
        "    if F.shape[0] == W.shape[0]:\n",
        "      break\n",
        "  return F"
      ],
      "metadata": {
        "id": "O-UNuvsXMrUG"
      },
      "execution_count": null,
      "outputs": []
    },
    {
      "cell_type": "code",
      "source": [
        "maxnetSorting_LargeToSmall(X,W)"
      ],
      "metadata": {
        "colab": {
          "base_uri": "https://localhost:8080/"
        },
        "id": "sAbOjbLD2l5e",
        "outputId": "64d5f912-8192-43c0-a587-aa45ba743ad7"
      },
      "execution_count": null,
      "outputs": [
        {
          "output_type": "execute_result",
          "data": {
            "text/plain": [
              "array([1.2 , 1.15, 1.1 , 1.  , 0.95, 0.9 ])"
            ]
          },
          "metadata": {},
          "execution_count": 65
        }
      ]
    },
    {
      "cell_type": "markdown",
      "source": [
        "---\n",
        ">Part 3- Smallest to Largest Sorting"
      ],
      "metadata": {
        "id": "R9ur-2gkFCAb"
      }
    },
    {
      "cell_type": "code",
      "source": [
        "def mxanetSorting_SmallToLarge(X,W):\n",
        "  F = []\n",
        "  X = X.copy()\n",
        "  W = W.copy()\n",
        "  X1 = 1 / X\n",
        "  while True:\n",
        "    _ , Output = maxnet(X1,W)\n",
        "    F = np.append(F,X[X1==Output])\n",
        "    W[np.where(X==X[X1==Output])[1]] = 0\n",
        "    if F.shape[0] == W.shape[0]:\n",
        "      break\n",
        "  return F"
      ],
      "metadata": {
        "id": "9GR5_E1wS79J"
      },
      "execution_count": null,
      "outputs": []
    },
    {
      "cell_type": "code",
      "source": [
        "mxanetSorting_SmallToLarge(X,W)"
      ],
      "metadata": {
        "colab": {
          "base_uri": "https://localhost:8080/"
        },
        "id": "_YY6ubJWotgf",
        "outputId": "729a7e19-8a00-40fd-81fa-43a2a7892092"
      },
      "execution_count": null,
      "outputs": [
        {
          "output_type": "execute_result",
          "data": {
            "text/plain": [
              "array([0.9 , 0.95, 1.  , 1.1 , 1.15, 1.2 ])"
            ]
          },
          "metadata": {},
          "execution_count": 73
        }
      ]
    },
    {
      "cell_type": "code",
      "source": [
        ""
      ],
      "metadata": {
        "id": "DmeoNNNKXVJF"
      },
      "execution_count": null,
      "outputs": []
    }
  ]
}