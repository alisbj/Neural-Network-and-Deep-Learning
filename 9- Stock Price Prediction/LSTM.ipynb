{
  "cells": [
    {
      "cell_type": "markdown",
      "source": [
        "#LSTM"
      ],
      "metadata": {
        "id": "gZE2JJpg9Vcy"
      }
    },
    {
      "cell_type": "code",
      "execution_count": 359,
      "metadata": {
        "id": "YSMIN12SdooS"
      },
      "outputs": [],
      "source": [
        "import pandas as pd\n",
        "import numpy as np\n",
        "import matplotlib.pyplot as plt\n",
        "import time\n",
        "from google.colab import drive\n"
      ]
    },
    {
      "cell_type": "code",
      "source": [
        "drive.mount('/content/drive')\n",
        "data_AAPL = pd.read_csv('/content/drive/MyDrive/AAPL.csv')\n",
        "data_GOOG = pd.read_csv('/content/drive/MyDrive/GOOG.csv')"
      ],
      "metadata": {
        "colab": {
          "base_uri": "https://localhost:8080/"
        },
        "id": "uNFNcTFeGhj3",
        "outputId": "151d058d-1c45-4381-d19e-c75cf4916024"
      },
      "execution_count": 360,
      "outputs": [
        {
          "output_type": "stream",
          "name": "stdout",
          "text": [
            "Drive already mounted at /content/drive; to attempt to forcibly remount, call drive.mount(\"/content/drive\", force_remount=True).\n"
          ]
        }
      ]
    },
    {
      "cell_type": "code",
      "execution_count": 361,
      "metadata": {
        "id": "tpHSrxlEg41O"
      },
      "outputs": [],
      "source": [
        "Data_A = data_AAPL.values\n",
        "Data_G = data_GOOG.values\n",
        "D_A = []\n",
        "D_G = []\n",
        "\n",
        "for i in range(2264):\n",
        "  D_A.append(Data_A[i,0].split(\"\\t\"))\n",
        "D_A = np.array(D_A)\n",
        "D_A = np.reshape(D_A,(2264,7))\n",
        "\n",
        "for i in range(2264):\n",
        "  D_G.append(Data_G[i,0].split(\"\\t\"))\n",
        "D_G = np.array(D_G)\n",
        "D_G = np.reshape(D_G,(2264,7))"
      ]
    },
    {
      "cell_type": "code",
      "execution_count": 362,
      "metadata": {
        "id": "BqX2Lpq77lZD"
      },
      "outputs": [],
      "source": [
        "Data_AAPL = pd.DataFrame(data = D_A, columns = ['Date_A','High_A','Low_A','Open_A','Close_A','Volume_A','Adj Close_A'])\n",
        "Data_GOOG = pd.DataFrame(data = D_G, columns = ['Date_G','High_G','Low_G','Open_G','Close_G','Volume_G','Adj Close_G'])"
      ]
    },
    {
      "cell_type": "code",
      "execution_count": 363,
      "metadata": {
        "id": "50FsdA_wA8Op"
      },
      "outputs": [],
      "source": [
        "Data_AAPL['High_A'] = pd.to_numeric(Data_AAPL['High_A'], downcast=\"float\")\n",
        "Data_AAPL['Low_A'] = pd.to_numeric(Data_AAPL['Low_A'], downcast=\"float\")\n",
        "Data_AAPL['Open_A'] = pd.to_numeric(Data_AAPL['Open_A'], downcast=\"float\")\n",
        "Data_AAPL['Close_A'] = pd.to_numeric(Data_AAPL['Close_A'], downcast=\"float\")\n",
        "Data_AAPL['Volume_A'] = pd.to_numeric(Data_AAPL['Volume_A'], downcast=\"float\")\n",
        "Data_AAPL['Adj Close_A'] = pd.to_numeric(Data_AAPL['Adj Close_A'], downcast=\"float\")"
      ]
    },
    {
      "cell_type": "code",
      "source": [
        "Data_GOOG['High_G'] = pd.to_numeric(Data_GOOG['High_G'], downcast=\"float\")\n",
        "Data_GOOG['Low_G'] = pd.to_numeric(Data_GOOG['Low_G'], downcast=\"float\")\n",
        "Data_GOOG['Open_G'] = pd.to_numeric(Data_GOOG['Open_G'], downcast=\"float\")\n",
        "Data_GOOG['Close_G'] = pd.to_numeric(Data_GOOG['Close_G'], downcast=\"float\")\n",
        "Data_GOOG['Volume_G'] = pd.to_numeric(Data_GOOG['Volume_G'], downcast=\"float\")\n",
        "Data_GOOG['Adj Close_G'] = pd.to_numeric(Data_GOOG['Adj Close_G'], downcast=\"float\")"
      ],
      "metadata": {
        "id": "mOyGl8WGIo3M"
      },
      "execution_count": 364,
      "outputs": []
    },
    {
      "cell_type": "code",
      "execution_count": 365,
      "metadata": {
        "id": "Puk9lY1oOGXP"
      },
      "outputs": [],
      "source": [
        "df = pd.concat([Data_AAPL,Data_GOOG], axis = 1, join = 'inner')"
      ]
    },
    {
      "cell_type": "code",
      "source": [
        "df.head()"
      ],
      "metadata": {
        "colab": {
          "base_uri": "https://localhost:8080/",
          "height": 374
        },
        "id": "e-tWlrPKJck_",
        "outputId": "2ed7d279-0138-44f1-c9bb-825ee9645a4a"
      },
      "execution_count": 366,
      "outputs": [
        {
          "output_type": "execute_result",
          "data": {
            "text/plain": [
              "       Date_A     High_A      Low_A     Open_A    Close_A     Volume_A  \\\n",
              "0  2010-01-04  30.642857  30.340000  30.490000  30.572857  123432400.0   \n",
              "1  2010-01-05  30.798571  30.464285  30.657143  30.625713  150476192.0   \n",
              "2  2010-01-06  30.747143  30.107143  30.625713  30.138571  138040000.0   \n",
              "3  2010-01-07  30.285715  29.864286  30.250000  30.082857  119282800.0   \n",
              "4  2010-01-08  30.285715  29.865715  30.042856  30.282858  111902704.0   \n",
              "\n",
              "   Adj Close_A      Date_G      High_G       Low_G      Open_G     Close_G  \\\n",
              "0    26.601469  2010-01-04  313.579620  310.954468  312.304413  312.204773   \n",
              "1    26.647457  2010-01-05  312.747742  309.609497  312.418976  310.829926   \n",
              "2    26.223597  2010-01-06  311.761444  302.047852  311.761444  302.994293   \n",
              "3    26.175119  2010-01-07  303.861053  295.218445  303.562164  295.940735   \n",
              "4    26.349140  2010-01-08  300.498657  293.455048  294.894653  299.885956   \n",
              "\n",
              "     Volume_G  Adj Close_G  \n",
              "0   3927000.0   312.204773  \n",
              "1   6031900.0   310.829926  \n",
              "2   7987100.0   302.994293  \n",
              "3  12876600.0   295.940735  \n",
              "4   9483900.0   299.885956  "
            ],
            "text/html": [
              "\n",
              "  <div id=\"df-6acfb673-3b72-4937-9e15-63a82c073bfb\">\n",
              "    <div class=\"colab-df-container\">\n",
              "      <div>\n",
              "<style scoped>\n",
              "    .dataframe tbody tr th:only-of-type {\n",
              "        vertical-align: middle;\n",
              "    }\n",
              "\n",
              "    .dataframe tbody tr th {\n",
              "        vertical-align: top;\n",
              "    }\n",
              "\n",
              "    .dataframe thead th {\n",
              "        text-align: right;\n",
              "    }\n",
              "</style>\n",
              "<table border=\"1\" class=\"dataframe\">\n",
              "  <thead>\n",
              "    <tr style=\"text-align: right;\">\n",
              "      <th></th>\n",
              "      <th>Date_A</th>\n",
              "      <th>High_A</th>\n",
              "      <th>Low_A</th>\n",
              "      <th>Open_A</th>\n",
              "      <th>Close_A</th>\n",
              "      <th>Volume_A</th>\n",
              "      <th>Adj Close_A</th>\n",
              "      <th>Date_G</th>\n",
              "      <th>High_G</th>\n",
              "      <th>Low_G</th>\n",
              "      <th>Open_G</th>\n",
              "      <th>Close_G</th>\n",
              "      <th>Volume_G</th>\n",
              "      <th>Adj Close_G</th>\n",
              "    </tr>\n",
              "  </thead>\n",
              "  <tbody>\n",
              "    <tr>\n",
              "      <th>0</th>\n",
              "      <td>2010-01-04</td>\n",
              "      <td>30.642857</td>\n",
              "      <td>30.340000</td>\n",
              "      <td>30.490000</td>\n",
              "      <td>30.572857</td>\n",
              "      <td>123432400.0</td>\n",
              "      <td>26.601469</td>\n",
              "      <td>2010-01-04</td>\n",
              "      <td>313.579620</td>\n",
              "      <td>310.954468</td>\n",
              "      <td>312.304413</td>\n",
              "      <td>312.204773</td>\n",
              "      <td>3927000.0</td>\n",
              "      <td>312.204773</td>\n",
              "    </tr>\n",
              "    <tr>\n",
              "      <th>1</th>\n",
              "      <td>2010-01-05</td>\n",
              "      <td>30.798571</td>\n",
              "      <td>30.464285</td>\n",
              "      <td>30.657143</td>\n",
              "      <td>30.625713</td>\n",
              "      <td>150476192.0</td>\n",
              "      <td>26.647457</td>\n",
              "      <td>2010-01-05</td>\n",
              "      <td>312.747742</td>\n",
              "      <td>309.609497</td>\n",
              "      <td>312.418976</td>\n",
              "      <td>310.829926</td>\n",
              "      <td>6031900.0</td>\n",
              "      <td>310.829926</td>\n",
              "    </tr>\n",
              "    <tr>\n",
              "      <th>2</th>\n",
              "      <td>2010-01-06</td>\n",
              "      <td>30.747143</td>\n",
              "      <td>30.107143</td>\n",
              "      <td>30.625713</td>\n",
              "      <td>30.138571</td>\n",
              "      <td>138040000.0</td>\n",
              "      <td>26.223597</td>\n",
              "      <td>2010-01-06</td>\n",
              "      <td>311.761444</td>\n",
              "      <td>302.047852</td>\n",
              "      <td>311.761444</td>\n",
              "      <td>302.994293</td>\n",
              "      <td>7987100.0</td>\n",
              "      <td>302.994293</td>\n",
              "    </tr>\n",
              "    <tr>\n",
              "      <th>3</th>\n",
              "      <td>2010-01-07</td>\n",
              "      <td>30.285715</td>\n",
              "      <td>29.864286</td>\n",
              "      <td>30.250000</td>\n",
              "      <td>30.082857</td>\n",
              "      <td>119282800.0</td>\n",
              "      <td>26.175119</td>\n",
              "      <td>2010-01-07</td>\n",
              "      <td>303.861053</td>\n",
              "      <td>295.218445</td>\n",
              "      <td>303.562164</td>\n",
              "      <td>295.940735</td>\n",
              "      <td>12876600.0</td>\n",
              "      <td>295.940735</td>\n",
              "    </tr>\n",
              "    <tr>\n",
              "      <th>4</th>\n",
              "      <td>2010-01-08</td>\n",
              "      <td>30.285715</td>\n",
              "      <td>29.865715</td>\n",
              "      <td>30.042856</td>\n",
              "      <td>30.282858</td>\n",
              "      <td>111902704.0</td>\n",
              "      <td>26.349140</td>\n",
              "      <td>2010-01-08</td>\n",
              "      <td>300.498657</td>\n",
              "      <td>293.455048</td>\n",
              "      <td>294.894653</td>\n",
              "      <td>299.885956</td>\n",
              "      <td>9483900.0</td>\n",
              "      <td>299.885956</td>\n",
              "    </tr>\n",
              "  </tbody>\n",
              "</table>\n",
              "</div>\n",
              "      <button class=\"colab-df-convert\" onclick=\"convertToInteractive('df-6acfb673-3b72-4937-9e15-63a82c073bfb')\"\n",
              "              title=\"Convert this dataframe to an interactive table.\"\n",
              "              style=\"display:none;\">\n",
              "        \n",
              "  <svg xmlns=\"http://www.w3.org/2000/svg\" height=\"24px\"viewBox=\"0 0 24 24\"\n",
              "       width=\"24px\">\n",
              "    <path d=\"M0 0h24v24H0V0z\" fill=\"none\"/>\n",
              "    <path d=\"M18.56 5.44l.94 2.06.94-2.06 2.06-.94-2.06-.94-.94-2.06-.94 2.06-2.06.94zm-11 1L8.5 8.5l.94-2.06 2.06-.94-2.06-.94L8.5 2.5l-.94 2.06-2.06.94zm10 10l.94 2.06.94-2.06 2.06-.94-2.06-.94-.94-2.06-.94 2.06-2.06.94z\"/><path d=\"M17.41 7.96l-1.37-1.37c-.4-.4-.92-.59-1.43-.59-.52 0-1.04.2-1.43.59L10.3 9.45l-7.72 7.72c-.78.78-.78 2.05 0 2.83L4 21.41c.39.39.9.59 1.41.59.51 0 1.02-.2 1.41-.59l7.78-7.78 2.81-2.81c.8-.78.8-2.07 0-2.86zM5.41 20L4 18.59l7.72-7.72 1.47 1.35L5.41 20z\"/>\n",
              "  </svg>\n",
              "      </button>\n",
              "      \n",
              "  <style>\n",
              "    .colab-df-container {\n",
              "      display:flex;\n",
              "      flex-wrap:wrap;\n",
              "      gap: 12px;\n",
              "    }\n",
              "\n",
              "    .colab-df-convert {\n",
              "      background-color: #E8F0FE;\n",
              "      border: none;\n",
              "      border-radius: 50%;\n",
              "      cursor: pointer;\n",
              "      display: none;\n",
              "      fill: #1967D2;\n",
              "      height: 32px;\n",
              "      padding: 0 0 0 0;\n",
              "      width: 32px;\n",
              "    }\n",
              "\n",
              "    .colab-df-convert:hover {\n",
              "      background-color: #E2EBFA;\n",
              "      box-shadow: 0px 1px 2px rgba(60, 64, 67, 0.3), 0px 1px 3px 1px rgba(60, 64, 67, 0.15);\n",
              "      fill: #174EA6;\n",
              "    }\n",
              "\n",
              "    [theme=dark] .colab-df-convert {\n",
              "      background-color: #3B4455;\n",
              "      fill: #D2E3FC;\n",
              "    }\n",
              "\n",
              "    [theme=dark] .colab-df-convert:hover {\n",
              "      background-color: #434B5C;\n",
              "      box-shadow: 0px 1px 3px 1px rgba(0, 0, 0, 0.15);\n",
              "      filter: drop-shadow(0px 1px 2px rgba(0, 0, 0, 0.3));\n",
              "      fill: #FFFFFF;\n",
              "    }\n",
              "  </style>\n",
              "\n",
              "      <script>\n",
              "        const buttonEl =\n",
              "          document.querySelector('#df-6acfb673-3b72-4937-9e15-63a82c073bfb button.colab-df-convert');\n",
              "        buttonEl.style.display =\n",
              "          google.colab.kernel.accessAllowed ? 'block' : 'none';\n",
              "\n",
              "        async function convertToInteractive(key) {\n",
              "          const element = document.querySelector('#df-6acfb673-3b72-4937-9e15-63a82c073bfb');\n",
              "          const dataTable =\n",
              "            await google.colab.kernel.invokeFunction('convertToInteractive',\n",
              "                                                     [key], {});\n",
              "          if (!dataTable) return;\n",
              "\n",
              "          const docLinkHtml = 'Like what you see? Visit the ' +\n",
              "            '<a target=\"_blank\" href=https://colab.research.google.com/notebooks/data_table.ipynb>data table notebook</a>'\n",
              "            + ' to learn more about interactive tables.';\n",
              "          element.innerHTML = '';\n",
              "          dataTable['output_type'] = 'display_data';\n",
              "          await google.colab.output.renderOutput(dataTable, element);\n",
              "          const docLink = document.createElement('div');\n",
              "          docLink.innerHTML = docLinkHtml;\n",
              "          element.appendChild(docLink);\n",
              "        }\n",
              "      </script>\n",
              "    </div>\n",
              "  </div>\n",
              "  "
            ]
          },
          "metadata": {},
          "execution_count": 366
        }
      ]
    },
    {
      "cell_type": "code",
      "execution_count": 367,
      "metadata": {
        "id": "-hHZew5UboSr"
      },
      "outputs": [],
      "source": [
        "# Spliting train data and test data\n",
        "data_train = df[df['Date_A']<'2016-12-30'].copy()\n",
        "data_test = df[df['Date_A']>='2016-12-30'].copy()\n",
        "data_training = data_train.copy()\n",
        "data_test = data_test.copy()"
      ]
    },
    {
      "cell_type": "code",
      "execution_count": 368,
      "metadata": {
        "id": "Q1U1cizFOKPI"
      },
      "outputs": [],
      "source": [
        "# Dropping 'Date_A' and 'Date_G' and 'Adj Close'\n",
        "data_train = data_train.drop(['Date_A', 'Date_G','Adj Close_A','Adj Close_G'], axis = 1)\n",
        "data_test = data_test.drop(['Date_A', 'Date_G','Adj Close_A','Adj Close_G'], axis = 1)"
      ]
    },
    {
      "cell_type": "code",
      "execution_count": 369,
      "metadata": {
        "colab": {
          "base_uri": "https://localhost:8080/"
        },
        "id": "yu_ScXlvOaat",
        "outputId": "e5d8da2a-aee8-47c9-da05-d3f0de01a7eb"
      },
      "outputs": [
        {
          "output_type": "stream",
          "name": "stdout",
          "text": [
            "(1761, 10)\n",
            "(503, 10)\n"
          ]
        }
      ],
      "source": [
        "print(data_train.shape)\n",
        "print(data_test.shape)"
      ]
    },
    {
      "cell_type": "code",
      "source": [
        "data_train"
      ],
      "metadata": {
        "colab": {
          "base_uri": "https://localhost:8080/",
          "height": 488
        },
        "id": "wAXTK1UHMVYA",
        "outputId": "fbfecca0-35db-40b1-ee4d-1e6ce0d65b92"
      },
      "execution_count": 370,
      "outputs": [
        {
          "output_type": "execute_result",
          "data": {
            "text/plain": [
              "          High_A       Low_A      Open_A     Close_A     Volume_A      High_G  \\\n",
              "0      30.642857   30.340000   30.490000   30.572857  123432400.0  313.579620   \n",
              "1      30.798571   30.464285   30.657143   30.625713  150476192.0  312.747742   \n",
              "2      30.747143   30.107143   30.625713   30.138571  138040000.0  311.761444   \n",
              "3      30.285715   29.864286   30.250000   30.082857  119282800.0  303.861053   \n",
              "4      30.285715   29.865715   30.042856   30.282858  111902704.0  300.498657   \n",
              "...          ...         ...         ...         ...          ...         ...   \n",
              "1756  116.510002  115.639999  116.349998  116.290001   26085900.0  793.320007   \n",
              "1757  116.519997  115.589996  115.589996  116.519997   14249500.0  792.739990   \n",
              "1758  117.800003  116.489998  116.519997  117.260002   18296900.0  797.859985   \n",
              "1759  118.019997  116.199997  117.519997  116.760002   20905900.0  794.229980   \n",
              "1760  117.110001  116.400002  116.449997  116.730003   15039500.0  785.929993   \n",
              "\n",
              "           Low_G      Open_G     Close_G    Volume_G  \n",
              "0     310.954468  312.304413  312.204773   3927000.0  \n",
              "1     309.609497  312.418976  310.829926   6031900.0  \n",
              "2     302.047852  311.761444  302.994293   7987100.0  \n",
              "3     295.218445  303.562164  295.940735  12876600.0  \n",
              "4     293.455048  294.894653  299.885956   9483900.0  \n",
              "...          ...         ...         ...         ...  \n",
              "1756  788.580017  792.359985  791.260010    972200.0  \n",
              "1757  787.280029  790.900024  789.909973    623400.0  \n",
              "1758  787.656982  790.679993  791.549988    789100.0  \n",
              "1759  783.200012  793.700012  785.049988   1153800.0  \n",
              "1760  778.919983  783.330017  782.789978    744300.0  \n",
              "\n",
              "[1761 rows x 10 columns]"
            ],
            "text/html": [
              "\n",
              "  <div id=\"df-75b433f2-0c43-4ff9-aeee-a8e2f5acf4f0\">\n",
              "    <div class=\"colab-df-container\">\n",
              "      <div>\n",
              "<style scoped>\n",
              "    .dataframe tbody tr th:only-of-type {\n",
              "        vertical-align: middle;\n",
              "    }\n",
              "\n",
              "    .dataframe tbody tr th {\n",
              "        vertical-align: top;\n",
              "    }\n",
              "\n",
              "    .dataframe thead th {\n",
              "        text-align: right;\n",
              "    }\n",
              "</style>\n",
              "<table border=\"1\" class=\"dataframe\">\n",
              "  <thead>\n",
              "    <tr style=\"text-align: right;\">\n",
              "      <th></th>\n",
              "      <th>High_A</th>\n",
              "      <th>Low_A</th>\n",
              "      <th>Open_A</th>\n",
              "      <th>Close_A</th>\n",
              "      <th>Volume_A</th>\n",
              "      <th>High_G</th>\n",
              "      <th>Low_G</th>\n",
              "      <th>Open_G</th>\n",
              "      <th>Close_G</th>\n",
              "      <th>Volume_G</th>\n",
              "    </tr>\n",
              "  </thead>\n",
              "  <tbody>\n",
              "    <tr>\n",
              "      <th>0</th>\n",
              "      <td>30.642857</td>\n",
              "      <td>30.340000</td>\n",
              "      <td>30.490000</td>\n",
              "      <td>30.572857</td>\n",
              "      <td>123432400.0</td>\n",
              "      <td>313.579620</td>\n",
              "      <td>310.954468</td>\n",
              "      <td>312.304413</td>\n",
              "      <td>312.204773</td>\n",
              "      <td>3927000.0</td>\n",
              "    </tr>\n",
              "    <tr>\n",
              "      <th>1</th>\n",
              "      <td>30.798571</td>\n",
              "      <td>30.464285</td>\n",
              "      <td>30.657143</td>\n",
              "      <td>30.625713</td>\n",
              "      <td>150476192.0</td>\n",
              "      <td>312.747742</td>\n",
              "      <td>309.609497</td>\n",
              "      <td>312.418976</td>\n",
              "      <td>310.829926</td>\n",
              "      <td>6031900.0</td>\n",
              "    </tr>\n",
              "    <tr>\n",
              "      <th>2</th>\n",
              "      <td>30.747143</td>\n",
              "      <td>30.107143</td>\n",
              "      <td>30.625713</td>\n",
              "      <td>30.138571</td>\n",
              "      <td>138040000.0</td>\n",
              "      <td>311.761444</td>\n",
              "      <td>302.047852</td>\n",
              "      <td>311.761444</td>\n",
              "      <td>302.994293</td>\n",
              "      <td>7987100.0</td>\n",
              "    </tr>\n",
              "    <tr>\n",
              "      <th>3</th>\n",
              "      <td>30.285715</td>\n",
              "      <td>29.864286</td>\n",
              "      <td>30.250000</td>\n",
              "      <td>30.082857</td>\n",
              "      <td>119282800.0</td>\n",
              "      <td>303.861053</td>\n",
              "      <td>295.218445</td>\n",
              "      <td>303.562164</td>\n",
              "      <td>295.940735</td>\n",
              "      <td>12876600.0</td>\n",
              "    </tr>\n",
              "    <tr>\n",
              "      <th>4</th>\n",
              "      <td>30.285715</td>\n",
              "      <td>29.865715</td>\n",
              "      <td>30.042856</td>\n",
              "      <td>30.282858</td>\n",
              "      <td>111902704.0</td>\n",
              "      <td>300.498657</td>\n",
              "      <td>293.455048</td>\n",
              "      <td>294.894653</td>\n",
              "      <td>299.885956</td>\n",
              "      <td>9483900.0</td>\n",
              "    </tr>\n",
              "    <tr>\n",
              "      <th>...</th>\n",
              "      <td>...</td>\n",
              "      <td>...</td>\n",
              "      <td>...</td>\n",
              "      <td>...</td>\n",
              "      <td>...</td>\n",
              "      <td>...</td>\n",
              "      <td>...</td>\n",
              "      <td>...</td>\n",
              "      <td>...</td>\n",
              "      <td>...</td>\n",
              "    </tr>\n",
              "    <tr>\n",
              "      <th>1756</th>\n",
              "      <td>116.510002</td>\n",
              "      <td>115.639999</td>\n",
              "      <td>116.349998</td>\n",
              "      <td>116.290001</td>\n",
              "      <td>26085900.0</td>\n",
              "      <td>793.320007</td>\n",
              "      <td>788.580017</td>\n",
              "      <td>792.359985</td>\n",
              "      <td>791.260010</td>\n",
              "      <td>972200.0</td>\n",
              "    </tr>\n",
              "    <tr>\n",
              "      <th>1757</th>\n",
              "      <td>116.519997</td>\n",
              "      <td>115.589996</td>\n",
              "      <td>115.589996</td>\n",
              "      <td>116.519997</td>\n",
              "      <td>14249500.0</td>\n",
              "      <td>792.739990</td>\n",
              "      <td>787.280029</td>\n",
              "      <td>790.900024</td>\n",
              "      <td>789.909973</td>\n",
              "      <td>623400.0</td>\n",
              "    </tr>\n",
              "    <tr>\n",
              "      <th>1758</th>\n",
              "      <td>117.800003</td>\n",
              "      <td>116.489998</td>\n",
              "      <td>116.519997</td>\n",
              "      <td>117.260002</td>\n",
              "      <td>18296900.0</td>\n",
              "      <td>797.859985</td>\n",
              "      <td>787.656982</td>\n",
              "      <td>790.679993</td>\n",
              "      <td>791.549988</td>\n",
              "      <td>789100.0</td>\n",
              "    </tr>\n",
              "    <tr>\n",
              "      <th>1759</th>\n",
              "      <td>118.019997</td>\n",
              "      <td>116.199997</td>\n",
              "      <td>117.519997</td>\n",
              "      <td>116.760002</td>\n",
              "      <td>20905900.0</td>\n",
              "      <td>794.229980</td>\n",
              "      <td>783.200012</td>\n",
              "      <td>793.700012</td>\n",
              "      <td>785.049988</td>\n",
              "      <td>1153800.0</td>\n",
              "    </tr>\n",
              "    <tr>\n",
              "      <th>1760</th>\n",
              "      <td>117.110001</td>\n",
              "      <td>116.400002</td>\n",
              "      <td>116.449997</td>\n",
              "      <td>116.730003</td>\n",
              "      <td>15039500.0</td>\n",
              "      <td>785.929993</td>\n",
              "      <td>778.919983</td>\n",
              "      <td>783.330017</td>\n",
              "      <td>782.789978</td>\n",
              "      <td>744300.0</td>\n",
              "    </tr>\n",
              "  </tbody>\n",
              "</table>\n",
              "<p>1761 rows × 10 columns</p>\n",
              "</div>\n",
              "      <button class=\"colab-df-convert\" onclick=\"convertToInteractive('df-75b433f2-0c43-4ff9-aeee-a8e2f5acf4f0')\"\n",
              "              title=\"Convert this dataframe to an interactive table.\"\n",
              "              style=\"display:none;\">\n",
              "        \n",
              "  <svg xmlns=\"http://www.w3.org/2000/svg\" height=\"24px\"viewBox=\"0 0 24 24\"\n",
              "       width=\"24px\">\n",
              "    <path d=\"M0 0h24v24H0V0z\" fill=\"none\"/>\n",
              "    <path d=\"M18.56 5.44l.94 2.06.94-2.06 2.06-.94-2.06-.94-.94-2.06-.94 2.06-2.06.94zm-11 1L8.5 8.5l.94-2.06 2.06-.94-2.06-.94L8.5 2.5l-.94 2.06-2.06.94zm10 10l.94 2.06.94-2.06 2.06-.94-2.06-.94-.94-2.06-.94 2.06-2.06.94z\"/><path d=\"M17.41 7.96l-1.37-1.37c-.4-.4-.92-.59-1.43-.59-.52 0-1.04.2-1.43.59L10.3 9.45l-7.72 7.72c-.78.78-.78 2.05 0 2.83L4 21.41c.39.39.9.59 1.41.59.51 0 1.02-.2 1.41-.59l7.78-7.78 2.81-2.81c.8-.78.8-2.07 0-2.86zM5.41 20L4 18.59l7.72-7.72 1.47 1.35L5.41 20z\"/>\n",
              "  </svg>\n",
              "      </button>\n",
              "      \n",
              "  <style>\n",
              "    .colab-df-container {\n",
              "      display:flex;\n",
              "      flex-wrap:wrap;\n",
              "      gap: 12px;\n",
              "    }\n",
              "\n",
              "    .colab-df-convert {\n",
              "      background-color: #E8F0FE;\n",
              "      border: none;\n",
              "      border-radius: 50%;\n",
              "      cursor: pointer;\n",
              "      display: none;\n",
              "      fill: #1967D2;\n",
              "      height: 32px;\n",
              "      padding: 0 0 0 0;\n",
              "      width: 32px;\n",
              "    }\n",
              "\n",
              "    .colab-df-convert:hover {\n",
              "      background-color: #E2EBFA;\n",
              "      box-shadow: 0px 1px 2px rgba(60, 64, 67, 0.3), 0px 1px 3px 1px rgba(60, 64, 67, 0.15);\n",
              "      fill: #174EA6;\n",
              "    }\n",
              "\n",
              "    [theme=dark] .colab-df-convert {\n",
              "      background-color: #3B4455;\n",
              "      fill: #D2E3FC;\n",
              "    }\n",
              "\n",
              "    [theme=dark] .colab-df-convert:hover {\n",
              "      background-color: #434B5C;\n",
              "      box-shadow: 0px 1px 3px 1px rgba(0, 0, 0, 0.15);\n",
              "      filter: drop-shadow(0px 1px 2px rgba(0, 0, 0, 0.3));\n",
              "      fill: #FFFFFF;\n",
              "    }\n",
              "  </style>\n",
              "\n",
              "      <script>\n",
              "        const buttonEl =\n",
              "          document.querySelector('#df-75b433f2-0c43-4ff9-aeee-a8e2f5acf4f0 button.colab-df-convert');\n",
              "        buttonEl.style.display =\n",
              "          google.colab.kernel.accessAllowed ? 'block' : 'none';\n",
              "\n",
              "        async function convertToInteractive(key) {\n",
              "          const element = document.querySelector('#df-75b433f2-0c43-4ff9-aeee-a8e2f5acf4f0');\n",
              "          const dataTable =\n",
              "            await google.colab.kernel.invokeFunction('convertToInteractive',\n",
              "                                                     [key], {});\n",
              "          if (!dataTable) return;\n",
              "\n",
              "          const docLinkHtml = 'Like what you see? Visit the ' +\n",
              "            '<a target=\"_blank\" href=https://colab.research.google.com/notebooks/data_table.ipynb>data table notebook</a>'\n",
              "            + ' to learn more about interactive tables.';\n",
              "          element.innerHTML = '';\n",
              "          dataTable['output_type'] = 'display_data';\n",
              "          await google.colab.output.renderOutput(dataTable, element);\n",
              "          const docLink = document.createElement('div');\n",
              "          docLink.innerHTML = docLinkHtml;\n",
              "          element.appendChild(docLink);\n",
              "        }\n",
              "      </script>\n",
              "    </div>\n",
              "  </div>\n",
              "  "
            ]
          },
          "metadata": {},
          "execution_count": 370
        }
      ]
    },
    {
      "cell_type": "code",
      "execution_count": 371,
      "metadata": {
        "id": "Oa-LmzqKPmAs"
      },
      "outputs": [],
      "source": [
        "from sklearn.preprocessing import MinMaxScaler\n",
        "# feature scaling\n",
        "sc = MinMaxScaler()\n",
        "data_train = sc.fit_transform(data_train)\n",
        "data_test = sc.fit_transform(data_test)"
      ]
    },
    {
      "cell_type": "code",
      "source": [
        "data_train"
      ],
      "metadata": {
        "colab": {
          "base_uri": "https://localhost:8080/"
        },
        "id": "VbbGzWeGMOIY",
        "outputId": "25100596-f00a-4dc0-c1f7-67e96c3ebd78"
      },
      "execution_count": 372,
      "outputs": [
        {
          "output_type": "execute_result",
          "data": {
            "text/plain": [
              "array([[0.02480623, 0.03033379, 0.02812311, ..., 0.15704659, 0.15939873,\n",
              "        0.1317225 ],\n",
              "       [0.0262678 , 0.03152627, 0.0296855 , ..., 0.15723804, 0.1570915 ,\n",
              "        0.20246902],\n",
              "       [0.02578509, 0.02809954, 0.02939171, ..., 0.1561391 , 0.143942  ,\n",
              "        0.26818407],\n",
              "       ...,\n",
              "       [0.84287596, 0.8569392 , 0.8323028 , ..., 0.95654655, 0.9638188 ,\n",
              "        0.02625644],\n",
              "       [0.8449408 , 0.8541566 , 0.8416505 , ..., 0.96159387, 0.9529108 ,\n",
              "        0.03851415],\n",
              "       [0.83639944, 0.85607576, 0.83164847, ..., 0.94426274, 0.94911814,\n",
              "        0.02475069]], dtype=float32)"
            ]
          },
          "metadata": {},
          "execution_count": 372
        }
      ]
    },
    {
      "cell_type": "code",
      "execution_count": 373,
      "metadata": {
        "id": "Hcik82S7PyOF",
        "colab": {
          "base_uri": "https://localhost:8080/"
        },
        "outputId": "0a51a9e6-d316-4334-882c-fe70952a33e9"
      },
      "outputs": [
        {
          "output_type": "execute_result",
          "data": {
            "text/plain": [
              "((1731, 30, 10), (1731, 2))"
            ]
          },
          "metadata": {},
          "execution_count": 373
        }
      ],
      "source": [
        "X_train = []\n",
        "y_train_A = []\n",
        "y_train_G = []\n",
        "\n",
        "for i in range(30, data_train.shape[0]):\n",
        "    X_train.append(data_train[i-30:i])\n",
        "    y_train_A.append(data_train[i, 3])\n",
        "    y_train_G.append(data_train[i, 8])\n",
        "y_train_A = np.reshape(y_train_A, (len(y_train_A), 1))\n",
        "y_train_G = np.reshape(y_train_G, (len(y_train_G), 1))\n",
        "y_train = np.concatenate((y_train_A, y_train_G), axis = 1)    \n",
        "X_train, y_train = np.array(X_train), np.array(y_train)\n",
        "X_train.shape , y_train.shape"
      ]
    },
    {
      "cell_type": "code",
      "execution_count": 374,
      "metadata": {
        "colab": {
          "base_uri": "https://localhost:8080/"
        },
        "id": "1GrUjryoQclV",
        "outputId": "d936eea3-023f-4609-d101-a7d3e9bdc59b"
      },
      "outputs": [
        {
          "output_type": "stream",
          "name": "stdout",
          "text": [
            "(1731, 30, 10)\n",
            "(1731, 2)\n"
          ]
        }
      ],
      "source": [
        "print(X_train.shape)\n",
        "print(y_train.shape)"
      ]
    },
    {
      "cell_type": "code",
      "execution_count": 375,
      "metadata": {
        "id": "wLROJCo2QehD"
      },
      "outputs": [],
      "source": [
        "from tensorflow.keras.layers import LSTM\n",
        "from keras.models import Sequential  \n",
        "from keras.layers import Dense \n",
        "from keras.layers import Dropout"
      ]
    },
    {
      "cell_type": "code",
      "execution_count": 376,
      "metadata": {
        "id": "218hnAU2Smr5"
      },
      "outputs": [],
      "source": [
        "model1 = Sequential()\n",
        "model1.add(LSTM(units = 60,activation='relu', return_sequences = True, input_shape = (X_train.shape[1], 10)))\n",
        "#model1.add(Dropout(0.2))\n",
        "\n",
        "model1.add(LSTM(units = 60,activation='relu', return_sequences = True))\n",
        "#model1.add(Dropout(0.2))\n",
        "\n",
        "model1.add(LSTM(units = 80,activation='relu', return_sequences = True))\n",
        "#model1.add(Dropout(0.2))\n",
        "\n",
        "model1.add(LSTM(units = 120))\n",
        "#model1.add(Dropout(0.2))\n",
        "\n",
        "model1.add(Dense(units = 2))"
      ]
    },
    {
      "cell_type": "code",
      "execution_count": 377,
      "metadata": {
        "colab": {
          "base_uri": "https://localhost:8080/"
        },
        "id": "aEiwTtsTT0oP",
        "outputId": "b3fd8b92-d403-420b-bd39-967027a4ef05"
      },
      "outputs": [
        {
          "output_type": "stream",
          "name": "stdout",
          "text": [
            "Model: \"sequential_12\"\n",
            "_________________________________________________________________\n",
            " Layer (type)                Output Shape              Param #   \n",
            "=================================================================\n",
            " lstm_48 (LSTM)              (None, 30, 60)            17040     \n",
            "                                                                 \n",
            " lstm_49 (LSTM)              (None, 30, 60)            29040     \n",
            "                                                                 \n",
            " lstm_50 (LSTM)              (None, 30, 80)            45120     \n",
            "                                                                 \n",
            " lstm_51 (LSTM)              (None, 120)               96480     \n",
            "                                                                 \n",
            " dense_12 (Dense)            (None, 2)                 242       \n",
            "                                                                 \n",
            "=================================================================\n",
            "Total params: 187,922\n",
            "Trainable params: 187,922\n",
            "Non-trainable params: 0\n",
            "_________________________________________________________________\n"
          ]
        }
      ],
      "source": [
        "model1.summary()"
      ]
    },
    {
      "cell_type": "code",
      "execution_count": 378,
      "metadata": {
        "id": "G3bEFaG0T3aM"
      },
      "outputs": [],
      "source": [
        "# Compiling the Model\n",
        "model1.compile(optimizer = 'adam', loss = 'mean_squared_error')"
      ]
    },
    {
      "cell_type": "code",
      "execution_count": 379,
      "metadata": {
        "colab": {
          "base_uri": "https://localhost:8080/"
        },
        "id": "KhLo4vtaUt-0",
        "outputId": "fa7dff40-0fc5-4f77-ac7b-115a7b41aebc"
      },
      "outputs": [
        {
          "output_type": "stream",
          "name": "stdout",
          "text": [
            "Epoch 1/20\n",
            "44/44 [==============================] - 12s 121ms/step - loss: 0.0288 - val_loss: 0.0065\n",
            "Epoch 2/20\n",
            "44/44 [==============================] - 4s 99ms/step - loss: 0.0020 - val_loss: 0.0068\n",
            "Epoch 3/20\n",
            "44/44 [==============================] - 4s 98ms/step - loss: 0.0014 - val_loss: 0.0037\n",
            "Epoch 4/20\n",
            "44/44 [==============================] - 4s 98ms/step - loss: 0.0016 - val_loss: 0.0045\n",
            "Epoch 5/20\n",
            "44/44 [==============================] - 4s 98ms/step - loss: 0.0015 - val_loss: 0.0062\n",
            "Epoch 6/20\n",
            "44/44 [==============================] - 4s 97ms/step - loss: 0.0012 - val_loss: 0.0042\n",
            "Epoch 7/20\n",
            "44/44 [==============================] - 4s 98ms/step - loss: 0.0012 - val_loss: 0.0049\n",
            "Epoch 8/20\n",
            "44/44 [==============================] - 4s 98ms/step - loss: 0.0012 - val_loss: 0.0047\n",
            "Epoch 9/20\n",
            "44/44 [==============================] - 4s 97ms/step - loss: 0.0011 - val_loss: 0.0050\n",
            "Epoch 10/20\n",
            "44/44 [==============================] - 4s 97ms/step - loss: 0.0012 - val_loss: 0.0026\n",
            "Epoch 11/20\n",
            "44/44 [==============================] - 4s 96ms/step - loss: 0.0011 - val_loss: 0.0054\n",
            "Epoch 12/20\n",
            "44/44 [==============================] - 4s 98ms/step - loss: 0.0011 - val_loss: 0.0037\n",
            "Epoch 13/20\n",
            "44/44 [==============================] - 4s 97ms/step - loss: 9.9628e-04 - val_loss: 0.0051\n",
            "Epoch 14/20\n",
            "44/44 [==============================] - 4s 96ms/step - loss: 9.9126e-04 - val_loss: 0.0028\n",
            "Epoch 15/20\n",
            "44/44 [==============================] - 4s 97ms/step - loss: 9.6332e-04 - val_loss: 0.0055\n",
            "Epoch 16/20\n",
            "44/44 [==============================] - 4s 96ms/step - loss: 0.0010 - val_loss: 0.0143\n",
            "Epoch 17/20\n",
            "44/44 [==============================] - 4s 97ms/step - loss: 0.0010 - val_loss: 0.0049\n",
            "Epoch 18/20\n",
            "44/44 [==============================] - 4s 95ms/step - loss: 8.4014e-04 - val_loss: 0.0036\n",
            "Epoch 19/20\n",
            "44/44 [==============================] - 4s 98ms/step - loss: 8.1563e-04 - val_loss: 0.0056\n",
            "Epoch 20/20\n",
            "44/44 [==============================] - 4s 97ms/step - loss: 7.4623e-04 - val_loss: 0.0050\n"
          ]
        }
      ],
      "source": [
        "# Fitting the Model\n",
        "start = time.time()\n",
        "history = model1.fit(X_train, y_train, epochs =20, batch_size = 32, validation_split = 0.2)\n",
        "end = time.time()"
      ]
    },
    {
      "cell_type": "code",
      "source": [
        "# Training Time\n",
        "print('Training Time is : ', end - start)"
      ],
      "metadata": {
        "colab": {
          "base_uri": "https://localhost:8080/"
        },
        "id": "ved8m3ppiKX3",
        "outputId": "2c17af33-97f6-42ee-c33c-fd7abc9a68a6"
      },
      "execution_count": 380,
      "outputs": [
        {
          "output_type": "stream",
          "name": "stdout",
          "text": [
            "Training Time is :  148.2239692211151\n"
          ]
        }
      ]
    },
    {
      "cell_type": "code",
      "execution_count": 381,
      "metadata": {
        "colab": {
          "base_uri": "https://localhost:8080/"
        },
        "id": "10oFssuFV0CF",
        "outputId": "1c36678d-56d5-46e1-cba8-c0fda18ac312"
      },
      "outputs": [
        {
          "output_type": "execute_result",
          "data": {
            "text/plain": [
              "((473, 30, 10), (473, 2))"
            ]
          },
          "metadata": {},
          "execution_count": 381
        }
      ],
      "source": [
        "X_test = []\n",
        "y_test_A = []\n",
        "y_test_G = []\n",
        "\n",
        "for i in range(30, data_test.shape[0]):\n",
        "    X_test.append(data_test[i-30:i])\n",
        "    y_test_A.append(data_test[i, 3])\n",
        "    y_test_G.append(data_test[i, 8])\n",
        "\n",
        "y_test_A = np.reshape(y_test_A, (len(y_test_A), 1))\n",
        "y_test_G = np.reshape(y_test_G, (len(y_test_G), 1))\n",
        "y_test = np.concatenate((y_test_A, y_test_G), axis = 1)    \n",
        "X_test, y_test = np.array(X_test), np.array(y_test)\n",
        "X_test.shape, y_test.shape"
      ]
    },
    {
      "cell_type": "code",
      "execution_count": 382,
      "metadata": {
        "colab": {
          "base_uri": "https://localhost:8080/"
        },
        "id": "dF8mkLsyV4h1",
        "outputId": "c15dd7d5-7884-4132-8dcc-fcec744db7c0"
      },
      "outputs": [
        {
          "output_type": "execute_result",
          "data": {
            "text/plain": [
              "(473, 2)"
            ]
          },
          "metadata": {},
          "execution_count": 382
        }
      ],
      "source": [
        "#predictions\n",
        "y_pred1 = model1.predict(X_test)\n",
        "y_pred1.shape"
      ]
    },
    {
      "cell_type": "code",
      "execution_count": 383,
      "metadata": {
        "colab": {
          "base_uri": "https://localhost:8080/"
        },
        "id": "jLKRv3wSV6Od",
        "outputId": "4dbc302b-829e-4ea0-84d6-63a13dc57208"
      },
      "outputs": [
        {
          "output_type": "execute_result",
          "data": {
            "text/plain": [
              "1221.5901990069017"
            ]
          },
          "metadata": {},
          "execution_count": 383
        }
      ],
      "source": [
        "sc.scale_\n",
        "scale = 1/8.18605127e-04\n",
        "scale"
      ]
    },
    {
      "cell_type": "code",
      "execution_count": 384,
      "metadata": {
        "id": "E6W3bj8rV_mU"
      },
      "outputs": [],
      "source": [
        "y_pred1 = y_pred1*scale\n",
        "y_test = y_test*scale"
      ]
    },
    {
      "cell_type": "code",
      "execution_count": 385,
      "metadata": {
        "colab": {
          "base_uri": "https://localhost:8080/",
          "height": 306
        },
        "id": "BAuvgWwPWBpD",
        "outputId": "0d269ad2-c29f-4dbc-b955-5d7393822d94"
      },
      "outputs": [
        {
          "output_type": "display_data",
          "data": {
            "text/plain": [
              "<Figure size 1008x360 with 1 Axes>"
            ],
            "image/png": "[encoded data removed]"
          },
          "metadata": {
            "needs_background": "light"
          }
        }
      ],
      "source": [
        "# Visualising the results\n",
        "plt.figure(figsize=(14,5))\n",
        "plt.plot(y_test[:,0], color = 'orange', label = 'Real AAPL Close')\n",
        "plt.plot(y_pred1[:,0], color = \"c\", label = 'Predicted AAPL Close, LSTM')\n",
        "plt.title('AAPL Close Prediction')\n",
        "plt.xlabel('Time')\n",
        "plt.ylabel('AAPL Close')\n",
        "plt.legend()\n",
        "plt.show()"
      ]
    },
    {
      "cell_type": "code",
      "execution_count": 386,
      "metadata": {
        "id": "-w7WU5hoWDxm",
        "colab": {
          "base_uri": "https://localhost:8080/",
          "height": 306
        },
        "outputId": "ba9c54ff-bb9c-4b2a-9009-df98c8881997"
      },
      "outputs": [
        {
          "output_type": "display_data",
          "data": {
            "text/plain": [
              "<Figure size 1008x360 with 1 Axes>"
            ],
            "image/png": "[encoded data removed]"
          },
          "metadata": {
            "needs_background": "light"
          }
        }
      ],
      "source": [
        "# Visualising the results\n",
        "plt.figure(figsize=(14,5))\n",
        "plt.plot(y_test[:,1], color = 'orange', label = 'Real GOOG Close')\n",
        "plt.plot(y_pred1[:,1], color = \"c\", label = 'Predicted GOOG Close, LSTM')\n",
        "plt.title('GOOG Close Prediction')\n",
        "plt.xlabel('Time')\n",
        "plt.ylabel('GOOG Close')\n",
        "plt.legend()\n",
        "plt.show()"
      ]
    },
    {
      "cell_type": "code",
      "source": [
        "plt.plot(history.history['loss'])\n",
        "plt.plot(history.history['val_loss'])\n",
        "plt.title('model loss for LSTM')\n",
        "plt.ylabel('loss')\n",
        "plt.xlabel('epoch')\n",
        "plt.legend(['train', 'validation'])\n",
        "plt.show()"
      ],
      "metadata": {
        "colab": {
          "base_uri": "https://localhost:8080/",
          "height": 295
        },
        "id": "AS_7pIlzseBd",
        "outputId": "c6ca23ad-cc21-431b-8956-baf516d5efe3"
      },
      "execution_count": 387,
      "outputs": [
        {
          "output_type": "display_data",
          "data": {
            "text/plain": [
              "<Figure size 432x288 with 1 Axes>"
            ],
            "image/png": "[encoded data removed]"
          },
          "metadata": {
            "needs_background": "light"
          }
        }
      ]
    },
    {
      "cell_type": "code",
      "source": [
        ""
      ],
      "metadata": {
        "id": "M6UDGyljvHkZ"
      },
      "execution_count": 387,
      "outputs": []
    }
  ],
  "metadata": {
    "accelerator": "GPU",
    "colab": {
      "name": "Q1_LSTM.ipynb",
      "provenance": [],
      "collapsed_sections": []
    },
    "kernelspec": {
      "display_name": "Python 3",
      "name": "python3"
    },
    "language_info": {
      "name": "python"
    }
  },
  "nbformat": 4,
  "nbformat_minor": 0
}